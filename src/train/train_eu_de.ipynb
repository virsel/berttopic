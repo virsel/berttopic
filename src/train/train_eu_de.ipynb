{
 "cells": [
  {
   "cell_type": "code",
   "metadata": {
    "ExecuteTime": {
     "end_time": "2024-05-18T14:38:42.096957Z",
     "start_time": "2024-05-18T14:38:42.065670Z"
    }
   },
   "source": [
    "import pandas as pd\n",
    "\n",
    "data_path = \"D:/studium/analyse/data_prep/src/_2_preproc_pipeline_de/data_preprocessed/2_tokenize.csv\"\n",
    "df = pd.read_csv(data_path)"
   ],
   "outputs": [],
   "execution_count": 42
  },
  {
   "cell_type": "code",
   "metadata": {
    "ExecuteTime": {
     "end_time": "2024-05-18T14:38:42.112548Z",
     "start_time": "2024-05-18T14:38:42.096957Z"
    }
   },
   "source": [
    "pd.set_option('display.max_colwidth', None)\n",
    "df.head()"
   ],
   "outputs": [
    {
     "data": {
      "text/plain": [
       "                 id  pub_year  \\\n",
       "0  DE102018121415B4      2024   \n",
       "1  DE102022128419B4      2024   \n",
       "2  DE102016012333B4      2024   \n",
       "3  DE102020135010B4      2024   \n",
       "4  DE102021104544B4      2024   \n",
       "\n",
       "                                                                                                                                                                                                                                                                                                                                                                                                                                                                                                                                                                                                                                                                                                                        text_preproc2  \n",
       "0                                                                                                                                                                                                                            hohl handgelenkelement umfassend hohl handgelenkelement achsenlinie drehbar vorderer roboterarm koppeln hohl handgelenkelement achsenlinie orthogonal kreuzend achsenlinie drehbar handgelenkelement koppeln handgelenkelement achsenlinie orthogonal kreuzend achsenlinie handgelenkelement koppeln endeffektor tragen tätigkeit bezug werkstück durchführen leitungskörper verlegen innere handgelenkelement verlaufen endeffektor anschließen undein leitungskörper verlegen innere handgelenkelement  \n",
       "1                                                                                                    wellgetrieb wellgetriebe erfindung betreffen wellgetriebe umfassend wellgenerator umlaufend radial richtung verformbar flexibl ringelement außenverzahnung starr ringelement innenverzahnung außenverzahnung flexibl ringelement übertragung drehmoment zahneingriffsbereich innenverzahnung starr ringelement zahneingriff stehen wellgenerator unrund ausgebildet innenring umlaufend radial richtung verformbar flexibl außenring umfassen innenring flexibel ringelement hineinragen mittelbar drehfest welle verbinden flexibel außenring innenumfang flexibl ringelement anordnen wellgetriebe temperatursensoreinrichtung  \n",
       "2                                                                                                                                                                                                 robotersystem vielzahl vernetzt controllern robotersystem ermöglichen einzig einlernkonsole verwenden mühelos vielzahl einzulernen robotersystem umfassen vielzahl controllern netzwerk verbinden einzig einlernkonsole konfigurieren lage controller selektiv kommunizieren controller konfigurieren verbindungsanfrage einlernkonsole senden beurteilen zustand einlernphase wartungsphase umgeschaltet einlernkonsole konfigurieren verbindungsanfrage controller antworten ziel umschalten kommunikation controller ermöglichen  \n",
       "3                                                                                                                   massedat schätzung extern last robotermanipulator verfahren schätzen massedat distal robotermanipulator aufzunehmend extern last aufweisend schritt aufnehmen bild last kameraeinheit übermitteln bilddat aufgenommen bild recheneinheit ermitteln schätzung räumlich ausdehnung last auswerten räumlich information bilddat recheneinheit ermitteln schätzung stoff last bilddat bild eingangsgröße bilderkennungsfunktion vorgabe anwender recheneinheit ermitteln schätzung masse last trägheitstensor last basis schätzung räumlich ausdehnung last basis geschätzt stoff ermittelt dichte last recheneinheit  \n",
       "4  fügesystem robotergeführt fügeprozessgerät zugehörig betriebsverfahr fügesystem umfassend fügeprozessgerät durchführung fügeprozess bauteil berücksichtigung vorgegeben fügeparameter bewegen fügeprozessgerät bewegungsparameter vorgegeben bewegungspfad positionsregler einrichten geometrisch sollbauteilesituation ausgelegt bewegungsparameter empfangen speichern erfassungsvorrichtung erfassung fügeprozess erzeugt aktuell prozessparameter wobeiein auswertevorrichtung vorhanden ausbilden erfasst prozessparameter tatsächlich aktuell geometrisch bauteilesituation ermitteln undein regelvorrichtung vorhanden ausbilden basierend aktuell geometrisch bauteilesituation angepasst bewegungsparameter bewegungspfad  "
      ],
      "text/html": [
       "<div>\n",
       "<style scoped>\n",
       "    .dataframe tbody tr th:only-of-type {\n",
       "        vertical-align: middle;\n",
       "    }\n",
       "\n",
       "    .dataframe tbody tr th {\n",
       "        vertical-align: top;\n",
       "    }\n",
       "\n",
       "    .dataframe thead th {\n",
       "        text-align: right;\n",
       "    }\n",
       "</style>\n",
       "<table border=\"1\" class=\"dataframe\">\n",
       "  <thead>\n",
       "    <tr style=\"text-align: right;\">\n",
       "      <th></th>\n",
       "      <th>id</th>\n",
       "      <th>pub_year</th>\n",
       "      <th>text_preproc2</th>\n",
       "    </tr>\n",
       "  </thead>\n",
       "  <tbody>\n",
       "    <tr>\n",
       "      <th>0</th>\n",
       "      <td>DE102018121415B4</td>\n",
       "      <td>2024</td>\n",
       "      <td>hohl handgelenkelement umfassend hohl handgelenkelement achsenlinie drehbar vorderer roboterarm koppeln hohl handgelenkelement achsenlinie orthogonal kreuzend achsenlinie drehbar handgelenkelement koppeln handgelenkelement achsenlinie orthogonal kreuzend achsenlinie handgelenkelement koppeln endeffektor tragen tätigkeit bezug werkstück durchführen leitungskörper verlegen innere handgelenkelement verlaufen endeffektor anschließen undein leitungskörper verlegen innere handgelenkelement</td>\n",
       "    </tr>\n",
       "    <tr>\n",
       "      <th>1</th>\n",
       "      <td>DE102022128419B4</td>\n",
       "      <td>2024</td>\n",
       "      <td>wellgetrieb wellgetriebe erfindung betreffen wellgetriebe umfassend wellgenerator umlaufend radial richtung verformbar flexibl ringelement außenverzahnung starr ringelement innenverzahnung außenverzahnung flexibl ringelement übertragung drehmoment zahneingriffsbereich innenverzahnung starr ringelement zahneingriff stehen wellgenerator unrund ausgebildet innenring umlaufend radial richtung verformbar flexibl außenring umfassen innenring flexibel ringelement hineinragen mittelbar drehfest welle verbinden flexibel außenring innenumfang flexibl ringelement anordnen wellgetriebe temperatursensoreinrichtung</td>\n",
       "    </tr>\n",
       "    <tr>\n",
       "      <th>2</th>\n",
       "      <td>DE102016012333B4</td>\n",
       "      <td>2024</td>\n",
       "      <td>robotersystem vielzahl vernetzt controllern robotersystem ermöglichen einzig einlernkonsole verwenden mühelos vielzahl einzulernen robotersystem umfassen vielzahl controllern netzwerk verbinden einzig einlernkonsole konfigurieren lage controller selektiv kommunizieren controller konfigurieren verbindungsanfrage einlernkonsole senden beurteilen zustand einlernphase wartungsphase umgeschaltet einlernkonsole konfigurieren verbindungsanfrage controller antworten ziel umschalten kommunikation controller ermöglichen</td>\n",
       "    </tr>\n",
       "    <tr>\n",
       "      <th>3</th>\n",
       "      <td>DE102020135010B4</td>\n",
       "      <td>2024</td>\n",
       "      <td>massedat schätzung extern last robotermanipulator verfahren schätzen massedat distal robotermanipulator aufzunehmend extern last aufweisend schritt aufnehmen bild last kameraeinheit übermitteln bilddat aufgenommen bild recheneinheit ermitteln schätzung räumlich ausdehnung last auswerten räumlich information bilddat recheneinheit ermitteln schätzung stoff last bilddat bild eingangsgröße bilderkennungsfunktion vorgabe anwender recheneinheit ermitteln schätzung masse last trägheitstensor last basis schätzung räumlich ausdehnung last basis geschätzt stoff ermittelt dichte last recheneinheit</td>\n",
       "    </tr>\n",
       "    <tr>\n",
       "      <th>4</th>\n",
       "      <td>DE102021104544B4</td>\n",
       "      <td>2024</td>\n",
       "      <td>fügesystem robotergeführt fügeprozessgerät zugehörig betriebsverfahr fügesystem umfassend fügeprozessgerät durchführung fügeprozess bauteil berücksichtigung vorgegeben fügeparameter bewegen fügeprozessgerät bewegungsparameter vorgegeben bewegungspfad positionsregler einrichten geometrisch sollbauteilesituation ausgelegt bewegungsparameter empfangen speichern erfassungsvorrichtung erfassung fügeprozess erzeugt aktuell prozessparameter wobeiein auswertevorrichtung vorhanden ausbilden erfasst prozessparameter tatsächlich aktuell geometrisch bauteilesituation ermitteln undein regelvorrichtung vorhanden ausbilden basierend aktuell geometrisch bauteilesituation angepasst bewegungsparameter bewegungspfad</td>\n",
       "    </tr>\n",
       "  </tbody>\n",
       "</table>\n",
       "</div>"
      ]
     },
     "execution_count": 43,
     "metadata": {},
     "output_type": "execute_result"
    }
   ],
   "execution_count": 43
  },
  {
   "cell_type": "code",
   "metadata": {
    "ExecuteTime": {
     "end_time": "2024-05-18T14:38:42.144231Z",
     "start_time": "2024-05-18T14:38:42.133725Z"
    }
   },
   "source": [
    "from bertopic import BERTopic"
   ],
   "outputs": [],
   "execution_count": 44
  },
  {
   "cell_type": "code",
   "metadata": {
    "ExecuteTime": {
     "end_time": "2024-05-18T14:38:44.983528Z",
     "start_time": "2024-05-18T14:38:42.206829Z"
    }
   },
   "source": [
    "from sentence_transformers import SentenceTransformer\n",
    "\n",
    "model = SentenceTransformer('distiluse-base-multilingual-cased-v1')"
   ],
   "outputs": [],
   "execution_count": 45
  },
  {
   "cell_type": "code",
   "metadata": {
    "ExecuteTime": {
     "end_time": "2024-05-18T14:38:44.999152Z",
     "start_time": "2024-05-18T14:38:44.983528Z"
    }
   },
   "source": [
    "texts = df['text_preproc2'].tolist()"
   ],
   "outputs": [],
   "execution_count": 46
  },
  {
   "cell_type": "code",
   "metadata": {
    "ExecuteTime": {
     "end_time": "2024-05-18T14:38:45.014777Z",
     "start_time": "2024-05-18T14:38:44.999152Z"
    }
   },
   "source": "topic_model = BERTopic(embedding_model=model, nr_topics=8)",
   "outputs": [],
   "execution_count": 47
  },
  {
   "cell_type": "code",
   "metadata": {
    "ExecuteTime": {
     "end_time": "2024-05-18T14:39:17.438120Z",
     "start_time": "2024-05-18T14:38:45.014777Z"
    }
   },
   "source": [
    "topics, probabilities = topic_model.fit_transform(texts)"
   ],
   "outputs": [],
   "execution_count": 48
  },
  {
   "cell_type": "code",
   "metadata": {
    "ExecuteTime": {
     "end_time": "2024-05-18T14:39:17.462888Z",
     "start_time": "2024-05-18T14:39:17.438120Z"
    }
   },
   "source": [
    "topic_model.get_topic_info()"
   ],
   "outputs": [
    {
     "data": {
      "text/plain": [
       "   Topic  Count                                                         Name  \\\n",
       "0     -1   1058                    -1_verfahren_umfassen_erfindung_aufweisen   \n",
       "1      0    976                     0_verfahren_umfassen_aufweisen_erfindung   \n",
       "2      1     75                                  1_objekt_neuronal_bild_netz   \n",
       "3      2     47                2_scheibe_lenkelement_räumlich_gelenkmechanik   \n",
       "4      3     39               3_küchenmaschine_küchengerät_hochfrequenz_topf   \n",
       "5      4     18                 4_laser_projektor_projektion_führungsroboter   \n",
       "6      5     16  5_schweißbrenner_wechselkupplung_schweißbahn_schweißprozess   \n",
       "7      6     14              6_ringelement_wellgetriebe_innenring_wälzkörper   \n",
       "\n",
       "                                                                                                                                                 Representation  \\\n",
       "0                                                 [verfahren, umfassen, erfindung, aufweisen, roboterarm, betreffen, vorrichtung, mehrere, werkstück, position]   \n",
       "1                                                [verfahren, umfassen, aufweisen, erfindung, position, betreffen, roboterarm, mehrere, robotersystem, anordnen]   \n",
       "2                                                                [objekt, neuronal, bild, netz, verfahren, steuer, trainieren, kamerabild, netzwerk, aufnehmen]   \n",
       "3                                          [scheibe, lenkelement, räumlich, gelenkmechanik, instrument, verstellbar, medizinisch, aufweisen, schaft, erfindung]   \n",
       "4                       [küchenmaschine, küchengerät, hochfrequenz, topf, speise, speisenzubereitungsgefäß, betreffen, zubehörteil, erfindung, behandlungsraum]   \n",
       "5                                          [laser, projektor, projektion, führungsroboter, laserstrahl, oszillator, roboterkopf, erfindung, betreffen, optisch]   \n",
       "6  [schweißbrenner, wechselkupplung, schweißbahn, schweißprozess, schweißparameter, schweißvorrichtung, drahtelektrode, schweißwerkzeug, festlegung, fügelinie]   \n",
       "7                   [ringelement, wellgetriebe, innenring, wälzkörper, außenverzahnung, flexibl, übertragungselement, innenverzahnung, außenring, lagerelement]   \n",
       "\n",
       "                                                                                                                                                                                                                                                                                                                                                                                                                                                                                                                                                                                                                                                                                                                                                                                                                                                                                                                                                                                                                                                                                                                                                                                                                                                                                                                                                                                                                                                                                                                                                                                                                                                                                                                                                                                                                                                                                                                                                                                                                                                                                                                                                                                                                                                                                                                                                                                                                                                           Representative_Docs  \n",
       "0                                                                                                                                                                                                                                                                                                                                                                                                                                                                                                                                                                                                                                                                                                                                                                     [verfahren handhaben objekt roboterarm vorrichtung umfassend roboterarm handhaben objekt erfindung betreffen verfahren handhaben objekt roboterarm umfassend folgend schritt erfassen objekt messe messwert objekteigenschaft objekt sensor beißen ermitteln handhabungseigenschaft abfrage messwert datenbank inferenz statistisch modell eingabe messwert erstellen steuerungsdatensatz roboterarm berücksichtigung handhabungseigenschaft undd handhaben objekt roboterarm steuerungsdatensatz betreffen erfindung vorrichtung handhaben objekt umfassend roboterarm sensor computersystem, robotersystem steuerungsverfahre robotersystem entnahme lose geladen werkstücke robotersystem entnehmen lose innere behälter geladen werkstück robotersystem umfassen hand mehrzahl klauenteil umfassen konfigurieren werkstück verwendung klauenteil greifen konfigurieren hand bewegen dreidimensional sensor konfigurieren information abstand werkstück erfassen undein steuerung konfigurieren hand steuern wobeidi klauenteil greifbereiche form greifen werkstück aufweisen steuerung umfassendein erfassungseinheit konfigurieren dreidimensional information werkstück basierend ausgabe dreidimensional sensor erfassen auswahleinheit konfigurieren entnehmend zielwerkstück basierend, robotersystem verfahren automatisiert durchführen serologisch test erfindung betreffen verfahren robotersystem mobil basis roboterarm distaler wechseladapter automatisch werkzeugwechsel anbringen betreffen verfahren steuerung programmieren bewegungsablauf roboterarm ausgestalten erfindung betreffen verfahren automatisiert durchführen serologisch test verwendung beschrieben robotersystem]  \n",
       "1                                                                                                                                                                                                                                                                                                                                                                                                                                                                                                                                                                                                                                                                                                                                                                                                                                                                                                                                                [verfahren kalibrierung bauroboters bauroboter erfindung betreffen bauroboter ausführung bauarbeit baustellenobjekt umfassen mobil plattform relativ mobil plattform beweglich manipulator mobil plattform angeordnet ausgebildet optisch sensorik steuereinheit einrichten verwendung optisch sensorik position lage manipulator angeordnet werkzeug relativ mobil plattform bestimmen betreffen erfindung verfahren kalibrierung bauroboter erfindung kostengünstig präzise arbeitend bauroboter verfügung stellen, verfahren recheneinheit computerprogramm bestimmen bewegungspfades mobiles gerät verwendung semantischer informationen erfindung betreffen verfahren bestimmen bewegungspfad mobil gerät drohne teilautomatisiern bewegend fahrzeug umgebung bewegen umfassend bereitstellen ziel mobil gerät bewegen bestimmen mehrere zwischenziel semantisch umgebungskarte basierend aktuell position orientierung mobil gerät umgebung basierend ziel bestimmen bewegungspfad basierend mehrere zwischenziel ziel, verfahren recheneinheit computerprogramm bestimmen bewegungspfad mobil gerät verwendung semantisch information erfindung betreffen verfahren bestimmen bewegungspfad mobil gerät drohne teilautomatisiern bewegend fahrzeug umgebung bewegen umfassend bereitstellen ziel mobil gerät bewegen bestimmen mehrere zwischenziel semantisch umgebungskarte basierend aktuell position orientierung mobil gerät umgebung basierend ziel bestimmen bewegungspfad basierend mehrere zwischenziel ziel]  \n",
       "2                                                                                                                                                                                                                                                                                                                                                                                                                                                                                                                                                                                                                                                                                                                                                                                 [vorrichtung verfahren steuer einsetzen objekt einsetzstelle verschieden ausführungsform verfahren beschreiben steuer einsetzen objekt einsetzstelle folgend umfassen steuer halten objekt erzeugen schätzung zielposition einsetzen objekt einsetzstelle steuer bewegen geschätzt zielposition aufnehmen kamerabild verwendung montiert kamera bewegen geschätzt zielposition steuern einspeisen kamerabild neuronal netz trainieren ableiten kamerabilder bewegungsvektore bewegung position kamerabild aufnehmen spezifizieren objekt einsetzstell einsetzen steuer bewegen neuronal netz kamerabild abgeleitet bewegungsvektor, vorrichtung verfahren trainieren neuronal netz steuer einsetzaufgabe verschieden ausführungsform verfahren trainieren neuronal netz ableiten bild kamera montieren bewegungsvektor einsetzen objekt einsetzstelle beschreiben umfassend mehrzahl position objekt halten ebene einsetzstelle befinden berühren steuer bewegen position aufnehmen kamerabild kamera label kamerabild bewegungsvektor position einsetzstelle ebene trainieren neuronal netz verwendung gelabelt kamerabild, vorrichtung verfahren trainieren neuronal netz steuer einsetzaufgabe verschieden ausführungsform verfahren trainieren neuronal netz ableiten bild kamera montieren bewegungsvektor einsetzen objekt einsetzstelle beschreiben verfahren umfassen steuer halten objekt bringen zielposition objekt einsetzstelle einsetzen mehrzahl position zielposition unterscheiden steuer zielposition position bewegen aufnehmen kamerabild kamera label kamerabild bewegungsvektor position zielposition bewegen trainieren neuronal netz verwendung gelabelt kamerabild]  \n",
       "3  [verfahren umformen befestigen lenkdrähten räumlich verstellbaren scheibe lenkdrähten bewegen distalseitigen gelenkmechanik medizinisches instrument erfindung betreffen verfahren umforma befestigen lenkdräht räumlich verstellbar scheibe lenkdrähte distalseitig gelenkmechanik abwinkel distal endabschnitt medizinisch instrument bewegbar lenkdrähte werkstoffhärte aufweisen räumlich verstellbar scheibe lenkdraht loch querschnitt dicke räumlich verstellbar scheibe aufweisen einlegebauteil folgend schritt ndash anordnen einlegebauteil proximal seite räumlich verstellbar scheibe einlegebauteil korrespondierend loch löch räumlich verstellbar scheibe werkstoffhärte lenkdrähte aufweisen ndash durchführen lenkdrähte jeweilig lenkdrahtende jeweilig loch räumlich verstellbar scheibe korrespondierend loch einlegebauteil, verfahren befestigen lenkelementer räumlich verstellbar scheibe lenkelement bewegen distalseitig gelenkmechanik medizinisch instrument erfindung betreffen verfahren befestigen lenkelementer räumlich verstellbar scheibe lenkelement distalseitig gelenkmechanik abwinkel distal endabschnitt medizinisch instrument bewegbar lenkelement material aufweisen räumlich verstellbar scheibe lenkelement loch querschnitt dicke räumlich verstellbar scheibe aufweisen anschweißbauteil folgend schritt durchführen lenkelement jeweilig lenkelementende jeweilig loch räumlich verstellbar scheibe durchgeführt lenkelementende proximal seite räumlich verstellbar scheibe anordnen verbinden durchgeführt lenkelementende schweißen verwendung schweißgas anschweißbauteil material, verfahren umforma befestigen lenkdräht räumlich verstellbar scheibe lenkdräht bewegen distalseitig gelenkmechanik medizinisch instrument erfindung betreffen verfahren umforma befestigen lenkdräht räumlich verstellbar scheibe lenkdrähte distalseitig gelenkmechanik abwinkel distal endabschnitt medizinisch instrument bewegbar lenkdrähte werkstoffhärte aufweisen räumlich verstellbar scheibe lenkdraht loch querschnitt dicke räumlich verstellbar scheibe aufweisen einlegebauteil folgend schritt anordnen einlegebauteil proximal seite räumlich verstellbar scheibe einlegebauteil korrespondierend loch löch räumlich verstellbar scheibe werkstoffhärte lenkdrähte aufweisen durchführen lenkdrähte jeweilig lenkdrahtende jeweilig loch räumlich verstellbar scheibe korrespondierend loch einlegebauteil sodass]  \n",
       "4                                                                                                                                                                                                                                                                                                                                                                                                         [hochfrequenz haushaltsgerät vorzugsweise hochfrequenz küchengerät erfindung betreffen hochfrequenz haushaltsgerät hochfrequenz küchengerät behandlungsraum ausbilden hochfrequent energie behandelnd aufnehmen hochfrequenz heizmodul ausbilden hochfrequent energie erzeugen behandlungsraum abgeben hochfrequenz heizmodul aufweisen bull hochfrequenz signalgenerator ausbilden hochfrequent energie erzeugen bull übergang behandlungsraum hochfrequenz pfade vorzugsweise übergang behandlungsraum mehrere hochfrequenz pfad ausbilden hochfrequent energie behandlungsraum abgeben hochfrequenz haushaltsgerät kennzeichnen hochfrequenz heizmodul vorzugsweise, küchenmaschine ladungssteuerung hilfsgeräts erfindung betreffen küchenmaschine zubereiten speise speisenzubereitungsgefäß system küchenmaschine batteriebetrieben hilfsgerät verfahren betreiben küchenmaschine computerprogrammprodukt küchenmaschine zubereiten speise speisenzubereitungsgefäß umfassen werkzeug misch zerkleinern speise speisenzubereitungsgefäß heizelement erhitzen speise speisenzubereitungsgefäß küchenmaschine einrichten zustandsinformation speisenzubereitung batteriebetrieben hilfsgerät empfangen speisenzubereitungsvorgang nutzen küchenmaschine weisen empfangseinheit empfangen ladezustands batteriebetrieben hilfsgeräts steuerungseinheit verarbeitung empfangen ladezustand, hochfrequenz haushaltsgerät vorzugsweise hochfrequenz küchengerät erfindung betreffen hochfrequenz haushaltsgerät hochfrequenz küchengerät behandlungsraum ausbilden hochfrequent energie behandelnd aufnehmen hochfrequenz heizmodul ausbilden hochfrequent energie erzeugen behandlungsraum abgeben hochfrequenz heizmodul aufweisen bull hochfrequenz signalgenerator ausbilden hochfrequent energie erzeugen bull übergang behandlungsraum hochfrequenz pfade vorzugsweise übergang behandlungsraum mehrere hochfrequenz pfad ausbilden hochfrequent energie behandlungsraum abgeben hochfrequenz haushaltsgerät kennzeichnen hochfrequenz heizmodul vorzugsweise]  \n",
       "5                                                                                                                                                                                                                                                                                                                                                                                       [laser führungsroboter visuell projektion führung operationsplan projektionsverfahr laser führungsroboter system vorliegend offenbarung betreffen laser führungsroboter visuell projektion operativ führung eingriffsbereich patient laser führungsroboter weisen führungsroboter roboterbasis beweglich angelenkt roboterarm verbunden endständig distal roboterkopf trackingsystem optisch navigationssystem anpassen position orientierung roboterkopf erfassen position orientierung patient eingriffsbereich erfassen projektion laser emittiert laserstrahlung vorzugsweise menschlich auge sichtbar bereich liegen roboterkopf anordnen befestigen sodass mittelbar roboterkopf position orientierung projektion laser einstellbar, verfahren laser optisch erfassungssystem roboterarbeitsplatz erfindung betreffen verfahren laser optisch erfassungssystem aufweisend laser projektor kamera steuervorrichtung ausbilden einrichten laser projektor kamera ansteuern merkmal objekt bestimmen sensoreinrichtung steuervorrichtung einrichten abhängigkeit sensoreinrichtung erhalten charakterisierend signal annäherung anwesenheit person kritisch räumlich nähe laser projektor belichtungsparameter kamera abhängigkeit reduziert maximal bestrahlungsstärke laser projektor momentan bestrahlungsstärke laser projektor anpassen erfindung betreffen roboterarbeitsplatz laser optisch erfassungssystem, verfahren laser optisches roboterarbeitsplatz erfindung betreffen verfahren laser optisch erfassungssystem aufweisend laser projektor kamera steuervorrichtung ausbilden einrichten laser projektor kamera ansteuern merkmal objekt bestimmen sensoreinrichtung steuervorrichtung einrichten abhängigkeit sensoreinrich tung erhalten charakterisierend signal annäherung anwesenheit person kritisch räumlich nähe laser projektor belichtungsparameter kamera abhängigkeit reduziert maximal bestrahlungsstärke laser projektor momentan bestrahlungsstärke laser projektor anpassen erfindung betreffen roboterarbeitsplatz laser optisch erfassungssystem]  \n",
       "6                                                                                                                                                                                                                                                                                                                                            [verfahren festlegung schweissparametern schweissprozess werkstück schweissvorrichtung durchführung schweissprozesses werkstück festgelegten erfindung betreffen verfahren festlegung schweißparameter schweißprozess werkstück befestigt schweißbrenner vorgegeben schweißbahn werkstück führen abhängigkeit position schweißbahn vorgegeben schweißparameter bearbeitung werkstück einstellen schweißvorrichtung durchführung schweißprozess genau festlegung schweißparameter vorsehen durchführung schweißprozess abkühlung repräsentierend parameter schweißbahn aufnehmen abkühlung repräsentierend parameter schweißbahn festlegung schweißparameter abhängigkeit position schweißbahn, schweissbrennersystem wechselkupplung schweissbrenner brennerwechselstation verfahren aufnehmen schweissbrenner schweissbrennersystem schweissroboter wechsel schweißbrenner schweißroboter vereinfachen schweißbrennersystem wechselkupplung schweißbrenner vorsehen lösen wechselkupplung justierring federnd lagern anordnen justierelement vorsehen schweißbrenner justierring justierelement vorsehen justierring wechselkupplung gelöst schweißbrenner axial kupplungsender beabstanden anordnen sodass justierelement verbinden schweißbrenner wechselkupplung ausrichtung schweißbrenner relativ wechselkupplung eingriff gelangen schweißbrennerkupplungsteil schweißbrenner wechselkupplung wechselwirken, schweissbrennersystem wechselkupplung schweissbrenner brennerwechselstation verfahren aufnehmen schweissbrenner schweissbrennersystem schweissroboter wechsel schweißbrenner schweißroboter vereinfachen schweißbrennersystem wechselkupplung schweißbrenner vorsehen lösen wechselkupplung justierring federnd lagern anordnen justierelement vorsehen schweißbrenner justierring justierelement vorsehen justierring wechselkupplung gelöst schweißbrenner axial kupplungsender beabstanden anordnen justierelement verbinden schweißbrenner wechselkupplung ausrichtung schweißbrenner relativ wechselkupplung eingriff gelangen schweißbrennerkupplungsteil schweißbrenner wechselkupplung wechselwirken]  \n",
       "7                                                                                                                                                                                                                                                                                                                                                                                                                                                                                                                                                                                                                                                         [wellgetrieb wellgetriebe erfindung betreffen wellgetriebe umfassend wellgenerator umlaufend radial richtung verformbar flexibl ringelement außenverzahnung starr ringelement innenverzahnung außenverzahnung flexibl ringelement übertragung drehmoment zahneingriffsbereich innenverzahnung starr ringelement zahneingriff stehen wellgenerator unrund ausgebildet innenring umlaufend radial richtung verformbar flexibl außenring umfassen innenring flexibel ringelement hineinragen mittelbar drehfest welle verbinden flexibel außenring innenumfang flexibl ringelement anordnen wellgetriebe temperatursensoreinrichtung, wellgetriebe erfindung betreffen wellgetriebe umfassend wellgenerator umlaufend radial richtung verformbar flexibl ringelement außenverzahnung starr ringelement innenverzahnung außenverzahnung flexibl ringelement übertragung drehmoment zahneingriffsbereich innenverzahnung starr ringelement zahneingriff stehen wellgenerator unrund ausgebildet lagerelement aufweisen umfassend wälzkörper innenring laufbahn wälzkörper lagerelement flexibel ringelement axial hineinragen innenring welle verbinden flexibel ringelement laufbahn wälzkörper ausbilden betreffen erfindung, wellgetriebe erfindung betreffen wellgetriebe umfassend wellgenerator umlaufend radial richtung verformbar flexibl ringelement außenverzahnung starr ringelement innenverzahnung außenverzahnung flexibl ringelement übertragung drehmoment zahneingriffsbereich innenverzahnung starr ringelement zahneingriff stehen wellgenerator unrund ausgebildet lagerelement aufweisen umfassend wälzkörper innenring laufbahn wälzkörper außenring laufbahn wälzkörper lagerelement flexibel ringelement axial hineinragen innenring welle verbinden lagerelement einreihig zylinderrollenlager]  "
      ],
      "text/html": [
       "<div>\n",
       "<style scoped>\n",
       "    .dataframe tbody tr th:only-of-type {\n",
       "        vertical-align: middle;\n",
       "    }\n",
       "\n",
       "    .dataframe tbody tr th {\n",
       "        vertical-align: top;\n",
       "    }\n",
       "\n",
       "    .dataframe thead th {\n",
       "        text-align: right;\n",
       "    }\n",
       "</style>\n",
       "<table border=\"1\" class=\"dataframe\">\n",
       "  <thead>\n",
       "    <tr style=\"text-align: right;\">\n",
       "      <th></th>\n",
       "      <th>Topic</th>\n",
       "      <th>Count</th>\n",
       "      <th>Name</th>\n",
       "      <th>Representation</th>\n",
       "      <th>Representative_Docs</th>\n",
       "    </tr>\n",
       "  </thead>\n",
       "  <tbody>\n",
       "    <tr>\n",
       "      <th>0</th>\n",
       "      <td>-1</td>\n",
       "      <td>1058</td>\n",
       "      <td>-1_verfahren_umfassen_erfindung_aufweisen</td>\n",
       "      <td>[verfahren, umfassen, erfindung, aufweisen, roboterarm, betreffen, vorrichtung, mehrere, werkstück, position]</td>\n",
       "      <td>[verfahren handhaben objekt roboterarm vorrichtung umfassend roboterarm handhaben objekt erfindung betreffen verfahren handhaben objekt roboterarm umfassend folgend schritt erfassen objekt messe messwert objekteigenschaft objekt sensor beißen ermitteln handhabungseigenschaft abfrage messwert datenbank inferenz statistisch modell eingabe messwert erstellen steuerungsdatensatz roboterarm berücksichtigung handhabungseigenschaft undd handhaben objekt roboterarm steuerungsdatensatz betreffen erfindung vorrichtung handhaben objekt umfassend roboterarm sensor computersystem, robotersystem steuerungsverfahre robotersystem entnahme lose geladen werkstücke robotersystem entnehmen lose innere behälter geladen werkstück robotersystem umfassen hand mehrzahl klauenteil umfassen konfigurieren werkstück verwendung klauenteil greifen konfigurieren hand bewegen dreidimensional sensor konfigurieren information abstand werkstück erfassen undein steuerung konfigurieren hand steuern wobeidi klauenteil greifbereiche form greifen werkstück aufweisen steuerung umfassendein erfassungseinheit konfigurieren dreidimensional information werkstück basierend ausgabe dreidimensional sensor erfassen auswahleinheit konfigurieren entnehmend zielwerkstück basierend, robotersystem verfahren automatisiert durchführen serologisch test erfindung betreffen verfahren robotersystem mobil basis roboterarm distaler wechseladapter automatisch werkzeugwechsel anbringen betreffen verfahren steuerung programmieren bewegungsablauf roboterarm ausgestalten erfindung betreffen verfahren automatisiert durchführen serologisch test verwendung beschrieben robotersystem]</td>\n",
       "    </tr>\n",
       "    <tr>\n",
       "      <th>1</th>\n",
       "      <td>0</td>\n",
       "      <td>976</td>\n",
       "      <td>0_verfahren_umfassen_aufweisen_erfindung</td>\n",
       "      <td>[verfahren, umfassen, aufweisen, erfindung, position, betreffen, roboterarm, mehrere, robotersystem, anordnen]</td>\n",
       "      <td>[verfahren kalibrierung bauroboters bauroboter erfindung betreffen bauroboter ausführung bauarbeit baustellenobjekt umfassen mobil plattform relativ mobil plattform beweglich manipulator mobil plattform angeordnet ausgebildet optisch sensorik steuereinheit einrichten verwendung optisch sensorik position lage manipulator angeordnet werkzeug relativ mobil plattform bestimmen betreffen erfindung verfahren kalibrierung bauroboter erfindung kostengünstig präzise arbeitend bauroboter verfügung stellen, verfahren recheneinheit computerprogramm bestimmen bewegungspfades mobiles gerät verwendung semantischer informationen erfindung betreffen verfahren bestimmen bewegungspfad mobil gerät drohne teilautomatisiern bewegend fahrzeug umgebung bewegen umfassend bereitstellen ziel mobil gerät bewegen bestimmen mehrere zwischenziel semantisch umgebungskarte basierend aktuell position orientierung mobil gerät umgebung basierend ziel bestimmen bewegungspfad basierend mehrere zwischenziel ziel, verfahren recheneinheit computerprogramm bestimmen bewegungspfad mobil gerät verwendung semantisch information erfindung betreffen verfahren bestimmen bewegungspfad mobil gerät drohne teilautomatisiern bewegend fahrzeug umgebung bewegen umfassend bereitstellen ziel mobil gerät bewegen bestimmen mehrere zwischenziel semantisch umgebungskarte basierend aktuell position orientierung mobil gerät umgebung basierend ziel bestimmen bewegungspfad basierend mehrere zwischenziel ziel]</td>\n",
       "    </tr>\n",
       "    <tr>\n",
       "      <th>2</th>\n",
       "      <td>1</td>\n",
       "      <td>75</td>\n",
       "      <td>1_objekt_neuronal_bild_netz</td>\n",
       "      <td>[objekt, neuronal, bild, netz, verfahren, steuer, trainieren, kamerabild, netzwerk, aufnehmen]</td>\n",
       "      <td>[vorrichtung verfahren steuer einsetzen objekt einsetzstelle verschieden ausführungsform verfahren beschreiben steuer einsetzen objekt einsetzstelle folgend umfassen steuer halten objekt erzeugen schätzung zielposition einsetzen objekt einsetzstelle steuer bewegen geschätzt zielposition aufnehmen kamerabild verwendung montiert kamera bewegen geschätzt zielposition steuern einspeisen kamerabild neuronal netz trainieren ableiten kamerabilder bewegungsvektore bewegung position kamerabild aufnehmen spezifizieren objekt einsetzstell einsetzen steuer bewegen neuronal netz kamerabild abgeleitet bewegungsvektor, vorrichtung verfahren trainieren neuronal netz steuer einsetzaufgabe verschieden ausführungsform verfahren trainieren neuronal netz ableiten bild kamera montieren bewegungsvektor einsetzen objekt einsetzstelle beschreiben umfassend mehrzahl position objekt halten ebene einsetzstelle befinden berühren steuer bewegen position aufnehmen kamerabild kamera label kamerabild bewegungsvektor position einsetzstelle ebene trainieren neuronal netz verwendung gelabelt kamerabild, vorrichtung verfahren trainieren neuronal netz steuer einsetzaufgabe verschieden ausführungsform verfahren trainieren neuronal netz ableiten bild kamera montieren bewegungsvektor einsetzen objekt einsetzstelle beschreiben verfahren umfassen steuer halten objekt bringen zielposition objekt einsetzstelle einsetzen mehrzahl position zielposition unterscheiden steuer zielposition position bewegen aufnehmen kamerabild kamera label kamerabild bewegungsvektor position zielposition bewegen trainieren neuronal netz verwendung gelabelt kamerabild]</td>\n",
       "    </tr>\n",
       "    <tr>\n",
       "      <th>3</th>\n",
       "      <td>2</td>\n",
       "      <td>47</td>\n",
       "      <td>2_scheibe_lenkelement_räumlich_gelenkmechanik</td>\n",
       "      <td>[scheibe, lenkelement, räumlich, gelenkmechanik, instrument, verstellbar, medizinisch, aufweisen, schaft, erfindung]</td>\n",
       "      <td>[verfahren umformen befestigen lenkdrähten räumlich verstellbaren scheibe lenkdrähten bewegen distalseitigen gelenkmechanik medizinisches instrument erfindung betreffen verfahren umforma befestigen lenkdräht räumlich verstellbar scheibe lenkdrähte distalseitig gelenkmechanik abwinkel distal endabschnitt medizinisch instrument bewegbar lenkdrähte werkstoffhärte aufweisen räumlich verstellbar scheibe lenkdraht loch querschnitt dicke räumlich verstellbar scheibe aufweisen einlegebauteil folgend schritt ndash anordnen einlegebauteil proximal seite räumlich verstellbar scheibe einlegebauteil korrespondierend loch löch räumlich verstellbar scheibe werkstoffhärte lenkdrähte aufweisen ndash durchführen lenkdrähte jeweilig lenkdrahtende jeweilig loch räumlich verstellbar scheibe korrespondierend loch einlegebauteil, verfahren befestigen lenkelementer räumlich verstellbar scheibe lenkelement bewegen distalseitig gelenkmechanik medizinisch instrument erfindung betreffen verfahren befestigen lenkelementer räumlich verstellbar scheibe lenkelement distalseitig gelenkmechanik abwinkel distal endabschnitt medizinisch instrument bewegbar lenkelement material aufweisen räumlich verstellbar scheibe lenkelement loch querschnitt dicke räumlich verstellbar scheibe aufweisen anschweißbauteil folgend schritt durchführen lenkelement jeweilig lenkelementende jeweilig loch räumlich verstellbar scheibe durchgeführt lenkelementende proximal seite räumlich verstellbar scheibe anordnen verbinden durchgeführt lenkelementende schweißen verwendung schweißgas anschweißbauteil material, verfahren umforma befestigen lenkdräht räumlich verstellbar scheibe lenkdräht bewegen distalseitig gelenkmechanik medizinisch instrument erfindung betreffen verfahren umforma befestigen lenkdräht räumlich verstellbar scheibe lenkdrähte distalseitig gelenkmechanik abwinkel distal endabschnitt medizinisch instrument bewegbar lenkdrähte werkstoffhärte aufweisen räumlich verstellbar scheibe lenkdraht loch querschnitt dicke räumlich verstellbar scheibe aufweisen einlegebauteil folgend schritt anordnen einlegebauteil proximal seite räumlich verstellbar scheibe einlegebauteil korrespondierend loch löch räumlich verstellbar scheibe werkstoffhärte lenkdrähte aufweisen durchführen lenkdrähte jeweilig lenkdrahtende jeweilig loch räumlich verstellbar scheibe korrespondierend loch einlegebauteil sodass]</td>\n",
       "    </tr>\n",
       "    <tr>\n",
       "      <th>4</th>\n",
       "      <td>3</td>\n",
       "      <td>39</td>\n",
       "      <td>3_küchenmaschine_küchengerät_hochfrequenz_topf</td>\n",
       "      <td>[küchenmaschine, küchengerät, hochfrequenz, topf, speise, speisenzubereitungsgefäß, betreffen, zubehörteil, erfindung, behandlungsraum]</td>\n",
       "      <td>[hochfrequenz haushaltsgerät vorzugsweise hochfrequenz küchengerät erfindung betreffen hochfrequenz haushaltsgerät hochfrequenz küchengerät behandlungsraum ausbilden hochfrequent energie behandelnd aufnehmen hochfrequenz heizmodul ausbilden hochfrequent energie erzeugen behandlungsraum abgeben hochfrequenz heizmodul aufweisen bull hochfrequenz signalgenerator ausbilden hochfrequent energie erzeugen bull übergang behandlungsraum hochfrequenz pfade vorzugsweise übergang behandlungsraum mehrere hochfrequenz pfad ausbilden hochfrequent energie behandlungsraum abgeben hochfrequenz haushaltsgerät kennzeichnen hochfrequenz heizmodul vorzugsweise, küchenmaschine ladungssteuerung hilfsgeräts erfindung betreffen küchenmaschine zubereiten speise speisenzubereitungsgefäß system küchenmaschine batteriebetrieben hilfsgerät verfahren betreiben küchenmaschine computerprogrammprodukt küchenmaschine zubereiten speise speisenzubereitungsgefäß umfassen werkzeug misch zerkleinern speise speisenzubereitungsgefäß heizelement erhitzen speise speisenzubereitungsgefäß küchenmaschine einrichten zustandsinformation speisenzubereitung batteriebetrieben hilfsgerät empfangen speisenzubereitungsvorgang nutzen küchenmaschine weisen empfangseinheit empfangen ladezustands batteriebetrieben hilfsgeräts steuerungseinheit verarbeitung empfangen ladezustand, hochfrequenz haushaltsgerät vorzugsweise hochfrequenz küchengerät erfindung betreffen hochfrequenz haushaltsgerät hochfrequenz küchengerät behandlungsraum ausbilden hochfrequent energie behandelnd aufnehmen hochfrequenz heizmodul ausbilden hochfrequent energie erzeugen behandlungsraum abgeben hochfrequenz heizmodul aufweisen bull hochfrequenz signalgenerator ausbilden hochfrequent energie erzeugen bull übergang behandlungsraum hochfrequenz pfade vorzugsweise übergang behandlungsraum mehrere hochfrequenz pfad ausbilden hochfrequent energie behandlungsraum abgeben hochfrequenz haushaltsgerät kennzeichnen hochfrequenz heizmodul vorzugsweise]</td>\n",
       "    </tr>\n",
       "    <tr>\n",
       "      <th>5</th>\n",
       "      <td>4</td>\n",
       "      <td>18</td>\n",
       "      <td>4_laser_projektor_projektion_führungsroboter</td>\n",
       "      <td>[laser, projektor, projektion, führungsroboter, laserstrahl, oszillator, roboterkopf, erfindung, betreffen, optisch]</td>\n",
       "      <td>[laser führungsroboter visuell projektion führung operationsplan projektionsverfahr laser führungsroboter system vorliegend offenbarung betreffen laser führungsroboter visuell projektion operativ führung eingriffsbereich patient laser führungsroboter weisen führungsroboter roboterbasis beweglich angelenkt roboterarm verbunden endständig distal roboterkopf trackingsystem optisch navigationssystem anpassen position orientierung roboterkopf erfassen position orientierung patient eingriffsbereich erfassen projektion laser emittiert laserstrahlung vorzugsweise menschlich auge sichtbar bereich liegen roboterkopf anordnen befestigen sodass mittelbar roboterkopf position orientierung projektion laser einstellbar, verfahren laser optisch erfassungssystem roboterarbeitsplatz erfindung betreffen verfahren laser optisch erfassungssystem aufweisend laser projektor kamera steuervorrichtung ausbilden einrichten laser projektor kamera ansteuern merkmal objekt bestimmen sensoreinrichtung steuervorrichtung einrichten abhängigkeit sensoreinrichtung erhalten charakterisierend signal annäherung anwesenheit person kritisch räumlich nähe laser projektor belichtungsparameter kamera abhängigkeit reduziert maximal bestrahlungsstärke laser projektor momentan bestrahlungsstärke laser projektor anpassen erfindung betreffen roboterarbeitsplatz laser optisch erfassungssystem, verfahren laser optisches roboterarbeitsplatz erfindung betreffen verfahren laser optisch erfassungssystem aufweisend laser projektor kamera steuervorrichtung ausbilden einrichten laser projektor kamera ansteuern merkmal objekt bestimmen sensoreinrichtung steuervorrichtung einrichten abhängigkeit sensoreinrich tung erhalten charakterisierend signal annäherung anwesenheit person kritisch räumlich nähe laser projektor belichtungsparameter kamera abhängigkeit reduziert maximal bestrahlungsstärke laser projektor momentan bestrahlungsstärke laser projektor anpassen erfindung betreffen roboterarbeitsplatz laser optisch erfassungssystem]</td>\n",
       "    </tr>\n",
       "    <tr>\n",
       "      <th>6</th>\n",
       "      <td>5</td>\n",
       "      <td>16</td>\n",
       "      <td>5_schweißbrenner_wechselkupplung_schweißbahn_schweißprozess</td>\n",
       "      <td>[schweißbrenner, wechselkupplung, schweißbahn, schweißprozess, schweißparameter, schweißvorrichtung, drahtelektrode, schweißwerkzeug, festlegung, fügelinie]</td>\n",
       "      <td>[verfahren festlegung schweissparametern schweissprozess werkstück schweissvorrichtung durchführung schweissprozesses werkstück festgelegten erfindung betreffen verfahren festlegung schweißparameter schweißprozess werkstück befestigt schweißbrenner vorgegeben schweißbahn werkstück führen abhängigkeit position schweißbahn vorgegeben schweißparameter bearbeitung werkstück einstellen schweißvorrichtung durchführung schweißprozess genau festlegung schweißparameter vorsehen durchführung schweißprozess abkühlung repräsentierend parameter schweißbahn aufnehmen abkühlung repräsentierend parameter schweißbahn festlegung schweißparameter abhängigkeit position schweißbahn, schweissbrennersystem wechselkupplung schweissbrenner brennerwechselstation verfahren aufnehmen schweissbrenner schweissbrennersystem schweissroboter wechsel schweißbrenner schweißroboter vereinfachen schweißbrennersystem wechselkupplung schweißbrenner vorsehen lösen wechselkupplung justierring federnd lagern anordnen justierelement vorsehen schweißbrenner justierring justierelement vorsehen justierring wechselkupplung gelöst schweißbrenner axial kupplungsender beabstanden anordnen sodass justierelement verbinden schweißbrenner wechselkupplung ausrichtung schweißbrenner relativ wechselkupplung eingriff gelangen schweißbrennerkupplungsteil schweißbrenner wechselkupplung wechselwirken, schweissbrennersystem wechselkupplung schweissbrenner brennerwechselstation verfahren aufnehmen schweissbrenner schweissbrennersystem schweissroboter wechsel schweißbrenner schweißroboter vereinfachen schweißbrennersystem wechselkupplung schweißbrenner vorsehen lösen wechselkupplung justierring federnd lagern anordnen justierelement vorsehen schweißbrenner justierring justierelement vorsehen justierring wechselkupplung gelöst schweißbrenner axial kupplungsender beabstanden anordnen justierelement verbinden schweißbrenner wechselkupplung ausrichtung schweißbrenner relativ wechselkupplung eingriff gelangen schweißbrennerkupplungsteil schweißbrenner wechselkupplung wechselwirken]</td>\n",
       "    </tr>\n",
       "    <tr>\n",
       "      <th>7</th>\n",
       "      <td>6</td>\n",
       "      <td>14</td>\n",
       "      <td>6_ringelement_wellgetriebe_innenring_wälzkörper</td>\n",
       "      <td>[ringelement, wellgetriebe, innenring, wälzkörper, außenverzahnung, flexibl, übertragungselement, innenverzahnung, außenring, lagerelement]</td>\n",
       "      <td>[wellgetrieb wellgetriebe erfindung betreffen wellgetriebe umfassend wellgenerator umlaufend radial richtung verformbar flexibl ringelement außenverzahnung starr ringelement innenverzahnung außenverzahnung flexibl ringelement übertragung drehmoment zahneingriffsbereich innenverzahnung starr ringelement zahneingriff stehen wellgenerator unrund ausgebildet innenring umlaufend radial richtung verformbar flexibl außenring umfassen innenring flexibel ringelement hineinragen mittelbar drehfest welle verbinden flexibel außenring innenumfang flexibl ringelement anordnen wellgetriebe temperatursensoreinrichtung, wellgetriebe erfindung betreffen wellgetriebe umfassend wellgenerator umlaufend radial richtung verformbar flexibl ringelement außenverzahnung starr ringelement innenverzahnung außenverzahnung flexibl ringelement übertragung drehmoment zahneingriffsbereich innenverzahnung starr ringelement zahneingriff stehen wellgenerator unrund ausgebildet lagerelement aufweisen umfassend wälzkörper innenring laufbahn wälzkörper lagerelement flexibel ringelement axial hineinragen innenring welle verbinden flexibel ringelement laufbahn wälzkörper ausbilden betreffen erfindung, wellgetriebe erfindung betreffen wellgetriebe umfassend wellgenerator umlaufend radial richtung verformbar flexibl ringelement außenverzahnung starr ringelement innenverzahnung außenverzahnung flexibl ringelement übertragung drehmoment zahneingriffsbereich innenverzahnung starr ringelement zahneingriff stehen wellgenerator unrund ausgebildet lagerelement aufweisen umfassend wälzkörper innenring laufbahn wälzkörper außenring laufbahn wälzkörper lagerelement flexibel ringelement axial hineinragen innenring welle verbinden lagerelement einreihig zylinderrollenlager]</td>\n",
       "    </tr>\n",
       "  </tbody>\n",
       "</table>\n",
       "</div>"
      ]
     },
     "execution_count": 49,
     "metadata": {},
     "output_type": "execute_result"
    }
   ],
   "execution_count": 49
  },
  {
   "cell_type": "code",
   "metadata": {
    "ExecuteTime": {
     "end_time": "2024-05-18T14:39:17.478514Z",
     "start_time": "2024-05-18T14:39:17.462888Z"
    }
   },
   "source": [
    "freq = topic_model.get_topic_info(); freq.head(2)"
   ],
   "outputs": [
    {
     "data": {
      "text/plain": [
       "   Topic  Count                                       Name  \\\n",
       "0     -1   1058  -1_verfahren_umfassen_erfindung_aufweisen   \n",
       "1      0    976   0_verfahren_umfassen_aufweisen_erfindung   \n",
       "\n",
       "                                                                                                   Representation  \\\n",
       "0   [verfahren, umfassen, erfindung, aufweisen, roboterarm, betreffen, vorrichtung, mehrere, werkstück, position]   \n",
       "1  [verfahren, umfassen, aufweisen, erfindung, position, betreffen, roboterarm, mehrere, robotersystem, anordnen]   \n",
       "\n",
       "                                                                                                                                                                                                                                                                                                                                                                                                                                                                                                                                                                                                                                                                                                                                                                                                                                                                                                                                                                                                                                                                                                                                                                                                                                                                                                                                                                                                                                                                                                                                                                                                                                                                                        Representative_Docs  \n",
       "0  [verfahren handhaben objekt roboterarm vorrichtung umfassend roboterarm handhaben objekt erfindung betreffen verfahren handhaben objekt roboterarm umfassend folgend schritt erfassen objekt messe messwert objekteigenschaft objekt sensor beißen ermitteln handhabungseigenschaft abfrage messwert datenbank inferenz statistisch modell eingabe messwert erstellen steuerungsdatensatz roboterarm berücksichtigung handhabungseigenschaft undd handhaben objekt roboterarm steuerungsdatensatz betreffen erfindung vorrichtung handhaben objekt umfassend roboterarm sensor computersystem, robotersystem steuerungsverfahre robotersystem entnahme lose geladen werkstücke robotersystem entnehmen lose innere behälter geladen werkstück robotersystem umfassen hand mehrzahl klauenteil umfassen konfigurieren werkstück verwendung klauenteil greifen konfigurieren hand bewegen dreidimensional sensor konfigurieren information abstand werkstück erfassen undein steuerung konfigurieren hand steuern wobeidi klauenteil greifbereiche form greifen werkstück aufweisen steuerung umfassendein erfassungseinheit konfigurieren dreidimensional information werkstück basierend ausgabe dreidimensional sensor erfassen auswahleinheit konfigurieren entnehmend zielwerkstück basierend, robotersystem verfahren automatisiert durchführen serologisch test erfindung betreffen verfahren robotersystem mobil basis roboterarm distaler wechseladapter automatisch werkzeugwechsel anbringen betreffen verfahren steuerung programmieren bewegungsablauf roboterarm ausgestalten erfindung betreffen verfahren automatisiert durchführen serologisch test verwendung beschrieben robotersystem]  \n",
       "1                                                                                                                                                                             [verfahren kalibrierung bauroboters bauroboter erfindung betreffen bauroboter ausführung bauarbeit baustellenobjekt umfassen mobil plattform relativ mobil plattform beweglich manipulator mobil plattform angeordnet ausgebildet optisch sensorik steuereinheit einrichten verwendung optisch sensorik position lage manipulator angeordnet werkzeug relativ mobil plattform bestimmen betreffen erfindung verfahren kalibrierung bauroboter erfindung kostengünstig präzise arbeitend bauroboter verfügung stellen, verfahren recheneinheit computerprogramm bestimmen bewegungspfades mobiles gerät verwendung semantischer informationen erfindung betreffen verfahren bestimmen bewegungspfad mobil gerät drohne teilautomatisiern bewegend fahrzeug umgebung bewegen umfassend bereitstellen ziel mobil gerät bewegen bestimmen mehrere zwischenziel semantisch umgebungskarte basierend aktuell position orientierung mobil gerät umgebung basierend ziel bestimmen bewegungspfad basierend mehrere zwischenziel ziel, verfahren recheneinheit computerprogramm bestimmen bewegungspfad mobil gerät verwendung semantisch information erfindung betreffen verfahren bestimmen bewegungspfad mobil gerät drohne teilautomatisiern bewegend fahrzeug umgebung bewegen umfassend bereitstellen ziel mobil gerät bewegen bestimmen mehrere zwischenziel semantisch umgebungskarte basierend aktuell position orientierung mobil gerät umgebung basierend ziel bestimmen bewegungspfad basierend mehrere zwischenziel ziel]  "
      ],
      "text/html": [
       "<div>\n",
       "<style scoped>\n",
       "    .dataframe tbody tr th:only-of-type {\n",
       "        vertical-align: middle;\n",
       "    }\n",
       "\n",
       "    .dataframe tbody tr th {\n",
       "        vertical-align: top;\n",
       "    }\n",
       "\n",
       "    .dataframe thead th {\n",
       "        text-align: right;\n",
       "    }\n",
       "</style>\n",
       "<table border=\"1\" class=\"dataframe\">\n",
       "  <thead>\n",
       "    <tr style=\"text-align: right;\">\n",
       "      <th></th>\n",
       "      <th>Topic</th>\n",
       "      <th>Count</th>\n",
       "      <th>Name</th>\n",
       "      <th>Representation</th>\n",
       "      <th>Representative_Docs</th>\n",
       "    </tr>\n",
       "  </thead>\n",
       "  <tbody>\n",
       "    <tr>\n",
       "      <th>0</th>\n",
       "      <td>-1</td>\n",
       "      <td>1058</td>\n",
       "      <td>-1_verfahren_umfassen_erfindung_aufweisen</td>\n",
       "      <td>[verfahren, umfassen, erfindung, aufweisen, roboterarm, betreffen, vorrichtung, mehrere, werkstück, position]</td>\n",
       "      <td>[verfahren handhaben objekt roboterarm vorrichtung umfassend roboterarm handhaben objekt erfindung betreffen verfahren handhaben objekt roboterarm umfassend folgend schritt erfassen objekt messe messwert objekteigenschaft objekt sensor beißen ermitteln handhabungseigenschaft abfrage messwert datenbank inferenz statistisch modell eingabe messwert erstellen steuerungsdatensatz roboterarm berücksichtigung handhabungseigenschaft undd handhaben objekt roboterarm steuerungsdatensatz betreffen erfindung vorrichtung handhaben objekt umfassend roboterarm sensor computersystem, robotersystem steuerungsverfahre robotersystem entnahme lose geladen werkstücke robotersystem entnehmen lose innere behälter geladen werkstück robotersystem umfassen hand mehrzahl klauenteil umfassen konfigurieren werkstück verwendung klauenteil greifen konfigurieren hand bewegen dreidimensional sensor konfigurieren information abstand werkstück erfassen undein steuerung konfigurieren hand steuern wobeidi klauenteil greifbereiche form greifen werkstück aufweisen steuerung umfassendein erfassungseinheit konfigurieren dreidimensional information werkstück basierend ausgabe dreidimensional sensor erfassen auswahleinheit konfigurieren entnehmend zielwerkstück basierend, robotersystem verfahren automatisiert durchführen serologisch test erfindung betreffen verfahren robotersystem mobil basis roboterarm distaler wechseladapter automatisch werkzeugwechsel anbringen betreffen verfahren steuerung programmieren bewegungsablauf roboterarm ausgestalten erfindung betreffen verfahren automatisiert durchführen serologisch test verwendung beschrieben robotersystem]</td>\n",
       "    </tr>\n",
       "    <tr>\n",
       "      <th>1</th>\n",
       "      <td>0</td>\n",
       "      <td>976</td>\n",
       "      <td>0_verfahren_umfassen_aufweisen_erfindung</td>\n",
       "      <td>[verfahren, umfassen, aufweisen, erfindung, position, betreffen, roboterarm, mehrere, robotersystem, anordnen]</td>\n",
       "      <td>[verfahren kalibrierung bauroboters bauroboter erfindung betreffen bauroboter ausführung bauarbeit baustellenobjekt umfassen mobil plattform relativ mobil plattform beweglich manipulator mobil plattform angeordnet ausgebildet optisch sensorik steuereinheit einrichten verwendung optisch sensorik position lage manipulator angeordnet werkzeug relativ mobil plattform bestimmen betreffen erfindung verfahren kalibrierung bauroboter erfindung kostengünstig präzise arbeitend bauroboter verfügung stellen, verfahren recheneinheit computerprogramm bestimmen bewegungspfades mobiles gerät verwendung semantischer informationen erfindung betreffen verfahren bestimmen bewegungspfad mobil gerät drohne teilautomatisiern bewegend fahrzeug umgebung bewegen umfassend bereitstellen ziel mobil gerät bewegen bestimmen mehrere zwischenziel semantisch umgebungskarte basierend aktuell position orientierung mobil gerät umgebung basierend ziel bestimmen bewegungspfad basierend mehrere zwischenziel ziel, verfahren recheneinheit computerprogramm bestimmen bewegungspfad mobil gerät verwendung semantisch information erfindung betreffen verfahren bestimmen bewegungspfad mobil gerät drohne teilautomatisiern bewegend fahrzeug umgebung bewegen umfassend bereitstellen ziel mobil gerät bewegen bestimmen mehrere zwischenziel semantisch umgebungskarte basierend aktuell position orientierung mobil gerät umgebung basierend ziel bestimmen bewegungspfad basierend mehrere zwischenziel ziel]</td>\n",
       "    </tr>\n",
       "  </tbody>\n",
       "</table>\n",
       "</div>"
      ]
     },
     "execution_count": 50,
     "metadata": {},
     "output_type": "execute_result"
    }
   ],
   "execution_count": 50
  },
  {
   "cell_type": "code",
   "metadata": {
    "ExecuteTime": {
     "end_time": "2024-05-18T14:39:17.494018Z",
     "start_time": "2024-05-18T14:39:17.478514Z"
    }
   },
   "source": [
    "topic_model.get_topic(5)"
   ],
   "outputs": [
    {
     "data": {
      "text/plain": [
       "[('schweißbrenner', 0.24790546610451353),\n",
       " ('wechselkupplung', 0.12210255087886956),\n",
       " ('schweißbahn', 0.09150937813873432),\n",
       " ('schweißprozess', 0.09150937813873432),\n",
       " ('schweißparameter', 0.08356859215268862),\n",
       " ('schweißvorrichtung', 0.08332089288657979),\n",
       " ('drahtelektrode', 0.07548580577600718),\n",
       " ('schweißwerkzeug', 0.07428319302461212),\n",
       " ('festlegung', 0.07320750251098745),\n",
       " ('fügelinie', 0.06724315606707473)]"
      ]
     },
     "execution_count": 51,
     "metadata": {},
     "output_type": "execute_result"
    }
   ],
   "execution_count": 51
  },
  {
   "cell_type": "code",
   "metadata": {
    "ExecuteTime": {
     "end_time": "2024-05-18T14:39:17.909013Z",
     "start_time": "2024-05-18T14:39:17.494018Z"
    }
   },
   "source": [
    "fig = topic_model.visualize_topics(); fig"
   ],
   "outputs": [
    {
     "data": {
      "application/vnd.plotly.v1+json": {
       "data": [
        {
         "customdata": [
          [
           0,
           "verfahren | umfassen | aufweisen | erfindung | position",
           976
          ],
          [
           1,
           "objekt | neuronal | bild | netz | verfahren",
           75
          ],
          [
           2,
           "scheibe | lenkelement | räumlich | gelenkmechanik | instrument",
           47
          ],
          [
           3,
           "küchenmaschine | küchengerät | hochfrequenz | topf | speise",
           39
          ],
          [
           4,
           "laser | projektor | projektion | führungsroboter | laserstrahl",
           18
          ],
          [
           5,
           "schweißbrenner | wechselkupplung | schweißbahn | schweißprozess | schweißparameter",
           16
          ],
          [
           6,
           "ringelement | wellgetriebe | innenring | wälzkörper | außenverzahnung",
           14
          ]
         ],
         "hovertemplate": "<b>Topic %{customdata[0]}</b><br>%{customdata[1]}<br>Size: %{customdata[2]}",
         "legendgroup": "",
         "marker": {
          "color": "#B0BEC5",
          "size": [
           976,
           75,
           47,
           39,
           18,
           16,
           14
          ],
          "sizemode": "area",
          "sizeref": 0.61,
          "symbol": "circle",
          "line": {
           "color": "DarkSlateGrey",
           "width": 2
          }
         },
         "mode": "markers",
         "name": "",
         "orientation": "v",
         "showlegend": false,
         "x": [
          14.716054916381836,
          14.495473861694336,
          16.093843460083008,
          14.929119110107422,
          14.565295219421387,
          15.359203338623047,
          16.280719757080078
         ],
         "xaxis": "x",
         "y": [
          15.632203102111816,
          16.322847366333008,
          18.813573837280273,
          17.48073959350586,
          20.392051696777344,
          16.128562927246094,
          19.365976333618164
         ],
         "yaxis": "y",
         "type": "scatter"
        }
       ],
       "layout": {
        "template": {
         "data": {
          "barpolar": [
           {
            "marker": {
             "line": {
              "color": "white",
              "width": 0.5
             },
             "pattern": {
              "fillmode": "overlay",
              "size": 10,
              "solidity": 0.2
             }
            },
            "type": "barpolar"
           }
          ],
          "bar": [
           {
            "error_x": {
             "color": "rgb(36,36,36)"
            },
            "error_y": {
             "color": "rgb(36,36,36)"
            },
            "marker": {
             "line": {
              "color": "white",
              "width": 0.5
             },
             "pattern": {
              "fillmode": "overlay",
              "size": 10,
              "solidity": 0.2
             }
            },
            "type": "bar"
           }
          ],
          "carpet": [
           {
            "aaxis": {
             "endlinecolor": "rgb(36,36,36)",
             "gridcolor": "white",
             "linecolor": "white",
             "minorgridcolor": "white",
             "startlinecolor": "rgb(36,36,36)"
            },
            "baxis": {
             "endlinecolor": "rgb(36,36,36)",
             "gridcolor": "white",
             "linecolor": "white",
             "minorgridcolor": "white",
             "startlinecolor": "rgb(36,36,36)"
            },
            "type": "carpet"
           }
          ],
          "choropleth": [
           {
            "colorbar": {
             "outlinewidth": 1,
             "tickcolor": "rgb(36,36,36)",
             "ticks": "outside"
            },
            "type": "choropleth"
           }
          ],
          "contourcarpet": [
           {
            "colorbar": {
             "outlinewidth": 1,
             "tickcolor": "rgb(36,36,36)",
             "ticks": "outside"
            },
            "type": "contourcarpet"
           }
          ],
          "contour": [
           {
            "colorbar": {
             "outlinewidth": 1,
             "tickcolor": "rgb(36,36,36)",
             "ticks": "outside"
            },
            "colorscale": [
             [
              0.0,
              "#440154"
             ],
             [
              0.1111111111111111,
              "#482878"
             ],
             [
              0.2222222222222222,
              "#3e4989"
             ],
             [
              0.3333333333333333,
              "#31688e"
             ],
             [
              0.4444444444444444,
              "#26828e"
             ],
             [
              0.5555555555555556,
              "#1f9e89"
             ],
             [
              0.6666666666666666,
              "#35b779"
             ],
             [
              0.7777777777777778,
              "#6ece58"
             ],
             [
              0.8888888888888888,
              "#b5de2b"
             ],
             [
              1.0,
              "#fde725"
             ]
            ],
            "type": "contour"
           }
          ],
          "heatmapgl": [
           {
            "colorbar": {
             "outlinewidth": 1,
             "tickcolor": "rgb(36,36,36)",
             "ticks": "outside"
            },
            "colorscale": [
             [
              0.0,
              "#440154"
             ],
             [
              0.1111111111111111,
              "#482878"
             ],
             [
              0.2222222222222222,
              "#3e4989"
             ],
             [
              0.3333333333333333,
              "#31688e"
             ],
             [
              0.4444444444444444,
              "#26828e"
             ],
             [
              0.5555555555555556,
              "#1f9e89"
             ],
             [
              0.6666666666666666,
              "#35b779"
             ],
             [
              0.7777777777777778,
              "#6ece58"
             ],
             [
              0.8888888888888888,
              "#b5de2b"
             ],
             [
              1.0,
              "#fde725"
             ]
            ],
            "type": "heatmapgl"
           }
          ],
          "heatmap": [
           {
            "colorbar": {
             "outlinewidth": 1,
             "tickcolor": "rgb(36,36,36)",
             "ticks": "outside"
            },
            "colorscale": [
             [
              0.0,
              "#440154"
             ],
             [
              0.1111111111111111,
              "#482878"
             ],
             [
              0.2222222222222222,
              "#3e4989"
             ],
             [
              0.3333333333333333,
              "#31688e"
             ],
             [
              0.4444444444444444,
              "#26828e"
             ],
             [
              0.5555555555555556,
              "#1f9e89"
             ],
             [
              0.6666666666666666,
              "#35b779"
             ],
             [
              0.7777777777777778,
              "#6ece58"
             ],
             [
              0.8888888888888888,
              "#b5de2b"
             ],
             [
              1.0,
              "#fde725"
             ]
            ],
            "type": "heatmap"
           }
          ],
          "histogram2dcontour": [
           {
            "colorbar": {
             "outlinewidth": 1,
             "tickcolor": "rgb(36,36,36)",
             "ticks": "outside"
            },
            "colorscale": [
             [
              0.0,
              "#440154"
             ],
             [
              0.1111111111111111,
              "#482878"
             ],
             [
              0.2222222222222222,
              "#3e4989"
             ],
             [
              0.3333333333333333,
              "#31688e"
             ],
             [
              0.4444444444444444,
              "#26828e"
             ],
             [
              0.5555555555555556,
              "#1f9e89"
             ],
             [
              0.6666666666666666,
              "#35b779"
             ],
             [
              0.7777777777777778,
              "#6ece58"
             ],
             [
              0.8888888888888888,
              "#b5de2b"
             ],
             [
              1.0,
              "#fde725"
             ]
            ],
            "type": "histogram2dcontour"
           }
          ],
          "histogram2d": [
           {
            "colorbar": {
             "outlinewidth": 1,
             "tickcolor": "rgb(36,36,36)",
             "ticks": "outside"
            },
            "colorscale": [
             [
              0.0,
              "#440154"
             ],
             [
              0.1111111111111111,
              "#482878"
             ],
             [
              0.2222222222222222,
              "#3e4989"
             ],
             [
              0.3333333333333333,
              "#31688e"
             ],
             [
              0.4444444444444444,
              "#26828e"
             ],
             [
              0.5555555555555556,
              "#1f9e89"
             ],
             [
              0.6666666666666666,
              "#35b779"
             ],
             [
              0.7777777777777778,
              "#6ece58"
             ],
             [
              0.8888888888888888,
              "#b5de2b"
             ],
             [
              1.0,
              "#fde725"
             ]
            ],
            "type": "histogram2d"
           }
          ],
          "histogram": [
           {
            "marker": {
             "line": {
              "color": "white",
              "width": 0.6
             }
            },
            "type": "histogram"
           }
          ],
          "mesh3d": [
           {
            "colorbar": {
             "outlinewidth": 1,
             "tickcolor": "rgb(36,36,36)",
             "ticks": "outside"
            },
            "type": "mesh3d"
           }
          ],
          "parcoords": [
           {
            "line": {
             "colorbar": {
              "outlinewidth": 1,
              "tickcolor": "rgb(36,36,36)",
              "ticks": "outside"
             }
            },
            "type": "parcoords"
           }
          ],
          "pie": [
           {
            "automargin": true,
            "type": "pie"
           }
          ],
          "scatter3d": [
           {
            "line": {
             "colorbar": {
              "outlinewidth": 1,
              "tickcolor": "rgb(36,36,36)",
              "ticks": "outside"
             }
            },
            "marker": {
             "colorbar": {
              "outlinewidth": 1,
              "tickcolor": "rgb(36,36,36)",
              "ticks": "outside"
             }
            },
            "type": "scatter3d"
           }
          ],
          "scattercarpet": [
           {
            "marker": {
             "colorbar": {
              "outlinewidth": 1,
              "tickcolor": "rgb(36,36,36)",
              "ticks": "outside"
             }
            },
            "type": "scattercarpet"
           }
          ],
          "scattergeo": [
           {
            "marker": {
             "colorbar": {
              "outlinewidth": 1,
              "tickcolor": "rgb(36,36,36)",
              "ticks": "outside"
             }
            },
            "type": "scattergeo"
           }
          ],
          "scattergl": [
           {
            "marker": {
             "colorbar": {
              "outlinewidth": 1,
              "tickcolor": "rgb(36,36,36)",
              "ticks": "outside"
             }
            },
            "type": "scattergl"
           }
          ],
          "scattermapbox": [
           {
            "marker": {
             "colorbar": {
              "outlinewidth": 1,
              "tickcolor": "rgb(36,36,36)",
              "ticks": "outside"
             }
            },
            "type": "scattermapbox"
           }
          ],
          "scatterpolargl": [
           {
            "marker": {
             "colorbar": {
              "outlinewidth": 1,
              "tickcolor": "rgb(36,36,36)",
              "ticks": "outside"
             }
            },
            "type": "scatterpolargl"
           }
          ],
          "scatterpolar": [
           {
            "marker": {
             "colorbar": {
              "outlinewidth": 1,
              "tickcolor": "rgb(36,36,36)",
              "ticks": "outside"
             }
            },
            "type": "scatterpolar"
           }
          ],
          "scatter": [
           {
            "fillpattern": {
             "fillmode": "overlay",
             "size": 10,
             "solidity": 0.2
            },
            "type": "scatter"
           }
          ],
          "scatterternary": [
           {
            "marker": {
             "colorbar": {
              "outlinewidth": 1,
              "tickcolor": "rgb(36,36,36)",
              "ticks": "outside"
             }
            },
            "type": "scatterternary"
           }
          ],
          "surface": [
           {
            "colorbar": {
             "outlinewidth": 1,
             "tickcolor": "rgb(36,36,36)",
             "ticks": "outside"
            },
            "colorscale": [
             [
              0.0,
              "#440154"
             ],
             [
              0.1111111111111111,
              "#482878"
             ],
             [
              0.2222222222222222,
              "#3e4989"
             ],
             [
              0.3333333333333333,
              "#31688e"
             ],
             [
              0.4444444444444444,
              "#26828e"
             ],
             [
              0.5555555555555556,
              "#1f9e89"
             ],
             [
              0.6666666666666666,
              "#35b779"
             ],
             [
              0.7777777777777778,
              "#6ece58"
             ],
             [
              0.8888888888888888,
              "#b5de2b"
             ],
             [
              1.0,
              "#fde725"
             ]
            ],
            "type": "surface"
           }
          ],
          "table": [
           {
            "cells": {
             "fill": {
              "color": "rgb(237,237,237)"
             },
             "line": {
              "color": "white"
             }
            },
            "header": {
             "fill": {
              "color": "rgb(217,217,217)"
             },
             "line": {
              "color": "white"
             }
            },
            "type": "table"
           }
          ]
         },
         "layout": {
          "annotationdefaults": {
           "arrowhead": 0,
           "arrowwidth": 1
          },
          "autotypenumbers": "strict",
          "coloraxis": {
           "colorbar": {
            "outlinewidth": 1,
            "tickcolor": "rgb(36,36,36)",
            "ticks": "outside"
           }
          },
          "colorscale": {
           "diverging": [
            [
             0.0,
             "rgb(103,0,31)"
            ],
            [
             0.1,
             "rgb(178,24,43)"
            ],
            [
             0.2,
             "rgb(214,96,77)"
            ],
            [
             0.3,
             "rgb(244,165,130)"
            ],
            [
             0.4,
             "rgb(253,219,199)"
            ],
            [
             0.5,
             "rgb(247,247,247)"
            ],
            [
             0.6,
             "rgb(209,229,240)"
            ],
            [
             0.7,
             "rgb(146,197,222)"
            ],
            [
             0.8,
             "rgb(67,147,195)"
            ],
            [
             0.9,
             "rgb(33,102,172)"
            ],
            [
             1.0,
             "rgb(5,48,97)"
            ]
           ],
           "sequential": [
            [
             0.0,
             "#440154"
            ],
            [
             0.1111111111111111,
             "#482878"
            ],
            [
             0.2222222222222222,
             "#3e4989"
            ],
            [
             0.3333333333333333,
             "#31688e"
            ],
            [
             0.4444444444444444,
             "#26828e"
            ],
            [
             0.5555555555555556,
             "#1f9e89"
            ],
            [
             0.6666666666666666,
             "#35b779"
            ],
            [
             0.7777777777777778,
             "#6ece58"
            ],
            [
             0.8888888888888888,
             "#b5de2b"
            ],
            [
             1.0,
             "#fde725"
            ]
           ],
           "sequentialminus": [
            [
             0.0,
             "#440154"
            ],
            [
             0.1111111111111111,
             "#482878"
            ],
            [
             0.2222222222222222,
             "#3e4989"
            ],
            [
             0.3333333333333333,
             "#31688e"
            ],
            [
             0.4444444444444444,
             "#26828e"
            ],
            [
             0.5555555555555556,
             "#1f9e89"
            ],
            [
             0.6666666666666666,
             "#35b779"
            ],
            [
             0.7777777777777778,
             "#6ece58"
            ],
            [
             0.8888888888888888,
             "#b5de2b"
            ],
            [
             1.0,
             "#fde725"
            ]
           ]
          },
          "colorway": [
           "#1F77B4",
           "#FF7F0E",
           "#2CA02C",
           "#D62728",
           "#9467BD",
           "#8C564B",
           "#E377C2",
           "#7F7F7F",
           "#BCBD22",
           "#17BECF"
          ],
          "font": {
           "color": "rgb(36,36,36)"
          },
          "geo": {
           "bgcolor": "white",
           "lakecolor": "white",
           "landcolor": "white",
           "showlakes": true,
           "showland": true,
           "subunitcolor": "white"
          },
          "hoverlabel": {
           "align": "left"
          },
          "hovermode": "closest",
          "mapbox": {
           "style": "light"
          },
          "paper_bgcolor": "white",
          "plot_bgcolor": "white",
          "polar": {
           "angularaxis": {
            "gridcolor": "rgb(232,232,232)",
            "linecolor": "rgb(36,36,36)",
            "showgrid": false,
            "showline": true,
            "ticks": "outside"
           },
           "bgcolor": "white",
           "radialaxis": {
            "gridcolor": "rgb(232,232,232)",
            "linecolor": "rgb(36,36,36)",
            "showgrid": false,
            "showline": true,
            "ticks": "outside"
           }
          },
          "scene": {
           "xaxis": {
            "backgroundcolor": "white",
            "gridcolor": "rgb(232,232,232)",
            "gridwidth": 2,
            "linecolor": "rgb(36,36,36)",
            "showbackground": true,
            "showgrid": false,
            "showline": true,
            "ticks": "outside",
            "zeroline": false,
            "zerolinecolor": "rgb(36,36,36)"
           },
           "yaxis": {
            "backgroundcolor": "white",
            "gridcolor": "rgb(232,232,232)",
            "gridwidth": 2,
            "linecolor": "rgb(36,36,36)",
            "showbackground": true,
            "showgrid": false,
            "showline": true,
            "ticks": "outside",
            "zeroline": false,
            "zerolinecolor": "rgb(36,36,36)"
           },
           "zaxis": {
            "backgroundcolor": "white",
            "gridcolor": "rgb(232,232,232)",
            "gridwidth": 2,
            "linecolor": "rgb(36,36,36)",
            "showbackground": true,
            "showgrid": false,
            "showline": true,
            "ticks": "outside",
            "zeroline": false,
            "zerolinecolor": "rgb(36,36,36)"
           }
          },
          "shapedefaults": {
           "fillcolor": "black",
           "line": {
            "width": 0
           },
           "opacity": 0.3
          },
          "ternary": {
           "aaxis": {
            "gridcolor": "rgb(232,232,232)",
            "linecolor": "rgb(36,36,36)",
            "showgrid": false,
            "showline": true,
            "ticks": "outside"
           },
           "baxis": {
            "gridcolor": "rgb(232,232,232)",
            "linecolor": "rgb(36,36,36)",
            "showgrid": false,
            "showline": true,
            "ticks": "outside"
           },
           "bgcolor": "white",
           "caxis": {
            "gridcolor": "rgb(232,232,232)",
            "linecolor": "rgb(36,36,36)",
            "showgrid": false,
            "showline": true,
            "ticks": "outside"
           }
          },
          "title": {
           "x": 0.05
          },
          "xaxis": {
           "automargin": true,
           "gridcolor": "rgb(232,232,232)",
           "linecolor": "rgb(36,36,36)",
           "showgrid": false,
           "showline": true,
           "ticks": "outside",
           "title": {
            "standoff": 15
           },
           "zeroline": false,
           "zerolinecolor": "rgb(36,36,36)"
          },
          "yaxis": {
           "automargin": true,
           "gridcolor": "rgb(232,232,232)",
           "linecolor": "rgb(36,36,36)",
           "showgrid": false,
           "showline": true,
           "ticks": "outside",
           "title": {
            "standoff": 15
           },
           "zeroline": false,
           "zerolinecolor": "rgb(36,36,36)"
          }
         }
        },
        "xaxis": {
         "anchor": "y",
         "domain": [
          0.0,
          1.0
         ],
         "title": {
          "text": ""
         },
         "visible": false,
         "range": [
          12.321152782440185,
          18.72282772064209
         ]
        },
        "yaxis": {
         "anchor": "x",
         "domain": [
          0.0,
          1.0
         ],
         "title": {
          "text": ""
         },
         "visible": false,
         "range": [
          13.287372636795045,
          23.450859451293944
         ]
        },
        "legend": {
         "tracegroupgap": 0,
         "itemsizing": "constant"
        },
        "margin": {
         "t": 60
        },
        "title": {
         "font": {
          "size": 22,
          "color": "Black"
         },
         "text": "<b>Intertopic Distance Map</b>",
         "y": 0.95,
         "x": 0.5,
         "xanchor": "center",
         "yanchor": "top"
        },
        "hoverlabel": {
         "font": {
          "size": 16,
          "family": "Rockwell"
         },
         "bgcolor": "white"
        },
        "width": 650,
        "height": 650,
        "sliders": [
         {
          "active": 0,
          "pad": {
           "t": 50
          },
          "steps": [
           {
            "args": [
             {
              "marker.color": [
               [
                "red",
                "#B0BEC5",
                "#B0BEC5",
                "#B0BEC5",
                "#B0BEC5",
                "#B0BEC5",
                "#B0BEC5"
               ]
              ]
             }
            ],
            "label": "Topic 0",
            "method": "update"
           },
           {
            "args": [
             {
              "marker.color": [
               [
                "#B0BEC5",
                "red",
                "#B0BEC5",
                "#B0BEC5",
                "#B0BEC5",
                "#B0BEC5",
                "#B0BEC5"
               ]
              ]
             }
            ],
            "label": "Topic 1",
            "method": "update"
           },
           {
            "args": [
             {
              "marker.color": [
               [
                "#B0BEC5",
                "#B0BEC5",
                "red",
                "#B0BEC5",
                "#B0BEC5",
                "#B0BEC5",
                "#B0BEC5"
               ]
              ]
             }
            ],
            "label": "Topic 2",
            "method": "update"
           },
           {
            "args": [
             {
              "marker.color": [
               [
                "#B0BEC5",
                "#B0BEC5",
                "#B0BEC5",
                "red",
                "#B0BEC5",
                "#B0BEC5",
                "#B0BEC5"
               ]
              ]
             }
            ],
            "label": "Topic 3",
            "method": "update"
           },
           {
            "args": [
             {
              "marker.color": [
               [
                "#B0BEC5",
                "#B0BEC5",
                "#B0BEC5",
                "#B0BEC5",
                "red",
                "#B0BEC5",
                "#B0BEC5"
               ]
              ]
             }
            ],
            "label": "Topic 4",
            "method": "update"
           },
           {
            "args": [
             {
              "marker.color": [
               [
                "#B0BEC5",
                "#B0BEC5",
                "#B0BEC5",
                "#B0BEC5",
                "#B0BEC5",
                "red",
                "#B0BEC5"
               ]
              ]
             }
            ],
            "label": "Topic 5",
            "method": "update"
           },
           {
            "args": [
             {
              "marker.color": [
               [
                "#B0BEC5",
                "#B0BEC5",
                "#B0BEC5",
                "#B0BEC5",
                "#B0BEC5",
                "#B0BEC5",
                "red"
               ]
              ]
             }
            ],
            "label": "Topic 6",
            "method": "update"
           }
          ]
         }
        ],
        "shapes": [
         {
          "line": {
           "color": "#CFD8DC",
           "width": 2
          },
          "type": "line",
          "x0": 15.521990251541137,
          "x1": 15.521990251541137,
          "y0": 13.287372636795045,
          "y1": 23.450859451293944
         },
         {
          "line": {
           "color": "#9E9E9E",
           "width": 2
          },
          "type": "line",
          "x0": 12.321152782440185,
          "x1": 18.72282772064209,
          "y0": 18.369116044044496,
          "y1": 18.369116044044496
         }
        ],
        "annotations": [
         {
          "showarrow": false,
          "text": "D1",
          "x": 12.321152782440185,
          "y": 18.369116044044496,
          "yshift": 10
         },
         {
          "showarrow": false,
          "text": "D2",
          "x": 15.521990251541137,
          "xshift": 10,
          "y": 23.450859451293944
         }
        ]
       },
       "config": {
        "plotlyServerURL": "https://plot.ly"
       }
      },
      "text/html": [
       "<div>                            <div id=\"9578b37d-af0e-441d-b338-d1f74c7c5202\" class=\"plotly-graph-div\" style=\"height:650px; width:650px;\"></div>            <script type=\"text/javascript\">                require([\"plotly\"], function(Plotly) {                    window.PLOTLYENV=window.PLOTLYENV || {};                                    if (document.getElementById(\"9578b37d-af0e-441d-b338-d1f74c7c5202\")) {                    Plotly.newPlot(                        \"9578b37d-af0e-441d-b338-d1f74c7c5202\",                        [{\"customdata\":[[0,\"verfahren | umfassen | aufweisen | erfindung | position\",976],[1,\"objekt | neuronal | bild | netz | verfahren\",75],[2,\"scheibe | lenkelement | r\\u00e4umlich | gelenkmechanik | instrument\",47],[3,\"k\\u00fcchenmaschine | k\\u00fcchenger\\u00e4t | hochfrequenz | topf | speise\",39],[4,\"laser | projektor | projektion | f\\u00fchrungsroboter | laserstrahl\",18],[5,\"schwei\\u00dfbrenner | wechselkupplung | schwei\\u00dfbahn | schwei\\u00dfprozess | schwei\\u00dfparameter\",16],[6,\"ringelement | wellgetriebe | innenring | w\\u00e4lzk\\u00f6rper | au\\u00dfenverzahnung\",14]],\"hovertemplate\":\"\\u003cb\\u003eTopic %{customdata[0]}\\u003c\\u002fb\\u003e\\u003cbr\\u003e%{customdata[1]}\\u003cbr\\u003eSize: %{customdata[2]}\",\"legendgroup\":\"\",\"marker\":{\"color\":\"#B0BEC5\",\"size\":[976,75,47,39,18,16,14],\"sizemode\":\"area\",\"sizeref\":0.61,\"symbol\":\"circle\",\"line\":{\"color\":\"DarkSlateGrey\",\"width\":2}},\"mode\":\"markers\",\"name\":\"\",\"orientation\":\"v\",\"showlegend\":false,\"x\":[14.716054916381836,14.495473861694336,16.093843460083008,14.929119110107422,14.565295219421387,15.359203338623047,16.280719757080078],\"xaxis\":\"x\",\"y\":[15.632203102111816,16.322847366333008,18.813573837280273,17.48073959350586,20.392051696777344,16.128562927246094,19.365976333618164],\"yaxis\":\"y\",\"type\":\"scatter\"}],                        {\"template\":{\"data\":{\"barpolar\":[{\"marker\":{\"line\":{\"color\":\"white\",\"width\":0.5},\"pattern\":{\"fillmode\":\"overlay\",\"size\":10,\"solidity\":0.2}},\"type\":\"barpolar\"}],\"bar\":[{\"error_x\":{\"color\":\"rgb(36,36,36)\"},\"error_y\":{\"color\":\"rgb(36,36,36)\"},\"marker\":{\"line\":{\"color\":\"white\",\"width\":0.5},\"pattern\":{\"fillmode\":\"overlay\",\"size\":10,\"solidity\":0.2}},\"type\":\"bar\"}],\"carpet\":[{\"aaxis\":{\"endlinecolor\":\"rgb(36,36,36)\",\"gridcolor\":\"white\",\"linecolor\":\"white\",\"minorgridcolor\":\"white\",\"startlinecolor\":\"rgb(36,36,36)\"},\"baxis\":{\"endlinecolor\":\"rgb(36,36,36)\",\"gridcolor\":\"white\",\"linecolor\":\"white\",\"minorgridcolor\":\"white\",\"startlinecolor\":\"rgb(36,36,36)\"},\"type\":\"carpet\"}],\"choropleth\":[{\"colorbar\":{\"outlinewidth\":1,\"tickcolor\":\"rgb(36,36,36)\",\"ticks\":\"outside\"},\"type\":\"choropleth\"}],\"contourcarpet\":[{\"colorbar\":{\"outlinewidth\":1,\"tickcolor\":\"rgb(36,36,36)\",\"ticks\":\"outside\"},\"type\":\"contourcarpet\"}],\"contour\":[{\"colorbar\":{\"outlinewidth\":1,\"tickcolor\":\"rgb(36,36,36)\",\"ticks\":\"outside\"},\"colorscale\":[[0.0,\"#440154\"],[0.1111111111111111,\"#482878\"],[0.2222222222222222,\"#3e4989\"],[0.3333333333333333,\"#31688e\"],[0.4444444444444444,\"#26828e\"],[0.5555555555555556,\"#1f9e89\"],[0.6666666666666666,\"#35b779\"],[0.7777777777777778,\"#6ece58\"],[0.8888888888888888,\"#b5de2b\"],[1.0,\"#fde725\"]],\"type\":\"contour\"}],\"heatmapgl\":[{\"colorbar\":{\"outlinewidth\":1,\"tickcolor\":\"rgb(36,36,36)\",\"ticks\":\"outside\"},\"colorscale\":[[0.0,\"#440154\"],[0.1111111111111111,\"#482878\"],[0.2222222222222222,\"#3e4989\"],[0.3333333333333333,\"#31688e\"],[0.4444444444444444,\"#26828e\"],[0.5555555555555556,\"#1f9e89\"],[0.6666666666666666,\"#35b779\"],[0.7777777777777778,\"#6ece58\"],[0.8888888888888888,\"#b5de2b\"],[1.0,\"#fde725\"]],\"type\":\"heatmapgl\"}],\"heatmap\":[{\"colorbar\":{\"outlinewidth\":1,\"tickcolor\":\"rgb(36,36,36)\",\"ticks\":\"outside\"},\"colorscale\":[[0.0,\"#440154\"],[0.1111111111111111,\"#482878\"],[0.2222222222222222,\"#3e4989\"],[0.3333333333333333,\"#31688e\"],[0.4444444444444444,\"#26828e\"],[0.5555555555555556,\"#1f9e89\"],[0.6666666666666666,\"#35b779\"],[0.7777777777777778,\"#6ece58\"],[0.8888888888888888,\"#b5de2b\"],[1.0,\"#fde725\"]],\"type\":\"heatmap\"}],\"histogram2dcontour\":[{\"colorbar\":{\"outlinewidth\":1,\"tickcolor\":\"rgb(36,36,36)\",\"ticks\":\"outside\"},\"colorscale\":[[0.0,\"#440154\"],[0.1111111111111111,\"#482878\"],[0.2222222222222222,\"#3e4989\"],[0.3333333333333333,\"#31688e\"],[0.4444444444444444,\"#26828e\"],[0.5555555555555556,\"#1f9e89\"],[0.6666666666666666,\"#35b779\"],[0.7777777777777778,\"#6ece58\"],[0.8888888888888888,\"#b5de2b\"],[1.0,\"#fde725\"]],\"type\":\"histogram2dcontour\"}],\"histogram2d\":[{\"colorbar\":{\"outlinewidth\":1,\"tickcolor\":\"rgb(36,36,36)\",\"ticks\":\"outside\"},\"colorscale\":[[0.0,\"#440154\"],[0.1111111111111111,\"#482878\"],[0.2222222222222222,\"#3e4989\"],[0.3333333333333333,\"#31688e\"],[0.4444444444444444,\"#26828e\"],[0.5555555555555556,\"#1f9e89\"],[0.6666666666666666,\"#35b779\"],[0.7777777777777778,\"#6ece58\"],[0.8888888888888888,\"#b5de2b\"],[1.0,\"#fde725\"]],\"type\":\"histogram2d\"}],\"histogram\":[{\"marker\":{\"line\":{\"color\":\"white\",\"width\":0.6}},\"type\":\"histogram\"}],\"mesh3d\":[{\"colorbar\":{\"outlinewidth\":1,\"tickcolor\":\"rgb(36,36,36)\",\"ticks\":\"outside\"},\"type\":\"mesh3d\"}],\"parcoords\":[{\"line\":{\"colorbar\":{\"outlinewidth\":1,\"tickcolor\":\"rgb(36,36,36)\",\"ticks\":\"outside\"}},\"type\":\"parcoords\"}],\"pie\":[{\"automargin\":true,\"type\":\"pie\"}],\"scatter3d\":[{\"line\":{\"colorbar\":{\"outlinewidth\":1,\"tickcolor\":\"rgb(36,36,36)\",\"ticks\":\"outside\"}},\"marker\":{\"colorbar\":{\"outlinewidth\":1,\"tickcolor\":\"rgb(36,36,36)\",\"ticks\":\"outside\"}},\"type\":\"scatter3d\"}],\"scattercarpet\":[{\"marker\":{\"colorbar\":{\"outlinewidth\":1,\"tickcolor\":\"rgb(36,36,36)\",\"ticks\":\"outside\"}},\"type\":\"scattercarpet\"}],\"scattergeo\":[{\"marker\":{\"colorbar\":{\"outlinewidth\":1,\"tickcolor\":\"rgb(36,36,36)\",\"ticks\":\"outside\"}},\"type\":\"scattergeo\"}],\"scattergl\":[{\"marker\":{\"colorbar\":{\"outlinewidth\":1,\"tickcolor\":\"rgb(36,36,36)\",\"ticks\":\"outside\"}},\"type\":\"scattergl\"}],\"scattermapbox\":[{\"marker\":{\"colorbar\":{\"outlinewidth\":1,\"tickcolor\":\"rgb(36,36,36)\",\"ticks\":\"outside\"}},\"type\":\"scattermapbox\"}],\"scatterpolargl\":[{\"marker\":{\"colorbar\":{\"outlinewidth\":1,\"tickcolor\":\"rgb(36,36,36)\",\"ticks\":\"outside\"}},\"type\":\"scatterpolargl\"}],\"scatterpolar\":[{\"marker\":{\"colorbar\":{\"outlinewidth\":1,\"tickcolor\":\"rgb(36,36,36)\",\"ticks\":\"outside\"}},\"type\":\"scatterpolar\"}],\"scatter\":[{\"fillpattern\":{\"fillmode\":\"overlay\",\"size\":10,\"solidity\":0.2},\"type\":\"scatter\"}],\"scatterternary\":[{\"marker\":{\"colorbar\":{\"outlinewidth\":1,\"tickcolor\":\"rgb(36,36,36)\",\"ticks\":\"outside\"}},\"type\":\"scatterternary\"}],\"surface\":[{\"colorbar\":{\"outlinewidth\":1,\"tickcolor\":\"rgb(36,36,36)\",\"ticks\":\"outside\"},\"colorscale\":[[0.0,\"#440154\"],[0.1111111111111111,\"#482878\"],[0.2222222222222222,\"#3e4989\"],[0.3333333333333333,\"#31688e\"],[0.4444444444444444,\"#26828e\"],[0.5555555555555556,\"#1f9e89\"],[0.6666666666666666,\"#35b779\"],[0.7777777777777778,\"#6ece58\"],[0.8888888888888888,\"#b5de2b\"],[1.0,\"#fde725\"]],\"type\":\"surface\"}],\"table\":[{\"cells\":{\"fill\":{\"color\":\"rgb(237,237,237)\"},\"line\":{\"color\":\"white\"}},\"header\":{\"fill\":{\"color\":\"rgb(217,217,217)\"},\"line\":{\"color\":\"white\"}},\"type\":\"table\"}]},\"layout\":{\"annotationdefaults\":{\"arrowhead\":0,\"arrowwidth\":1},\"autotypenumbers\":\"strict\",\"coloraxis\":{\"colorbar\":{\"outlinewidth\":1,\"tickcolor\":\"rgb(36,36,36)\",\"ticks\":\"outside\"}},\"colorscale\":{\"diverging\":[[0.0,\"rgb(103,0,31)\"],[0.1,\"rgb(178,24,43)\"],[0.2,\"rgb(214,96,77)\"],[0.3,\"rgb(244,165,130)\"],[0.4,\"rgb(253,219,199)\"],[0.5,\"rgb(247,247,247)\"],[0.6,\"rgb(209,229,240)\"],[0.7,\"rgb(146,197,222)\"],[0.8,\"rgb(67,147,195)\"],[0.9,\"rgb(33,102,172)\"],[1.0,\"rgb(5,48,97)\"]],\"sequential\":[[0.0,\"#440154\"],[0.1111111111111111,\"#482878\"],[0.2222222222222222,\"#3e4989\"],[0.3333333333333333,\"#31688e\"],[0.4444444444444444,\"#26828e\"],[0.5555555555555556,\"#1f9e89\"],[0.6666666666666666,\"#35b779\"],[0.7777777777777778,\"#6ece58\"],[0.8888888888888888,\"#b5de2b\"],[1.0,\"#fde725\"]],\"sequentialminus\":[[0.0,\"#440154\"],[0.1111111111111111,\"#482878\"],[0.2222222222222222,\"#3e4989\"],[0.3333333333333333,\"#31688e\"],[0.4444444444444444,\"#26828e\"],[0.5555555555555556,\"#1f9e89\"],[0.6666666666666666,\"#35b779\"],[0.7777777777777778,\"#6ece58\"],[0.8888888888888888,\"#b5de2b\"],[1.0,\"#fde725\"]]},\"colorway\":[\"#1F77B4\",\"#FF7F0E\",\"#2CA02C\",\"#D62728\",\"#9467BD\",\"#8C564B\",\"#E377C2\",\"#7F7F7F\",\"#BCBD22\",\"#17BECF\"],\"font\":{\"color\":\"rgb(36,36,36)\"},\"geo\":{\"bgcolor\":\"white\",\"lakecolor\":\"white\",\"landcolor\":\"white\",\"showlakes\":true,\"showland\":true,\"subunitcolor\":\"white\"},\"hoverlabel\":{\"align\":\"left\"},\"hovermode\":\"closest\",\"mapbox\":{\"style\":\"light\"},\"paper_bgcolor\":\"white\",\"plot_bgcolor\":\"white\",\"polar\":{\"angularaxis\":{\"gridcolor\":\"rgb(232,232,232)\",\"linecolor\":\"rgb(36,36,36)\",\"showgrid\":false,\"showline\":true,\"ticks\":\"outside\"},\"bgcolor\":\"white\",\"radialaxis\":{\"gridcolor\":\"rgb(232,232,232)\",\"linecolor\":\"rgb(36,36,36)\",\"showgrid\":false,\"showline\":true,\"ticks\":\"outside\"}},\"scene\":{\"xaxis\":{\"backgroundcolor\":\"white\",\"gridcolor\":\"rgb(232,232,232)\",\"gridwidth\":2,\"linecolor\":\"rgb(36,36,36)\",\"showbackground\":true,\"showgrid\":false,\"showline\":true,\"ticks\":\"outside\",\"zeroline\":false,\"zerolinecolor\":\"rgb(36,36,36)\"},\"yaxis\":{\"backgroundcolor\":\"white\",\"gridcolor\":\"rgb(232,232,232)\",\"gridwidth\":2,\"linecolor\":\"rgb(36,36,36)\",\"showbackground\":true,\"showgrid\":false,\"showline\":true,\"ticks\":\"outside\",\"zeroline\":false,\"zerolinecolor\":\"rgb(36,36,36)\"},\"zaxis\":{\"backgroundcolor\":\"white\",\"gridcolor\":\"rgb(232,232,232)\",\"gridwidth\":2,\"linecolor\":\"rgb(36,36,36)\",\"showbackground\":true,\"showgrid\":false,\"showline\":true,\"ticks\":\"outside\",\"zeroline\":false,\"zerolinecolor\":\"rgb(36,36,36)\"}},\"shapedefaults\":{\"fillcolor\":\"black\",\"line\":{\"width\":0},\"opacity\":0.3},\"ternary\":{\"aaxis\":{\"gridcolor\":\"rgb(232,232,232)\",\"linecolor\":\"rgb(36,36,36)\",\"showgrid\":false,\"showline\":true,\"ticks\":\"outside\"},\"baxis\":{\"gridcolor\":\"rgb(232,232,232)\",\"linecolor\":\"rgb(36,36,36)\",\"showgrid\":false,\"showline\":true,\"ticks\":\"outside\"},\"bgcolor\":\"white\",\"caxis\":{\"gridcolor\":\"rgb(232,232,232)\",\"linecolor\":\"rgb(36,36,36)\",\"showgrid\":false,\"showline\":true,\"ticks\":\"outside\"}},\"title\":{\"x\":0.05},\"xaxis\":{\"automargin\":true,\"gridcolor\":\"rgb(232,232,232)\",\"linecolor\":\"rgb(36,36,36)\",\"showgrid\":false,\"showline\":true,\"ticks\":\"outside\",\"title\":{\"standoff\":15},\"zeroline\":false,\"zerolinecolor\":\"rgb(36,36,36)\"},\"yaxis\":{\"automargin\":true,\"gridcolor\":\"rgb(232,232,232)\",\"linecolor\":\"rgb(36,36,36)\",\"showgrid\":false,\"showline\":true,\"ticks\":\"outside\",\"title\":{\"standoff\":15},\"zeroline\":false,\"zerolinecolor\":\"rgb(36,36,36)\"}}},\"xaxis\":{\"anchor\":\"y\",\"domain\":[0.0,1.0],\"title\":{\"text\":\"\"},\"visible\":false,\"range\":[12.321152782440185,18.72282772064209]},\"yaxis\":{\"anchor\":\"x\",\"domain\":[0.0,1.0],\"title\":{\"text\":\"\"},\"visible\":false,\"range\":[13.287372636795045,23.450859451293944]},\"legend\":{\"tracegroupgap\":0,\"itemsizing\":\"constant\"},\"margin\":{\"t\":60},\"title\":{\"font\":{\"size\":22,\"color\":\"Black\"},\"text\":\"\\u003cb\\u003eIntertopic Distance Map\\u003c\\u002fb\\u003e\",\"y\":0.95,\"x\":0.5,\"xanchor\":\"center\",\"yanchor\":\"top\"},\"hoverlabel\":{\"font\":{\"size\":16,\"family\":\"Rockwell\"},\"bgcolor\":\"white\"},\"width\":650,\"height\":650,\"sliders\":[{\"active\":0,\"pad\":{\"t\":50},\"steps\":[{\"args\":[{\"marker.color\":[[\"red\",\"#B0BEC5\",\"#B0BEC5\",\"#B0BEC5\",\"#B0BEC5\",\"#B0BEC5\",\"#B0BEC5\"]]}],\"label\":\"Topic 0\",\"method\":\"update\"},{\"args\":[{\"marker.color\":[[\"#B0BEC5\",\"red\",\"#B0BEC5\",\"#B0BEC5\",\"#B0BEC5\",\"#B0BEC5\",\"#B0BEC5\"]]}],\"label\":\"Topic 1\",\"method\":\"update\"},{\"args\":[{\"marker.color\":[[\"#B0BEC5\",\"#B0BEC5\",\"red\",\"#B0BEC5\",\"#B0BEC5\",\"#B0BEC5\",\"#B0BEC5\"]]}],\"label\":\"Topic 2\",\"method\":\"update\"},{\"args\":[{\"marker.color\":[[\"#B0BEC5\",\"#B0BEC5\",\"#B0BEC5\",\"red\",\"#B0BEC5\",\"#B0BEC5\",\"#B0BEC5\"]]}],\"label\":\"Topic 3\",\"method\":\"update\"},{\"args\":[{\"marker.color\":[[\"#B0BEC5\",\"#B0BEC5\",\"#B0BEC5\",\"#B0BEC5\",\"red\",\"#B0BEC5\",\"#B0BEC5\"]]}],\"label\":\"Topic 4\",\"method\":\"update\"},{\"args\":[{\"marker.color\":[[\"#B0BEC5\",\"#B0BEC5\",\"#B0BEC5\",\"#B0BEC5\",\"#B0BEC5\",\"red\",\"#B0BEC5\"]]}],\"label\":\"Topic 5\",\"method\":\"update\"},{\"args\":[{\"marker.color\":[[\"#B0BEC5\",\"#B0BEC5\",\"#B0BEC5\",\"#B0BEC5\",\"#B0BEC5\",\"#B0BEC5\",\"red\"]]}],\"label\":\"Topic 6\",\"method\":\"update\"}]}],\"shapes\":[{\"line\":{\"color\":\"#CFD8DC\",\"width\":2},\"type\":\"line\",\"x0\":15.521990251541137,\"x1\":15.521990251541137,\"y0\":13.287372636795045,\"y1\":23.450859451293944},{\"line\":{\"color\":\"#9E9E9E\",\"width\":2},\"type\":\"line\",\"x0\":12.321152782440185,\"x1\":18.72282772064209,\"y0\":18.369116044044496,\"y1\":18.369116044044496}],\"annotations\":[{\"showarrow\":false,\"text\":\"D1\",\"x\":12.321152782440185,\"y\":18.369116044044496,\"yshift\":10},{\"showarrow\":false,\"text\":\"D2\",\"x\":15.521990251541137,\"xshift\":10,\"y\":23.450859451293944}]},                        {\"responsive\": true}                    ).then(function(){\n",
       "                            \n",
       "var gd = document.getElementById('9578b37d-af0e-441d-b338-d1f74c7c5202');\n",
       "var x = new MutationObserver(function (mutations, observer) {{\n",
       "        var display = window.getComputedStyle(gd).display;\n",
       "        if (!display || display === 'none') {{\n",
       "            console.log([gd, 'removed!']);\n",
       "            Plotly.purge(gd);\n",
       "            observer.disconnect();\n",
       "        }}\n",
       "}});\n",
       "\n",
       "// Listen for the removal of the full notebook cells\n",
       "var notebookContainer = gd.closest('#notebook-container');\n",
       "if (notebookContainer) {{\n",
       "    x.observe(notebookContainer, {childList: true});\n",
       "}}\n",
       "\n",
       "// Listen for the clearing of the current output cell\n",
       "var outputEl = gd.closest('.output');\n",
       "if (outputEl) {{\n",
       "    x.observe(outputEl, {childList: true});\n",
       "}}\n",
       "\n",
       "                        })                };                });            </script>        </div>"
      ]
     },
     "metadata": {},
     "output_type": "display_data"
    }
   ],
   "execution_count": 52
  }
 ],
 "metadata": {
  "kernelspec": {
   "display_name": "ml_angew_programm",
   "language": "python",
   "name": "python3"
  },
  "language_info": {
   "codemirror_mode": {
    "name": "ipython",
    "version": 3
   },
   "file_extension": ".py",
   "mimetype": "text/x-python",
   "name": "python",
   "nbconvert_exporter": "python",
   "pygments_lexer": "ipython3",
   "version": "3.8.19"
  }
 },
 "nbformat": 4,
 "nbformat_minor": 2
}
