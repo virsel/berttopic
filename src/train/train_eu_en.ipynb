{
 "cells": [
  {
   "cell_type": "code",
   "metadata": {
    "ExecuteTime": {
     "end_time": "2024-05-18T14:13:52.926332Z",
     "start_time": "2024-05-18T14:13:52.460228Z"
    }
   },
   "source": [
    "import pandas as pd\n",
    "\n",
    "data_path = \"D:/studium/analyse/data_prep/src/_2_preproc_pipeline_en/data_preprocessed/2_tokenize_eu_en.csv\"\n",
    "df = pd.read_csv(data_path)"
   ],
   "outputs": [],
   "execution_count": 1
  },
  {
   "cell_type": "code",
   "metadata": {
    "ExecuteTime": {
     "end_time": "2024-05-18T14:13:52.942332Z",
     "start_time": "2024-05-18T14:13:52.928332Z"
    }
   },
   "source": [
    "pd.set_option('display.max_colwidth', None)\n",
    "df.info()"
   ],
   "outputs": [
    {
     "name": "stdout",
     "output_type": "stream",
     "text": [
      "<class 'pandas.core.frame.DataFrame'>\n",
      "RangeIndex: 3215 entries, 0 to 3214\n",
      "Data columns (total 3 columns):\n",
      " #   Column         Non-Null Count  Dtype \n",
      "---  ------         --------------  ----- \n",
      " 0   id             3215 non-null   object\n",
      " 1   pub_year       3215 non-null   int64 \n",
      " 2   text_preproc2  3215 non-null   object\n",
      "dtypes: int64(1), object(2)\n",
      "memory usage: 75.5+ KB\n"
     ]
    }
   ],
   "execution_count": 2
  },
  {
   "cell_type": "code",
   "metadata": {
    "ExecuteTime": {
     "end_time": "2024-05-18T14:14:09.935084Z",
     "start_time": "2024-05-18T14:14:00.004017Z"
    }
   },
   "source": [
    "from bertopic import BERTopic"
   ],
   "outputs": [],
   "execution_count": 3
  },
  {
   "cell_type": "code",
   "metadata": {
    "ExecuteTime": {
     "end_time": "2024-05-18T14:24:44.199935Z",
     "start_time": "2024-05-18T14:24:42.341623Z"
    }
   },
   "source": [
    "from sentence_transformers import SentenceTransformer\n",
    "\n",
    "model = SentenceTransformer('all-MiniLM-L6-v2')"
   ],
   "outputs": [],
   "execution_count": 18
  },
  {
   "cell_type": "code",
   "metadata": {
    "ExecuteTime": {
     "end_time": "2024-05-18T14:24:44.215565Z",
     "start_time": "2024-05-18T14:24:44.199935Z"
    }
   },
   "source": [
    "texts = df['text_preproc2'].tolist()"
   ],
   "outputs": [],
   "execution_count": 19
  },
  {
   "metadata": {
    "ExecuteTime": {
     "end_time": "2024-05-18T15:03:09.103623Z",
     "start_time": "2024-05-18T15:03:09.096623Z"
    }
   },
   "cell_type": "code",
   "source": "",
   "outputs": [],
   "execution_count": 35
  },
  {
   "cell_type": "code",
   "metadata": {
    "ExecuteTime": {
     "end_time": "2024-05-18T15:05:28.248308Z",
     "start_time": "2024-05-18T15:05:28.232678Z"
    }
   },
   "source": "topic_model = BERTopic(embedding_model=model, nr_topics=6)",
   "outputs": [],
   "execution_count": 42
  },
  {
   "cell_type": "code",
   "metadata": {
    "ExecuteTime": {
     "end_time": "2024-05-18T15:05:47.725324Z",
     "start_time": "2024-05-18T15:05:28.248308Z"
    }
   },
   "source": [
    "topics, probabilities = topic_model.fit_transform(texts)"
   ],
   "outputs": [],
   "execution_count": 43
  },
  {
   "cell_type": "code",
   "metadata": {
    "ExecuteTime": {
     "end_time": "2024-05-18T15:05:47.741329Z",
     "start_time": "2024-05-18T15:05:47.726325Z"
    }
   },
   "source": [
    "topic_model.get_topic_info()"
   ],
   "outputs": [
    {
     "data": {
      "text/plain": [
       "   Topic  Count                              Name  \\\n",
       "0     -1   1286  -1_system_device_method_comprise   \n",
       "1      0   1269    0_method_control_system_device   \n",
       "2      1    535  1_surgical_instrument_second_arm   \n",
       "3      2     89  2_charge_vacuum_comprise_station   \n",
       "4      3     22     3_elevator_cable_car_platform   \n",
       "5      4     14    4_sensor_force_cover_detection   \n",
       "\n",
       "                                                                               Representation  \\\n",
       "0        [system, device, method, comprise, control, include, arm, configure, second, object]   \n",
       "1    [method, control, system, device, comprise, unit, include, configure, information, base]   \n",
       "2            [surgical, instrument, second, arm, drive, end, system, comprise, shaft, device]   \n",
       "3         [charge, vacuum, comprise, station, docking, pool, section, cleaner, cleaning, arm]   \n",
       "4      [elevator, cable, car, platform, system, control, building, parallel, configure, wind]   \n",
       "5  [sensor, force, cover, detection, tactile, pressure, portion, deformable, element, detect]   \n",
       "\n",
       "                                                                                                                                                                                                                                                                                                                                                                                                                                                                                                                                                                                                                                                                                                                                                                                                                                                                                                                                                                                                                                                                                                                                                                                                                                                                                                                                                                                                                                                                                                                                                                                                                                                                                                                                                                                                                                                                                                        Representative_Docs  \n",
       "0  [surgical control method control apparatus therefor control method comprise acquire position limit control end device determine current position control end device reach position limit control end device maintain current position control posture control end device change accord posture instruction inputte motion input device control position posture control end device change accord position instruction posture instruction inputte motion input device accord control method hand safety reliability surgery ensure mean allow control end device position limit maintain position control end device reach, surgical instrument disengagement control unit surgical system comprise arm comprise drive assembly interface element configure provide mechanical drive actuate joint instrument arm engage instrument end effector comprise end effector element second end effector element moveable respect second end effector element joint control unit configure control drive assembly comprise processor configure receive signal input device response following user request disengage instrument arm activation instrument withdrawal mode surgical system instrument reference point surgical system instrument withdrawal, control endovascular device fluoroscopic feedback device configure operate interventional device comprise outer device inner device position outer device method control device include receive image datum image portion interventional device branched intersection plurality branch anatomical structure method include analyze image datum measure location orientation distal portion outer device distal portion inner device image method include determine path interventional device control base plurality module predefine motion store memory device operate interventional device path sequence predefine motion method include display path display]  \n",
       "1                                                                                                       [automatic calibration method device vision system accord aspect present invention disclose automatic calibration method calibration device connect camera dispose end effector controller control method comprise step acquire camera controller base coordinate system image marker mark work area estimate position coordinate system base marker acquire image base coordinate system, information processing device information processing method program present technology relate information processing device information processing method program capable control positioning operation object information processing device accord present technology include control unit configure control position hand portion execution task target object specific position plurality sensor provide surface basis positional relationship information indicate positional relationship target object surrounding target object positional relationship estimate basis distance measure sensor movement hand portion present technology apply example execute task object hand portion, adjustment method apparatus device goods retrieval embodiment present disclosure provide adjustment method apparatus device material handling apparatus warehousing system method include acquire detection image acquisition apparatus target ground identifier correspond target storage location determine pose position relationship target storage location image acquisition apparatus base information preset key point detection image preset key point include point correspond rack identification code support portion adjust material handling apparatus align target storage location base pose position relationship insert plate material handling apparatus place support portion second support portion]  \n",
       "2                                                                                                                                                                                                                                                                                                                                                                                                                                                                                                                                              [surgical instrument adaptor surgery assist surgical instrument adaptor accord embodiment connect manual surgical instrument arm operate manual surgical instrument include interface portion include rotation member drive rotate drive force transmit drive provide arm drive include press portion configure press operation portion manual surgical instrument elongate element comprise wire cable connect rotation member drive configure transmit drive force rotation member drive guide tube guide elongate element, surgical system surgical comprise arm second arm connect end arm mount control motion posture surgical instrument controller control motion axis arm second arm end arm provide linear guide portion second arm connect end linear guide portion close second arm mount end surgical instrument, interface surgical arm instrument surgical instrument comprising shaft drive element run shaft articulation distal end shaft articulate end effector articulation driveable drive element instrument interface proximal end shaft instrument interface comprise instrument interface element configure drive element engage drive assembly interface element drive assembly interface surgical arm surgical instrument engage surgical arm engage instrument interface element drive assembly interface element intersect line drive element]  \n",
       "3                                                                                                                                                                              [apparatus charge load handle device charge station load handle device grid structure comprise plurality grid member arrange grid pattern charge station comprise support structure comprise base carriage charge station comprise charge head assembly couple charge receive head load handle device charge head assembly mount carriage charge head assembly extend base moveable vertical direction relative carriage mount base vertical axis extend base charge head assembly rotatable vertical axis position second carriage comprise second charge head assembly, vacuum charge station present invention relate charge apparatus cleaner include charge apparatus body include housing accommodate power module plate couple surface housing charge terminal dispose docking plate mount plate charge apparatus body dock cleaner upper portion docking plate include engaging protrusion dispose portion insert charge apparatus body hook dispose rear engaging protrusion portion catch charge apparatus body invention relate charge apparatus cleaner docking plate attach detach charge apparatus body, apparatus charge load handle device charge unit charge load handle device operative grid framework structure comprise plurality grid member arrange grid pattern charge unit comprise charge provide head couple charge receive head load handle device plurality profile section cartridge interface hoist element load handle device cartridge moveable plurality profile section effect vertical movement charge provide head relative charge receive head load handle device charge unit comprise charge pad bias resilient member charge unit comprise return feature charge unit charge station storage system]  \n",
       "4                                                                                                                                                                                                                                                                                                                                                                                                                                                                                                                                                                                                                                                                                                                   [interlocking elevator control system disclosed interlock elevator control system efficient control elevator operate association building present invention provide method set efficient elevator line exclusive consideration traffic volume building method assign elevator line switch operation mode elevator suppress encounter human method set boarding relate parameter elevator line set allow use, ropeless elevator transporter vehicle parking transporter system elevator car include propulsion system configure elevator car elevator shaft transporter configure elevator car parking area transporter include elevator containment slot receive elevator car propulsion system elevator car elevator containment slot align elevator shaft, specific elevator systems building system method elevator building describe system include use elevator system elevator car moveable elevator shaft building controller configure receive request associate elevator system configure control operation elevator system configure communication controller configure perform action building configure travel building elevator car operate parameter limit intend human use elevator car]  \n",
       "5                                                                                                                                                                                                                                                                                                                                                                 [sensor device provide sensor apparatus detect distribution shearing force sensor apparatus accord embodiment present technology include sensor section separation layer viscoelastic body layer sensor section include pressure sensor situate sensor section second pressure sensor situate rear sensor section pressure sensor second pressure sensor face sensor section detect force apply plane direction basis pressure detection position plane direction pressure detect pressure sensor basis pressure detection position plane direction pressure detect second pressure sensor separation layer arrange pressure sensor second pressure sensor separation, tactile sensor hand tactile sensor comprise cover provide cover portion base force detection section configure detect force act cover direction base cover second force detection section configure detect force act cover case cover displace direction base force detection section detect force act cover, soft force sensor soft sensor arrangement measure force present soft sensor arrangement comprise sensor deformable element deformable force element react sensor measure force deformation deformable element extend sensor element operation soft sensor arrangement receive signal sensor react element deformable element extend sensor element deform force estimate strength force receive signal base predefine correlation value force value signal sensor addition gripper finger disclose finger comprise soft sensor arrangement accord invention gripper]  "
      ],
      "text/html": [
       "<div>\n",
       "<style scoped>\n",
       "    .dataframe tbody tr th:only-of-type {\n",
       "        vertical-align: middle;\n",
       "    }\n",
       "\n",
       "    .dataframe tbody tr th {\n",
       "        vertical-align: top;\n",
       "    }\n",
       "\n",
       "    .dataframe thead th {\n",
       "        text-align: right;\n",
       "    }\n",
       "</style>\n",
       "<table border=\"1\" class=\"dataframe\">\n",
       "  <thead>\n",
       "    <tr style=\"text-align: right;\">\n",
       "      <th></th>\n",
       "      <th>Topic</th>\n",
       "      <th>Count</th>\n",
       "      <th>Name</th>\n",
       "      <th>Representation</th>\n",
       "      <th>Representative_Docs</th>\n",
       "    </tr>\n",
       "  </thead>\n",
       "  <tbody>\n",
       "    <tr>\n",
       "      <th>0</th>\n",
       "      <td>-1</td>\n",
       "      <td>1286</td>\n",
       "      <td>-1_system_device_method_comprise</td>\n",
       "      <td>[system, device, method, comprise, control, include, arm, configure, second, object]</td>\n",
       "      <td>[surgical control method control apparatus therefor control method comprise acquire position limit control end device determine current position control end device reach position limit control end device maintain current position control posture control end device change accord posture instruction inputte motion input device control position posture control end device change accord position instruction posture instruction inputte motion input device accord control method hand safety reliability surgery ensure mean allow control end device position limit maintain position control end device reach, surgical instrument disengagement control unit surgical system comprise arm comprise drive assembly interface element configure provide mechanical drive actuate joint instrument arm engage instrument end effector comprise end effector element second end effector element moveable respect second end effector element joint control unit configure control drive assembly comprise processor configure receive signal input device response following user request disengage instrument arm activation instrument withdrawal mode surgical system instrument reference point surgical system instrument withdrawal, control endovascular device fluoroscopic feedback device configure operate interventional device comprise outer device inner device position outer device method control device include receive image datum image portion interventional device branched intersection plurality branch anatomical structure method include analyze image datum measure location orientation distal portion outer device distal portion inner device image method include determine path interventional device control base plurality module predefine motion store memory device operate interventional device path sequence predefine motion method include display path display]</td>\n",
       "    </tr>\n",
       "    <tr>\n",
       "      <th>1</th>\n",
       "      <td>0</td>\n",
       "      <td>1269</td>\n",
       "      <td>0_method_control_system_device</td>\n",
       "      <td>[method, control, system, device, comprise, unit, include, configure, information, base]</td>\n",
       "      <td>[automatic calibration method device vision system accord aspect present invention disclose automatic calibration method calibration device connect camera dispose end effector controller control method comprise step acquire camera controller base coordinate system image marker mark work area estimate position coordinate system base marker acquire image base coordinate system, information processing device information processing method program present technology relate information processing device information processing method program capable control positioning operation object information processing device accord present technology include control unit configure control position hand portion execution task target object specific position plurality sensor provide surface basis positional relationship information indicate positional relationship target object surrounding target object positional relationship estimate basis distance measure sensor movement hand portion present technology apply example execute task object hand portion, adjustment method apparatus device goods retrieval embodiment present disclosure provide adjustment method apparatus device material handling apparatus warehousing system method include acquire detection image acquisition apparatus target ground identifier correspond target storage location determine pose position relationship target storage location image acquisition apparatus base information preset key point detection image preset key point include point correspond rack identification code support portion adjust material handling apparatus align target storage location base pose position relationship insert plate material handling apparatus place support portion second support portion]</td>\n",
       "    </tr>\n",
       "    <tr>\n",
       "      <th>2</th>\n",
       "      <td>1</td>\n",
       "      <td>535</td>\n",
       "      <td>1_surgical_instrument_second_arm</td>\n",
       "      <td>[surgical, instrument, second, arm, drive, end, system, comprise, shaft, device]</td>\n",
       "      <td>[surgical instrument adaptor surgery assist surgical instrument adaptor accord embodiment connect manual surgical instrument arm operate manual surgical instrument include interface portion include rotation member drive rotate drive force transmit drive provide arm drive include press portion configure press operation portion manual surgical instrument elongate element comprise wire cable connect rotation member drive configure transmit drive force rotation member drive guide tube guide elongate element, surgical system surgical comprise arm second arm connect end arm mount control motion posture surgical instrument controller control motion axis arm second arm end arm provide linear guide portion second arm connect end linear guide portion close second arm mount end surgical instrument, interface surgical arm instrument surgical instrument comprising shaft drive element run shaft articulation distal end shaft articulate end effector articulation driveable drive element instrument interface proximal end shaft instrument interface comprise instrument interface element configure drive element engage drive assembly interface element drive assembly interface surgical arm surgical instrument engage surgical arm engage instrument interface element drive assembly interface element intersect line drive element]</td>\n",
       "    </tr>\n",
       "    <tr>\n",
       "      <th>3</th>\n",
       "      <td>2</td>\n",
       "      <td>89</td>\n",
       "      <td>2_charge_vacuum_comprise_station</td>\n",
       "      <td>[charge, vacuum, comprise, station, docking, pool, section, cleaner, cleaning, arm]</td>\n",
       "      <td>[apparatus charge load handle device charge station load handle device grid structure comprise plurality grid member arrange grid pattern charge station comprise support structure comprise base carriage charge station comprise charge head assembly couple charge receive head load handle device charge head assembly mount carriage charge head assembly extend base moveable vertical direction relative carriage mount base vertical axis extend base charge head assembly rotatable vertical axis position second carriage comprise second charge head assembly, vacuum charge station present invention relate charge apparatus cleaner include charge apparatus body include housing accommodate power module plate couple surface housing charge terminal dispose docking plate mount plate charge apparatus body dock cleaner upper portion docking plate include engaging protrusion dispose portion insert charge apparatus body hook dispose rear engaging protrusion portion catch charge apparatus body invention relate charge apparatus cleaner docking plate attach detach charge apparatus body, apparatus charge load handle device charge unit charge load handle device operative grid framework structure comprise plurality grid member arrange grid pattern charge unit comprise charge provide head couple charge receive head load handle device plurality profile section cartridge interface hoist element load handle device cartridge moveable plurality profile section effect vertical movement charge provide head relative charge receive head load handle device charge unit comprise charge pad bias resilient member charge unit comprise return feature charge unit charge station storage system]</td>\n",
       "    </tr>\n",
       "    <tr>\n",
       "      <th>4</th>\n",
       "      <td>3</td>\n",
       "      <td>22</td>\n",
       "      <td>3_elevator_cable_car_platform</td>\n",
       "      <td>[elevator, cable, car, platform, system, control, building, parallel, configure, wind]</td>\n",
       "      <td>[interlocking elevator control system disclosed interlock elevator control system efficient control elevator operate association building present invention provide method set efficient elevator line exclusive consideration traffic volume building method assign elevator line switch operation mode elevator suppress encounter human method set boarding relate parameter elevator line set allow use, ropeless elevator transporter vehicle parking transporter system elevator car include propulsion system configure elevator car elevator shaft transporter configure elevator car parking area transporter include elevator containment slot receive elevator car propulsion system elevator car elevator containment slot align elevator shaft, specific elevator systems building system method elevator building describe system include use elevator system elevator car moveable elevator shaft building controller configure receive request associate elevator system configure control operation elevator system configure communication controller configure perform action building configure travel building elevator car operate parameter limit intend human use elevator car]</td>\n",
       "    </tr>\n",
       "    <tr>\n",
       "      <th>5</th>\n",
       "      <td>4</td>\n",
       "      <td>14</td>\n",
       "      <td>4_sensor_force_cover_detection</td>\n",
       "      <td>[sensor, force, cover, detection, tactile, pressure, portion, deformable, element, detect]</td>\n",
       "      <td>[sensor device provide sensor apparatus detect distribution shearing force sensor apparatus accord embodiment present technology include sensor section separation layer viscoelastic body layer sensor section include pressure sensor situate sensor section second pressure sensor situate rear sensor section pressure sensor second pressure sensor face sensor section detect force apply plane direction basis pressure detection position plane direction pressure detect pressure sensor basis pressure detection position plane direction pressure detect second pressure sensor separation layer arrange pressure sensor second pressure sensor separation, tactile sensor hand tactile sensor comprise cover provide cover portion base force detection section configure detect force act cover direction base cover second force detection section configure detect force act cover case cover displace direction base force detection section detect force act cover, soft force sensor soft sensor arrangement measure force present soft sensor arrangement comprise sensor deformable element deformable force element react sensor measure force deformation deformable element extend sensor element operation soft sensor arrangement receive signal sensor react element deformable element extend sensor element deform force estimate strength force receive signal base predefine correlation value force value signal sensor addition gripper finger disclose finger comprise soft sensor arrangement accord invention gripper]</td>\n",
       "    </tr>\n",
       "  </tbody>\n",
       "</table>\n",
       "</div>"
      ]
     },
     "execution_count": 44,
     "metadata": {},
     "output_type": "execute_result"
    }
   ],
   "execution_count": 44
  },
  {
   "cell_type": "code",
   "metadata": {
    "ExecuteTime": {
     "end_time": "2024-05-18T15:05:47.756836Z",
     "start_time": "2024-05-18T15:05:47.741329Z"
    }
   },
   "source": [
    "freq = topic_model.get_topic_info(); freq.head(2)"
   ],
   "outputs": [
    {
     "data": {
      "text/plain": [
       "   Topic  Count                              Name  \\\n",
       "0     -1   1286  -1_system_device_method_comprise   \n",
       "1      0   1269    0_method_control_system_device   \n",
       "\n",
       "                                                                             Representation  \\\n",
       "0      [system, device, method, comprise, control, include, arm, configure, second, object]   \n",
       "1  [method, control, system, device, comprise, unit, include, configure, information, base]   \n",
       "\n",
       "                                                                                                                                                                                                                                                                                                                                                                                                                                                                                                                                                                                                                                                                                                                                                                                                                                                                                                                                                                                                                                                                                                                                                                                                                                                                                                                                                                                                                                                                                                                                                                                                                                                                                                                                                                                                                                                                                                        Representative_Docs  \n",
       "0  [surgical control method control apparatus therefor control method comprise acquire position limit control end device determine current position control end device reach position limit control end device maintain current position control posture control end device change accord posture instruction inputte motion input device control position posture control end device change accord position instruction posture instruction inputte motion input device accord control method hand safety reliability surgery ensure mean allow control end device position limit maintain position control end device reach, surgical instrument disengagement control unit surgical system comprise arm comprise drive assembly interface element configure provide mechanical drive actuate joint instrument arm engage instrument end effector comprise end effector element second end effector element moveable respect second end effector element joint control unit configure control drive assembly comprise processor configure receive signal input device response following user request disengage instrument arm activation instrument withdrawal mode surgical system instrument reference point surgical system instrument withdrawal, control endovascular device fluoroscopic feedback device configure operate interventional device comprise outer device inner device position outer device method control device include receive image datum image portion interventional device branched intersection plurality branch anatomical structure method include analyze image datum measure location orientation distal portion outer device distal portion inner device image method include determine path interventional device control base plurality module predefine motion store memory device operate interventional device path sequence predefine motion method include display path display]  \n",
       "1                                                                                                       [automatic calibration method device vision system accord aspect present invention disclose automatic calibration method calibration device connect camera dispose end effector controller control method comprise step acquire camera controller base coordinate system image marker mark work area estimate position coordinate system base marker acquire image base coordinate system, information processing device information processing method program present technology relate information processing device information processing method program capable control positioning operation object information processing device accord present technology include control unit configure control position hand portion execution task target object specific position plurality sensor provide surface basis positional relationship information indicate positional relationship target object surrounding target object positional relationship estimate basis distance measure sensor movement hand portion present technology apply example execute task object hand portion, adjustment method apparatus device goods retrieval embodiment present disclosure provide adjustment method apparatus device material handling apparatus warehousing system method include acquire detection image acquisition apparatus target ground identifier correspond target storage location determine pose position relationship target storage location image acquisition apparatus base information preset key point detection image preset key point include point correspond rack identification code support portion adjust material handling apparatus align target storage location base pose position relationship insert plate material handling apparatus place support portion second support portion]  "
      ],
      "text/html": [
       "<div>\n",
       "<style scoped>\n",
       "    .dataframe tbody tr th:only-of-type {\n",
       "        vertical-align: middle;\n",
       "    }\n",
       "\n",
       "    .dataframe tbody tr th {\n",
       "        vertical-align: top;\n",
       "    }\n",
       "\n",
       "    .dataframe thead th {\n",
       "        text-align: right;\n",
       "    }\n",
       "</style>\n",
       "<table border=\"1\" class=\"dataframe\">\n",
       "  <thead>\n",
       "    <tr style=\"text-align: right;\">\n",
       "      <th></th>\n",
       "      <th>Topic</th>\n",
       "      <th>Count</th>\n",
       "      <th>Name</th>\n",
       "      <th>Representation</th>\n",
       "      <th>Representative_Docs</th>\n",
       "    </tr>\n",
       "  </thead>\n",
       "  <tbody>\n",
       "    <tr>\n",
       "      <th>0</th>\n",
       "      <td>-1</td>\n",
       "      <td>1286</td>\n",
       "      <td>-1_system_device_method_comprise</td>\n",
       "      <td>[system, device, method, comprise, control, include, arm, configure, second, object]</td>\n",
       "      <td>[surgical control method control apparatus therefor control method comprise acquire position limit control end device determine current position control end device reach position limit control end device maintain current position control posture control end device change accord posture instruction inputte motion input device control position posture control end device change accord position instruction posture instruction inputte motion input device accord control method hand safety reliability surgery ensure mean allow control end device position limit maintain position control end device reach, surgical instrument disengagement control unit surgical system comprise arm comprise drive assembly interface element configure provide mechanical drive actuate joint instrument arm engage instrument end effector comprise end effector element second end effector element moveable respect second end effector element joint control unit configure control drive assembly comprise processor configure receive signal input device response following user request disengage instrument arm activation instrument withdrawal mode surgical system instrument reference point surgical system instrument withdrawal, control endovascular device fluoroscopic feedback device configure operate interventional device comprise outer device inner device position outer device method control device include receive image datum image portion interventional device branched intersection plurality branch anatomical structure method include analyze image datum measure location orientation distal portion outer device distal portion inner device image method include determine path interventional device control base plurality module predefine motion store memory device operate interventional device path sequence predefine motion method include display path display]</td>\n",
       "    </tr>\n",
       "    <tr>\n",
       "      <th>1</th>\n",
       "      <td>0</td>\n",
       "      <td>1269</td>\n",
       "      <td>0_method_control_system_device</td>\n",
       "      <td>[method, control, system, device, comprise, unit, include, configure, information, base]</td>\n",
       "      <td>[automatic calibration method device vision system accord aspect present invention disclose automatic calibration method calibration device connect camera dispose end effector controller control method comprise step acquire camera controller base coordinate system image marker mark work area estimate position coordinate system base marker acquire image base coordinate system, information processing device information processing method program present technology relate information processing device information processing method program capable control positioning operation object information processing device accord present technology include control unit configure control position hand portion execution task target object specific position plurality sensor provide surface basis positional relationship information indicate positional relationship target object surrounding target object positional relationship estimate basis distance measure sensor movement hand portion present technology apply example execute task object hand portion, adjustment method apparatus device goods retrieval embodiment present disclosure provide adjustment method apparatus device material handling apparatus warehousing system method include acquire detection image acquisition apparatus target ground identifier correspond target storage location determine pose position relationship target storage location image acquisition apparatus base information preset key point detection image preset key point include point correspond rack identification code support portion adjust material handling apparatus align target storage location base pose position relationship insert plate material handling apparatus place support portion second support portion]</td>\n",
       "    </tr>\n",
       "  </tbody>\n",
       "</table>\n",
       "</div>"
      ]
     },
     "execution_count": 45,
     "metadata": {},
     "output_type": "execute_result"
    }
   ],
   "execution_count": 45
  },
  {
   "cell_type": "code",
   "metadata": {
    "ExecuteTime": {
     "end_time": "2024-05-18T15:05:47.772837Z",
     "start_time": "2024-05-18T15:05:47.758837Z"
    }
   },
   "source": [
    "topic_model.get_topic(5)"
   ],
   "outputs": [
    {
     "data": {
      "text/plain": [
       "False"
      ]
     },
     "execution_count": 46,
     "metadata": {},
     "output_type": "execute_result"
    }
   ],
   "execution_count": 46
  },
  {
   "cell_type": "code",
   "metadata": {
    "ExecuteTime": {
     "end_time": "2024-05-18T15:05:48.195122Z",
     "start_time": "2024-05-18T15:05:47.773838Z"
    }
   },
   "source": [
    "fig = topic_model.visualize_topics(); fig"
   ],
   "outputs": [
    {
     "data": {
      "application/vnd.plotly.v1+json": {
       "data": [
        {
         "customdata": [
          [
           0,
           "method | control | system | device | comprise",
           1269
          ],
          [
           1,
           "surgical | instrument | second | arm | drive",
           535
          ],
          [
           2,
           "charge | vacuum | comprise | station | docking",
           89
          ],
          [
           3,
           "elevator | cable | car | platform | system",
           22
          ],
          [
           4,
           "sensor | force | cover | detection | tactile",
           14
          ]
         ],
         "hovertemplate": "<b>Topic %{customdata[0]}</b><br>%{customdata[1]}<br>Size: %{customdata[2]}",
         "legendgroup": "",
         "marker": {
          "color": "#B0BEC5",
          "size": [
           1269,
           535,
           89,
           22,
           14
          ],
          "sizemode": "area",
          "sizeref": 0.793125,
          "symbol": "circle",
          "line": {
           "color": "DarkSlateGrey",
           "width": 2
          }
         },
         "mode": "markers",
         "name": "",
         "orientation": "v",
         "showlegend": false,
         "x": [
          15.348299026489258,
          16.1190128326416,
          15.60256576538086,
          15.0939302444458,
          14.613890647888184
         ],
         "xaxis": "x",
         "y": [
          41.42657470703125,
          41.210472106933594,
          42.15082931518555,
          40.75261306762695,
          41.836769104003906
         ],
         "yaxis": "y",
         "type": "scatter"
        }
       ],
       "layout": {
        "template": {
         "data": {
          "barpolar": [
           {
            "marker": {
             "line": {
              "color": "white",
              "width": 0.5
             },
             "pattern": {
              "fillmode": "overlay",
              "size": 10,
              "solidity": 0.2
             }
            },
            "type": "barpolar"
           }
          ],
          "bar": [
           {
            "error_x": {
             "color": "rgb(36,36,36)"
            },
            "error_y": {
             "color": "rgb(36,36,36)"
            },
            "marker": {
             "line": {
              "color": "white",
              "width": 0.5
             },
             "pattern": {
              "fillmode": "overlay",
              "size": 10,
              "solidity": 0.2
             }
            },
            "type": "bar"
           }
          ],
          "carpet": [
           {
            "aaxis": {
             "endlinecolor": "rgb(36,36,36)",
             "gridcolor": "white",
             "linecolor": "white",
             "minorgridcolor": "white",
             "startlinecolor": "rgb(36,36,36)"
            },
            "baxis": {
             "endlinecolor": "rgb(36,36,36)",
             "gridcolor": "white",
             "linecolor": "white",
             "minorgridcolor": "white",
             "startlinecolor": "rgb(36,36,36)"
            },
            "type": "carpet"
           }
          ],
          "choropleth": [
           {
            "colorbar": {
             "outlinewidth": 1,
             "tickcolor": "rgb(36,36,36)",
             "ticks": "outside"
            },
            "type": "choropleth"
           }
          ],
          "contourcarpet": [
           {
            "colorbar": {
             "outlinewidth": 1,
             "tickcolor": "rgb(36,36,36)",
             "ticks": "outside"
            },
            "type": "contourcarpet"
           }
          ],
          "contour": [
           {
            "colorbar": {
             "outlinewidth": 1,
             "tickcolor": "rgb(36,36,36)",
             "ticks": "outside"
            },
            "colorscale": [
             [
              0.0,
              "#440154"
             ],
             [
              0.1111111111111111,
              "#482878"
             ],
             [
              0.2222222222222222,
              "#3e4989"
             ],
             [
              0.3333333333333333,
              "#31688e"
             ],
             [
              0.4444444444444444,
              "#26828e"
             ],
             [
              0.5555555555555556,
              "#1f9e89"
             ],
             [
              0.6666666666666666,
              "#35b779"
             ],
             [
              0.7777777777777778,
              "#6ece58"
             ],
             [
              0.8888888888888888,
              "#b5de2b"
             ],
             [
              1.0,
              "#fde725"
             ]
            ],
            "type": "contour"
           }
          ],
          "heatmapgl": [
           {
            "colorbar": {
             "outlinewidth": 1,
             "tickcolor": "rgb(36,36,36)",
             "ticks": "outside"
            },
            "colorscale": [
             [
              0.0,
              "#440154"
             ],
             [
              0.1111111111111111,
              "#482878"
             ],
             [
              0.2222222222222222,
              "#3e4989"
             ],
             [
              0.3333333333333333,
              "#31688e"
             ],
             [
              0.4444444444444444,
              "#26828e"
             ],
             [
              0.5555555555555556,
              "#1f9e89"
             ],
             [
              0.6666666666666666,
              "#35b779"
             ],
             [
              0.7777777777777778,
              "#6ece58"
             ],
             [
              0.8888888888888888,
              "#b5de2b"
             ],
             [
              1.0,
              "#fde725"
             ]
            ],
            "type": "heatmapgl"
           }
          ],
          "heatmap": [
           {
            "colorbar": {
             "outlinewidth": 1,
             "tickcolor": "rgb(36,36,36)",
             "ticks": "outside"
            },
            "colorscale": [
             [
              0.0,
              "#440154"
             ],
             [
              0.1111111111111111,
              "#482878"
             ],
             [
              0.2222222222222222,
              "#3e4989"
             ],
             [
              0.3333333333333333,
              "#31688e"
             ],
             [
              0.4444444444444444,
              "#26828e"
             ],
             [
              0.5555555555555556,
              "#1f9e89"
             ],
             [
              0.6666666666666666,
              "#35b779"
             ],
             [
              0.7777777777777778,
              "#6ece58"
             ],
             [
              0.8888888888888888,
              "#b5de2b"
             ],
             [
              1.0,
              "#fde725"
             ]
            ],
            "type": "heatmap"
           }
          ],
          "histogram2dcontour": [
           {
            "colorbar": {
             "outlinewidth": 1,
             "tickcolor": "rgb(36,36,36)",
             "ticks": "outside"
            },
            "colorscale": [
             [
              0.0,
              "#440154"
             ],
             [
              0.1111111111111111,
              "#482878"
             ],
             [
              0.2222222222222222,
              "#3e4989"
             ],
             [
              0.3333333333333333,
              "#31688e"
             ],
             [
              0.4444444444444444,
              "#26828e"
             ],
             [
              0.5555555555555556,
              "#1f9e89"
             ],
             [
              0.6666666666666666,
              "#35b779"
             ],
             [
              0.7777777777777778,
              "#6ece58"
             ],
             [
              0.8888888888888888,
              "#b5de2b"
             ],
             [
              1.0,
              "#fde725"
             ]
            ],
            "type": "histogram2dcontour"
           }
          ],
          "histogram2d": [
           {
            "colorbar": {
             "outlinewidth": 1,
             "tickcolor": "rgb(36,36,36)",
             "ticks": "outside"
            },
            "colorscale": [
             [
              0.0,
              "#440154"
             ],
             [
              0.1111111111111111,
              "#482878"
             ],
             [
              0.2222222222222222,
              "#3e4989"
             ],
             [
              0.3333333333333333,
              "#31688e"
             ],
             [
              0.4444444444444444,
              "#26828e"
             ],
             [
              0.5555555555555556,
              "#1f9e89"
             ],
             [
              0.6666666666666666,
              "#35b779"
             ],
             [
              0.7777777777777778,
              "#6ece58"
             ],
             [
              0.8888888888888888,
              "#b5de2b"
             ],
             [
              1.0,
              "#fde725"
             ]
            ],
            "type": "histogram2d"
           }
          ],
          "histogram": [
           {
            "marker": {
             "line": {
              "color": "white",
              "width": 0.6
             }
            },
            "type": "histogram"
           }
          ],
          "mesh3d": [
           {
            "colorbar": {
             "outlinewidth": 1,
             "tickcolor": "rgb(36,36,36)",
             "ticks": "outside"
            },
            "type": "mesh3d"
           }
          ],
          "parcoords": [
           {
            "line": {
             "colorbar": {
              "outlinewidth": 1,
              "tickcolor": "rgb(36,36,36)",
              "ticks": "outside"
             }
            },
            "type": "parcoords"
           }
          ],
          "pie": [
           {
            "automargin": true,
            "type": "pie"
           }
          ],
          "scatter3d": [
           {
            "line": {
             "colorbar": {
              "outlinewidth": 1,
              "tickcolor": "rgb(36,36,36)",
              "ticks": "outside"
             }
            },
            "marker": {
             "colorbar": {
              "outlinewidth": 1,
              "tickcolor": "rgb(36,36,36)",
              "ticks": "outside"
             }
            },
            "type": "scatter3d"
           }
          ],
          "scattercarpet": [
           {
            "marker": {
             "colorbar": {
              "outlinewidth": 1,
              "tickcolor": "rgb(36,36,36)",
              "ticks": "outside"
             }
            },
            "type": "scattercarpet"
           }
          ],
          "scattergeo": [
           {
            "marker": {
             "colorbar": {
              "outlinewidth": 1,
              "tickcolor": "rgb(36,36,36)",
              "ticks": "outside"
             }
            },
            "type": "scattergeo"
           }
          ],
          "scattergl": [
           {
            "marker": {
             "colorbar": {
              "outlinewidth": 1,
              "tickcolor": "rgb(36,36,36)",
              "ticks": "outside"
             }
            },
            "type": "scattergl"
           }
          ],
          "scattermapbox": [
           {
            "marker": {
             "colorbar": {
              "outlinewidth": 1,
              "tickcolor": "rgb(36,36,36)",
              "ticks": "outside"
             }
            },
            "type": "scattermapbox"
           }
          ],
          "scatterpolargl": [
           {
            "marker": {
             "colorbar": {
              "outlinewidth": 1,
              "tickcolor": "rgb(36,36,36)",
              "ticks": "outside"
             }
            },
            "type": "scatterpolargl"
           }
          ],
          "scatterpolar": [
           {
            "marker": {
             "colorbar": {
              "outlinewidth": 1,
              "tickcolor": "rgb(36,36,36)",
              "ticks": "outside"
             }
            },
            "type": "scatterpolar"
           }
          ],
          "scatter": [
           {
            "fillpattern": {
             "fillmode": "overlay",
             "size": 10,
             "solidity": 0.2
            },
            "type": "scatter"
           }
          ],
          "scatterternary": [
           {
            "marker": {
             "colorbar": {
              "outlinewidth": 1,
              "tickcolor": "rgb(36,36,36)",
              "ticks": "outside"
             }
            },
            "type": "scatterternary"
           }
          ],
          "surface": [
           {
            "colorbar": {
             "outlinewidth": 1,
             "tickcolor": "rgb(36,36,36)",
             "ticks": "outside"
            },
            "colorscale": [
             [
              0.0,
              "#440154"
             ],
             [
              0.1111111111111111,
              "#482878"
             ],
             [
              0.2222222222222222,
              "#3e4989"
             ],
             [
              0.3333333333333333,
              "#31688e"
             ],
             [
              0.4444444444444444,
              "#26828e"
             ],
             [
              0.5555555555555556,
              "#1f9e89"
             ],
             [
              0.6666666666666666,
              "#35b779"
             ],
             [
              0.7777777777777778,
              "#6ece58"
             ],
             [
              0.8888888888888888,
              "#b5de2b"
             ],
             [
              1.0,
              "#fde725"
             ]
            ],
            "type": "surface"
           }
          ],
          "table": [
           {
            "cells": {
             "fill": {
              "color": "rgb(237,237,237)"
             },
             "line": {
              "color": "white"
             }
            },
            "header": {
             "fill": {
              "color": "rgb(217,217,217)"
             },
             "line": {
              "color": "white"
             }
            },
            "type": "table"
           }
          ]
         },
         "layout": {
          "annotationdefaults": {
           "arrowhead": 0,
           "arrowwidth": 1
          },
          "autotypenumbers": "strict",
          "coloraxis": {
           "colorbar": {
            "outlinewidth": 1,
            "tickcolor": "rgb(36,36,36)",
            "ticks": "outside"
           }
          },
          "colorscale": {
           "diverging": [
            [
             0.0,
             "rgb(103,0,31)"
            ],
            [
             0.1,
             "rgb(178,24,43)"
            ],
            [
             0.2,
             "rgb(214,96,77)"
            ],
            [
             0.3,
             "rgb(244,165,130)"
            ],
            [
             0.4,
             "rgb(253,219,199)"
            ],
            [
             0.5,
             "rgb(247,247,247)"
            ],
            [
             0.6,
             "rgb(209,229,240)"
            ],
            [
             0.7,
             "rgb(146,197,222)"
            ],
            [
             0.8,
             "rgb(67,147,195)"
            ],
            [
             0.9,
             "rgb(33,102,172)"
            ],
            [
             1.0,
             "rgb(5,48,97)"
            ]
           ],
           "sequential": [
            [
             0.0,
             "#440154"
            ],
            [
             0.1111111111111111,
             "#482878"
            ],
            [
             0.2222222222222222,
             "#3e4989"
            ],
            [
             0.3333333333333333,
             "#31688e"
            ],
            [
             0.4444444444444444,
             "#26828e"
            ],
            [
             0.5555555555555556,
             "#1f9e89"
            ],
            [
             0.6666666666666666,
             "#35b779"
            ],
            [
             0.7777777777777778,
             "#6ece58"
            ],
            [
             0.8888888888888888,
             "#b5de2b"
            ],
            [
             1.0,
             "#fde725"
            ]
           ],
           "sequentialminus": [
            [
             0.0,
             "#440154"
            ],
            [
             0.1111111111111111,
             "#482878"
            ],
            [
             0.2222222222222222,
             "#3e4989"
            ],
            [
             0.3333333333333333,
             "#31688e"
            ],
            [
             0.4444444444444444,
             "#26828e"
            ],
            [
             0.5555555555555556,
             "#1f9e89"
            ],
            [
             0.6666666666666666,
             "#35b779"
            ],
            [
             0.7777777777777778,
             "#6ece58"
            ],
            [
             0.8888888888888888,
             "#b5de2b"
            ],
            [
             1.0,
             "#fde725"
            ]
           ]
          },
          "colorway": [
           "#1F77B4",
           "#FF7F0E",
           "#2CA02C",
           "#D62728",
           "#9467BD",
           "#8C564B",
           "#E377C2",
           "#7F7F7F",
           "#BCBD22",
           "#17BECF"
          ],
          "font": {
           "color": "rgb(36,36,36)"
          },
          "geo": {
           "bgcolor": "white",
           "lakecolor": "white",
           "landcolor": "white",
           "showlakes": true,
           "showland": true,
           "subunitcolor": "white"
          },
          "hoverlabel": {
           "align": "left"
          },
          "hovermode": "closest",
          "mapbox": {
           "style": "light"
          },
          "paper_bgcolor": "white",
          "plot_bgcolor": "white",
          "polar": {
           "angularaxis": {
            "gridcolor": "rgb(232,232,232)",
            "linecolor": "rgb(36,36,36)",
            "showgrid": false,
            "showline": true,
            "ticks": "outside"
           },
           "bgcolor": "white",
           "radialaxis": {
            "gridcolor": "rgb(232,232,232)",
            "linecolor": "rgb(36,36,36)",
            "showgrid": false,
            "showline": true,
            "ticks": "outside"
           }
          },
          "scene": {
           "xaxis": {
            "backgroundcolor": "white",
            "gridcolor": "rgb(232,232,232)",
            "gridwidth": 2,
            "linecolor": "rgb(36,36,36)",
            "showbackground": true,
            "showgrid": false,
            "showline": true,
            "ticks": "outside",
            "zeroline": false,
            "zerolinecolor": "rgb(36,36,36)"
           },
           "yaxis": {
            "backgroundcolor": "white",
            "gridcolor": "rgb(232,232,232)",
            "gridwidth": 2,
            "linecolor": "rgb(36,36,36)",
            "showbackground": true,
            "showgrid": false,
            "showline": true,
            "ticks": "outside",
            "zeroline": false,
            "zerolinecolor": "rgb(36,36,36)"
           },
           "zaxis": {
            "backgroundcolor": "white",
            "gridcolor": "rgb(232,232,232)",
            "gridwidth": 2,
            "linecolor": "rgb(36,36,36)",
            "showbackground": true,
            "showgrid": false,
            "showline": true,
            "ticks": "outside",
            "zeroline": false,
            "zerolinecolor": "rgb(36,36,36)"
           }
          },
          "shapedefaults": {
           "fillcolor": "black",
           "line": {
            "width": 0
           },
           "opacity": 0.3
          },
          "ternary": {
           "aaxis": {
            "gridcolor": "rgb(232,232,232)",
            "linecolor": "rgb(36,36,36)",
            "showgrid": false,
            "showline": true,
            "ticks": "outside"
           },
           "baxis": {
            "gridcolor": "rgb(232,232,232)",
            "linecolor": "rgb(36,36,36)",
            "showgrid": false,
            "showline": true,
            "ticks": "outside"
           },
           "bgcolor": "white",
           "caxis": {
            "gridcolor": "rgb(232,232,232)",
            "linecolor": "rgb(36,36,36)",
            "showgrid": false,
            "showline": true,
            "ticks": "outside"
           }
          },
          "title": {
           "x": 0.05
          },
          "xaxis": {
           "automargin": true,
           "gridcolor": "rgb(232,232,232)",
           "linecolor": "rgb(36,36,36)",
           "showgrid": false,
           "showline": true,
           "ticks": "outside",
           "title": {
            "standoff": 15
           },
           "zeroline": false,
           "zerolinecolor": "rgb(36,36,36)"
          },
          "yaxis": {
           "automargin": true,
           "gridcolor": "rgb(232,232,232)",
           "linecolor": "rgb(36,36,36)",
           "showgrid": false,
           "showline": true,
           "ticks": "outside",
           "title": {
            "standoff": 15
           },
           "zeroline": false,
           "zerolinecolor": "rgb(36,36,36)"
          }
         }
        },
        "xaxis": {
         "anchor": "y",
         "domain": [
          0.0,
          1.0
         ],
         "title": {
          "text": ""
         },
         "visible": false,
         "range": [
          12.421807050704956,
          18.536864757537842
         ]
        },
        "yaxis": {
         "anchor": "x",
         "domain": [
          0.0,
          1.0
         ],
         "title": {
          "text": ""
         },
         "visible": false,
         "range": [
          34.63972110748291,
          48.47345371246338
         ]
        },
        "legend": {
         "tracegroupgap": 0,
         "itemsizing": "constant"
        },
        "margin": {
         "t": 60
        },
        "title": {
         "font": {
          "size": 22,
          "color": "Black"
         },
         "text": "<b>Intertopic Distance Map</b>",
         "y": 0.95,
         "x": 0.5,
         "xanchor": "center",
         "yanchor": "top"
        },
        "hoverlabel": {
         "font": {
          "size": 16,
          "family": "Rockwell"
         },
         "bgcolor": "white"
        },
        "width": 650,
        "height": 650,
        "sliders": [
         {
          "active": 0,
          "pad": {
           "t": 50
          },
          "steps": [
           {
            "args": [
             {
              "marker.color": [
               [
                "red",
                "#B0BEC5",
                "#B0BEC5",
                "#B0BEC5",
                "#B0BEC5"
               ]
              ]
             }
            ],
            "label": "Topic 0",
            "method": "update"
           },
           {
            "args": [
             {
              "marker.color": [
               [
                "#B0BEC5",
                "red",
                "#B0BEC5",
                "#B0BEC5",
                "#B0BEC5"
               ]
              ]
             }
            ],
            "label": "Topic 1",
            "method": "update"
           },
           {
            "args": [
             {
              "marker.color": [
               [
                "#B0BEC5",
                "#B0BEC5",
                "red",
                "#B0BEC5",
                "#B0BEC5"
               ]
              ]
             }
            ],
            "label": "Topic 2",
            "method": "update"
           },
           {
            "args": [
             {
              "marker.color": [
               [
                "#B0BEC5",
                "#B0BEC5",
                "#B0BEC5",
                "red",
                "#B0BEC5"
               ]
              ]
             }
            ],
            "label": "Topic 3",
            "method": "update"
           },
           {
            "args": [
             {
              "marker.color": [
               [
                "#B0BEC5",
                "#B0BEC5",
                "#B0BEC5",
                "#B0BEC5",
                "red"
               ]
              ]
             }
            ],
            "label": "Topic 4",
            "method": "update"
           }
          ]
         }
        ],
        "shapes": [
         {
          "line": {
           "color": "#CFD8DC",
           "width": 2
          },
          "type": "line",
          "x0": 15.479335904121399,
          "x1": 15.479335904121399,
          "y0": 34.63972110748291,
          "y1": 48.47345371246338
         },
         {
          "line": {
           "color": "#9E9E9E",
           "width": 2
          },
          "type": "line",
          "x0": 12.421807050704956,
          "x1": 18.536864757537842,
          "y0": 41.55658740997315,
          "y1": 41.55658740997315
         }
        ],
        "annotations": [
         {
          "showarrow": false,
          "text": "D1",
          "x": 12.421807050704956,
          "y": 41.55658740997315,
          "yshift": 10
         },
         {
          "showarrow": false,
          "text": "D2",
          "x": 15.479335904121399,
          "xshift": 10,
          "y": 48.47345371246338
         }
        ]
       },
       "config": {
        "plotlyServerURL": "https://plot.ly"
       }
      },
      "text/html": [
       "<div>                            <div id=\"ca6f2112-3252-4fff-85d3-c80c70c9d367\" class=\"plotly-graph-div\" style=\"height:650px; width:650px;\"></div>            <script type=\"text/javascript\">                require([\"plotly\"], function(Plotly) {                    window.PLOTLYENV=window.PLOTLYENV || {};                                    if (document.getElementById(\"ca6f2112-3252-4fff-85d3-c80c70c9d367\")) {                    Plotly.newPlot(                        \"ca6f2112-3252-4fff-85d3-c80c70c9d367\",                        [{\"customdata\":[[0,\"method | control | system | device | comprise\",1269],[1,\"surgical | instrument | second | arm | drive\",535],[2,\"charge | vacuum | comprise | station | docking\",89],[3,\"elevator | cable | car | platform | system\",22],[4,\"sensor | force | cover | detection | tactile\",14]],\"hovertemplate\":\"\\u003cb\\u003eTopic %{customdata[0]}\\u003c\\u002fb\\u003e\\u003cbr\\u003e%{customdata[1]}\\u003cbr\\u003eSize: %{customdata[2]}\",\"legendgroup\":\"\",\"marker\":{\"color\":\"#B0BEC5\",\"size\":[1269,535,89,22,14],\"sizemode\":\"area\",\"sizeref\":0.793125,\"symbol\":\"circle\",\"line\":{\"color\":\"DarkSlateGrey\",\"width\":2}},\"mode\":\"markers\",\"name\":\"\",\"orientation\":\"v\",\"showlegend\":false,\"x\":[15.348299026489258,16.1190128326416,15.60256576538086,15.0939302444458,14.613890647888184],\"xaxis\":\"x\",\"y\":[41.42657470703125,41.210472106933594,42.15082931518555,40.75261306762695,41.836769104003906],\"yaxis\":\"y\",\"type\":\"scatter\"}],                        {\"template\":{\"data\":{\"barpolar\":[{\"marker\":{\"line\":{\"color\":\"white\",\"width\":0.5},\"pattern\":{\"fillmode\":\"overlay\",\"size\":10,\"solidity\":0.2}},\"type\":\"barpolar\"}],\"bar\":[{\"error_x\":{\"color\":\"rgb(36,36,36)\"},\"error_y\":{\"color\":\"rgb(36,36,36)\"},\"marker\":{\"line\":{\"color\":\"white\",\"width\":0.5},\"pattern\":{\"fillmode\":\"overlay\",\"size\":10,\"solidity\":0.2}},\"type\":\"bar\"}],\"carpet\":[{\"aaxis\":{\"endlinecolor\":\"rgb(36,36,36)\",\"gridcolor\":\"white\",\"linecolor\":\"white\",\"minorgridcolor\":\"white\",\"startlinecolor\":\"rgb(36,36,36)\"},\"baxis\":{\"endlinecolor\":\"rgb(36,36,36)\",\"gridcolor\":\"white\",\"linecolor\":\"white\",\"minorgridcolor\":\"white\",\"startlinecolor\":\"rgb(36,36,36)\"},\"type\":\"carpet\"}],\"choropleth\":[{\"colorbar\":{\"outlinewidth\":1,\"tickcolor\":\"rgb(36,36,36)\",\"ticks\":\"outside\"},\"type\":\"choropleth\"}],\"contourcarpet\":[{\"colorbar\":{\"outlinewidth\":1,\"tickcolor\":\"rgb(36,36,36)\",\"ticks\":\"outside\"},\"type\":\"contourcarpet\"}],\"contour\":[{\"colorbar\":{\"outlinewidth\":1,\"tickcolor\":\"rgb(36,36,36)\",\"ticks\":\"outside\"},\"colorscale\":[[0.0,\"#440154\"],[0.1111111111111111,\"#482878\"],[0.2222222222222222,\"#3e4989\"],[0.3333333333333333,\"#31688e\"],[0.4444444444444444,\"#26828e\"],[0.5555555555555556,\"#1f9e89\"],[0.6666666666666666,\"#35b779\"],[0.7777777777777778,\"#6ece58\"],[0.8888888888888888,\"#b5de2b\"],[1.0,\"#fde725\"]],\"type\":\"contour\"}],\"heatmapgl\":[{\"colorbar\":{\"outlinewidth\":1,\"tickcolor\":\"rgb(36,36,36)\",\"ticks\":\"outside\"},\"colorscale\":[[0.0,\"#440154\"],[0.1111111111111111,\"#482878\"],[0.2222222222222222,\"#3e4989\"],[0.3333333333333333,\"#31688e\"],[0.4444444444444444,\"#26828e\"],[0.5555555555555556,\"#1f9e89\"],[0.6666666666666666,\"#35b779\"],[0.7777777777777778,\"#6ece58\"],[0.8888888888888888,\"#b5de2b\"],[1.0,\"#fde725\"]],\"type\":\"heatmapgl\"}],\"heatmap\":[{\"colorbar\":{\"outlinewidth\":1,\"tickcolor\":\"rgb(36,36,36)\",\"ticks\":\"outside\"},\"colorscale\":[[0.0,\"#440154\"],[0.1111111111111111,\"#482878\"],[0.2222222222222222,\"#3e4989\"],[0.3333333333333333,\"#31688e\"],[0.4444444444444444,\"#26828e\"],[0.5555555555555556,\"#1f9e89\"],[0.6666666666666666,\"#35b779\"],[0.7777777777777778,\"#6ece58\"],[0.8888888888888888,\"#b5de2b\"],[1.0,\"#fde725\"]],\"type\":\"heatmap\"}],\"histogram2dcontour\":[{\"colorbar\":{\"outlinewidth\":1,\"tickcolor\":\"rgb(36,36,36)\",\"ticks\":\"outside\"},\"colorscale\":[[0.0,\"#440154\"],[0.1111111111111111,\"#482878\"],[0.2222222222222222,\"#3e4989\"],[0.3333333333333333,\"#31688e\"],[0.4444444444444444,\"#26828e\"],[0.5555555555555556,\"#1f9e89\"],[0.6666666666666666,\"#35b779\"],[0.7777777777777778,\"#6ece58\"],[0.8888888888888888,\"#b5de2b\"],[1.0,\"#fde725\"]],\"type\":\"histogram2dcontour\"}],\"histogram2d\":[{\"colorbar\":{\"outlinewidth\":1,\"tickcolor\":\"rgb(36,36,36)\",\"ticks\":\"outside\"},\"colorscale\":[[0.0,\"#440154\"],[0.1111111111111111,\"#482878\"],[0.2222222222222222,\"#3e4989\"],[0.3333333333333333,\"#31688e\"],[0.4444444444444444,\"#26828e\"],[0.5555555555555556,\"#1f9e89\"],[0.6666666666666666,\"#35b779\"],[0.7777777777777778,\"#6ece58\"],[0.8888888888888888,\"#b5de2b\"],[1.0,\"#fde725\"]],\"type\":\"histogram2d\"}],\"histogram\":[{\"marker\":{\"line\":{\"color\":\"white\",\"width\":0.6}},\"type\":\"histogram\"}],\"mesh3d\":[{\"colorbar\":{\"outlinewidth\":1,\"tickcolor\":\"rgb(36,36,36)\",\"ticks\":\"outside\"},\"type\":\"mesh3d\"}],\"parcoords\":[{\"line\":{\"colorbar\":{\"outlinewidth\":1,\"tickcolor\":\"rgb(36,36,36)\",\"ticks\":\"outside\"}},\"type\":\"parcoords\"}],\"pie\":[{\"automargin\":true,\"type\":\"pie\"}],\"scatter3d\":[{\"line\":{\"colorbar\":{\"outlinewidth\":1,\"tickcolor\":\"rgb(36,36,36)\",\"ticks\":\"outside\"}},\"marker\":{\"colorbar\":{\"outlinewidth\":1,\"tickcolor\":\"rgb(36,36,36)\",\"ticks\":\"outside\"}},\"type\":\"scatter3d\"}],\"scattercarpet\":[{\"marker\":{\"colorbar\":{\"outlinewidth\":1,\"tickcolor\":\"rgb(36,36,36)\",\"ticks\":\"outside\"}},\"type\":\"scattercarpet\"}],\"scattergeo\":[{\"marker\":{\"colorbar\":{\"outlinewidth\":1,\"tickcolor\":\"rgb(36,36,36)\",\"ticks\":\"outside\"}},\"type\":\"scattergeo\"}],\"scattergl\":[{\"marker\":{\"colorbar\":{\"outlinewidth\":1,\"tickcolor\":\"rgb(36,36,36)\",\"ticks\":\"outside\"}},\"type\":\"scattergl\"}],\"scattermapbox\":[{\"marker\":{\"colorbar\":{\"outlinewidth\":1,\"tickcolor\":\"rgb(36,36,36)\",\"ticks\":\"outside\"}},\"type\":\"scattermapbox\"}],\"scatterpolargl\":[{\"marker\":{\"colorbar\":{\"outlinewidth\":1,\"tickcolor\":\"rgb(36,36,36)\",\"ticks\":\"outside\"}},\"type\":\"scatterpolargl\"}],\"scatterpolar\":[{\"marker\":{\"colorbar\":{\"outlinewidth\":1,\"tickcolor\":\"rgb(36,36,36)\",\"ticks\":\"outside\"}},\"type\":\"scatterpolar\"}],\"scatter\":[{\"fillpattern\":{\"fillmode\":\"overlay\",\"size\":10,\"solidity\":0.2},\"type\":\"scatter\"}],\"scatterternary\":[{\"marker\":{\"colorbar\":{\"outlinewidth\":1,\"tickcolor\":\"rgb(36,36,36)\",\"ticks\":\"outside\"}},\"type\":\"scatterternary\"}],\"surface\":[{\"colorbar\":{\"outlinewidth\":1,\"tickcolor\":\"rgb(36,36,36)\",\"ticks\":\"outside\"},\"colorscale\":[[0.0,\"#440154\"],[0.1111111111111111,\"#482878\"],[0.2222222222222222,\"#3e4989\"],[0.3333333333333333,\"#31688e\"],[0.4444444444444444,\"#26828e\"],[0.5555555555555556,\"#1f9e89\"],[0.6666666666666666,\"#35b779\"],[0.7777777777777778,\"#6ece58\"],[0.8888888888888888,\"#b5de2b\"],[1.0,\"#fde725\"]],\"type\":\"surface\"}],\"table\":[{\"cells\":{\"fill\":{\"color\":\"rgb(237,237,237)\"},\"line\":{\"color\":\"white\"}},\"header\":{\"fill\":{\"color\":\"rgb(217,217,217)\"},\"line\":{\"color\":\"white\"}},\"type\":\"table\"}]},\"layout\":{\"annotationdefaults\":{\"arrowhead\":0,\"arrowwidth\":1},\"autotypenumbers\":\"strict\",\"coloraxis\":{\"colorbar\":{\"outlinewidth\":1,\"tickcolor\":\"rgb(36,36,36)\",\"ticks\":\"outside\"}},\"colorscale\":{\"diverging\":[[0.0,\"rgb(103,0,31)\"],[0.1,\"rgb(178,24,43)\"],[0.2,\"rgb(214,96,77)\"],[0.3,\"rgb(244,165,130)\"],[0.4,\"rgb(253,219,199)\"],[0.5,\"rgb(247,247,247)\"],[0.6,\"rgb(209,229,240)\"],[0.7,\"rgb(146,197,222)\"],[0.8,\"rgb(67,147,195)\"],[0.9,\"rgb(33,102,172)\"],[1.0,\"rgb(5,48,97)\"]],\"sequential\":[[0.0,\"#440154\"],[0.1111111111111111,\"#482878\"],[0.2222222222222222,\"#3e4989\"],[0.3333333333333333,\"#31688e\"],[0.4444444444444444,\"#26828e\"],[0.5555555555555556,\"#1f9e89\"],[0.6666666666666666,\"#35b779\"],[0.7777777777777778,\"#6ece58\"],[0.8888888888888888,\"#b5de2b\"],[1.0,\"#fde725\"]],\"sequentialminus\":[[0.0,\"#440154\"],[0.1111111111111111,\"#482878\"],[0.2222222222222222,\"#3e4989\"],[0.3333333333333333,\"#31688e\"],[0.4444444444444444,\"#26828e\"],[0.5555555555555556,\"#1f9e89\"],[0.6666666666666666,\"#35b779\"],[0.7777777777777778,\"#6ece58\"],[0.8888888888888888,\"#b5de2b\"],[1.0,\"#fde725\"]]},\"colorway\":[\"#1F77B4\",\"#FF7F0E\",\"#2CA02C\",\"#D62728\",\"#9467BD\",\"#8C564B\",\"#E377C2\",\"#7F7F7F\",\"#BCBD22\",\"#17BECF\"],\"font\":{\"color\":\"rgb(36,36,36)\"},\"geo\":{\"bgcolor\":\"white\",\"lakecolor\":\"white\",\"landcolor\":\"white\",\"showlakes\":true,\"showland\":true,\"subunitcolor\":\"white\"},\"hoverlabel\":{\"align\":\"left\"},\"hovermode\":\"closest\",\"mapbox\":{\"style\":\"light\"},\"paper_bgcolor\":\"white\",\"plot_bgcolor\":\"white\",\"polar\":{\"angularaxis\":{\"gridcolor\":\"rgb(232,232,232)\",\"linecolor\":\"rgb(36,36,36)\",\"showgrid\":false,\"showline\":true,\"ticks\":\"outside\"},\"bgcolor\":\"white\",\"radialaxis\":{\"gridcolor\":\"rgb(232,232,232)\",\"linecolor\":\"rgb(36,36,36)\",\"showgrid\":false,\"showline\":true,\"ticks\":\"outside\"}},\"scene\":{\"xaxis\":{\"backgroundcolor\":\"white\",\"gridcolor\":\"rgb(232,232,232)\",\"gridwidth\":2,\"linecolor\":\"rgb(36,36,36)\",\"showbackground\":true,\"showgrid\":false,\"showline\":true,\"ticks\":\"outside\",\"zeroline\":false,\"zerolinecolor\":\"rgb(36,36,36)\"},\"yaxis\":{\"backgroundcolor\":\"white\",\"gridcolor\":\"rgb(232,232,232)\",\"gridwidth\":2,\"linecolor\":\"rgb(36,36,36)\",\"showbackground\":true,\"showgrid\":false,\"showline\":true,\"ticks\":\"outside\",\"zeroline\":false,\"zerolinecolor\":\"rgb(36,36,36)\"},\"zaxis\":{\"backgroundcolor\":\"white\",\"gridcolor\":\"rgb(232,232,232)\",\"gridwidth\":2,\"linecolor\":\"rgb(36,36,36)\",\"showbackground\":true,\"showgrid\":false,\"showline\":true,\"ticks\":\"outside\",\"zeroline\":false,\"zerolinecolor\":\"rgb(36,36,36)\"}},\"shapedefaults\":{\"fillcolor\":\"black\",\"line\":{\"width\":0},\"opacity\":0.3},\"ternary\":{\"aaxis\":{\"gridcolor\":\"rgb(232,232,232)\",\"linecolor\":\"rgb(36,36,36)\",\"showgrid\":false,\"showline\":true,\"ticks\":\"outside\"},\"baxis\":{\"gridcolor\":\"rgb(232,232,232)\",\"linecolor\":\"rgb(36,36,36)\",\"showgrid\":false,\"showline\":true,\"ticks\":\"outside\"},\"bgcolor\":\"white\",\"caxis\":{\"gridcolor\":\"rgb(232,232,232)\",\"linecolor\":\"rgb(36,36,36)\",\"showgrid\":false,\"showline\":true,\"ticks\":\"outside\"}},\"title\":{\"x\":0.05},\"xaxis\":{\"automargin\":true,\"gridcolor\":\"rgb(232,232,232)\",\"linecolor\":\"rgb(36,36,36)\",\"showgrid\":false,\"showline\":true,\"ticks\":\"outside\",\"title\":{\"standoff\":15},\"zeroline\":false,\"zerolinecolor\":\"rgb(36,36,36)\"},\"yaxis\":{\"automargin\":true,\"gridcolor\":\"rgb(232,232,232)\",\"linecolor\":\"rgb(36,36,36)\",\"showgrid\":false,\"showline\":true,\"ticks\":\"outside\",\"title\":{\"standoff\":15},\"zeroline\":false,\"zerolinecolor\":\"rgb(36,36,36)\"}}},\"xaxis\":{\"anchor\":\"y\",\"domain\":[0.0,1.0],\"title\":{\"text\":\"\"},\"visible\":false,\"range\":[12.421807050704956,18.536864757537842]},\"yaxis\":{\"anchor\":\"x\",\"domain\":[0.0,1.0],\"title\":{\"text\":\"\"},\"visible\":false,\"range\":[34.63972110748291,48.47345371246338]},\"legend\":{\"tracegroupgap\":0,\"itemsizing\":\"constant\"},\"margin\":{\"t\":60},\"title\":{\"font\":{\"size\":22,\"color\":\"Black\"},\"text\":\"\\u003cb\\u003eIntertopic Distance Map\\u003c\\u002fb\\u003e\",\"y\":0.95,\"x\":0.5,\"xanchor\":\"center\",\"yanchor\":\"top\"},\"hoverlabel\":{\"font\":{\"size\":16,\"family\":\"Rockwell\"},\"bgcolor\":\"white\"},\"width\":650,\"height\":650,\"sliders\":[{\"active\":0,\"pad\":{\"t\":50},\"steps\":[{\"args\":[{\"marker.color\":[[\"red\",\"#B0BEC5\",\"#B0BEC5\",\"#B0BEC5\",\"#B0BEC5\"]]}],\"label\":\"Topic 0\",\"method\":\"update\"},{\"args\":[{\"marker.color\":[[\"#B0BEC5\",\"red\",\"#B0BEC5\",\"#B0BEC5\",\"#B0BEC5\"]]}],\"label\":\"Topic 1\",\"method\":\"update\"},{\"args\":[{\"marker.color\":[[\"#B0BEC5\",\"#B0BEC5\",\"red\",\"#B0BEC5\",\"#B0BEC5\"]]}],\"label\":\"Topic 2\",\"method\":\"update\"},{\"args\":[{\"marker.color\":[[\"#B0BEC5\",\"#B0BEC5\",\"#B0BEC5\",\"red\",\"#B0BEC5\"]]}],\"label\":\"Topic 3\",\"method\":\"update\"},{\"args\":[{\"marker.color\":[[\"#B0BEC5\",\"#B0BEC5\",\"#B0BEC5\",\"#B0BEC5\",\"red\"]]}],\"label\":\"Topic 4\",\"method\":\"update\"}]}],\"shapes\":[{\"line\":{\"color\":\"#CFD8DC\",\"width\":2},\"type\":\"line\",\"x0\":15.479335904121399,\"x1\":15.479335904121399,\"y0\":34.63972110748291,\"y1\":48.47345371246338},{\"line\":{\"color\":\"#9E9E9E\",\"width\":2},\"type\":\"line\",\"x0\":12.421807050704956,\"x1\":18.536864757537842,\"y0\":41.55658740997315,\"y1\":41.55658740997315}],\"annotations\":[{\"showarrow\":false,\"text\":\"D1\",\"x\":12.421807050704956,\"y\":41.55658740997315,\"yshift\":10},{\"showarrow\":false,\"text\":\"D2\",\"x\":15.479335904121399,\"xshift\":10,\"y\":48.47345371246338}]},                        {\"responsive\": true}                    ).then(function(){\n",
       "                            \n",
       "var gd = document.getElementById('ca6f2112-3252-4fff-85d3-c80c70c9d367');\n",
       "var x = new MutationObserver(function (mutations, observer) {{\n",
       "        var display = window.getComputedStyle(gd).display;\n",
       "        if (!display || display === 'none') {{\n",
       "            console.log([gd, 'removed!']);\n",
       "            Plotly.purge(gd);\n",
       "            observer.disconnect();\n",
       "        }}\n",
       "}});\n",
       "\n",
       "// Listen for the removal of the full notebook cells\n",
       "var notebookContainer = gd.closest('#notebook-container');\n",
       "if (notebookContainer) {{\n",
       "    x.observe(notebookContainer, {childList: true});\n",
       "}}\n",
       "\n",
       "// Listen for the clearing of the current output cell\n",
       "var outputEl = gd.closest('.output');\n",
       "if (outputEl) {{\n",
       "    x.observe(outputEl, {childList: true});\n",
       "}}\n",
       "\n",
       "                        })                };                });            </script>        </div>"
      ]
     },
     "metadata": {},
     "output_type": "display_data"
    }
   ],
   "execution_count": 47
  }
 ],
 "metadata": {
  "kernelspec": {
   "display_name": "ml_angew_programm",
   "language": "python",
   "name": "python3"
  },
  "language_info": {
   "codemirror_mode": {
    "name": "ipython",
    "version": 3
   },
   "file_extension": ".py",
   "mimetype": "text/x-python",
   "name": "python",
   "nbconvert_exporter": "python",
   "pygments_lexer": "ipython3",
   "version": "3.8.19"
  }
 },
 "nbformat": 4,
 "nbformat_minor": 2
}
