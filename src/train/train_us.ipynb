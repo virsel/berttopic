{
 "cells": [
  {
   "cell_type": "code",
   "execution_count": 1,
   "metadata": {
    "ExecuteTime": {
     "end_time": "2024-05-18T14:12:47.541930Z",
     "start_time": "2024-05-18T14:12:46.918893Z"
    }
   },
   "outputs": [],
   "source": [
    "import pandas as pd\n",
    "\n",
    "data_path = \"D:/studium/analyse/data_prep/src/_2_preproc_pipeline_en/data_preprocessed/1_txt_cleaning_us.csv\"\n",
    "df = pd.read_csv(data_path)"
   ]
  },
  {
   "cell_type": "code",
   "execution_count": 2,
   "metadata": {
    "ExecuteTime": {
     "end_time": "2024-05-18T14:12:47.573176Z",
     "start_time": "2024-05-18T14:12:47.541930Z"
    }
   },
   "outputs": [
    {
     "data": {
      "text/html": [
       "<div>\n",
       "<style scoped>\n",
       "    .dataframe tbody tr th:only-of-type {\n",
       "        vertical-align: middle;\n",
       "    }\n",
       "\n",
       "    .dataframe tbody tr th {\n",
       "        vertical-align: top;\n",
       "    }\n",
       "\n",
       "    .dataframe thead th {\n",
       "        text-align: right;\n",
       "    }\n",
       "</style>\n",
       "<table border=\"1\" class=\"dataframe\">\n",
       "  <thead>\n",
       "    <tr style=\"text-align: right;\">\n",
       "      <th></th>\n",
       "      <th>id</th>\n",
       "      <th>pub_year</th>\n",
       "      <th>text_preproc1</th>\n",
       "    </tr>\n",
       "  </thead>\n",
       "  <tbody>\n",
       "    <tr>\n",
       "      <th>0</th>\n",
       "      <td>US020240139944A1</td>\n",
       "      <td>2024</td>\n",
       "      <td>ROBOTIC ARM OPERATING SYSTEM. The robotic arm operating system includes a control device, a plurality of joint devices and a brake release monitoring device. The control device is used to generate an operation instruction. The joint device is coupled to the control device. Each joint device includes a motor and a driver. The drivers of the joint devices receive the operation instruction to generate corresponding multiple unlocking signals. The unlocking signals are used to release a braking state of the motors of the corresponding joint devices. The brake release monitoring device is coupled to the control device and the joint devices, and includes a plurality of monitoring circuits. When one of the plurality of monitoring circuits does not receive the corresponding unlocking signal, the brake release monitoring device notifies the control device that the operation instruction is not allowed.</td>\n",
       "    </tr>\n",
       "    <tr>\n",
       "      <th>1</th>\n",
       "      <td>US020240139768A1</td>\n",
       "      <td>2024</td>\n",
       "      <td>COATING DEVICE AND CORRESPONDING COATING PROCESS. The disclosure concerns a coating device and a corresponding coating process for coating components, in particular motor vehicle body components, with a coating agent, with a coating robot with a first printhead which is mounted on the coating robot. The disclosure provides that the first printhead is exchangeably mounted on the coating robot and can be exchanged for a second printhead during a color change. Another variant of the disclosure, on the other hand, provides for a second printhead to be mounted on the coating robot in addition to the first printhead, the two printheads each applying a specific coating agent in order to enable a color change without changing the printhead.</td>\n",
       "    </tr>\n",
       "    <tr>\n",
       "      <th>2</th>\n",
       "      <td>US020240139853A1</td>\n",
       "      <td>2024</td>\n",
       "      <td>TIP SEPARATION APPARATUS OF WELDING GUN. Disclosed is a tip separation apparatus of a welding gun, which mechanically separates consumable tips installed at the end of the welding gun in a robot welding machine. The tip separation apparatus includes tip seating stands coupled to a main plate configured to maintain level, and configured such that each of the tip seating stands has a first insertion hole, into which a corresponding one of tips coupled to fingers of the welding gun is inserted, tip separation units rotatably disposed on bottom surfaces of the tip seating stands and configured to press outer circumferential surfaces of the tips inserted into the first insertion holes of the tip seating stands so as to clamp the tips and to rotate the clamped tips so as to separate the tips from the welding gun, and a housing configured to rotatably receive the tip separation units in a state of being elastically supported.</td>\n",
       "    </tr>\n",
       "    <tr>\n",
       "      <th>3</th>\n",
       "      <td>US020240139933A1</td>\n",
       "      <td>2024</td>\n",
       "      <td>DEVICE AND METHOD FOR CONTROLLED MOTION OF A TOOL. The present invention relates to devices and methods for controlled motion of a tool. In one embodiment, the device can support a tool needed to perform an activity requiring a highly precise, stable motion, while also accommodating a person' s hand for the purposes of moving the tool. In another embodiment, the device of the present invention allows for rotational motion of a tool independently of the directive motion of the tool. In yet another embodiment, the present invention relates to the design of a force transducer useful in a cooperative robot. The device and methods of the present invention are particularly useful for microsurgery or other tasks that are typically performed using cooperative robotics.</td>\n",
       "    </tr>\n",
       "    <tr>\n",
       "      <th>4</th>\n",
       "      <td>US020240139934A1</td>\n",
       "      <td>2024</td>\n",
       "      <td>TEACHING METHOD, PROGRAM STORED IN THE MEDIUM FOR EXECUTING THE TEACHING METHOD AND TRANSFER SYSTEM. The inventive concept provides a teaching method for teaching a transfer position of a transfer robot. The teaching method includes: searching for an object on which a target object to be transferred by the transfer robot is placed, based on a D position information acquired by a first sensor, and acquiring coordinates of a second direction and coordinates of a third direction of the object based on a data acquired from a second sensor which is a different type from the first sensor.</td>\n",
       "    </tr>\n",
       "  </tbody>\n",
       "</table>\n",
       "</div>"
      ],
      "text/plain": [
       "                 id  pub_year  \\\n",
       "0  US020240139944A1      2024   \n",
       "1  US020240139768A1      2024   \n",
       "2  US020240139853A1      2024   \n",
       "3  US020240139933A1      2024   \n",
       "4  US020240139934A1      2024   \n",
       "\n",
       "                                                                                                                                                                                                                                                                                                                                                                                                                                                                                                                                                                                                                                                                                                                                                                                                                                                                                                                                                          text_preproc1  \n",
       "0                             ROBOTIC ARM OPERATING SYSTEM. The robotic arm operating system includes a control device, a plurality of joint devices and a brake release monitoring device. The control device is used to generate an operation instruction. The joint device is coupled to the control device. Each joint device includes a motor and a driver. The drivers of the joint devices receive the operation instruction to generate corresponding multiple unlocking signals. The unlocking signals are used to release a braking state of the motors of the corresponding joint devices. The brake release monitoring device is coupled to the control device and the joint devices, and includes a plurality of monitoring circuits. When one of the plurality of monitoring circuits does not receive the corresponding unlocking signal, the brake release monitoring device notifies the control device that the operation instruction is not allowed.  \n",
       "1                                                                                                                                                                                                COATING DEVICE AND CORRESPONDING COATING PROCESS. The disclosure concerns a coating device and a corresponding coating process for coating components, in particular motor vehicle body components, with a coating agent, with a coating robot with a first printhead which is mounted on the coating robot. The disclosure provides that the first printhead is exchangeably mounted on the coating robot and can be exchanged for a second printhead during a color change. Another variant of the disclosure, on the other hand, provides for a second printhead to be mounted on the coating robot in addition to the first printhead, the two printheads each applying a specific coating agent in order to enable a color change without changing the printhead.  \n",
       "2  TIP SEPARATION APPARATUS OF WELDING GUN. Disclosed is a tip separation apparatus of a welding gun, which mechanically separates consumable tips installed at the end of the welding gun in a robot welding machine. The tip separation apparatus includes tip seating stands coupled to a main plate configured to maintain level, and configured such that each of the tip seating stands has a first insertion hole, into which a corresponding one of tips coupled to fingers of the welding gun is inserted, tip separation units rotatably disposed on bottom surfaces of the tip seating stands and configured to press outer circumferential surfaces of the tips inserted into the first insertion holes of the tip seating stands so as to clamp the tips and to rotate the clamped tips so as to separate the tips from the welding gun, and a housing configured to rotatably receive the tip separation units in a state of being elastically supported.  \n",
       "3                                                                                                                                                                   DEVICE AND METHOD FOR CONTROLLED MOTION OF A TOOL. The present invention relates to devices and methods for controlled motion of a tool. In one embodiment, the device can support a tool needed to perform an activity requiring a highly precise, stable motion, while also accommodating a person' s hand for the purposes of moving the tool. In another embodiment, the device of the present invention allows for rotational motion of a tool independently of the directive motion of the tool. In yet another embodiment, the present invention relates to the design of a force transducer useful in a cooperative robot. The device and methods of the present invention are particularly useful for microsurgery or other tasks that are typically performed using cooperative robotics.  \n",
       "4                                                                                                                                                                                                                                                                                                                                                         TEACHING METHOD, PROGRAM STORED IN THE MEDIUM FOR EXECUTING THE TEACHING METHOD AND TRANSFER SYSTEM. The inventive concept provides a teaching method for teaching a transfer position of a transfer robot. The teaching method includes: searching for an object on which a target object to be transferred by the transfer robot is placed, based on a D position information acquired by a first sensor, and acquiring coordinates of a second direction and coordinates of a third direction of the object based on a data acquired from a second sensor which is a different type from the first sensor.  "
      ]
     },
     "execution_count": 2,
     "metadata": {},
     "output_type": "execute_result"
    }
   ],
   "source": [
    "pd.set_option('display.max_colwidth', None)\n",
    "df.head()"
   ]
  },
  {
   "cell_type": "code",
   "execution_count": 3,
   "metadata": {
    "ExecuteTime": {
     "end_time": "2024-05-18T14:13:03.358455Z",
     "start_time": "2024-05-18T14:12:47.573176Z"
    }
   },
   "outputs": [],
   "source": [
    "from bertopic import BERTopic"
   ]
  },
  {
   "cell_type": "code",
   "execution_count": 4,
   "metadata": {
    "ExecuteTime": {
     "end_time": "2024-05-18T14:13:07.124262Z",
     "start_time": "2024-05-18T14:13:03.358455Z"
    }
   },
   "outputs": [],
   "source": [
    "from sentence_transformers import SentenceTransformer\n",
    "\n",
    "model = SentenceTransformer('all-MiniLM-L6-v2')"
   ]
  },
  {
   "cell_type": "code",
   "execution_count": 5,
   "metadata": {
    "ExecuteTime": {
     "end_time": "2024-05-18T14:13:07.139895Z",
     "start_time": "2024-05-18T14:13:07.124262Z"
    }
   },
   "outputs": [],
   "source": [
    "texts = df['text_preproc1'].tolist()"
   ]
  },
  {
   "cell_type": "code",
   "execution_count": 6,
   "metadata": {
    "ExecuteTime": {
     "end_time": "2024-05-18T17:22:01.959475Z",
     "start_time": "2024-05-18T17:22:01.943849Z"
    }
   },
   "outputs": [],
   "source": [
    "import hdbscan\n",
    "\n",
    "# Define your HDBSCAN model with adjusted parameters\n",
    "hdbscan_model = hdbscan.HDBSCAN(min_cluster_size=30, min_samples=2, cluster_selection_epsilon=0.1)"
   ]
  },
  {
   "cell_type": "code",
   "execution_count": 16,
   "metadata": {
    "ExecuteTime": {
     "end_time": "2024-05-18T17:30:46.505526Z",
     "start_time": "2024-05-18T17:30:46.490022Z"
    }
   },
   "outputs": [],
   "source": [
    "from umap import UMAP\n",
    "\n",
    "umap_model = UMAP(n_neighbors=10, min_dist=0.0, n_components=2, random_state=42)"
   ]
  },
  {
   "cell_type": "code",
   "execution_count": 17,
   "metadata": {
    "ExecuteTime": {
     "end_time": "2024-05-18T17:30:46.521239Z",
     "start_time": "2024-05-18T17:30:46.506236Z"
    }
   },
   "outputs": [],
   "source": [
    "topic_model = BERTopic(embedding_model=model, hdbscan_model=hdbscan_model, umap_model=umap_model)"
   ]
  },
  {
   "cell_type": "code",
   "execution_count": 18,
   "metadata": {
    "ExecuteTime": {
     "end_time": "2024-05-18T17:31:30.121005Z",
     "start_time": "2024-05-18T17:30:46.521239Z"
    }
   },
   "outputs": [],
   "source": [
    "topics, probabilities = topic_model.fit_transform(texts)"
   ]
  },
  {
   "cell_type": "code",
   "execution_count": 24,
   "metadata": {
    "ExecuteTime": {
     "end_time": "2024-05-18T17:31:30.152219Z",
     "start_time": "2024-05-18T17:31:30.121005Z"
    }
   },
   "outputs": [
    {
     "data": {
      "text/html": [
       "<div>\n",
       "<style scoped>\n",
       "    .dataframe tbody tr th:only-of-type {\n",
       "        vertical-align: middle;\n",
       "    }\n",
       "\n",
       "    .dataframe tbody tr th {\n",
       "        vertical-align: top;\n",
       "    }\n",
       "\n",
       "    .dataframe thead th {\n",
       "        text-align: right;\n",
       "    }\n",
       "</style>\n",
       "<table border=\"1\" class=\"dataframe\">\n",
       "  <thead>\n",
       "    <tr style=\"text-align: right;\">\n",
       "      <th></th>\n",
       "      <th>Topic</th>\n",
       "      <th>Count</th>\n",
       "      <th>Name</th>\n",
       "      <th>Representation</th>\n",
       "      <th>Representative_Docs</th>\n",
       "    </tr>\n",
       "  </thead>\n",
       "  <tbody>\n",
       "    <tr>\n",
       "      <th>0</th>\n",
       "      <td>-1</td>\n",
       "      <td>831</td>\n",
       "      <td>-1_the_of_and_to</td>\n",
       "      <td>[the, of, and, to, in, is, for, robot, system, robotic]</td>\n",
       "      <td>[ROBOTIC PACKAGE HANDLING SYSTEMS AND METHODS. One embodiment is directed to robotic package handling system, comprising: a. a robotic arm comprising a distal portion and a proximal base portion, b. an end effector coupled to the distal portion of the robotic arm, c. a place structure positioned in geometric proximity to the distal portion of the robotic arm, d. a pick structure in contact with one or more packages and positioned in geometric proximity to the distal portion of the robotic arm, e. a first imaging device positioned and oriented to capture image information pertaining to the pick structure and one or more packages, f. a first computing system operatively coupled to the robotic arm and the first imaging device, and configured to receive the image information from the first imaging device and command movements of the robotic arm based at least in part upon the image information, wherein the first computing system is configured to operate the robotic arm and end effector to conduct a grasp of a targeted package of., Robotic fire extinguisher. Provided is provide a robotic device, including: a chassis, a set of wheels, a control system, a battery, one or more sensors, a processor, a tangible, non transitory, machine readable medium storing instructions that when executed by the processor effectuates operations including: capturing, with the one or more sensors, data of an environment of the robotic device and data indicative of movement of the robotic device, generating or updating, with the processor, a map of the environment based on at least a portion of the captured data, inferring, with the one or more processors of the robotic device, a current location of the robotic device, and generating or updating, with the processor, a movement path of the robotic device based on at least the map of the environment, at least a portion of the captured data, and the inferred current location of the robotic device., SOLAR PANEL HANDLING SYSTEM. A system for installing a solar panel may include a first end of arm assembly tool coupled to a first robotic arm and part of a first assembly robot and a second end of arm assembly tool coupled to a second robotic arm and part of a second assembly robot. The first and the second end of arm assembly tools have different tooling and perform different functions to assembly solar panels to support structure. The first assembly robot and the second assembly robot may be located on autonomous and non autonomous vehicles and the various components can be operated by a control system based on operation instructions received from a neural network.]</td>\n",
       "    </tr>\n",
       "    <tr>\n",
       "      <th>1</th>\n",
       "      <td>0</td>\n",
       "      <td>2295</td>\n",
       "      <td>0_robot_of_the_control</td>\n",
       "      <td>[robot, of, the, control, and, to, method, on, for, an]</td>\n",
       "      <td>[Robot and method for controlling the same. A robot and a method for controlling the robot are provided. The robot includes: at least one motor provided in the robot, a camera configured to capture an image of a door, and a processor configured to determine, on the basis of at least one of depth information and a feature point identified from the image, a target position not overlapping with a moving area of the door, and control the at least one motor such that predetermined operations are performed with respect to the target position. The feature point includes at least one of a handle and a hinge of the door., Robotic system architecture and control processes. A system includes a first sensor having a fixed location relative to a workspace, a second sensor, at least one robotic manipulator coupled to a manipulation tool, and a control system in communication with the at least one robotic manipulator. The control system is configured to determine a location of a workpiece in the workspace based on first sensor data from the first sensor and a three dimensional model corresponding to the workpiece. The control system is configured to map a set of D coordinates from a second D image from the second sensor to a set of D coordinates based on the location, and to generate one or more control signals for the at least one robotic manipulator based on the set of D coordinates., ROBOT AND METHOD FOR CONTROLLING THEREOF. A robot is provided. The robot includes an image sensor, a driving part, a memory configured to store at least one instruction, and a processor, and the processor is configured to obtain a first image captured by the image sensor, obtain first information on an object included in the first image, control the driving part for the robot to approach the object, obtain a second image while the robot is approaching the object, obtain second information on an object based on the second image, determine whether an error is present in first information or second information based on the first information and the second information, and control an operation of the robot based on a determination result.]</td>\n",
       "    </tr>\n",
       "    <tr>\n",
       "      <th>2</th>\n",
       "      <td>1</td>\n",
       "      <td>1306</td>\n",
       "      <td>1_surgical_instrument_robotic_the</td>\n",
       "      <td>[surgical, instrument, robotic, the, to, and, tool, of, system, end]</td>\n",
       "      <td>[SYSTEM AND METHOD FOR INTEGRATED CONTROL OF D VISUALIZATION THROUGH A SURGICAL ROBOTIC SYSTEM. A surgical robotic system includes a control tower, a mobile cart, and a surgical console. The mobile cart is coupled to the control tower and includes a surgical robotic arm. The surgical robotic arm includes a surgical instrument and an image capture device. The surgical instrument is actuatable in response to a user input and configured to treat a target tissue in real time. The image capture device for capturing at least one of images or video of the target tissue in real time. The surgical console includes a user input device for generating a user input, and a controller. The controller is operably coupled to the user input device and configured to switch, based on the user input, from a first mode to a second mode, and from the second mode to the first mode., ROBOTIC SURGICAL SYSTEM WITH REMOVABLE PORTION AND METHOD OF DISASSEMBLING SAME. A robotic surgical system including a controller, a surgical instrument, and a tool. The surgical instrument is configured to interact with a patient. The surgical instrument is operatively coupled with the controller. The tool is operatively coupled with the robotic surgical system. The tool includes a disassembly feature. The disassembly feature of the tool is configured to disconnect at least a portion of the surgical instrument from the robotic surgical system in response to instructions from the controller., SURGICAL ROBOT, AND SURGICAL ROBOT SYSTEM. A surgical robot and a surgical robot system is disclosed. The surgical robot comprises a first robot arm, a second robot arm connected to the end of the first robot arm and used for mounting and controlling the motion posture of a surgical instrument, and a controller that controls the motion of the axes of the first robot arm and the second robot arm, wherein the end of the first robot arm is provided with a linear guide portion for the second robot arm to move linearly, and the first robot arm is connected to the end of the linear guide portion that is close to the second robot arm and used for mounting an end of the surgical instrument.]</td>\n",
       "    </tr>\n",
       "    <tr>\n",
       "      <th>3</th>\n",
       "      <td>2</td>\n",
       "      <td>627</td>\n",
       "      <td>2_cleaning_cleaner_the_robot</td>\n",
       "      <td>[cleaning, cleaner, the, robot, and, body, to, floor, is, surface]</td>\n",
       "      <td>[Pad Cleaning System for Robotic Vacuum Cleaners. A docking station for a mobile cleaning robot can include a base portion configured to receive the mobile cleaning robot. The docking station can include a housing connected to the base portion and a pad cleaning system. The pad cleaning system can be connected to the housing and can include a cleaning head engageable with a cleaning pad of the mobile cleaning robot to remove debris from the cleaning pad, the cleaning head can include a nozzle configured to discharge a fluid onto the cleaning pad., MAINTENANCE ALERTS FOR AUTONOMOUS CLEANING ROBOTS. A robot cleaning system includes a mobile cleaning robot, a robot docking station, and a camera. The mobile cleaning robot includes a drive operable to move the mobile cleaning robot across a floor surface, a cleaning assembly configured to clean the floor surface, and a debris bin. The robot docking station includes a housing and a platform defined in the housing, the platform configured to receive the mobile cleaning robot in a docking position. The camera is configured to capture imagery of an underside of the mobile cleaning robot. In some implementations, the camera is disposed on or within the mobile cleaning robot. In some implementations, the camera is disposed in the platform of the robot docking station., PAD CLEANING SYSTEM FOR ROBOTIC VACUUM CLEANERS. A docking station for a mobile cleaning robot can include a base portion configured to receive the mobile cleaning robot. The docking station can include a housing connected to the base portion and a pad cleaning system. The pad cleaning system can be connected to the housing and can include a cleaning head engageable with a cleaning pad of the mobile cleaning robot to remove debris from the cleaning pad, the cleaning head can include a nozzle configured to discharge a fluid onto the cleaning pad.]</td>\n",
       "    </tr>\n",
       "    <tr>\n",
       "      <th>4</th>\n",
       "      <td>3</td>\n",
       "      <td>536</td>\n",
       "      <td>3_storage_container_delivery_transport</td>\n",
       "      <td>[storage, container, delivery, transport, and, the, to, item, system, picking]</td>\n",
       "      <td>[Delivery system with an access point and a method of accessing an access point of the delivery system. An automated storage and retrieval system includes a storage grid for storage of storage containers and a delivery system for transport of said storage containers between a delivery port of the storage grid and an access point of the delivery system. The access point is adapted for handling of items held in the storage containers by a robotic operator or human operator. The delivery system includes a delivery rail system including at least a first set of parallel rails arranged in a horizontal plane and extending in a first direction, and at least a second set of parallel rails arranged in the horizontal plane and extending in a second direction which is orthogonal to the first direction, the first and second sets of rails together defining a delivery grid of delivery grid cells, the access point, and a remotely operated delivery vehicle comprising a motorized vehicle body and a container carrier provided above the motorized vehicle body for carrying a storage., STORAGE SYSTEM. A storage system for storing product items includes a grid structure and a number of first storage bins configured to be stored in vertical stacks in the grid structure. Each first storage bin is configured to contain at least one product item. A vehicle is arranged to move horizontally at the top level of the grid structure, and further arranged to pick up, carry, and place the first storage bins at desired locations within the grid structure. The storage system further includes a robot device that includes a movable arm with a picking mechanism in one end thereof. The robot device is configured to move a storage item between a first location and a second location by means of its picking mechanism. The first location is the location of a first storage bin stored in the storage grid., DELIVERY VEHICLE, AN AUTOMATED STORAGE AND RETRIEVAL SYSTEM AND A METHOD OF TRANSPORTING STORAGE CONTAINERS BETWEEN AN AUTOMATED STORAGE AND RETRIEVAL GRID AND A SECOND LOCATION. A remotely operated delivery vehicle transports a storage container between a location directly below an automated storage and retrieval grid configured to store a plurality of stacks of storage containers, and a second location for handling of the storage container by at least one of a robotic operator and a human operator. The remotely operated delivery vehicle may include a rolling devices configured to move the remotely operated delivery vehicle in a horizontal plane along tracks of a delivery rail system. Additionally, rolling device motors are provided for driving the rolling devices. A power source provides propulsion power to the rolling device motors. A container carrier receives the storage container from above and onto or at least partly into the container carrier so that contents of the storage container are accessible by the at least one of the robotic operator and the human operator.]</td>\n",
       "    </tr>\n",
       "    <tr>\n",
       "      <th>5</th>\n",
       "      <td>4</td>\n",
       "      <td>415</td>\n",
       "      <td>4_second_first_arm_member</td>\n",
       "      <td>[second, first, arm, member, gear, the, joint, axis, and, shaft]</td>\n",
       "      <td>[Robot having arm with offset. An apparatus including a robot drive, a first arm connected to the robot drive, and a second arm connected to the robot drive. The first arm includes a first upper arm, a first forearm and a first end effector. The second arm includes a second upper arm, a second forearm and a second end effector. The first and second upper arms are connected to a first drive shaft of the robot drive. The first and second upper arms are either a same member or two members stationarily connected to one another. While the first arm is being extended and retracted, straight movement of the first end effector is provided relative to the robot drive along an axis which intersects a drive axis of the robot drive, where a wrist joint of the first arm does not intersect the drive axis while the first arm is being extended and retracted., Robot. A robot includes a first joint member, a second joint member connecting a second arm member and a third arm member, a third joint member connecting the third arm member and a flange, a first link having one end connected to the second joint member and another end connected to the third joint member, a second link having one end connected to the second joint member, a counter weight connected to another end of the second link and the first joint member, and including a motor rotating the third arm member, on a side opposite to the first joint member with the other end of the second link as a base point, and a transmission member transmitting rotating force generated by the motor to the third arm member through the first joint member, the second arm member, and the second joint member., ARM STRUCTURE OF INDUSTRIAL ROBOT. Provided is an arm structure of an industrial robot in which the same wrist element is enabled to have a plurality of types of characteristics, thus allowing a variation model to be readily implemented. An arm structure of an industrial robot with a plurality of wrist elements, the arm structure being provided with, in a housing: a first motor and a second motor that drive the plurality of wrist elements respectively, a first gear that is attached to a first output shaft of the first motor and has an external diameter equal to that of the first output shaft, and a second gear that is attached to a second output shaft of the second motor and has an external diameter equal to that of the second output shaft. The second motor is disposed in front of the first motor and is disposed such that the axis of the second output shaft is laterally offset with respect to the axis of the first output shaft. A space portion is provided to the rear of each of the first motor and the second motor.]</td>\n",
       "    </tr>\n",
       "    <tr>\n",
       "      <th>6</th>\n",
       "      <td>5</td>\n",
       "      <td>215</td>\n",
       "      <td>5_automation_rpa_process_workflow</td>\n",
       "      <td>[automation, rpa, process, workflow, user, software, computing, application, for, may]</td>\n",
       "      <td>[METHODS AND SYSTEMS FOR MANAGING ROBOTIC PROCESS AUTOMATION. There is provided a method for managing a Robotics Process Automation robot. The method comprises: acquiring data associated with an operation metric of the RPA robot during execution of an automation workflow and determining an optimising action based on a policy and the acquired data associated with the operation metric of the RPA robot., System and computer implemented method for analyzing test automation workflow of robotic process automation. A system and a computer implemented method for analyzing workflow of test automation associated with a robotic process automation application are disclosed herein. The computer implemented method includes receiving the workflow of the test automation associated with the RPA application and analyzing, via an Artificial Intelligence model associated with a workflow analyzer module, the workflow of the test automation based on a set of pre defined test automation rules. The computer implemented method further includes determining one or more metrics associated with the analyzed workflow of the test automation and generating, via the AI model, corrective activity data based on the determined one or more metrics., Robotic process automation using virtual machine and programming language interpreter. Computerized robotic process automation methods and systems that increase the flexibility and lower the cost with which RPA systems may be deployed are disclosed herein. In one embodiment, an RPA system and method avoids the need for preinstalled RPA software on a device employed by a user to create and or execute software robots to perform RPA. In another embodiment, an RPA system and method provides a capability to execute software robots that may have been encoded in one or more programming languages to execute on an operating system different than that employed by a server of the RPA system.]</td>\n",
       "    </tr>\n",
       "    <tr>\n",
       "      <th>7</th>\n",
       "      <td>6</td>\n",
       "      <td>179</td>\n",
       "      <td>6_substrate_transfer_chamber_substrates</td>\n",
       "      <td>[substrate, transfer, chamber, substrates, processing, the, and, hand, apparatus, semiconductor]</td>\n",
       "      <td>[Transfer robot and substrate processing apparatus having the same. The present invention disclosed herein relates to a transfer robot and a substrate processing apparatus having the same, and more particularly, to a transfer robot for transferring a substrate through a transfer module and a substrate processing apparatus having the same. The substrate processing system according to the present invention includes: a transfer module provided with a transfer robot configured to transfer substrates, one or more dual process modules each of which is installed at one side of the transfer module so that two substrates are accessible at the same time and on which a pair of substrate support units configured to respectively seat the two substrates thereon are disposed horizontally, and one or more single process modules each of which is installed at one side of the transfer module so that one substrate is accessible and on which one or more substrate support units configured to seat the., SEMICONDUCTOR SUBSTRATE PROCESSING APPARATUS. A semiconductor substrate processing apparatus includes a substrate transfer module including a chamber having an internal space extending in a first direction within the chamber, at least one pair of first load ports at opposite sides of the chamber, to face in a second direction intersecting the first direction, and configured to rotate and move a substrate carrier, a load lock at a rear surface of the chamber, and a robot arm configured to move in the first direction in the internal space of the chamber, a transfer chamber connected to the load lock of the substrate transfer module, a plurality of processing chambers connected to the transfer chamber, and a transfer arm inside the transfer chamber, and configured to unload the semiconductor substrate from the load lock and to load the semiconductor substrate into at least one of the plurality of processing chambers., Substrate processing system, vacuum substrate transfer module, and substrate transfer method. A substrate processing system includes a substrate processing module, an atmospheric substrate transfer module, a first and a second vacuum substrate transfer module, a load lock module, and a vacuum substrate transfer robot. The first vacuum substrate transfer module having a first transfer space is disposed adjacent to the atmospheric substrate transfer module and the substrate processing module. The second vacuum substrate transfer module, having a second transfer space in communication with the first transfer space and external dimensions smaller than those of the first vacuum substrate transfer module in a plan view, is disposed on or under the first vacuum substrate transfer module. The load lock module is disposed between the atmospheric substrate transfer module and the second vacuum substrate transfer module. The vacuum substrate transfer robot is disposed in the first transfer space or the second transfer space to transfer a substrate.]</td>\n",
       "    </tr>\n",
       "    <tr>\n",
       "      <th>8</th>\n",
       "      <td>7</td>\n",
       "      <td>148</td>\n",
       "      <td>7_label_sample_tape_injection</td>\n",
       "      <td>[label, sample, tape, injection, container, reel, and, the, material, molding]</td>\n",
       "      <td>[APPARATUS AND METHODS FOR ALIGNING A ROBOTIC ARM WITH A SAMPLE TUBE CARRIER. Apparatus for robotic arm alignment in an automated sample analysis system includes a robotic arm, a sample tube carrier, a plurality of optical components, and a controller. The controller is operative to process images received from the optical components to determine a first set of coordinates of a first marker relative to the sample tube carrier and determine a second set of coordinates of a second marker relative to the robotic arm. The controller is further operative to adjust the position of the robotic arm and or the sample tube carrier in response to an excessive offset between the first and second sets of coordinates. In some embodiments, a positioning tool includes the first and second markers thereon. Methods of robotic arm alignment with a sample tube carrier in an automated sample analysis system are also provided, as are other aspects., ROBOTIC SAMPLE HANDLING SYSTEM. A robotic sample handling system may be provided for performing sample handling tasks in a laboratory environment. The system may comprise at least one robotic arm, which is controllable to be positioned in a plane parallel to a work area and along a Z axis perpendicular to the work area, and a controller configured to control the robotic arm to position and operate the robotic arm as part of a sample handling task. The work area may comprise a module for use with one or more of the samples, wherein the module comprises a mechanism which is actuatable by downward force, and wherein the controller is configured to control the robotic arm to actuate the mechanism by pushing downward in Z direction. For example, the module may be a stand for a sample container which comprise a push mechanism which may be operated by the robotic arm to bring the sample in the sample container in a vicinity of an effector, such as a magnet or a heat source., ROBOTIC PRODUCT LABELING SYSTEM. A system moves items, like containers and or pallets, through a label printing station. The station has a label printer that prints adhesive labels, and a robot arm terminating at a movable end with a suction pad or vacuum device and sensors. The station has at least one sensor configured to measure a height of the item, and a processor coupled to receive the height of the item, to control the robot arm and label printer, and to receive label information from a server. The processor has a memory containing code that computes desired label positions based on height of the container pallet. A method of labeling an item includes printing an adhesive label with the label information obtained from a server, receiving the adhesive label on a suction pad or vacuum device attached to a movable end of a robot arm, and determining a first labeling position from measured height of the container pallet.]</td>\n",
       "    </tr>\n",
       "  </tbody>\n",
       "</table>\n",
       "</div>"
      ],
      "text/plain": [
       "   Topic  Count                                     Name  \\\n",
       "0     -1    831                         -1_the_of_and_to   \n",
       "1      0   2295                   0_robot_of_the_control   \n",
       "2      1   1306        1_surgical_instrument_robotic_the   \n",
       "3      2    627             2_cleaning_cleaner_the_robot   \n",
       "4      3    536   3_storage_container_delivery_transport   \n",
       "5      4    415                4_second_first_arm_member   \n",
       "6      5    215        5_automation_rpa_process_workflow   \n",
       "7      6    179  6_substrate_transfer_chamber_substrates   \n",
       "8      7    148            7_label_sample_tape_injection   \n",
       "\n",
       "                                                                                     Representation  \\\n",
       "0                                           [the, of, and, to, in, is, for, robot, system, robotic]   \n",
       "1                                           [robot, of, the, control, and, to, method, on, for, an]   \n",
       "2                              [surgical, instrument, robotic, the, to, and, tool, of, system, end]   \n",
       "3                                [cleaning, cleaner, the, robot, and, body, to, floor, is, surface]   \n",
       "4                    [storage, container, delivery, transport, and, the, to, item, system, picking]   \n",
       "5                                  [second, first, arm, member, gear, the, joint, axis, and, shaft]   \n",
       "6            [automation, rpa, process, workflow, user, software, computing, application, for, may]   \n",
       "7  [substrate, transfer, chamber, substrates, processing, the, and, hand, apparatus, semiconductor]   \n",
       "8                    [label, sample, tape, injection, container, reel, and, the, material, molding]   \n",
       "\n",
       "                                                                                                                                                                                                                                                                                                                                                                                                                                                                                                                                                                                                                                                                                                                                                                                                                                                                                                                                                                                                                                                                                                                                                                                                                                                                                                                                                                                                                                                                                                                                                                                                                                                                                                                                                                                                                                                                                                                                                                                                                                                                                                                                                                                                                                                                                                                                                                                                                                                                                                                                                                                                                                                                                                                                                                                                                                                                                                                                                                                                                                                                                       Representative_Docs  \n",
       "0                                                                                                                                                                                                                                                                                                                                                                    [ROBOTIC PACKAGE HANDLING SYSTEMS AND METHODS. One embodiment is directed to robotic package handling system, comprising: a. a robotic arm comprising a distal portion and a proximal base portion, b. an end effector coupled to the distal portion of the robotic arm, c. a place structure positioned in geometric proximity to the distal portion of the robotic arm, d. a pick structure in contact with one or more packages and positioned in geometric proximity to the distal portion of the robotic arm, e. a first imaging device positioned and oriented to capture image information pertaining to the pick structure and one or more packages, f. a first computing system operatively coupled to the robotic arm and the first imaging device, and configured to receive the image information from the first imaging device and command movements of the robotic arm based at least in part upon the image information, wherein the first computing system is configured to operate the robotic arm and end effector to conduct a grasp of a targeted package of., Robotic fire extinguisher. Provided is provide a robotic device, including: a chassis, a set of wheels, a control system, a battery, one or more sensors, a processor, a tangible, non transitory, machine readable medium storing instructions that when executed by the processor effectuates operations including: capturing, with the one or more sensors, data of an environment of the robotic device and data indicative of movement of the robotic device, generating or updating, with the processor, a map of the environment based on at least a portion of the captured data, inferring, with the one or more processors of the robotic device, a current location of the robotic device, and generating or updating, with the processor, a movement path of the robotic device based on at least the map of the environment, at least a portion of the captured data, and the inferred current location of the robotic device., SOLAR PANEL HANDLING SYSTEM. A system for installing a solar panel may include a first end of arm assembly tool coupled to a first robotic arm and part of a first assembly robot and a second end of arm assembly tool coupled to a second robotic arm and part of a second assembly robot. The first and the second end of arm assembly tools have different tooling and perform different functions to assembly solar panels to support structure. The first assembly robot and the second assembly robot may be located on autonomous and non autonomous vehicles and the various components can be operated by a control system based on operation instructions received from a neural network.]  \n",
       "1                                                                                                                                                                                                                                                                                                                                                                                                                                                                                                                                                                                                                                                                                                                                                                                                                                                                             [Robot and method for controlling the same. A robot and a method for controlling the robot are provided. The robot includes: at least one motor provided in the robot, a camera configured to capture an image of a door, and a processor configured to determine, on the basis of at least one of depth information and a feature point identified from the image, a target position not overlapping with a moving area of the door, and control the at least one motor such that predetermined operations are performed with respect to the target position. The feature point includes at least one of a handle and a hinge of the door., Robotic system architecture and control processes. A system includes a first sensor having a fixed location relative to a workspace, a second sensor, at least one robotic manipulator coupled to a manipulation tool, and a control system in communication with the at least one robotic manipulator. The control system is configured to determine a location of a workpiece in the workspace based on first sensor data from the first sensor and a three dimensional model corresponding to the workpiece. The control system is configured to map a set of D coordinates from a second D image from the second sensor to a set of D coordinates based on the location, and to generate one or more control signals for the at least one robotic manipulator based on the set of D coordinates., ROBOT AND METHOD FOR CONTROLLING THEREOF. A robot is provided. The robot includes an image sensor, a driving part, a memory configured to store at least one instruction, and a processor, and the processor is configured to obtain a first image captured by the image sensor, obtain first information on an object included in the first image, control the driving part for the robot to approach the object, obtain a second image while the robot is approaching the object, obtain second information on an object based on the second image, determine whether an error is present in first information or second information based on the first information and the second information, and control an operation of the robot based on a determination result.]  \n",
       "2                                                                                                                                                                                                                                                                                                                                                                                                                                                                                                                                                                                                                                                                                                                                                                                                                                                     [SYSTEM AND METHOD FOR INTEGRATED CONTROL OF D VISUALIZATION THROUGH A SURGICAL ROBOTIC SYSTEM. A surgical robotic system includes a control tower, a mobile cart, and a surgical console. The mobile cart is coupled to the control tower and includes a surgical robotic arm. The surgical robotic arm includes a surgical instrument and an image capture device. The surgical instrument is actuatable in response to a user input and configured to treat a target tissue in real time. The image capture device for capturing at least one of images or video of the target tissue in real time. The surgical console includes a user input device for generating a user input, and a controller. The controller is operably coupled to the user input device and configured to switch, based on the user input, from a first mode to a second mode, and from the second mode to the first mode., ROBOTIC SURGICAL SYSTEM WITH REMOVABLE PORTION AND METHOD OF DISASSEMBLING SAME. A robotic surgical system including a controller, a surgical instrument, and a tool. The surgical instrument is configured to interact with a patient. The surgical instrument is operatively coupled with the controller. The tool is operatively coupled with the robotic surgical system. The tool includes a disassembly feature. The disassembly feature of the tool is configured to disconnect at least a portion of the surgical instrument from the robotic surgical system in response to instructions from the controller., SURGICAL ROBOT, AND SURGICAL ROBOT SYSTEM. A surgical robot and a surgical robot system is disclosed. The surgical robot comprises a first robot arm, a second robot arm connected to the end of the first robot arm and used for mounting and controlling the motion posture of a surgical instrument, and a controller that controls the motion of the axes of the first robot arm and the second robot arm, wherein the end of the first robot arm is provided with a linear guide portion for the second robot arm to move linearly, and the first robot arm is connected to the end of the linear guide portion that is close to the second robot arm and used for mounting an end of the surgical instrument.]  \n",
       "3                                                                                                                                                                                                                                                                                                                                                                                                                                                                                                                                                                                                                                                                                                                                                                                                                                                                                                                                                                                                                                                                                                                                               [Pad Cleaning System for Robotic Vacuum Cleaners. A docking station for a mobile cleaning robot can include a base portion configured to receive the mobile cleaning robot. The docking station can include a housing connected to the base portion and a pad cleaning system. The pad cleaning system can be connected to the housing and can include a cleaning head engageable with a cleaning pad of the mobile cleaning robot to remove debris from the cleaning pad, the cleaning head can include a nozzle configured to discharge a fluid onto the cleaning pad., MAINTENANCE ALERTS FOR AUTONOMOUS CLEANING ROBOTS. A robot cleaning system includes a mobile cleaning robot, a robot docking station, and a camera. The mobile cleaning robot includes a drive operable to move the mobile cleaning robot across a floor surface, a cleaning assembly configured to clean the floor surface, and a debris bin. The robot docking station includes a housing and a platform defined in the housing, the platform configured to receive the mobile cleaning robot in a docking position. The camera is configured to capture imagery of an underside of the mobile cleaning robot. In some implementations, the camera is disposed on or within the mobile cleaning robot. In some implementations, the camera is disposed in the platform of the robot docking station., PAD CLEANING SYSTEM FOR ROBOTIC VACUUM CLEANERS. A docking station for a mobile cleaning robot can include a base portion configured to receive the mobile cleaning robot. The docking station can include a housing connected to the base portion and a pad cleaning system. The pad cleaning system can be connected to the housing and can include a cleaning head engageable with a cleaning pad of the mobile cleaning robot to remove debris from the cleaning pad, the cleaning head can include a nozzle configured to discharge a fluid onto the cleaning pad.]  \n",
       "4  [Delivery system with an access point and a method of accessing an access point of the delivery system. An automated storage and retrieval system includes a storage grid for storage of storage containers and a delivery system for transport of said storage containers between a delivery port of the storage grid and an access point of the delivery system. The access point is adapted for handling of items held in the storage containers by a robotic operator or human operator. The delivery system includes a delivery rail system including at least a first set of parallel rails arranged in a horizontal plane and extending in a first direction, and at least a second set of parallel rails arranged in the horizontal plane and extending in a second direction which is orthogonal to the first direction, the first and second sets of rails together defining a delivery grid of delivery grid cells, the access point, and a remotely operated delivery vehicle comprising a motorized vehicle body and a container carrier provided above the motorized vehicle body for carrying a storage., STORAGE SYSTEM. A storage system for storing product items includes a grid structure and a number of first storage bins configured to be stored in vertical stacks in the grid structure. Each first storage bin is configured to contain at least one product item. A vehicle is arranged to move horizontally at the top level of the grid structure, and further arranged to pick up, carry, and place the first storage bins at desired locations within the grid structure. The storage system further includes a robot device that includes a movable arm with a picking mechanism in one end thereof. The robot device is configured to move a storage item between a first location and a second location by means of its picking mechanism. The first location is the location of a first storage bin stored in the storage grid., DELIVERY VEHICLE, AN AUTOMATED STORAGE AND RETRIEVAL SYSTEM AND A METHOD OF TRANSPORTING STORAGE CONTAINERS BETWEEN AN AUTOMATED STORAGE AND RETRIEVAL GRID AND A SECOND LOCATION. A remotely operated delivery vehicle transports a storage container between a location directly below an automated storage and retrieval grid configured to store a plurality of stacks of storage containers, and a second location for handling of the storage container by at least one of a robotic operator and a human operator. The remotely operated delivery vehicle may include a rolling devices configured to move the remotely operated delivery vehicle in a horizontal plane along tracks of a delivery rail system. Additionally, rolling device motors are provided for driving the rolling devices. A power source provides propulsion power to the rolling device motors. A container carrier receives the storage container from above and onto or at least partly into the container carrier so that contents of the storage container are accessible by the at least one of the robotic operator and the human operator.]  \n",
       "5                                                                                                                                                                                                                                                                                                       [Robot having arm with offset. An apparatus including a robot drive, a first arm connected to the robot drive, and a second arm connected to the robot drive. The first arm includes a first upper arm, a first forearm and a first end effector. The second arm includes a second upper arm, a second forearm and a second end effector. The first and second upper arms are connected to a first drive shaft of the robot drive. The first and second upper arms are either a same member or two members stationarily connected to one another. While the first arm is being extended and retracted, straight movement of the first end effector is provided relative to the robot drive along an axis which intersects a drive axis of the robot drive, where a wrist joint of the first arm does not intersect the drive axis while the first arm is being extended and retracted., Robot. A robot includes a first joint member, a second joint member connecting a second arm member and a third arm member, a third joint member connecting the third arm member and a flange, a first link having one end connected to the second joint member and another end connected to the third joint member, a second link having one end connected to the second joint member, a counter weight connected to another end of the second link and the first joint member, and including a motor rotating the third arm member, on a side opposite to the first joint member with the other end of the second link as a base point, and a transmission member transmitting rotating force generated by the motor to the third arm member through the first joint member, the second arm member, and the second joint member., ARM STRUCTURE OF INDUSTRIAL ROBOT. Provided is an arm structure of an industrial robot in which the same wrist element is enabled to have a plurality of types of characteristics, thus allowing a variation model to be readily implemented. An arm structure of an industrial robot with a plurality of wrist elements, the arm structure being provided with, in a housing: a first motor and a second motor that drive the plurality of wrist elements respectively, a first gear that is attached to a first output shaft of the first motor and has an external diameter equal to that of the first output shaft, and a second gear that is attached to a second output shaft of the second motor and has an external diameter equal to that of the second output shaft. The second motor is disposed in front of the first motor and is disposed such that the axis of the second output shaft is laterally offset with respect to the axis of the first output shaft. A space portion is provided to the rear of each of the first motor and the second motor.]  \n",
       "6                                                                                                                                                                                                                                                                                                                                                                                                                                                                                                                                                                                                                                                                                                                                                                                                                                                                                                                                                                                                                                                                                                      [METHODS AND SYSTEMS FOR MANAGING ROBOTIC PROCESS AUTOMATION. There is provided a method for managing a Robotics Process Automation robot. The method comprises: acquiring data associated with an operation metric of the RPA robot during execution of an automation workflow and determining an optimising action based on a policy and the acquired data associated with the operation metric of the RPA robot., System and computer implemented method for analyzing test automation workflow of robotic process automation. A system and a computer implemented method for analyzing workflow of test automation associated with a robotic process automation application are disclosed herein. The computer implemented method includes receiving the workflow of the test automation associated with the RPA application and analyzing, via an Artificial Intelligence model associated with a workflow analyzer module, the workflow of the test automation based on a set of pre defined test automation rules. The computer implemented method further includes determining one or more metrics associated with the analyzed workflow of the test automation and generating, via the AI model, corrective activity data based on the determined one or more metrics., Robotic process automation using virtual machine and programming language interpreter. Computerized robotic process automation methods and systems that increase the flexibility and lower the cost with which RPA systems may be deployed are disclosed herein. In one embodiment, an RPA system and method avoids the need for preinstalled RPA software on a device employed by a user to create and or execute software robots to perform RPA. In another embodiment, an RPA system and method provides a capability to execute software robots that may have been encoded in one or more programming languages to execute on an operating system different than that employed by a server of the RPA system.]  \n",
       "7      [Transfer robot and substrate processing apparatus having the same. The present invention disclosed herein relates to a transfer robot and a substrate processing apparatus having the same, and more particularly, to a transfer robot for transferring a substrate through a transfer module and a substrate processing apparatus having the same. The substrate processing system according to the present invention includes: a transfer module provided with a transfer robot configured to transfer substrates, one or more dual process modules each of which is installed at one side of the transfer module so that two substrates are accessible at the same time and on which a pair of substrate support units configured to respectively seat the two substrates thereon are disposed horizontally, and one or more single process modules each of which is installed at one side of the transfer module so that one substrate is accessible and on which one or more substrate support units configured to seat the., SEMICONDUCTOR SUBSTRATE PROCESSING APPARATUS. A semiconductor substrate processing apparatus includes a substrate transfer module including a chamber having an internal space extending in a first direction within the chamber, at least one pair of first load ports at opposite sides of the chamber, to face in a second direction intersecting the first direction, and configured to rotate and move a substrate carrier, a load lock at a rear surface of the chamber, and a robot arm configured to move in the first direction in the internal space of the chamber, a transfer chamber connected to the load lock of the substrate transfer module, a plurality of processing chambers connected to the transfer chamber, and a transfer arm inside the transfer chamber, and configured to unload the semiconductor substrate from the load lock and to load the semiconductor substrate into at least one of the plurality of processing chambers., Substrate processing system, vacuum substrate transfer module, and substrate transfer method. A substrate processing system includes a substrate processing module, an atmospheric substrate transfer module, a first and a second vacuum substrate transfer module, a load lock module, and a vacuum substrate transfer robot. The first vacuum substrate transfer module having a first transfer space is disposed adjacent to the atmospheric substrate transfer module and the substrate processing module. The second vacuum substrate transfer module, having a second transfer space in communication with the first transfer space and external dimensions smaller than those of the first vacuum substrate transfer module in a plan view, is disposed on or under the first vacuum substrate transfer module. The load lock module is disposed between the atmospheric substrate transfer module and the second vacuum substrate transfer module. The vacuum substrate transfer robot is disposed in the first transfer space or the second transfer space to transfer a substrate.]  \n",
       "8                                                                                                                          [APPARATUS AND METHODS FOR ALIGNING A ROBOTIC ARM WITH A SAMPLE TUBE CARRIER. Apparatus for robotic arm alignment in an automated sample analysis system includes a robotic arm, a sample tube carrier, a plurality of optical components, and a controller. The controller is operative to process images received from the optical components to determine a first set of coordinates of a first marker relative to the sample tube carrier and determine a second set of coordinates of a second marker relative to the robotic arm. The controller is further operative to adjust the position of the robotic arm and or the sample tube carrier in response to an excessive offset between the first and second sets of coordinates. In some embodiments, a positioning tool includes the first and second markers thereon. Methods of robotic arm alignment with a sample tube carrier in an automated sample analysis system are also provided, as are other aspects., ROBOTIC SAMPLE HANDLING SYSTEM. A robotic sample handling system may be provided for performing sample handling tasks in a laboratory environment. The system may comprise at least one robotic arm, which is controllable to be positioned in a plane parallel to a work area and along a Z axis perpendicular to the work area, and a controller configured to control the robotic arm to position and operate the robotic arm as part of a sample handling task. The work area may comprise a module for use with one or more of the samples, wherein the module comprises a mechanism which is actuatable by downward force, and wherein the controller is configured to control the robotic arm to actuate the mechanism by pushing downward in Z direction. For example, the module may be a stand for a sample container which comprise a push mechanism which may be operated by the robotic arm to bring the sample in the sample container in a vicinity of an effector, such as a magnet or a heat source., ROBOTIC PRODUCT LABELING SYSTEM. A system moves items, like containers and or pallets, through a label printing station. The station has a label printer that prints adhesive labels, and a robot arm terminating at a movable end with a suction pad or vacuum device and sensors. The station has at least one sensor configured to measure a height of the item, and a processor coupled to receive the height of the item, to control the robot arm and label printer, and to receive label information from a server. The processor has a memory containing code that computes desired label positions based on height of the container pallet. A method of labeling an item includes printing an adhesive label with the label information obtained from a server, receiving the adhesive label on a suction pad or vacuum device attached to a movable end of a robot arm, and determining a first labeling position from measured height of the container pallet.]  "
      ]
     },
     "execution_count": 24,
     "metadata": {},
     "output_type": "execute_result"
    }
   ],
   "source": [
    "topic_model.get_topic_info().head(9)"
   ]
  },
  {
   "cell_type": "code",
   "execution_count": 20,
   "metadata": {
    "ExecuteTime": {
     "end_time": "2024-05-18T17:33:19.719845Z",
     "start_time": "2024-05-18T17:33:19.704327Z"
    }
   },
   "outputs": [
    {
     "data": {
      "text/plain": [
       "831"
      ]
     },
     "execution_count": 20,
     "metadata": {},
     "output_type": "execute_result"
    }
   ],
   "source": [
    "topic_model.get_topic_info(-1).Count[0]"
   ]
  },
  {
   "cell_type": "markdown",
   "metadata": {},
   "source": [
    "#### 1\n",
    "```\n",
    "Topic -1 Count: 1991\n",
    "umap_model = UMAP(n_neighbors=10, min_dist=0.0, n_components=8, random_state=42)\n",
    "hdbscan_model = hdbscan.HDBSCAN(min_cluster_size=60, min_samples=2, cluster_selection_epsilon=0.1)\n",
    "topic_model = BERTopic(hdbscan_model=hdbscan_model, umap_model=umap_model, embedding_model=model)\n",
    "```"
   ]
  },
  {
   "cell_type": "code",
   "execution_count": 21,
   "metadata": {
    "ExecuteTime": {
     "end_time": "2024-05-18T17:31:30.176159Z",
     "start_time": "2024-05-18T17:31:30.152219Z"
    }
   },
   "outputs": [
    {
     "data": {
      "text/html": [
       "<div>\n",
       "<style scoped>\n",
       "    .dataframe tbody tr th:only-of-type {\n",
       "        vertical-align: middle;\n",
       "    }\n",
       "\n",
       "    .dataframe tbody tr th {\n",
       "        vertical-align: top;\n",
       "    }\n",
       "\n",
       "    .dataframe thead th {\n",
       "        text-align: right;\n",
       "    }\n",
       "</style>\n",
       "<table border=\"1\" class=\"dataframe\">\n",
       "  <thead>\n",
       "    <tr style=\"text-align: right;\">\n",
       "      <th></th>\n",
       "      <th>Topic</th>\n",
       "      <th>Count</th>\n",
       "      <th>Name</th>\n",
       "      <th>Representation</th>\n",
       "      <th>Representative_Docs</th>\n",
       "    </tr>\n",
       "  </thead>\n",
       "  <tbody>\n",
       "    <tr>\n",
       "      <th>0</th>\n",
       "      <td>-1</td>\n",
       "      <td>831</td>\n",
       "      <td>-1_the_of_and_to</td>\n",
       "      <td>[the, of, and, to, in, is, for, robot, system, robotic]</td>\n",
       "      <td>[ROBOTIC PACKAGE HANDLING SYSTEMS AND METHODS. One embodiment is directed to robotic package handling system, comprising: a. a robotic arm comprising a distal portion and a proximal base portion, b. an end effector coupled to the distal portion of the robotic arm, c. a place structure positioned in geometric proximity to the distal portion of the robotic arm, d. a pick structure in contact with one or more packages and positioned in geometric proximity to the distal portion of the robotic arm, e. a first imaging device positioned and oriented to capture image information pertaining to the pick structure and one or more packages, f. a first computing system operatively coupled to the robotic arm and the first imaging device, and configured to receive the image information from the first imaging device and command movements of the robotic arm based at least in part upon the image information, wherein the first computing system is configured to operate the robotic arm and end effector to conduct a grasp of a targeted package of., Robotic fire extinguisher. Provided is provide a robotic device, including: a chassis, a set of wheels, a control system, a battery, one or more sensors, a processor, a tangible, non transitory, machine readable medium storing instructions that when executed by the processor effectuates operations including: capturing, with the one or more sensors, data of an environment of the robotic device and data indicative of movement of the robotic device, generating or updating, with the processor, a map of the environment based on at least a portion of the captured data, inferring, with the one or more processors of the robotic device, a current location of the robotic device, and generating or updating, with the processor, a movement path of the robotic device based on at least the map of the environment, at least a portion of the captured data, and the inferred current location of the robotic device., SOLAR PANEL HANDLING SYSTEM. A system for installing a solar panel may include a first end of arm assembly tool coupled to a first robotic arm and part of a first assembly robot and a second end of arm assembly tool coupled to a second robotic arm and part of a second assembly robot. The first and the second end of arm assembly tools have different tooling and perform different functions to assembly solar panels to support structure. The first assembly robot and the second assembly robot may be located on autonomous and non autonomous vehicles and the various components can be operated by a control system based on operation instructions received from a neural network.]</td>\n",
       "    </tr>\n",
       "    <tr>\n",
       "      <th>1</th>\n",
       "      <td>0</td>\n",
       "      <td>2295</td>\n",
       "      <td>0_robot_of_the_control</td>\n",
       "      <td>[robot, of, the, control, and, to, method, on, for, an]</td>\n",
       "      <td>[Robot and method for controlling the same. A robot and a method for controlling the robot are provided. The robot includes: at least one motor provided in the robot, a camera configured to capture an image of a door, and a processor configured to determine, on the basis of at least one of depth information and a feature point identified from the image, a target position not overlapping with a moving area of the door, and control the at least one motor such that predetermined operations are performed with respect to the target position. The feature point includes at least one of a handle and a hinge of the door., Robotic system architecture and control processes. A system includes a first sensor having a fixed location relative to a workspace, a second sensor, at least one robotic manipulator coupled to a manipulation tool, and a control system in communication with the at least one robotic manipulator. The control system is configured to determine a location of a workpiece in the workspace based on first sensor data from the first sensor and a three dimensional model corresponding to the workpiece. The control system is configured to map a set of D coordinates from a second D image from the second sensor to a set of D coordinates based on the location, and to generate one or more control signals for the at least one robotic manipulator based on the set of D coordinates., ROBOT AND METHOD FOR CONTROLLING THEREOF. A robot is provided. The robot includes an image sensor, a driving part, a memory configured to store at least one instruction, and a processor, and the processor is configured to obtain a first image captured by the image sensor, obtain first information on an object included in the first image, control the driving part for the robot to approach the object, obtain a second image while the robot is approaching the object, obtain second information on an object based on the second image, determine whether an error is present in first information or second information based on the first information and the second information, and control an operation of the robot based on a determination result.]</td>\n",
       "    </tr>\n",
       "  </tbody>\n",
       "</table>\n",
       "</div>"
      ],
      "text/plain": [
       "   Topic  Count                    Name  \\\n",
       "0     -1    831        -1_the_of_and_to   \n",
       "1      0   2295  0_robot_of_the_control   \n",
       "\n",
       "                                            Representation  \\\n",
       "0  [the, of, and, to, in, is, for, robot, system, robotic]   \n",
       "1  [robot, of, the, control, and, to, method, on, for, an]   \n",
       "\n",
       "                                                                                                                                                                                                                                                                                                                                                                                                                                                                                                                                                                                                                                                                                                                                                                                                                                                                                                                                                                                                                                                                                                                                                                                                                                                                                                                                                                                                                                                                                                                                                                                                                                                                                                                                                                                                                                                                                                                                                                                                                                                                                                                                                                                                                                                                                                                                                                                                                                                                                                                                                                                                                                                                                                                     Representative_Docs  \n",
       "0  [ROBOTIC PACKAGE HANDLING SYSTEMS AND METHODS. One embodiment is directed to robotic package handling system, comprising: a. a robotic arm comprising a distal portion and a proximal base portion, b. an end effector coupled to the distal portion of the robotic arm, c. a place structure positioned in geometric proximity to the distal portion of the robotic arm, d. a pick structure in contact with one or more packages and positioned in geometric proximity to the distal portion of the robotic arm, e. a first imaging device positioned and oriented to capture image information pertaining to the pick structure and one or more packages, f. a first computing system operatively coupled to the robotic arm and the first imaging device, and configured to receive the image information from the first imaging device and command movements of the robotic arm based at least in part upon the image information, wherein the first computing system is configured to operate the robotic arm and end effector to conduct a grasp of a targeted package of., Robotic fire extinguisher. Provided is provide a robotic device, including: a chassis, a set of wheels, a control system, a battery, one or more sensors, a processor, a tangible, non transitory, machine readable medium storing instructions that when executed by the processor effectuates operations including: capturing, with the one or more sensors, data of an environment of the robotic device and data indicative of movement of the robotic device, generating or updating, with the processor, a map of the environment based on at least a portion of the captured data, inferring, with the one or more processors of the robotic device, a current location of the robotic device, and generating or updating, with the processor, a movement path of the robotic device based on at least the map of the environment, at least a portion of the captured data, and the inferred current location of the robotic device., SOLAR PANEL HANDLING SYSTEM. A system for installing a solar panel may include a first end of arm assembly tool coupled to a first robotic arm and part of a first assembly robot and a second end of arm assembly tool coupled to a second robotic arm and part of a second assembly robot. The first and the second end of arm assembly tools have different tooling and perform different functions to assembly solar panels to support structure. The first assembly robot and the second assembly robot may be located on autonomous and non autonomous vehicles and the various components can be operated by a control system based on operation instructions received from a neural network.]  \n",
       "1                                                                                                                                                                                                                                                                                                                                                                                                                                                                                                           [Robot and method for controlling the same. A robot and a method for controlling the robot are provided. The robot includes: at least one motor provided in the robot, a camera configured to capture an image of a door, and a processor configured to determine, on the basis of at least one of depth information and a feature point identified from the image, a target position not overlapping with a moving area of the door, and control the at least one motor such that predetermined operations are performed with respect to the target position. The feature point includes at least one of a handle and a hinge of the door., Robotic system architecture and control processes. A system includes a first sensor having a fixed location relative to a workspace, a second sensor, at least one robotic manipulator coupled to a manipulation tool, and a control system in communication with the at least one robotic manipulator. The control system is configured to determine a location of a workpiece in the workspace based on first sensor data from the first sensor and a three dimensional model corresponding to the workpiece. The control system is configured to map a set of D coordinates from a second D image from the second sensor to a set of D coordinates based on the location, and to generate one or more control signals for the at least one robotic manipulator based on the set of D coordinates., ROBOT AND METHOD FOR CONTROLLING THEREOF. A robot is provided. The robot includes an image sensor, a driving part, a memory configured to store at least one instruction, and a processor, and the processor is configured to obtain a first image captured by the image sensor, obtain first information on an object included in the first image, control the driving part for the robot to approach the object, obtain a second image while the robot is approaching the object, obtain second information on an object based on the second image, determine whether an error is present in first information or second information based on the first information and the second information, and control an operation of the robot based on a determination result.]  "
      ]
     },
     "execution_count": 21,
     "metadata": {},
     "output_type": "execute_result"
    }
   ],
   "source": [
    "freq = topic_model.get_topic_info(); freq.head(2)"
   ]
  },
  {
   "cell_type": "code",
   "execution_count": 22,
   "metadata": {
    "ExecuteTime": {
     "end_time": "2024-05-18T17:31:30.191787Z",
     "start_time": "2024-05-18T17:31:30.176159Z"
    }
   },
   "outputs": [
    {
     "data": {
      "text/plain": [
       "[('automation', 0.053275442130686114),\n",
       " ('rpa', 0.044689608537492896),\n",
       " ('process', 0.04410913878835922),\n",
       " ('workflow', 0.02181854446613496),\n",
       " ('user', 0.020977391860688248),\n",
       " ('software', 0.02076870360454773),\n",
       " ('computing', 0.01752033581949487),\n",
       " ('application', 0.016767069619609158),\n",
       " ('for', 0.016567482384926238),\n",
       " ('may', 0.016106244438294903)]"
      ]
     },
     "execution_count": 22,
     "metadata": {},
     "output_type": "execute_result"
    }
   ],
   "source": [
    "topic_model.get_topic(5)"
   ]
  },
  {
   "cell_type": "code",
   "execution_count": 23,
   "metadata": {
    "ExecuteTime": {
     "end_time": "2024-05-18T17:31:30.632444Z",
     "start_time": "2024-05-18T17:31:30.191787Z"
    }
   },
   "outputs": [
    {
     "data": {
      "application/vnd.plotly.v1+json": {
       "config": {
        "plotlyServerURL": "https://plot.ly"
       },
       "data": [
        {
         "customdata": [
          [
           0,
           "robot | of | the | control | and",
           2295
          ],
          [
           1,
           "surgical | instrument | robotic | the | to",
           1306
          ],
          [
           2,
           "cleaning | cleaner | the | robot | and",
           627
          ],
          [
           3,
           "storage | container | delivery | transport | and",
           536
          ],
          [
           4,
           "second | first | arm | member | gear",
           415
          ],
          [
           5,
           "automation | rpa | process | workflow | user",
           215
          ],
          [
           6,
           "substrate | transfer | chamber | substrates | processing",
           179
          ],
          [
           7,
           "label | sample | tape | injection | container",
           148
          ],
          [
           8,
           "charging | battery | station | power | charge",
           135
          ],
          [
           9,
           "plant | agricultural | plants | harvesting | fruit",
           132
          ],
          [
           10,
           "inspection | an | payload | the | surface",
           131
          ],
          [
           11,
           "gripper | gripping | hand | object | finger",
           129
          ],
          [
           12,
           "mobile | cart | construction | building | autonomous",
           111
          ],
          [
           13,
           "soft | continuum | magnetic | actuator | and",
           109
          ],
          [
           14,
           "effector | end | vacuum | to | the",
           107
          ],
          [
           15,
           "catheter | steerable | medical | robotic | and",
           106
          ],
          [
           16,
           "food | cooking | milking | stereoscopic | kitchen",
           100
          ],
          [
           17,
           "voice | bot | user | chat | intelligence",
           99
          ],
          [
           18,
           "printing | additive | manufacturing | head | material",
           90
          ],
          [
           19,
           "welding | torch | weld | seam | the",
           76
          ],
          [
           20,
           "cable | wire | cables | connector | electrical",
           75
          ],
          [
           21,
           "rehabilitation | wearable | exoskeleton | walking | foot",
           69
          ],
          [
           22,
           "tray | production | gas | stack | fluid",
           67
          ],
          [
           23,
           "safety | zone | communication | data | of",
           67
          ],
          [
           24,
           "vehicle | ai | intelligence | reality | artificial",
           66
          ],
          [
           25,
           "garden | mower | lawn | lawnmower | tool",
           63
          ],
          [
           26,
           "lift | driving | torque | motor | arm",
           60
          ],
          [
           27,
           "machining | grinding | workpiece | tool | machine",
           60
          ],
          [
           28,
           "tactile | sensor | sensing | layer | skin",
           58
          ],
          [
           29,
           "pipe | pipeline | rig | wheels | sealing",
           53
          ],
          [
           30,
           "brake | torque | braking | friction | shaft",
           53
          ],
          [
           31,
           "information | processing | unit | an | data",
           52
          ],
          [
           32,
           "master | teleoperation | slave | device | haptic",
           52
          ],
          [
           33,
           "modular | module | tufting | platform | modules",
           51
          ],
          [
           34,
           "work | heat | tool | magnetic | cooling",
           51
          ],
          [
           35,
           "fastening | bolt | connecting | jig | screw",
           50
          ],
          [
           36,
           "tool | suction | changer | sticker | arm",
           49
          ],
          [
           37,
           "grasp | object | grasping | grasps | gripper",
           48
          ],
          [
           38,
           "aerial | unmanned | flying | landing | drone",
           46
          ],
          [
           39,
           "service | serving | customer | information | robot",
           46
          ],
          [
           40,
           "coating | spray | spraying | nozzle | head",
           45
          ],
          [
           41,
           "workpiece | working | work | processing | cover",
           45
          ],
          [
           42,
           "pallet | items | palletizing | pallets | stack",
           44
          ],
          [
           43,
           "wheel | suspension | steering | chassis | vehicle",
           42
          ],
          [
           44,
           "teaching | point | position | robot | hand",
           37
          ],
          [
           45,
           "obstacle | avoidance | dynamic | depth | method",
           37
          ],
          [
           46,
           "endoscope | shaft | elongate | imaging | fixture",
           37
          ],
          [
           47,
           "case | wrapping | packing | packaging | glass",
           37
          ],
          [
           48,
           "conveyance | conveyor | trapdoor | rejection | vehicle",
           34
          ],
          [
           49,
           "disinfection | disinfecting | ultraviolet | air | uv",
           32
          ],
          [
           50,
           "wafer | wafers | transfer | apparatus | implantation",
           32
          ],
          [
           51,
           "tele | telepresence | robot | may | session",
           32
          ],
          [
           52,
           "finger | hand | part | first | palm",
           32
          ]
         ],
         "hovertemplate": "<b>Topic %{customdata[0]}</b><br>%{customdata[1]}<br>Size: %{customdata[2]}",
         "legendgroup": "",
         "marker": {
          "color": "#B0BEC5",
          "line": {
           "color": "DarkSlateGrey",
           "width": 2
          },
          "size": [
           2295,
           1306,
           627,
           536,
           415,
           215,
           179,
           148,
           135,
           132,
           131,
           129,
           111,
           109,
           107,
           106,
           100,
           99,
           90,
           76,
           75,
           69,
           67,
           67,
           66,
           63,
           60,
           60,
           58,
           53,
           53,
           52,
           52,
           51,
           51,
           50,
           49,
           48,
           46,
           46,
           45,
           45,
           44,
           42,
           37,
           37,
           37,
           37,
           34,
           32,
           32,
           32,
           32
          ],
          "sizemode": "area",
          "sizeref": 1.434375,
          "symbol": "circle"
         },
         "mode": "markers",
         "name": "",
         "orientation": "v",
         "showlegend": false,
         "type": "scatter",
         "x": [
          15.719229698181152,
          -9.697118759155273,
          17.179250717163086,
          12.773935317993164,
          -4.5771026611328125,
          15.937413215637207,
          11.429935455322266,
          11.573295593261719,
          14.97909927368164,
          10.944436073303223,
          15.75948715209961,
          0.9023435711860657,
          14.866790771484375,
          -4.791800498962402,
          -4.94815731048584,
          -9.779016494750977,
          12.181001663208008,
          17.398883819580078,
          11.464447021484375,
          10.750428199768066,
          -4.4040961265563965,
          -5.1645989418029785,
          12.158971786499023,
          16.26370620727539,
          17.398874282836914,
          10.944446563720703,
          -5.027859687805176,
          11.349617958068848,
          1.0067633390426636,
          15.68407154083252,
          -4.9777655601501465,
          16.344242095947266,
          16.551555633544922,
          15.172961235046387,
          11.043259620666504,
          -4.651431083679199,
          -4.803037643432617,
          0.8451459407806396,
          16.585811614990234,
          15.811755180358887,
          11.285088539123535,
          11.446547508239746,
          11.899490356445312,
          14.972508430480957,
          16.34701919555664,
          15.974067687988281,
          -9.597269058227539,
          12.881973266601562,
          12.712316513061523,
          17.407106399536133,
          11.207834243774414,
          16.175569534301758,
          0.8136263489723206
         ],
         "xaxis": "x",
         "y": [
          -2.415578842163086,
          -0.011286890134215355,
          -2.354750871658325,
          4.160096168518066,
          -3.2137563228607178,
          -2.0535871982574463,
          4.155215740203857,
          3.3848462104797363,
          -3.952270030975342,
          22.15682601928711,
          -1.1109915971755981,
          9.086443901062012,
          -4.048815727233887,
          -3.394047975540161,
          -4.139434337615967,
          0.07091590762138367,
          4.880380630493164,
          16.557796478271484,
          3.1474709510803223,
          5.4884033203125,
          -3.4220283031463623,
          -2.6560442447662354,
          4.504877090454102,
          -2.254390239715576,
          16.557798385620117,
          22.156808853149414,
          -2.789073944091797,
          5.285409927368164,
          9.190652847290039,
          -0.9688298106193542,
          -2.8345255851745605,
          -1.8284528255462646,
          -2.662276268005371,
          -3.7805159091949463,
          5.466946125030518,
          -3.794769763946533,
          -3.989858627319336,
          9.029056549072266,
          -2.0845134258270264,
          -2.413308620452881,
          3.2034990787506104,
          5.325311183929443,
          4.729517459869385,
          -3.9585320949554443,
          -1.8851780891418457,
          -2.8654417991638184,
          -0.11098372936248779,
          4.032411098480225,
          4.224850654602051,
          -2.610224962234497,
          4.002157211303711,
          -2.5707151889801025,
          8.997554779052734
         ],
         "yaxis": "y"
        }
       ],
       "layout": {
        "annotations": [
         {
          "showarrow": false,
          "text": "D1",
          "x": -11.245868968963624,
          "y": 10.360000216960906,
          "yshift": 10
         },
         {
          "showarrow": false,
          "text": "D2",
          "x": 4.386151695251465,
          "xshift": 10,
          "y": 25.480349922180174
         }
        ],
        "height": 650,
        "hoverlabel": {
         "bgcolor": "white",
         "font": {
          "family": "Rockwell",
          "size": 16
         }
        },
        "legend": {
         "itemsizing": "constant",
         "tracegroupgap": 0
        },
        "margin": {
         "t": 60
        },
        "shapes": [
         {
          "line": {
           "color": "#CFD8DC",
           "width": 2
          },
          "type": "line",
          "x0": 4.386151695251465,
          "x1": 4.386151695251465,
          "y0": -4.7603494882583615,
          "y1": 25.480349922180174
         },
         {
          "line": {
           "color": "#9E9E9E",
           "width": 2
          },
          "type": "line",
          "x0": -11.245868968963624,
          "x1": 20.018172359466554,
          "y0": 10.360000216960906,
          "y1": 10.360000216960906
         }
        ],
        "sliders": [
         {
          "active": 0,
          "pad": {
           "t": 50
          },
          "steps": [
           {
            "args": [
             {
              "marker.color": [
               [
                "red",
                "#B0BEC5",
                "#B0BEC5",
                "#B0BEC5",
                "#B0BEC5",
                "#B0BEC5",
                "#B0BEC5",
                "#B0BEC5",
                "#B0BEC5",
                "#B0BEC5",
                "#B0BEC5",
                "#B0BEC5",
                "#B0BEC5",
                "#B0BEC5",
                "#B0BEC5",
                "#B0BEC5",
                "#B0BEC5",
                "#B0BEC5",
                "#B0BEC5",
                "#B0BEC5",
                "#B0BEC5",
                "#B0BEC5",
                "#B0BEC5",
                "#B0BEC5",
                "#B0BEC5",
                "#B0BEC5",
                "#B0BEC5",
                "#B0BEC5",
                "#B0BEC5",
                "#B0BEC5",
                "#B0BEC5",
                "#B0BEC5",
                "#B0BEC5",
                "#B0BEC5",
                "#B0BEC5",
                "#B0BEC5",
                "#B0BEC5",
                "#B0BEC5",
                "#B0BEC5",
                "#B0BEC5",
                "#B0BEC5",
                "#B0BEC5",
                "#B0BEC5",
                "#B0BEC5",
                "#B0BEC5",
                "#B0BEC5",
                "#B0BEC5",
                "#B0BEC5",
                "#B0BEC5",
                "#B0BEC5",
                "#B0BEC5",
                "#B0BEC5",
                "#B0BEC5"
               ]
              ]
             }
            ],
            "label": "Topic 0",
            "method": "update"
           },
           {
            "args": [
             {
              "marker.color": [
               [
                "#B0BEC5",
                "red",
                "#B0BEC5",
                "#B0BEC5",
                "#B0BEC5",
                "#B0BEC5",
                "#B0BEC5",
                "#B0BEC5",
                "#B0BEC5",
                "#B0BEC5",
                "#B0BEC5",
                "#B0BEC5",
                "#B0BEC5",
                "#B0BEC5",
                "#B0BEC5",
                "#B0BEC5",
                "#B0BEC5",
                "#B0BEC5",
                "#B0BEC5",
                "#B0BEC5",
                "#B0BEC5",
                "#B0BEC5",
                "#B0BEC5",
                "#B0BEC5",
                "#B0BEC5",
                "#B0BEC5",
                "#B0BEC5",
                "#B0BEC5",
                "#B0BEC5",
                "#B0BEC5",
                "#B0BEC5",
                "#B0BEC5",
                "#B0BEC5",
                "#B0BEC5",
                "#B0BEC5",
                "#B0BEC5",
                "#B0BEC5",
                "#B0BEC5",
                "#B0BEC5",
                "#B0BEC5",
                "#B0BEC5",
                "#B0BEC5",
                "#B0BEC5",
                "#B0BEC5",
                "#B0BEC5",
                "#B0BEC5",
                "#B0BEC5",
                "#B0BEC5",
                "#B0BEC5",
                "#B0BEC5",
                "#B0BEC5",
                "#B0BEC5",
                "#B0BEC5"
               ]
              ]
             }
            ],
            "label": "Topic 1",
            "method": "update"
           },
           {
            "args": [
             {
              "marker.color": [
               [
                "#B0BEC5",
                "#B0BEC5",
                "red",
                "#B0BEC5",
                "#B0BEC5",
                "#B0BEC5",
                "#B0BEC5",
                "#B0BEC5",
                "#B0BEC5",
                "#B0BEC5",
                "#B0BEC5",
                "#B0BEC5",
                "#B0BEC5",
                "#B0BEC5",
                "#B0BEC5",
                "#B0BEC5",
                "#B0BEC5",
                "#B0BEC5",
                "#B0BEC5",
                "#B0BEC5",
                "#B0BEC5",
                "#B0BEC5",
                "#B0BEC5",
                "#B0BEC5",
                "#B0BEC5",
                "#B0BEC5",
                "#B0BEC5",
                "#B0BEC5",
                "#B0BEC5",
                "#B0BEC5",
                "#B0BEC5",
                "#B0BEC5",
                "#B0BEC5",
                "#B0BEC5",
                "#B0BEC5",
                "#B0BEC5",
                "#B0BEC5",
                "#B0BEC5",
                "#B0BEC5",
                "#B0BEC5",
                "#B0BEC5",
                "#B0BEC5",
                "#B0BEC5",
                "#B0BEC5",
                "#B0BEC5",
                "#B0BEC5",
                "#B0BEC5",
                "#B0BEC5",
                "#B0BEC5",
                "#B0BEC5",
                "#B0BEC5",
                "#B0BEC5",
                "#B0BEC5"
               ]
              ]
             }
            ],
            "label": "Topic 2",
            "method": "update"
           },
           {
            "args": [
             {
              "marker.color": [
               [
                "#B0BEC5",
                "#B0BEC5",
                "#B0BEC5",
                "red",
                "#B0BEC5",
                "#B0BEC5",
                "#B0BEC5",
                "#B0BEC5",
                "#B0BEC5",
                "#B0BEC5",
                "#B0BEC5",
                "#B0BEC5",
                "#B0BEC5",
                "#B0BEC5",
                "#B0BEC5",
                "#B0BEC5",
                "#B0BEC5",
                "#B0BEC5",
                "#B0BEC5",
                "#B0BEC5",
                "#B0BEC5",
                "#B0BEC5",
                "#B0BEC5",
                "#B0BEC5",
                "#B0BEC5",
                "#B0BEC5",
                "#B0BEC5",
                "#B0BEC5",
                "#B0BEC5",
                "#B0BEC5",
                "#B0BEC5",
                "#B0BEC5",
                "#B0BEC5",
                "#B0BEC5",
                "#B0BEC5",
                "#B0BEC5",
                "#B0BEC5",
                "#B0BEC5",
                "#B0BEC5",
                "#B0BEC5",
                "#B0BEC5",
                "#B0BEC5",
                "#B0BEC5",
                "#B0BEC5",
                "#B0BEC5",
                "#B0BEC5",
                "#B0BEC5",
                "#B0BEC5",
                "#B0BEC5",
                "#B0BEC5",
                "#B0BEC5",
                "#B0BEC5",
                "#B0BEC5"
               ]
              ]
             }
            ],
            "label": "Topic 3",
            "method": "update"
           },
           {
            "args": [
             {
              "marker.color": [
               [
                "#B0BEC5",
                "#B0BEC5",
                "#B0BEC5",
                "#B0BEC5",
                "red",
                "#B0BEC5",
                "#B0BEC5",
                "#B0BEC5",
                "#B0BEC5",
                "#B0BEC5",
                "#B0BEC5",
                "#B0BEC5",
                "#B0BEC5",
                "#B0BEC5",
                "#B0BEC5",
                "#B0BEC5",
                "#B0BEC5",
                "#B0BEC5",
                "#B0BEC5",
                "#B0BEC5",
                "#B0BEC5",
                "#B0BEC5",
                "#B0BEC5",
                "#B0BEC5",
                "#B0BEC5",
                "#B0BEC5",
                "#B0BEC5",
                "#B0BEC5",
                "#B0BEC5",
                "#B0BEC5",
                "#B0BEC5",
                "#B0BEC5",
                "#B0BEC5",
                "#B0BEC5",
                "#B0BEC5",
                "#B0BEC5",
                "#B0BEC5",
                "#B0BEC5",
                "#B0BEC5",
                "#B0BEC5",
                "#B0BEC5",
                "#B0BEC5",
                "#B0BEC5",
                "#B0BEC5",
                "#B0BEC5",
                "#B0BEC5",
                "#B0BEC5",
                "#B0BEC5",
                "#B0BEC5",
                "#B0BEC5",
                "#B0BEC5",
                "#B0BEC5",
                "#B0BEC5"
               ]
              ]
             }
            ],
            "label": "Topic 4",
            "method": "update"
           },
           {
            "args": [
             {
              "marker.color": [
               [
                "#B0BEC5",
                "#B0BEC5",
                "#B0BEC5",
                "#B0BEC5",
                "#B0BEC5",
                "red",
                "#B0BEC5",
                "#B0BEC5",
                "#B0BEC5",
                "#B0BEC5",
                "#B0BEC5",
                "#B0BEC5",
                "#B0BEC5",
                "#B0BEC5",
                "#B0BEC5",
                "#B0BEC5",
                "#B0BEC5",
                "#B0BEC5",
                "#B0BEC5",
                "#B0BEC5",
                "#B0BEC5",
                "#B0BEC5",
                "#B0BEC5",
                "#B0BEC5",
                "#B0BEC5",
                "#B0BEC5",
                "#B0BEC5",
                "#B0BEC5",
                "#B0BEC5",
                "#B0BEC5",
                "#B0BEC5",
                "#B0BEC5",
                "#B0BEC5",
                "#B0BEC5",
                "#B0BEC5",
                "#B0BEC5",
                "#B0BEC5",
                "#B0BEC5",
                "#B0BEC5",
                "#B0BEC5",
                "#B0BEC5",
                "#B0BEC5",
                "#B0BEC5",
                "#B0BEC5",
                "#B0BEC5",
                "#B0BEC5",
                "#B0BEC5",
                "#B0BEC5",
                "#B0BEC5",
                "#B0BEC5",
                "#B0BEC5",
                "#B0BEC5",
                "#B0BEC5"
               ]
              ]
             }
            ],
            "label": "Topic 5",
            "method": "update"
           },
           {
            "args": [
             {
              "marker.color": [
               [
                "#B0BEC5",
                "#B0BEC5",
                "#B0BEC5",
                "#B0BEC5",
                "#B0BEC5",
                "#B0BEC5",
                "red",
                "#B0BEC5",
                "#B0BEC5",
                "#B0BEC5",
                "#B0BEC5",
                "#B0BEC5",
                "#B0BEC5",
                "#B0BEC5",
                "#B0BEC5",
                "#B0BEC5",
                "#B0BEC5",
                "#B0BEC5",
                "#B0BEC5",
                "#B0BEC5",
                "#B0BEC5",
                "#B0BEC5",
                "#B0BEC5",
                "#B0BEC5",
                "#B0BEC5",
                "#B0BEC5",
                "#B0BEC5",
                "#B0BEC5",
                "#B0BEC5",
                "#B0BEC5",
                "#B0BEC5",
                "#B0BEC5",
                "#B0BEC5",
                "#B0BEC5",
                "#B0BEC5",
                "#B0BEC5",
                "#B0BEC5",
                "#B0BEC5",
                "#B0BEC5",
                "#B0BEC5",
                "#B0BEC5",
                "#B0BEC5",
                "#B0BEC5",
                "#B0BEC5",
                "#B0BEC5",
                "#B0BEC5",
                "#B0BEC5",
                "#B0BEC5",
                "#B0BEC5",
                "#B0BEC5",
                "#B0BEC5",
                "#B0BEC5",
                "#B0BEC5"
               ]
              ]
             }
            ],
            "label": "Topic 6",
            "method": "update"
           },
           {
            "args": [
             {
              "marker.color": [
               [
                "#B0BEC5",
                "#B0BEC5",
                "#B0BEC5",
                "#B0BEC5",
                "#B0BEC5",
                "#B0BEC5",
                "#B0BEC5",
                "red",
                "#B0BEC5",
                "#B0BEC5",
                "#B0BEC5",
                "#B0BEC5",
                "#B0BEC5",
                "#B0BEC5",
                "#B0BEC5",
                "#B0BEC5",
                "#B0BEC5",
                "#B0BEC5",
                "#B0BEC5",
                "#B0BEC5",
                "#B0BEC5",
                "#B0BEC5",
                "#B0BEC5",
                "#B0BEC5",
                "#B0BEC5",
                "#B0BEC5",
                "#B0BEC5",
                "#B0BEC5",
                "#B0BEC5",
                "#B0BEC5",
                "#B0BEC5",
                "#B0BEC5",
                "#B0BEC5",
                "#B0BEC5",
                "#B0BEC5",
                "#B0BEC5",
                "#B0BEC5",
                "#B0BEC5",
                "#B0BEC5",
                "#B0BEC5",
                "#B0BEC5",
                "#B0BEC5",
                "#B0BEC5",
                "#B0BEC5",
                "#B0BEC5",
                "#B0BEC5",
                "#B0BEC5",
                "#B0BEC5",
                "#B0BEC5",
                "#B0BEC5",
                "#B0BEC5",
                "#B0BEC5",
                "#B0BEC5"
               ]
              ]
             }
            ],
            "label": "Topic 7",
            "method": "update"
           },
           {
            "args": [
             {
              "marker.color": [
               [
                "#B0BEC5",
                "#B0BEC5",
                "#B0BEC5",
                "#B0BEC5",
                "#B0BEC5",
                "#B0BEC5",
                "#B0BEC5",
                "#B0BEC5",
                "red",
                "#B0BEC5",
                "#B0BEC5",
                "#B0BEC5",
                "#B0BEC5",
                "#B0BEC5",
                "#B0BEC5",
                "#B0BEC5",
                "#B0BEC5",
                "#B0BEC5",
                "#B0BEC5",
                "#B0BEC5",
                "#B0BEC5",
                "#B0BEC5",
                "#B0BEC5",
                "#B0BEC5",
                "#B0BEC5",
                "#B0BEC5",
                "#B0BEC5",
                "#B0BEC5",
                "#B0BEC5",
                "#B0BEC5",
                "#B0BEC5",
                "#B0BEC5",
                "#B0BEC5",
                "#B0BEC5",
                "#B0BEC5",
                "#B0BEC5",
                "#B0BEC5",
                "#B0BEC5",
                "#B0BEC5",
                "#B0BEC5",
                "#B0BEC5",
                "#B0BEC5",
                "#B0BEC5",
                "#B0BEC5",
                "#B0BEC5",
                "#B0BEC5",
                "#B0BEC5",
                "#B0BEC5",
                "#B0BEC5",
                "#B0BEC5",
                "#B0BEC5",
                "#B0BEC5",
                "#B0BEC5"
               ]
              ]
             }
            ],
            "label": "Topic 8",
            "method": "update"
           },
           {
            "args": [
             {
              "marker.color": [
               [
                "#B0BEC5",
                "#B0BEC5",
                "#B0BEC5",
                "#B0BEC5",
                "#B0BEC5",
                "#B0BEC5",
                "#B0BEC5",
                "#B0BEC5",
                "#B0BEC5",
                "red",
                "#B0BEC5",
                "#B0BEC5",
                "#B0BEC5",
                "#B0BEC5",
                "#B0BEC5",
                "#B0BEC5",
                "#B0BEC5",
                "#B0BEC5",
                "#B0BEC5",
                "#B0BEC5",
                "#B0BEC5",
                "#B0BEC5",
                "#B0BEC5",
                "#B0BEC5",
                "#B0BEC5",
                "#B0BEC5",
                "#B0BEC5",
                "#B0BEC5",
                "#B0BEC5",
                "#B0BEC5",
                "#B0BEC5",
                "#B0BEC5",
                "#B0BEC5",
                "#B0BEC5",
                "#B0BEC5",
                "#B0BEC5",
                "#B0BEC5",
                "#B0BEC5",
                "#B0BEC5",
                "#B0BEC5",
                "#B0BEC5",
                "#B0BEC5",
                "#B0BEC5",
                "#B0BEC5",
                "#B0BEC5",
                "#B0BEC5",
                "#B0BEC5",
                "#B0BEC5",
                "#B0BEC5",
                "#B0BEC5",
                "#B0BEC5",
                "#B0BEC5",
                "#B0BEC5"
               ]
              ]
             }
            ],
            "label": "Topic 9",
            "method": "update"
           },
           {
            "args": [
             {
              "marker.color": [
               [
                "#B0BEC5",
                "#B0BEC5",
                "#B0BEC5",
                "#B0BEC5",
                "#B0BEC5",
                "#B0BEC5",
                "#B0BEC5",
                "#B0BEC5",
                "#B0BEC5",
                "#B0BEC5",
                "red",
                "#B0BEC5",
                "#B0BEC5",
                "#B0BEC5",
                "#B0BEC5",
                "#B0BEC5",
                "#B0BEC5",
                "#B0BEC5",
                "#B0BEC5",
                "#B0BEC5",
                "#B0BEC5",
                "#B0BEC5",
                "#B0BEC5",
                "#B0BEC5",
                "#B0BEC5",
                "#B0BEC5",
                "#B0BEC5",
                "#B0BEC5",
                "#B0BEC5",
                "#B0BEC5",
                "#B0BEC5",
                "#B0BEC5",
                "#B0BEC5",
                "#B0BEC5",
                "#B0BEC5",
                "#B0BEC5",
                "#B0BEC5",
                "#B0BEC5",
                "#B0BEC5",
                "#B0BEC5",
                "#B0BEC5",
                "#B0BEC5",
                "#B0BEC5",
                "#B0BEC5",
                "#B0BEC5",
                "#B0BEC5",
                "#B0BEC5",
                "#B0BEC5",
                "#B0BEC5",
                "#B0BEC5",
                "#B0BEC5",
                "#B0BEC5",
                "#B0BEC5"
               ]
              ]
             }
            ],
            "label": "Topic 10",
            "method": "update"
           },
           {
            "args": [
             {
              "marker.color": [
               [
                "#B0BEC5",
                "#B0BEC5",
                "#B0BEC5",
                "#B0BEC5",
                "#B0BEC5",
                "#B0BEC5",
                "#B0BEC5",
                "#B0BEC5",
                "#B0BEC5",
                "#B0BEC5",
                "#B0BEC5",
                "red",
                "#B0BEC5",
                "#B0BEC5",
                "#B0BEC5",
                "#B0BEC5",
                "#B0BEC5",
                "#B0BEC5",
                "#B0BEC5",
                "#B0BEC5",
                "#B0BEC5",
                "#B0BEC5",
                "#B0BEC5",
                "#B0BEC5",
                "#B0BEC5",
                "#B0BEC5",
                "#B0BEC5",
                "#B0BEC5",
                "#B0BEC5",
                "#B0BEC5",
                "#B0BEC5",
                "#B0BEC5",
                "#B0BEC5",
                "#B0BEC5",
                "#B0BEC5",
                "#B0BEC5",
                "#B0BEC5",
                "#B0BEC5",
                "#B0BEC5",
                "#B0BEC5",
                "#B0BEC5",
                "#B0BEC5",
                "#B0BEC5",
                "#B0BEC5",
                "#B0BEC5",
                "#B0BEC5",
                "#B0BEC5",
                "#B0BEC5",
                "#B0BEC5",
                "#B0BEC5",
                "#B0BEC5",
                "#B0BEC5",
                "#B0BEC5"
               ]
              ]
             }
            ],
            "label": "Topic 11",
            "method": "update"
           },
           {
            "args": [
             {
              "marker.color": [
               [
                "#B0BEC5",
                "#B0BEC5",
                "#B0BEC5",
                "#B0BEC5",
                "#B0BEC5",
                "#B0BEC5",
                "#B0BEC5",
                "#B0BEC5",
                "#B0BEC5",
                "#B0BEC5",
                "#B0BEC5",
                "#B0BEC5",
                "red",
                "#B0BEC5",
                "#B0BEC5",
                "#B0BEC5",
                "#B0BEC5",
                "#B0BEC5",
                "#B0BEC5",
                "#B0BEC5",
                "#B0BEC5",
                "#B0BEC5",
                "#B0BEC5",
                "#B0BEC5",
                "#B0BEC5",
                "#B0BEC5",
                "#B0BEC5",
                "#B0BEC5",
                "#B0BEC5",
                "#B0BEC5",
                "#B0BEC5",
                "#B0BEC5",
                "#B0BEC5",
                "#B0BEC5",
                "#B0BEC5",
                "#B0BEC5",
                "#B0BEC5",
                "#B0BEC5",
                "#B0BEC5",
                "#B0BEC5",
                "#B0BEC5",
                "#B0BEC5",
                "#B0BEC5",
                "#B0BEC5",
                "#B0BEC5",
                "#B0BEC5",
                "#B0BEC5",
                "#B0BEC5",
                "#B0BEC5",
                "#B0BEC5",
                "#B0BEC5",
                "#B0BEC5",
                "#B0BEC5"
               ]
              ]
             }
            ],
            "label": "Topic 12",
            "method": "update"
           },
           {
            "args": [
             {
              "marker.color": [
               [
                "#B0BEC5",
                "#B0BEC5",
                "#B0BEC5",
                "#B0BEC5",
                "#B0BEC5",
                "#B0BEC5",
                "#B0BEC5",
                "#B0BEC5",
                "#B0BEC5",
                "#B0BEC5",
                "#B0BEC5",
                "#B0BEC5",
                "#B0BEC5",
                "red",
                "#B0BEC5",
                "#B0BEC5",
                "#B0BEC5",
                "#B0BEC5",
                "#B0BEC5",
                "#B0BEC5",
                "#B0BEC5",
                "#B0BEC5",
                "#B0BEC5",
                "#B0BEC5",
                "#B0BEC5",
                "#B0BEC5",
                "#B0BEC5",
                "#B0BEC5",
                "#B0BEC5",
                "#B0BEC5",
                "#B0BEC5",
                "#B0BEC5",
                "#B0BEC5",
                "#B0BEC5",
                "#B0BEC5",
                "#B0BEC5",
                "#B0BEC5",
                "#B0BEC5",
                "#B0BEC5",
                "#B0BEC5",
                "#B0BEC5",
                "#B0BEC5",
                "#B0BEC5",
                "#B0BEC5",
                "#B0BEC5",
                "#B0BEC5",
                "#B0BEC5",
                "#B0BEC5",
                "#B0BEC5",
                "#B0BEC5",
                "#B0BEC5",
                "#B0BEC5",
                "#B0BEC5"
               ]
              ]
             }
            ],
            "label": "Topic 13",
            "method": "update"
           },
           {
            "args": [
             {
              "marker.color": [
               [
                "#B0BEC5",
                "#B0BEC5",
                "#B0BEC5",
                "#B0BEC5",
                "#B0BEC5",
                "#B0BEC5",
                "#B0BEC5",
                "#B0BEC5",
                "#B0BEC5",
                "#B0BEC5",
                "#B0BEC5",
                "#B0BEC5",
                "#B0BEC5",
                "#B0BEC5",
                "red",
                "#B0BEC5",
                "#B0BEC5",
                "#B0BEC5",
                "#B0BEC5",
                "#B0BEC5",
                "#B0BEC5",
                "#B0BEC5",
                "#B0BEC5",
                "#B0BEC5",
                "#B0BEC5",
                "#B0BEC5",
                "#B0BEC5",
                "#B0BEC5",
                "#B0BEC5",
                "#B0BEC5",
                "#B0BEC5",
                "#B0BEC5",
                "#B0BEC5",
                "#B0BEC5",
                "#B0BEC5",
                "#B0BEC5",
                "#B0BEC5",
                "#B0BEC5",
                "#B0BEC5",
                "#B0BEC5",
                "#B0BEC5",
                "#B0BEC5",
                "#B0BEC5",
                "#B0BEC5",
                "#B0BEC5",
                "#B0BEC5",
                "#B0BEC5",
                "#B0BEC5",
                "#B0BEC5",
                "#B0BEC5",
                "#B0BEC5",
                "#B0BEC5",
                "#B0BEC5"
               ]
              ]
             }
            ],
            "label": "Topic 14",
            "method": "update"
           },
           {
            "args": [
             {
              "marker.color": [
               [
                "#B0BEC5",
                "#B0BEC5",
                "#B0BEC5",
                "#B0BEC5",
                "#B0BEC5",
                "#B0BEC5",
                "#B0BEC5",
                "#B0BEC5",
                "#B0BEC5",
                "#B0BEC5",
                "#B0BEC5",
                "#B0BEC5",
                "#B0BEC5",
                "#B0BEC5",
                "#B0BEC5",
                "red",
                "#B0BEC5",
                "#B0BEC5",
                "#B0BEC5",
                "#B0BEC5",
                "#B0BEC5",
                "#B0BEC5",
                "#B0BEC5",
                "#B0BEC5",
                "#B0BEC5",
                "#B0BEC5",
                "#B0BEC5",
                "#B0BEC5",
                "#B0BEC5",
                "#B0BEC5",
                "#B0BEC5",
                "#B0BEC5",
                "#B0BEC5",
                "#B0BEC5",
                "#B0BEC5",
                "#B0BEC5",
                "#B0BEC5",
                "#B0BEC5",
                "#B0BEC5",
                "#B0BEC5",
                "#B0BEC5",
                "#B0BEC5",
                "#B0BEC5",
                "#B0BEC5",
                "#B0BEC5",
                "#B0BEC5",
                "#B0BEC5",
                "#B0BEC5",
                "#B0BEC5",
                "#B0BEC5",
                "#B0BEC5",
                "#B0BEC5",
                "#B0BEC5"
               ]
              ]
             }
            ],
            "label": "Topic 15",
            "method": "update"
           },
           {
            "args": [
             {
              "marker.color": [
               [
                "#B0BEC5",
                "#B0BEC5",
                "#B0BEC5",
                "#B0BEC5",
                "#B0BEC5",
                "#B0BEC5",
                "#B0BEC5",
                "#B0BEC5",
                "#B0BEC5",
                "#B0BEC5",
                "#B0BEC5",
                "#B0BEC5",
                "#B0BEC5",
                "#B0BEC5",
                "#B0BEC5",
                "#B0BEC5",
                "red",
                "#B0BEC5",
                "#B0BEC5",
                "#B0BEC5",
                "#B0BEC5",
                "#B0BEC5",
                "#B0BEC5",
                "#B0BEC5",
                "#B0BEC5",
                "#B0BEC5",
                "#B0BEC5",
                "#B0BEC5",
                "#B0BEC5",
                "#B0BEC5",
                "#B0BEC5",
                "#B0BEC5",
                "#B0BEC5",
                "#B0BEC5",
                "#B0BEC5",
                "#B0BEC5",
                "#B0BEC5",
                "#B0BEC5",
                "#B0BEC5",
                "#B0BEC5",
                "#B0BEC5",
                "#B0BEC5",
                "#B0BEC5",
                "#B0BEC5",
                "#B0BEC5",
                "#B0BEC5",
                "#B0BEC5",
                "#B0BEC5",
                "#B0BEC5",
                "#B0BEC5",
                "#B0BEC5",
                "#B0BEC5",
                "#B0BEC5"
               ]
              ]
             }
            ],
            "label": "Topic 16",
            "method": "update"
           },
           {
            "args": [
             {
              "marker.color": [
               [
                "#B0BEC5",
                "#B0BEC5",
                "#B0BEC5",
                "#B0BEC5",
                "#B0BEC5",
                "#B0BEC5",
                "#B0BEC5",
                "#B0BEC5",
                "#B0BEC5",
                "#B0BEC5",
                "#B0BEC5",
                "#B0BEC5",
                "#B0BEC5",
                "#B0BEC5",
                "#B0BEC5",
                "#B0BEC5",
                "#B0BEC5",
                "red",
                "#B0BEC5",
                "#B0BEC5",
                "#B0BEC5",
                "#B0BEC5",
                "#B0BEC5",
                "#B0BEC5",
                "#B0BEC5",
                "#B0BEC5",
                "#B0BEC5",
                "#B0BEC5",
                "#B0BEC5",
                "#B0BEC5",
                "#B0BEC5",
                "#B0BEC5",
                "#B0BEC5",
                "#B0BEC5",
                "#B0BEC5",
                "#B0BEC5",
                "#B0BEC5",
                "#B0BEC5",
                "#B0BEC5",
                "#B0BEC5",
                "#B0BEC5",
                "#B0BEC5",
                "#B0BEC5",
                "#B0BEC5",
                "#B0BEC5",
                "#B0BEC5",
                "#B0BEC5",
                "#B0BEC5",
                "#B0BEC5",
                "#B0BEC5",
                "#B0BEC5",
                "#B0BEC5",
                "#B0BEC5"
               ]
              ]
             }
            ],
            "label": "Topic 17",
            "method": "update"
           },
           {
            "args": [
             {
              "marker.color": [
               [
                "#B0BEC5",
                "#B0BEC5",
                "#B0BEC5",
                "#B0BEC5",
                "#B0BEC5",
                "#B0BEC5",
                "#B0BEC5",
                "#B0BEC5",
                "#B0BEC5",
                "#B0BEC5",
                "#B0BEC5",
                "#B0BEC5",
                "#B0BEC5",
                "#B0BEC5",
                "#B0BEC5",
                "#B0BEC5",
                "#B0BEC5",
                "#B0BEC5",
                "red",
                "#B0BEC5",
                "#B0BEC5",
                "#B0BEC5",
                "#B0BEC5",
                "#B0BEC5",
                "#B0BEC5",
                "#B0BEC5",
                "#B0BEC5",
                "#B0BEC5",
                "#B0BEC5",
                "#B0BEC5",
                "#B0BEC5",
                "#B0BEC5",
                "#B0BEC5",
                "#B0BEC5",
                "#B0BEC5",
                "#B0BEC5",
                "#B0BEC5",
                "#B0BEC5",
                "#B0BEC5",
                "#B0BEC5",
                "#B0BEC5",
                "#B0BEC5",
                "#B0BEC5",
                "#B0BEC5",
                "#B0BEC5",
                "#B0BEC5",
                "#B0BEC5",
                "#B0BEC5",
                "#B0BEC5",
                "#B0BEC5",
                "#B0BEC5",
                "#B0BEC5",
                "#B0BEC5"
               ]
              ]
             }
            ],
            "label": "Topic 18",
            "method": "update"
           },
           {
            "args": [
             {
              "marker.color": [
               [
                "#B0BEC5",
                "#B0BEC5",
                "#B0BEC5",
                "#B0BEC5",
                "#B0BEC5",
                "#B0BEC5",
                "#B0BEC5",
                "#B0BEC5",
                "#B0BEC5",
                "#B0BEC5",
                "#B0BEC5",
                "#B0BEC5",
                "#B0BEC5",
                "#B0BEC5",
                "#B0BEC5",
                "#B0BEC5",
                "#B0BEC5",
                "#B0BEC5",
                "#B0BEC5",
                "red",
                "#B0BEC5",
                "#B0BEC5",
                "#B0BEC5",
                "#B0BEC5",
                "#B0BEC5",
                "#B0BEC5",
                "#B0BEC5",
                "#B0BEC5",
                "#B0BEC5",
                "#B0BEC5",
                "#B0BEC5",
                "#B0BEC5",
                "#B0BEC5",
                "#B0BEC5",
                "#B0BEC5",
                "#B0BEC5",
                "#B0BEC5",
                "#B0BEC5",
                "#B0BEC5",
                "#B0BEC5",
                "#B0BEC5",
                "#B0BEC5",
                "#B0BEC5",
                "#B0BEC5",
                "#B0BEC5",
                "#B0BEC5",
                "#B0BEC5",
                "#B0BEC5",
                "#B0BEC5",
                "#B0BEC5",
                "#B0BEC5",
                "#B0BEC5",
                "#B0BEC5"
               ]
              ]
             }
            ],
            "label": "Topic 19",
            "method": "update"
           },
           {
            "args": [
             {
              "marker.color": [
               [
                "#B0BEC5",
                "#B0BEC5",
                "#B0BEC5",
                "#B0BEC5",
                "#B0BEC5",
                "#B0BEC5",
                "#B0BEC5",
                "#B0BEC5",
                "#B0BEC5",
                "#B0BEC5",
                "#B0BEC5",
                "#B0BEC5",
                "#B0BEC5",
                "#B0BEC5",
                "#B0BEC5",
                "#B0BEC5",
                "#B0BEC5",
                "#B0BEC5",
                "#B0BEC5",
                "#B0BEC5",
                "red",
                "#B0BEC5",
                "#B0BEC5",
                "#B0BEC5",
                "#B0BEC5",
                "#B0BEC5",
                "#B0BEC5",
                "#B0BEC5",
                "#B0BEC5",
                "#B0BEC5",
                "#B0BEC5",
                "#B0BEC5",
                "#B0BEC5",
                "#B0BEC5",
                "#B0BEC5",
                "#B0BEC5",
                "#B0BEC5",
                "#B0BEC5",
                "#B0BEC5",
                "#B0BEC5",
                "#B0BEC5",
                "#B0BEC5",
                "#B0BEC5",
                "#B0BEC5",
                "#B0BEC5",
                "#B0BEC5",
                "#B0BEC5",
                "#B0BEC5",
                "#B0BEC5",
                "#B0BEC5",
                "#B0BEC5",
                "#B0BEC5",
                "#B0BEC5"
               ]
              ]
             }
            ],
            "label": "Topic 20",
            "method": "update"
           },
           {
            "args": [
             {
              "marker.color": [
               [
                "#B0BEC5",
                "#B0BEC5",
                "#B0BEC5",
                "#B0BEC5",
                "#B0BEC5",
                "#B0BEC5",
                "#B0BEC5",
                "#B0BEC5",
                "#B0BEC5",
                "#B0BEC5",
                "#B0BEC5",
                "#B0BEC5",
                "#B0BEC5",
                "#B0BEC5",
                "#B0BEC5",
                "#B0BEC5",
                "#B0BEC5",
                "#B0BEC5",
                "#B0BEC5",
                "#B0BEC5",
                "#B0BEC5",
                "red",
                "#B0BEC5",
                "#B0BEC5",
                "#B0BEC5",
                "#B0BEC5",
                "#B0BEC5",
                "#B0BEC5",
                "#B0BEC5",
                "#B0BEC5",
                "#B0BEC5",
                "#B0BEC5",
                "#B0BEC5",
                "#B0BEC5",
                "#B0BEC5",
                "#B0BEC5",
                "#B0BEC5",
                "#B0BEC5",
                "#B0BEC5",
                "#B0BEC5",
                "#B0BEC5",
                "#B0BEC5",
                "#B0BEC5",
                "#B0BEC5",
                "#B0BEC5",
                "#B0BEC5",
                "#B0BEC5",
                "#B0BEC5",
                "#B0BEC5",
                "#B0BEC5",
                "#B0BEC5",
                "#B0BEC5",
                "#B0BEC5"
               ]
              ]
             }
            ],
            "label": "Topic 21",
            "method": "update"
           },
           {
            "args": [
             {
              "marker.color": [
               [
                "#B0BEC5",
                "#B0BEC5",
                "#B0BEC5",
                "#B0BEC5",
                "#B0BEC5",
                "#B0BEC5",
                "#B0BEC5",
                "#B0BEC5",
                "#B0BEC5",
                "#B0BEC5",
                "#B0BEC5",
                "#B0BEC5",
                "#B0BEC5",
                "#B0BEC5",
                "#B0BEC5",
                "#B0BEC5",
                "#B0BEC5",
                "#B0BEC5",
                "#B0BEC5",
                "#B0BEC5",
                "#B0BEC5",
                "#B0BEC5",
                "red",
                "#B0BEC5",
                "#B0BEC5",
                "#B0BEC5",
                "#B0BEC5",
                "#B0BEC5",
                "#B0BEC5",
                "#B0BEC5",
                "#B0BEC5",
                "#B0BEC5",
                "#B0BEC5",
                "#B0BEC5",
                "#B0BEC5",
                "#B0BEC5",
                "#B0BEC5",
                "#B0BEC5",
                "#B0BEC5",
                "#B0BEC5",
                "#B0BEC5",
                "#B0BEC5",
                "#B0BEC5",
                "#B0BEC5",
                "#B0BEC5",
                "#B0BEC5",
                "#B0BEC5",
                "#B0BEC5",
                "#B0BEC5",
                "#B0BEC5",
                "#B0BEC5",
                "#B0BEC5",
                "#B0BEC5"
               ]
              ]
             }
            ],
            "label": "Topic 22",
            "method": "update"
           },
           {
            "args": [
             {
              "marker.color": [
               [
                "#B0BEC5",
                "#B0BEC5",
                "#B0BEC5",
                "#B0BEC5",
                "#B0BEC5",
                "#B0BEC5",
                "#B0BEC5",
                "#B0BEC5",
                "#B0BEC5",
                "#B0BEC5",
                "#B0BEC5",
                "#B0BEC5",
                "#B0BEC5",
                "#B0BEC5",
                "#B0BEC5",
                "#B0BEC5",
                "#B0BEC5",
                "#B0BEC5",
                "#B0BEC5",
                "#B0BEC5",
                "#B0BEC5",
                "#B0BEC5",
                "#B0BEC5",
                "red",
                "#B0BEC5",
                "#B0BEC5",
                "#B0BEC5",
                "#B0BEC5",
                "#B0BEC5",
                "#B0BEC5",
                "#B0BEC5",
                "#B0BEC5",
                "#B0BEC5",
                "#B0BEC5",
                "#B0BEC5",
                "#B0BEC5",
                "#B0BEC5",
                "#B0BEC5",
                "#B0BEC5",
                "#B0BEC5",
                "#B0BEC5",
                "#B0BEC5",
                "#B0BEC5",
                "#B0BEC5",
                "#B0BEC5",
                "#B0BEC5",
                "#B0BEC5",
                "#B0BEC5",
                "#B0BEC5",
                "#B0BEC5",
                "#B0BEC5",
                "#B0BEC5",
                "#B0BEC5"
               ]
              ]
             }
            ],
            "label": "Topic 23",
            "method": "update"
           },
           {
            "args": [
             {
              "marker.color": [
               [
                "#B0BEC5",
                "#B0BEC5",
                "#B0BEC5",
                "#B0BEC5",
                "#B0BEC5",
                "#B0BEC5",
                "#B0BEC5",
                "#B0BEC5",
                "#B0BEC5",
                "#B0BEC5",
                "#B0BEC5",
                "#B0BEC5",
                "#B0BEC5",
                "#B0BEC5",
                "#B0BEC5",
                "#B0BEC5",
                "#B0BEC5",
                "#B0BEC5",
                "#B0BEC5",
                "#B0BEC5",
                "#B0BEC5",
                "#B0BEC5",
                "#B0BEC5",
                "#B0BEC5",
                "red",
                "#B0BEC5",
                "#B0BEC5",
                "#B0BEC5",
                "#B0BEC5",
                "#B0BEC5",
                "#B0BEC5",
                "#B0BEC5",
                "#B0BEC5",
                "#B0BEC5",
                "#B0BEC5",
                "#B0BEC5",
                "#B0BEC5",
                "#B0BEC5",
                "#B0BEC5",
                "#B0BEC5",
                "#B0BEC5",
                "#B0BEC5",
                "#B0BEC5",
                "#B0BEC5",
                "#B0BEC5",
                "#B0BEC5",
                "#B0BEC5",
                "#B0BEC5",
                "#B0BEC5",
                "#B0BEC5",
                "#B0BEC5",
                "#B0BEC5",
                "#B0BEC5"
               ]
              ]
             }
            ],
            "label": "Topic 24",
            "method": "update"
           },
           {
            "args": [
             {
              "marker.color": [
               [
                "#B0BEC5",
                "#B0BEC5",
                "#B0BEC5",
                "#B0BEC5",
                "#B0BEC5",
                "#B0BEC5",
                "#B0BEC5",
                "#B0BEC5",
                "#B0BEC5",
                "#B0BEC5",
                "#B0BEC5",
                "#B0BEC5",
                "#B0BEC5",
                "#B0BEC5",
                "#B0BEC5",
                "#B0BEC5",
                "#B0BEC5",
                "#B0BEC5",
                "#B0BEC5",
                "#B0BEC5",
                "#B0BEC5",
                "#B0BEC5",
                "#B0BEC5",
                "#B0BEC5",
                "#B0BEC5",
                "red",
                "#B0BEC5",
                "#B0BEC5",
                "#B0BEC5",
                "#B0BEC5",
                "#B0BEC5",
                "#B0BEC5",
                "#B0BEC5",
                "#B0BEC5",
                "#B0BEC5",
                "#B0BEC5",
                "#B0BEC5",
                "#B0BEC5",
                "#B0BEC5",
                "#B0BEC5",
                "#B0BEC5",
                "#B0BEC5",
                "#B0BEC5",
                "#B0BEC5",
                "#B0BEC5",
                "#B0BEC5",
                "#B0BEC5",
                "#B0BEC5",
                "#B0BEC5",
                "#B0BEC5",
                "#B0BEC5",
                "#B0BEC5",
                "#B0BEC5"
               ]
              ]
             }
            ],
            "label": "Topic 25",
            "method": "update"
           },
           {
            "args": [
             {
              "marker.color": [
               [
                "#B0BEC5",
                "#B0BEC5",
                "#B0BEC5",
                "#B0BEC5",
                "#B0BEC5",
                "#B0BEC5",
                "#B0BEC5",
                "#B0BEC5",
                "#B0BEC5",
                "#B0BEC5",
                "#B0BEC5",
                "#B0BEC5",
                "#B0BEC5",
                "#B0BEC5",
                "#B0BEC5",
                "#B0BEC5",
                "#B0BEC5",
                "#B0BEC5",
                "#B0BEC5",
                "#B0BEC5",
                "#B0BEC5",
                "#B0BEC5",
                "#B0BEC5",
                "#B0BEC5",
                "#B0BEC5",
                "#B0BEC5",
                "red",
                "#B0BEC5",
                "#B0BEC5",
                "#B0BEC5",
                "#B0BEC5",
                "#B0BEC5",
                "#B0BEC5",
                "#B0BEC5",
                "#B0BEC5",
                "#B0BEC5",
                "#B0BEC5",
                "#B0BEC5",
                "#B0BEC5",
                "#B0BEC5",
                "#B0BEC5",
                "#B0BEC5",
                "#B0BEC5",
                "#B0BEC5",
                "#B0BEC5",
                "#B0BEC5",
                "#B0BEC5",
                "#B0BEC5",
                "#B0BEC5",
                "#B0BEC5",
                "#B0BEC5",
                "#B0BEC5",
                "#B0BEC5"
               ]
              ]
             }
            ],
            "label": "Topic 26",
            "method": "update"
           },
           {
            "args": [
             {
              "marker.color": [
               [
                "#B0BEC5",
                "#B0BEC5",
                "#B0BEC5",
                "#B0BEC5",
                "#B0BEC5",
                "#B0BEC5",
                "#B0BEC5",
                "#B0BEC5",
                "#B0BEC5",
                "#B0BEC5",
                "#B0BEC5",
                "#B0BEC5",
                "#B0BEC5",
                "#B0BEC5",
                "#B0BEC5",
                "#B0BEC5",
                "#B0BEC5",
                "#B0BEC5",
                "#B0BEC5",
                "#B0BEC5",
                "#B0BEC5",
                "#B0BEC5",
                "#B0BEC5",
                "#B0BEC5",
                "#B0BEC5",
                "#B0BEC5",
                "#B0BEC5",
                "red",
                "#B0BEC5",
                "#B0BEC5",
                "#B0BEC5",
                "#B0BEC5",
                "#B0BEC5",
                "#B0BEC5",
                "#B0BEC5",
                "#B0BEC5",
                "#B0BEC5",
                "#B0BEC5",
                "#B0BEC5",
                "#B0BEC5",
                "#B0BEC5",
                "#B0BEC5",
                "#B0BEC5",
                "#B0BEC5",
                "#B0BEC5",
                "#B0BEC5",
                "#B0BEC5",
                "#B0BEC5",
                "#B0BEC5",
                "#B0BEC5",
                "#B0BEC5",
                "#B0BEC5",
                "#B0BEC5"
               ]
              ]
             }
            ],
            "label": "Topic 27",
            "method": "update"
           },
           {
            "args": [
             {
              "marker.color": [
               [
                "#B0BEC5",
                "#B0BEC5",
                "#B0BEC5",
                "#B0BEC5",
                "#B0BEC5",
                "#B0BEC5",
                "#B0BEC5",
                "#B0BEC5",
                "#B0BEC5",
                "#B0BEC5",
                "#B0BEC5",
                "#B0BEC5",
                "#B0BEC5",
                "#B0BEC5",
                "#B0BEC5",
                "#B0BEC5",
                "#B0BEC5",
                "#B0BEC5",
                "#B0BEC5",
                "#B0BEC5",
                "#B0BEC5",
                "#B0BEC5",
                "#B0BEC5",
                "#B0BEC5",
                "#B0BEC5",
                "#B0BEC5",
                "#B0BEC5",
                "#B0BEC5",
                "red",
                "#B0BEC5",
                "#B0BEC5",
                "#B0BEC5",
                "#B0BEC5",
                "#B0BEC5",
                "#B0BEC5",
                "#B0BEC5",
                "#B0BEC5",
                "#B0BEC5",
                "#B0BEC5",
                "#B0BEC5",
                "#B0BEC5",
                "#B0BEC5",
                "#B0BEC5",
                "#B0BEC5",
                "#B0BEC5",
                "#B0BEC5",
                "#B0BEC5",
                "#B0BEC5",
                "#B0BEC5",
                "#B0BEC5",
                "#B0BEC5",
                "#B0BEC5",
                "#B0BEC5"
               ]
              ]
             }
            ],
            "label": "Topic 28",
            "method": "update"
           },
           {
            "args": [
             {
              "marker.color": [
               [
                "#B0BEC5",
                "#B0BEC5",
                "#B0BEC5",
                "#B0BEC5",
                "#B0BEC5",
                "#B0BEC5",
                "#B0BEC5",
                "#B0BEC5",
                "#B0BEC5",
                "#B0BEC5",
                "#B0BEC5",
                "#B0BEC5",
                "#B0BEC5",
                "#B0BEC5",
                "#B0BEC5",
                "#B0BEC5",
                "#B0BEC5",
                "#B0BEC5",
                "#B0BEC5",
                "#B0BEC5",
                "#B0BEC5",
                "#B0BEC5",
                "#B0BEC5",
                "#B0BEC5",
                "#B0BEC5",
                "#B0BEC5",
                "#B0BEC5",
                "#B0BEC5",
                "#B0BEC5",
                "red",
                "#B0BEC5",
                "#B0BEC5",
                "#B0BEC5",
                "#B0BEC5",
                "#B0BEC5",
                "#B0BEC5",
                "#B0BEC5",
                "#B0BEC5",
                "#B0BEC5",
                "#B0BEC5",
                "#B0BEC5",
                "#B0BEC5",
                "#B0BEC5",
                "#B0BEC5",
                "#B0BEC5",
                "#B0BEC5",
                "#B0BEC5",
                "#B0BEC5",
                "#B0BEC5",
                "#B0BEC5",
                "#B0BEC5",
                "#B0BEC5",
                "#B0BEC5"
               ]
              ]
             }
            ],
            "label": "Topic 29",
            "method": "update"
           },
           {
            "args": [
             {
              "marker.color": [
               [
                "#B0BEC5",
                "#B0BEC5",
                "#B0BEC5",
                "#B0BEC5",
                "#B0BEC5",
                "#B0BEC5",
                "#B0BEC5",
                "#B0BEC5",
                "#B0BEC5",
                "#B0BEC5",
                "#B0BEC5",
                "#B0BEC5",
                "#B0BEC5",
                "#B0BEC5",
                "#B0BEC5",
                "#B0BEC5",
                "#B0BEC5",
                "#B0BEC5",
                "#B0BEC5",
                "#B0BEC5",
                "#B0BEC5",
                "#B0BEC5",
                "#B0BEC5",
                "#B0BEC5",
                "#B0BEC5",
                "#B0BEC5",
                "#B0BEC5",
                "#B0BEC5",
                "#B0BEC5",
                "#B0BEC5",
                "red",
                "#B0BEC5",
                "#B0BEC5",
                "#B0BEC5",
                "#B0BEC5",
                "#B0BEC5",
                "#B0BEC5",
                "#B0BEC5",
                "#B0BEC5",
                "#B0BEC5",
                "#B0BEC5",
                "#B0BEC5",
                "#B0BEC5",
                "#B0BEC5",
                "#B0BEC5",
                "#B0BEC5",
                "#B0BEC5",
                "#B0BEC5",
                "#B0BEC5",
                "#B0BEC5",
                "#B0BEC5",
                "#B0BEC5",
                "#B0BEC5"
               ]
              ]
             }
            ],
            "label": "Topic 30",
            "method": "update"
           },
           {
            "args": [
             {
              "marker.color": [
               [
                "#B0BEC5",
                "#B0BEC5",
                "#B0BEC5",
                "#B0BEC5",
                "#B0BEC5",
                "#B0BEC5",
                "#B0BEC5",
                "#B0BEC5",
                "#B0BEC5",
                "#B0BEC5",
                "#B0BEC5",
                "#B0BEC5",
                "#B0BEC5",
                "#B0BEC5",
                "#B0BEC5",
                "#B0BEC5",
                "#B0BEC5",
                "#B0BEC5",
                "#B0BEC5",
                "#B0BEC5",
                "#B0BEC5",
                "#B0BEC5",
                "#B0BEC5",
                "#B0BEC5",
                "#B0BEC5",
                "#B0BEC5",
                "#B0BEC5",
                "#B0BEC5",
                "#B0BEC5",
                "#B0BEC5",
                "#B0BEC5",
                "red",
                "#B0BEC5",
                "#B0BEC5",
                "#B0BEC5",
                "#B0BEC5",
                "#B0BEC5",
                "#B0BEC5",
                "#B0BEC5",
                "#B0BEC5",
                "#B0BEC5",
                "#B0BEC5",
                "#B0BEC5",
                "#B0BEC5",
                "#B0BEC5",
                "#B0BEC5",
                "#B0BEC5",
                "#B0BEC5",
                "#B0BEC5",
                "#B0BEC5",
                "#B0BEC5",
                "#B0BEC5",
                "#B0BEC5"
               ]
              ]
             }
            ],
            "label": "Topic 31",
            "method": "update"
           },
           {
            "args": [
             {
              "marker.color": [
               [
                "#B0BEC5",
                "#B0BEC5",
                "#B0BEC5",
                "#B0BEC5",
                "#B0BEC5",
                "#B0BEC5",
                "#B0BEC5",
                "#B0BEC5",
                "#B0BEC5",
                "#B0BEC5",
                "#B0BEC5",
                "#B0BEC5",
                "#B0BEC5",
                "#B0BEC5",
                "#B0BEC5",
                "#B0BEC5",
                "#B0BEC5",
                "#B0BEC5",
                "#B0BEC5",
                "#B0BEC5",
                "#B0BEC5",
                "#B0BEC5",
                "#B0BEC5",
                "#B0BEC5",
                "#B0BEC5",
                "#B0BEC5",
                "#B0BEC5",
                "#B0BEC5",
                "#B0BEC5",
                "#B0BEC5",
                "#B0BEC5",
                "#B0BEC5",
                "red",
                "#B0BEC5",
                "#B0BEC5",
                "#B0BEC5",
                "#B0BEC5",
                "#B0BEC5",
                "#B0BEC5",
                "#B0BEC5",
                "#B0BEC5",
                "#B0BEC5",
                "#B0BEC5",
                "#B0BEC5",
                "#B0BEC5",
                "#B0BEC5",
                "#B0BEC5",
                "#B0BEC5",
                "#B0BEC5",
                "#B0BEC5",
                "#B0BEC5",
                "#B0BEC5",
                "#B0BEC5"
               ]
              ]
             }
            ],
            "label": "Topic 32",
            "method": "update"
           },
           {
            "args": [
             {
              "marker.color": [
               [
                "#B0BEC5",
                "#B0BEC5",
                "#B0BEC5",
                "#B0BEC5",
                "#B0BEC5",
                "#B0BEC5",
                "#B0BEC5",
                "#B0BEC5",
                "#B0BEC5",
                "#B0BEC5",
                "#B0BEC5",
                "#B0BEC5",
                "#B0BEC5",
                "#B0BEC5",
                "#B0BEC5",
                "#B0BEC5",
                "#B0BEC5",
                "#B0BEC5",
                "#B0BEC5",
                "#B0BEC5",
                "#B0BEC5",
                "#B0BEC5",
                "#B0BEC5",
                "#B0BEC5",
                "#B0BEC5",
                "#B0BEC5",
                "#B0BEC5",
                "#B0BEC5",
                "#B0BEC5",
                "#B0BEC5",
                "#B0BEC5",
                "#B0BEC5",
                "#B0BEC5",
                "red",
                "#B0BEC5",
                "#B0BEC5",
                "#B0BEC5",
                "#B0BEC5",
                "#B0BEC5",
                "#B0BEC5",
                "#B0BEC5",
                "#B0BEC5",
                "#B0BEC5",
                "#B0BEC5",
                "#B0BEC5",
                "#B0BEC5",
                "#B0BEC5",
                "#B0BEC5",
                "#B0BEC5",
                "#B0BEC5",
                "#B0BEC5",
                "#B0BEC5",
                "#B0BEC5"
               ]
              ]
             }
            ],
            "label": "Topic 33",
            "method": "update"
           },
           {
            "args": [
             {
              "marker.color": [
               [
                "#B0BEC5",
                "#B0BEC5",
                "#B0BEC5",
                "#B0BEC5",
                "#B0BEC5",
                "#B0BEC5",
                "#B0BEC5",
                "#B0BEC5",
                "#B0BEC5",
                "#B0BEC5",
                "#B0BEC5",
                "#B0BEC5",
                "#B0BEC5",
                "#B0BEC5",
                "#B0BEC5",
                "#B0BEC5",
                "#B0BEC5",
                "#B0BEC5",
                "#B0BEC5",
                "#B0BEC5",
                "#B0BEC5",
                "#B0BEC5",
                "#B0BEC5",
                "#B0BEC5",
                "#B0BEC5",
                "#B0BEC5",
                "#B0BEC5",
                "#B0BEC5",
                "#B0BEC5",
                "#B0BEC5",
                "#B0BEC5",
                "#B0BEC5",
                "#B0BEC5",
                "#B0BEC5",
                "red",
                "#B0BEC5",
                "#B0BEC5",
                "#B0BEC5",
                "#B0BEC5",
                "#B0BEC5",
                "#B0BEC5",
                "#B0BEC5",
                "#B0BEC5",
                "#B0BEC5",
                "#B0BEC5",
                "#B0BEC5",
                "#B0BEC5",
                "#B0BEC5",
                "#B0BEC5",
                "#B0BEC5",
                "#B0BEC5",
                "#B0BEC5",
                "#B0BEC5"
               ]
              ]
             }
            ],
            "label": "Topic 34",
            "method": "update"
           },
           {
            "args": [
             {
              "marker.color": [
               [
                "#B0BEC5",
                "#B0BEC5",
                "#B0BEC5",
                "#B0BEC5",
                "#B0BEC5",
                "#B0BEC5",
                "#B0BEC5",
                "#B0BEC5",
                "#B0BEC5",
                "#B0BEC5",
                "#B0BEC5",
                "#B0BEC5",
                "#B0BEC5",
                "#B0BEC5",
                "#B0BEC5",
                "#B0BEC5",
                "#B0BEC5",
                "#B0BEC5",
                "#B0BEC5",
                "#B0BEC5",
                "#B0BEC5",
                "#B0BEC5",
                "#B0BEC5",
                "#B0BEC5",
                "#B0BEC5",
                "#B0BEC5",
                "#B0BEC5",
                "#B0BEC5",
                "#B0BEC5",
                "#B0BEC5",
                "#B0BEC5",
                "#B0BEC5",
                "#B0BEC5",
                "#B0BEC5",
                "#B0BEC5",
                "red",
                "#B0BEC5",
                "#B0BEC5",
                "#B0BEC5",
                "#B0BEC5",
                "#B0BEC5",
                "#B0BEC5",
                "#B0BEC5",
                "#B0BEC5",
                "#B0BEC5",
                "#B0BEC5",
                "#B0BEC5",
                "#B0BEC5",
                "#B0BEC5",
                "#B0BEC5",
                "#B0BEC5",
                "#B0BEC5",
                "#B0BEC5"
               ]
              ]
             }
            ],
            "label": "Topic 35",
            "method": "update"
           },
           {
            "args": [
             {
              "marker.color": [
               [
                "#B0BEC5",
                "#B0BEC5",
                "#B0BEC5",
                "#B0BEC5",
                "#B0BEC5",
                "#B0BEC5",
                "#B0BEC5",
                "#B0BEC5",
                "#B0BEC5",
                "#B0BEC5",
                "#B0BEC5",
                "#B0BEC5",
                "#B0BEC5",
                "#B0BEC5",
                "#B0BEC5",
                "#B0BEC5",
                "#B0BEC5",
                "#B0BEC5",
                "#B0BEC5",
                "#B0BEC5",
                "#B0BEC5",
                "#B0BEC5",
                "#B0BEC5",
                "#B0BEC5",
                "#B0BEC5",
                "#B0BEC5",
                "#B0BEC5",
                "#B0BEC5",
                "#B0BEC5",
                "#B0BEC5",
                "#B0BEC5",
                "#B0BEC5",
                "#B0BEC5",
                "#B0BEC5",
                "#B0BEC5",
                "#B0BEC5",
                "red",
                "#B0BEC5",
                "#B0BEC5",
                "#B0BEC5",
                "#B0BEC5",
                "#B0BEC5",
                "#B0BEC5",
                "#B0BEC5",
                "#B0BEC5",
                "#B0BEC5",
                "#B0BEC5",
                "#B0BEC5",
                "#B0BEC5",
                "#B0BEC5",
                "#B0BEC5",
                "#B0BEC5",
                "#B0BEC5"
               ]
              ]
             }
            ],
            "label": "Topic 36",
            "method": "update"
           },
           {
            "args": [
             {
              "marker.color": [
               [
                "#B0BEC5",
                "#B0BEC5",
                "#B0BEC5",
                "#B0BEC5",
                "#B0BEC5",
                "#B0BEC5",
                "#B0BEC5",
                "#B0BEC5",
                "#B0BEC5",
                "#B0BEC5",
                "#B0BEC5",
                "#B0BEC5",
                "#B0BEC5",
                "#B0BEC5",
                "#B0BEC5",
                "#B0BEC5",
                "#B0BEC5",
                "#B0BEC5",
                "#B0BEC5",
                "#B0BEC5",
                "#B0BEC5",
                "#B0BEC5",
                "#B0BEC5",
                "#B0BEC5",
                "#B0BEC5",
                "#B0BEC5",
                "#B0BEC5",
                "#B0BEC5",
                "#B0BEC5",
                "#B0BEC5",
                "#B0BEC5",
                "#B0BEC5",
                "#B0BEC5",
                "#B0BEC5",
                "#B0BEC5",
                "#B0BEC5",
                "#B0BEC5",
                "red",
                "#B0BEC5",
                "#B0BEC5",
                "#B0BEC5",
                "#B0BEC5",
                "#B0BEC5",
                "#B0BEC5",
                "#B0BEC5",
                "#B0BEC5",
                "#B0BEC5",
                "#B0BEC5",
                "#B0BEC5",
                "#B0BEC5",
                "#B0BEC5",
                "#B0BEC5",
                "#B0BEC5"
               ]
              ]
             }
            ],
            "label": "Topic 37",
            "method": "update"
           },
           {
            "args": [
             {
              "marker.color": [
               [
                "#B0BEC5",
                "#B0BEC5",
                "#B0BEC5",
                "#B0BEC5",
                "#B0BEC5",
                "#B0BEC5",
                "#B0BEC5",
                "#B0BEC5",
                "#B0BEC5",
                "#B0BEC5",
                "#B0BEC5",
                "#B0BEC5",
                "#B0BEC5",
                "#B0BEC5",
                "#B0BEC5",
                "#B0BEC5",
                "#B0BEC5",
                "#B0BEC5",
                "#B0BEC5",
                "#B0BEC5",
                "#B0BEC5",
                "#B0BEC5",
                "#B0BEC5",
                "#B0BEC5",
                "#B0BEC5",
                "#B0BEC5",
                "#B0BEC5",
                "#B0BEC5",
                "#B0BEC5",
                "#B0BEC5",
                "#B0BEC5",
                "#B0BEC5",
                "#B0BEC5",
                "#B0BEC5",
                "#B0BEC5",
                "#B0BEC5",
                "#B0BEC5",
                "#B0BEC5",
                "red",
                "#B0BEC5",
                "#B0BEC5",
                "#B0BEC5",
                "#B0BEC5",
                "#B0BEC5",
                "#B0BEC5",
                "#B0BEC5",
                "#B0BEC5",
                "#B0BEC5",
                "#B0BEC5",
                "#B0BEC5",
                "#B0BEC5",
                "#B0BEC5",
                "#B0BEC5"
               ]
              ]
             }
            ],
            "label": "Topic 38",
            "method": "update"
           },
           {
            "args": [
             {
              "marker.color": [
               [
                "#B0BEC5",
                "#B0BEC5",
                "#B0BEC5",
                "#B0BEC5",
                "#B0BEC5",
                "#B0BEC5",
                "#B0BEC5",
                "#B0BEC5",
                "#B0BEC5",
                "#B0BEC5",
                "#B0BEC5",
                "#B0BEC5",
                "#B0BEC5",
                "#B0BEC5",
                "#B0BEC5",
                "#B0BEC5",
                "#B0BEC5",
                "#B0BEC5",
                "#B0BEC5",
                "#B0BEC5",
                "#B0BEC5",
                "#B0BEC5",
                "#B0BEC5",
                "#B0BEC5",
                "#B0BEC5",
                "#B0BEC5",
                "#B0BEC5",
                "#B0BEC5",
                "#B0BEC5",
                "#B0BEC5",
                "#B0BEC5",
                "#B0BEC5",
                "#B0BEC5",
                "#B0BEC5",
                "#B0BEC5",
                "#B0BEC5",
                "#B0BEC5",
                "#B0BEC5",
                "#B0BEC5",
                "red",
                "#B0BEC5",
                "#B0BEC5",
                "#B0BEC5",
                "#B0BEC5",
                "#B0BEC5",
                "#B0BEC5",
                "#B0BEC5",
                "#B0BEC5",
                "#B0BEC5",
                "#B0BEC5",
                "#B0BEC5",
                "#B0BEC5",
                "#B0BEC5"
               ]
              ]
             }
            ],
            "label": "Topic 39",
            "method": "update"
           },
           {
            "args": [
             {
              "marker.color": [
               [
                "#B0BEC5",
                "#B0BEC5",
                "#B0BEC5",
                "#B0BEC5",
                "#B0BEC5",
                "#B0BEC5",
                "#B0BEC5",
                "#B0BEC5",
                "#B0BEC5",
                "#B0BEC5",
                "#B0BEC5",
                "#B0BEC5",
                "#B0BEC5",
                "#B0BEC5",
                "#B0BEC5",
                "#B0BEC5",
                "#B0BEC5",
                "#B0BEC5",
                "#B0BEC5",
                "#B0BEC5",
                "#B0BEC5",
                "#B0BEC5",
                "#B0BEC5",
                "#B0BEC5",
                "#B0BEC5",
                "#B0BEC5",
                "#B0BEC5",
                "#B0BEC5",
                "#B0BEC5",
                "#B0BEC5",
                "#B0BEC5",
                "#B0BEC5",
                "#B0BEC5",
                "#B0BEC5",
                "#B0BEC5",
                "#B0BEC5",
                "#B0BEC5",
                "#B0BEC5",
                "#B0BEC5",
                "#B0BEC5",
                "red",
                "#B0BEC5",
                "#B0BEC5",
                "#B0BEC5",
                "#B0BEC5",
                "#B0BEC5",
                "#B0BEC5",
                "#B0BEC5",
                "#B0BEC5",
                "#B0BEC5",
                "#B0BEC5",
                "#B0BEC5",
                "#B0BEC5"
               ]
              ]
             }
            ],
            "label": "Topic 40",
            "method": "update"
           },
           {
            "args": [
             {
              "marker.color": [
               [
                "#B0BEC5",
                "#B0BEC5",
                "#B0BEC5",
                "#B0BEC5",
                "#B0BEC5",
                "#B0BEC5",
                "#B0BEC5",
                "#B0BEC5",
                "#B0BEC5",
                "#B0BEC5",
                "#B0BEC5",
                "#B0BEC5",
                "#B0BEC5",
                "#B0BEC5",
                "#B0BEC5",
                "#B0BEC5",
                "#B0BEC5",
                "#B0BEC5",
                "#B0BEC5",
                "#B0BEC5",
                "#B0BEC5",
                "#B0BEC5",
                "#B0BEC5",
                "#B0BEC5",
                "#B0BEC5",
                "#B0BEC5",
                "#B0BEC5",
                "#B0BEC5",
                "#B0BEC5",
                "#B0BEC5",
                "#B0BEC5",
                "#B0BEC5",
                "#B0BEC5",
                "#B0BEC5",
                "#B0BEC5",
                "#B0BEC5",
                "#B0BEC5",
                "#B0BEC5",
                "#B0BEC5",
                "#B0BEC5",
                "#B0BEC5",
                "red",
                "#B0BEC5",
                "#B0BEC5",
                "#B0BEC5",
                "#B0BEC5",
                "#B0BEC5",
                "#B0BEC5",
                "#B0BEC5",
                "#B0BEC5",
                "#B0BEC5",
                "#B0BEC5",
                "#B0BEC5"
               ]
              ]
             }
            ],
            "label": "Topic 41",
            "method": "update"
           },
           {
            "args": [
             {
              "marker.color": [
               [
                "#B0BEC5",
                "#B0BEC5",
                "#B0BEC5",
                "#B0BEC5",
                "#B0BEC5",
                "#B0BEC5",
                "#B0BEC5",
                "#B0BEC5",
                "#B0BEC5",
                "#B0BEC5",
                "#B0BEC5",
                "#B0BEC5",
                "#B0BEC5",
                "#B0BEC5",
                "#B0BEC5",
                "#B0BEC5",
                "#B0BEC5",
                "#B0BEC5",
                "#B0BEC5",
                "#B0BEC5",
                "#B0BEC5",
                "#B0BEC5",
                "#B0BEC5",
                "#B0BEC5",
                "#B0BEC5",
                "#B0BEC5",
                "#B0BEC5",
                "#B0BEC5",
                "#B0BEC5",
                "#B0BEC5",
                "#B0BEC5",
                "#B0BEC5",
                "#B0BEC5",
                "#B0BEC5",
                "#B0BEC5",
                "#B0BEC5",
                "#B0BEC5",
                "#B0BEC5",
                "#B0BEC5",
                "#B0BEC5",
                "#B0BEC5",
                "#B0BEC5",
                "red",
                "#B0BEC5",
                "#B0BEC5",
                "#B0BEC5",
                "#B0BEC5",
                "#B0BEC5",
                "#B0BEC5",
                "#B0BEC5",
                "#B0BEC5",
                "#B0BEC5",
                "#B0BEC5"
               ]
              ]
             }
            ],
            "label": "Topic 42",
            "method": "update"
           },
           {
            "args": [
             {
              "marker.color": [
               [
                "#B0BEC5",
                "#B0BEC5",
                "#B0BEC5",
                "#B0BEC5",
                "#B0BEC5",
                "#B0BEC5",
                "#B0BEC5",
                "#B0BEC5",
                "#B0BEC5",
                "#B0BEC5",
                "#B0BEC5",
                "#B0BEC5",
                "#B0BEC5",
                "#B0BEC5",
                "#B0BEC5",
                "#B0BEC5",
                "#B0BEC5",
                "#B0BEC5",
                "#B0BEC5",
                "#B0BEC5",
                "#B0BEC5",
                "#B0BEC5",
                "#B0BEC5",
                "#B0BEC5",
                "#B0BEC5",
                "#B0BEC5",
                "#B0BEC5",
                "#B0BEC5",
                "#B0BEC5",
                "#B0BEC5",
                "#B0BEC5",
                "#B0BEC5",
                "#B0BEC5",
                "#B0BEC5",
                "#B0BEC5",
                "#B0BEC5",
                "#B0BEC5",
                "#B0BEC5",
                "#B0BEC5",
                "#B0BEC5",
                "#B0BEC5",
                "#B0BEC5",
                "#B0BEC5",
                "red",
                "#B0BEC5",
                "#B0BEC5",
                "#B0BEC5",
                "#B0BEC5",
                "#B0BEC5",
                "#B0BEC5",
                "#B0BEC5",
                "#B0BEC5",
                "#B0BEC5"
               ]
              ]
             }
            ],
            "label": "Topic 43",
            "method": "update"
           },
           {
            "args": [
             {
              "marker.color": [
               [
                "#B0BEC5",
                "#B0BEC5",
                "#B0BEC5",
                "#B0BEC5",
                "#B0BEC5",
                "#B0BEC5",
                "#B0BEC5",
                "#B0BEC5",
                "#B0BEC5",
                "#B0BEC5",
                "#B0BEC5",
                "#B0BEC5",
                "#B0BEC5",
                "#B0BEC5",
                "#B0BEC5",
                "#B0BEC5",
                "#B0BEC5",
                "#B0BEC5",
                "#B0BEC5",
                "#B0BEC5",
                "#B0BEC5",
                "#B0BEC5",
                "#B0BEC5",
                "#B0BEC5",
                "#B0BEC5",
                "#B0BEC5",
                "#B0BEC5",
                "#B0BEC5",
                "#B0BEC5",
                "#B0BEC5",
                "#B0BEC5",
                "#B0BEC5",
                "#B0BEC5",
                "#B0BEC5",
                "#B0BEC5",
                "#B0BEC5",
                "#B0BEC5",
                "#B0BEC5",
                "#B0BEC5",
                "#B0BEC5",
                "#B0BEC5",
                "#B0BEC5",
                "#B0BEC5",
                "#B0BEC5",
                "red",
                "#B0BEC5",
                "#B0BEC5",
                "#B0BEC5",
                "#B0BEC5",
                "#B0BEC5",
                "#B0BEC5",
                "#B0BEC5",
                "#B0BEC5"
               ]
              ]
             }
            ],
            "label": "Topic 44",
            "method": "update"
           },
           {
            "args": [
             {
              "marker.color": [
               [
                "#B0BEC5",
                "#B0BEC5",
                "#B0BEC5",
                "#B0BEC5",
                "#B0BEC5",
                "#B0BEC5",
                "#B0BEC5",
                "#B0BEC5",
                "#B0BEC5",
                "#B0BEC5",
                "#B0BEC5",
                "#B0BEC5",
                "#B0BEC5",
                "#B0BEC5",
                "#B0BEC5",
                "#B0BEC5",
                "#B0BEC5",
                "#B0BEC5",
                "#B0BEC5",
                "#B0BEC5",
                "#B0BEC5",
                "#B0BEC5",
                "#B0BEC5",
                "#B0BEC5",
                "#B0BEC5",
                "#B0BEC5",
                "#B0BEC5",
                "#B0BEC5",
                "#B0BEC5",
                "#B0BEC5",
                "#B0BEC5",
                "#B0BEC5",
                "#B0BEC5",
                "#B0BEC5",
                "#B0BEC5",
                "#B0BEC5",
                "#B0BEC5",
                "#B0BEC5",
                "#B0BEC5",
                "#B0BEC5",
                "#B0BEC5",
                "#B0BEC5",
                "#B0BEC5",
                "#B0BEC5",
                "#B0BEC5",
                "red",
                "#B0BEC5",
                "#B0BEC5",
                "#B0BEC5",
                "#B0BEC5",
                "#B0BEC5",
                "#B0BEC5",
                "#B0BEC5"
               ]
              ]
             }
            ],
            "label": "Topic 45",
            "method": "update"
           },
           {
            "args": [
             {
              "marker.color": [
               [
                "#B0BEC5",
                "#B0BEC5",
                "#B0BEC5",
                "#B0BEC5",
                "#B0BEC5",
                "#B0BEC5",
                "#B0BEC5",
                "#B0BEC5",
                "#B0BEC5",
                "#B0BEC5",
                "#B0BEC5",
                "#B0BEC5",
                "#B0BEC5",
                "#B0BEC5",
                "#B0BEC5",
                "#B0BEC5",
                "#B0BEC5",
                "#B0BEC5",
                "#B0BEC5",
                "#B0BEC5",
                "#B0BEC5",
                "#B0BEC5",
                "#B0BEC5",
                "#B0BEC5",
                "#B0BEC5",
                "#B0BEC5",
                "#B0BEC5",
                "#B0BEC5",
                "#B0BEC5",
                "#B0BEC5",
                "#B0BEC5",
                "#B0BEC5",
                "#B0BEC5",
                "#B0BEC5",
                "#B0BEC5",
                "#B0BEC5",
                "#B0BEC5",
                "#B0BEC5",
                "#B0BEC5",
                "#B0BEC5",
                "#B0BEC5",
                "#B0BEC5",
                "#B0BEC5",
                "#B0BEC5",
                "#B0BEC5",
                "#B0BEC5",
                "red",
                "#B0BEC5",
                "#B0BEC5",
                "#B0BEC5",
                "#B0BEC5",
                "#B0BEC5",
                "#B0BEC5"
               ]
              ]
             }
            ],
            "label": "Topic 46",
            "method": "update"
           },
           {
            "args": [
             {
              "marker.color": [
               [
                "#B0BEC5",
                "#B0BEC5",
                "#B0BEC5",
                "#B0BEC5",
                "#B0BEC5",
                "#B0BEC5",
                "#B0BEC5",
                "#B0BEC5",
                "#B0BEC5",
                "#B0BEC5",
                "#B0BEC5",
                "#B0BEC5",
                "#B0BEC5",
                "#B0BEC5",
                "#B0BEC5",
                "#B0BEC5",
                "#B0BEC5",
                "#B0BEC5",
                "#B0BEC5",
                "#B0BEC5",
                "#B0BEC5",
                "#B0BEC5",
                "#B0BEC5",
                "#B0BEC5",
                "#B0BEC5",
                "#B0BEC5",
                "#B0BEC5",
                "#B0BEC5",
                "#B0BEC5",
                "#B0BEC5",
                "#B0BEC5",
                "#B0BEC5",
                "#B0BEC5",
                "#B0BEC5",
                "#B0BEC5",
                "#B0BEC5",
                "#B0BEC5",
                "#B0BEC5",
                "#B0BEC5",
                "#B0BEC5",
                "#B0BEC5",
                "#B0BEC5",
                "#B0BEC5",
                "#B0BEC5",
                "#B0BEC5",
                "#B0BEC5",
                "#B0BEC5",
                "red",
                "#B0BEC5",
                "#B0BEC5",
                "#B0BEC5",
                "#B0BEC5",
                "#B0BEC5"
               ]
              ]
             }
            ],
            "label": "Topic 47",
            "method": "update"
           },
           {
            "args": [
             {
              "marker.color": [
               [
                "#B0BEC5",
                "#B0BEC5",
                "#B0BEC5",
                "#B0BEC5",
                "#B0BEC5",
                "#B0BEC5",
                "#B0BEC5",
                "#B0BEC5",
                "#B0BEC5",
                "#B0BEC5",
                "#B0BEC5",
                "#B0BEC5",
                "#B0BEC5",
                "#B0BEC5",
                "#B0BEC5",
                "#B0BEC5",
                "#B0BEC5",
                "#B0BEC5",
                "#B0BEC5",
                "#B0BEC5",
                "#B0BEC5",
                "#B0BEC5",
                "#B0BEC5",
                "#B0BEC5",
                "#B0BEC5",
                "#B0BEC5",
                "#B0BEC5",
                "#B0BEC5",
                "#B0BEC5",
                "#B0BEC5",
                "#B0BEC5",
                "#B0BEC5",
                "#B0BEC5",
                "#B0BEC5",
                "#B0BEC5",
                "#B0BEC5",
                "#B0BEC5",
                "#B0BEC5",
                "#B0BEC5",
                "#B0BEC5",
                "#B0BEC5",
                "#B0BEC5",
                "#B0BEC5",
                "#B0BEC5",
                "#B0BEC5",
                "#B0BEC5",
                "#B0BEC5",
                "#B0BEC5",
                "red",
                "#B0BEC5",
                "#B0BEC5",
                "#B0BEC5",
                "#B0BEC5"
               ]
              ]
             }
            ],
            "label": "Topic 48",
            "method": "update"
           },
           {
            "args": [
             {
              "marker.color": [
               [
                "#B0BEC5",
                "#B0BEC5",
                "#B0BEC5",
                "#B0BEC5",
                "#B0BEC5",
                "#B0BEC5",
                "#B0BEC5",
                "#B0BEC5",
                "#B0BEC5",
                "#B0BEC5",
                "#B0BEC5",
                "#B0BEC5",
                "#B0BEC5",
                "#B0BEC5",
                "#B0BEC5",
                "#B0BEC5",
                "#B0BEC5",
                "#B0BEC5",
                "#B0BEC5",
                "#B0BEC5",
                "#B0BEC5",
                "#B0BEC5",
                "#B0BEC5",
                "#B0BEC5",
                "#B0BEC5",
                "#B0BEC5",
                "#B0BEC5",
                "#B0BEC5",
                "#B0BEC5",
                "#B0BEC5",
                "#B0BEC5",
                "#B0BEC5",
                "#B0BEC5",
                "#B0BEC5",
                "#B0BEC5",
                "#B0BEC5",
                "#B0BEC5",
                "#B0BEC5",
                "#B0BEC5",
                "#B0BEC5",
                "#B0BEC5",
                "#B0BEC5",
                "#B0BEC5",
                "#B0BEC5",
                "#B0BEC5",
                "#B0BEC5",
                "#B0BEC5",
                "#B0BEC5",
                "#B0BEC5",
                "red",
                "#B0BEC5",
                "#B0BEC5",
                "#B0BEC5"
               ]
              ]
             }
            ],
            "label": "Topic 49",
            "method": "update"
           },
           {
            "args": [
             {
              "marker.color": [
               [
                "#B0BEC5",
                "#B0BEC5",
                "#B0BEC5",
                "#B0BEC5",
                "#B0BEC5",
                "#B0BEC5",
                "#B0BEC5",
                "#B0BEC5",
                "#B0BEC5",
                "#B0BEC5",
                "#B0BEC5",
                "#B0BEC5",
                "#B0BEC5",
                "#B0BEC5",
                "#B0BEC5",
                "#B0BEC5",
                "#B0BEC5",
                "#B0BEC5",
                "#B0BEC5",
                "#B0BEC5",
                "#B0BEC5",
                "#B0BEC5",
                "#B0BEC5",
                "#B0BEC5",
                "#B0BEC5",
                "#B0BEC5",
                "#B0BEC5",
                "#B0BEC5",
                "#B0BEC5",
                "#B0BEC5",
                "#B0BEC5",
                "#B0BEC5",
                "#B0BEC5",
                "#B0BEC5",
                "#B0BEC5",
                "#B0BEC5",
                "#B0BEC5",
                "#B0BEC5",
                "#B0BEC5",
                "#B0BEC5",
                "#B0BEC5",
                "#B0BEC5",
                "#B0BEC5",
                "#B0BEC5",
                "#B0BEC5",
                "#B0BEC5",
                "#B0BEC5",
                "#B0BEC5",
                "#B0BEC5",
                "#B0BEC5",
                "red",
                "#B0BEC5",
                "#B0BEC5"
               ]
              ]
             }
            ],
            "label": "Topic 50",
            "method": "update"
           },
           {
            "args": [
             {
              "marker.color": [
               [
                "#B0BEC5",
                "#B0BEC5",
                "#B0BEC5",
                "#B0BEC5",
                "#B0BEC5",
                "#B0BEC5",
                "#B0BEC5",
                "#B0BEC5",
                "#B0BEC5",
                "#B0BEC5",
                "#B0BEC5",
                "#B0BEC5",
                "#B0BEC5",
                "#B0BEC5",
                "#B0BEC5",
                "#B0BEC5",
                "#B0BEC5",
                "#B0BEC5",
                "#B0BEC5",
                "#B0BEC5",
                "#B0BEC5",
                "#B0BEC5",
                "#B0BEC5",
                "#B0BEC5",
                "#B0BEC5",
                "#B0BEC5",
                "#B0BEC5",
                "#B0BEC5",
                "#B0BEC5",
                "#B0BEC5",
                "#B0BEC5",
                "#B0BEC5",
                "#B0BEC5",
                "#B0BEC5",
                "#B0BEC5",
                "#B0BEC5",
                "#B0BEC5",
                "#B0BEC5",
                "#B0BEC5",
                "#B0BEC5",
                "#B0BEC5",
                "#B0BEC5",
                "#B0BEC5",
                "#B0BEC5",
                "#B0BEC5",
                "#B0BEC5",
                "#B0BEC5",
                "#B0BEC5",
                "#B0BEC5",
                "#B0BEC5",
                "#B0BEC5",
                "red",
                "#B0BEC5"
               ]
              ]
             }
            ],
            "label": "Topic 51",
            "method": "update"
           },
           {
            "args": [
             {
              "marker.color": [
               [
                "#B0BEC5",
                "#B0BEC5",
                "#B0BEC5",
                "#B0BEC5",
                "#B0BEC5",
                "#B0BEC5",
                "#B0BEC5",
                "#B0BEC5",
                "#B0BEC5",
                "#B0BEC5",
                "#B0BEC5",
                "#B0BEC5",
                "#B0BEC5",
                "#B0BEC5",
                "#B0BEC5",
                "#B0BEC5",
                "#B0BEC5",
                "#B0BEC5",
                "#B0BEC5",
                "#B0BEC5",
                "#B0BEC5",
                "#B0BEC5",
                "#B0BEC5",
                "#B0BEC5",
                "#B0BEC5",
                "#B0BEC5",
                "#B0BEC5",
                "#B0BEC5",
                "#B0BEC5",
                "#B0BEC5",
                "#B0BEC5",
                "#B0BEC5",
                "#B0BEC5",
                "#B0BEC5",
                "#B0BEC5",
                "#B0BEC5",
                "#B0BEC5",
                "#B0BEC5",
                "#B0BEC5",
                "#B0BEC5",
                "#B0BEC5",
                "#B0BEC5",
                "#B0BEC5",
                "#B0BEC5",
                "#B0BEC5",
                "#B0BEC5",
                "#B0BEC5",
                "#B0BEC5",
                "#B0BEC5",
                "#B0BEC5",
                "#B0BEC5",
                "#B0BEC5",
                "red"
               ]
              ]
             }
            ],
            "label": "Topic 52",
            "method": "update"
           }
          ]
         }
        ],
        "template": {
         "data": {
          "bar": [
           {
            "error_x": {
             "color": "rgb(36,36,36)"
            },
            "error_y": {
             "color": "rgb(36,36,36)"
            },
            "marker": {
             "line": {
              "color": "white",
              "width": 0.5
             },
             "pattern": {
              "fillmode": "overlay",
              "size": 10,
              "solidity": 0.2
             }
            },
            "type": "bar"
           }
          ],
          "barpolar": [
           {
            "marker": {
             "line": {
              "color": "white",
              "width": 0.5
             },
             "pattern": {
              "fillmode": "overlay",
              "size": 10,
              "solidity": 0.2
             }
            },
            "type": "barpolar"
           }
          ],
          "carpet": [
           {
            "aaxis": {
             "endlinecolor": "rgb(36,36,36)",
             "gridcolor": "white",
             "linecolor": "white",
             "minorgridcolor": "white",
             "startlinecolor": "rgb(36,36,36)"
            },
            "baxis": {
             "endlinecolor": "rgb(36,36,36)",
             "gridcolor": "white",
             "linecolor": "white",
             "minorgridcolor": "white",
             "startlinecolor": "rgb(36,36,36)"
            },
            "type": "carpet"
           }
          ],
          "choropleth": [
           {
            "colorbar": {
             "outlinewidth": 1,
             "tickcolor": "rgb(36,36,36)",
             "ticks": "outside"
            },
            "type": "choropleth"
           }
          ],
          "contour": [
           {
            "colorbar": {
             "outlinewidth": 1,
             "tickcolor": "rgb(36,36,36)",
             "ticks": "outside"
            },
            "colorscale": [
             [
              0,
              "#440154"
             ],
             [
              0.1111111111111111,
              "#482878"
             ],
             [
              0.2222222222222222,
              "#3e4989"
             ],
             [
              0.3333333333333333,
              "#31688e"
             ],
             [
              0.4444444444444444,
              "#26828e"
             ],
             [
              0.5555555555555556,
              "#1f9e89"
             ],
             [
              0.6666666666666666,
              "#35b779"
             ],
             [
              0.7777777777777778,
              "#6ece58"
             ],
             [
              0.8888888888888888,
              "#b5de2b"
             ],
             [
              1,
              "#fde725"
             ]
            ],
            "type": "contour"
           }
          ],
          "contourcarpet": [
           {
            "colorbar": {
             "outlinewidth": 1,
             "tickcolor": "rgb(36,36,36)",
             "ticks": "outside"
            },
            "type": "contourcarpet"
           }
          ],
          "heatmap": [
           {
            "colorbar": {
             "outlinewidth": 1,
             "tickcolor": "rgb(36,36,36)",
             "ticks": "outside"
            },
            "colorscale": [
             [
              0,
              "#440154"
             ],
             [
              0.1111111111111111,
              "#482878"
             ],
             [
              0.2222222222222222,
              "#3e4989"
             ],
             [
              0.3333333333333333,
              "#31688e"
             ],
             [
              0.4444444444444444,
              "#26828e"
             ],
             [
              0.5555555555555556,
              "#1f9e89"
             ],
             [
              0.6666666666666666,
              "#35b779"
             ],
             [
              0.7777777777777778,
              "#6ece58"
             ],
             [
              0.8888888888888888,
              "#b5de2b"
             ],
             [
              1,
              "#fde725"
             ]
            ],
            "type": "heatmap"
           }
          ],
          "heatmapgl": [
           {
            "colorbar": {
             "outlinewidth": 1,
             "tickcolor": "rgb(36,36,36)",
             "ticks": "outside"
            },
            "colorscale": [
             [
              0,
              "#440154"
             ],
             [
              0.1111111111111111,
              "#482878"
             ],
             [
              0.2222222222222222,
              "#3e4989"
             ],
             [
              0.3333333333333333,
              "#31688e"
             ],
             [
              0.4444444444444444,
              "#26828e"
             ],
             [
              0.5555555555555556,
              "#1f9e89"
             ],
             [
              0.6666666666666666,
              "#35b779"
             ],
             [
              0.7777777777777778,
              "#6ece58"
             ],
             [
              0.8888888888888888,
              "#b5de2b"
             ],
             [
              1,
              "#fde725"
             ]
            ],
            "type": "heatmapgl"
           }
          ],
          "histogram": [
           {
            "marker": {
             "line": {
              "color": "white",
              "width": 0.6
             }
            },
            "type": "histogram"
           }
          ],
          "histogram2d": [
           {
            "colorbar": {
             "outlinewidth": 1,
             "tickcolor": "rgb(36,36,36)",
             "ticks": "outside"
            },
            "colorscale": [
             [
              0,
              "#440154"
             ],
             [
              0.1111111111111111,
              "#482878"
             ],
             [
              0.2222222222222222,
              "#3e4989"
             ],
             [
              0.3333333333333333,
              "#31688e"
             ],
             [
              0.4444444444444444,
              "#26828e"
             ],
             [
              0.5555555555555556,
              "#1f9e89"
             ],
             [
              0.6666666666666666,
              "#35b779"
             ],
             [
              0.7777777777777778,
              "#6ece58"
             ],
             [
              0.8888888888888888,
              "#b5de2b"
             ],
             [
              1,
              "#fde725"
             ]
            ],
            "type": "histogram2d"
           }
          ],
          "histogram2dcontour": [
           {
            "colorbar": {
             "outlinewidth": 1,
             "tickcolor": "rgb(36,36,36)",
             "ticks": "outside"
            },
            "colorscale": [
             [
              0,
              "#440154"
             ],
             [
              0.1111111111111111,
              "#482878"
             ],
             [
              0.2222222222222222,
              "#3e4989"
             ],
             [
              0.3333333333333333,
              "#31688e"
             ],
             [
              0.4444444444444444,
              "#26828e"
             ],
             [
              0.5555555555555556,
              "#1f9e89"
             ],
             [
              0.6666666666666666,
              "#35b779"
             ],
             [
              0.7777777777777778,
              "#6ece58"
             ],
             [
              0.8888888888888888,
              "#b5de2b"
             ],
             [
              1,
              "#fde725"
             ]
            ],
            "type": "histogram2dcontour"
           }
          ],
          "mesh3d": [
           {
            "colorbar": {
             "outlinewidth": 1,
             "tickcolor": "rgb(36,36,36)",
             "ticks": "outside"
            },
            "type": "mesh3d"
           }
          ],
          "parcoords": [
           {
            "line": {
             "colorbar": {
              "outlinewidth": 1,
              "tickcolor": "rgb(36,36,36)",
              "ticks": "outside"
             }
            },
            "type": "parcoords"
           }
          ],
          "pie": [
           {
            "automargin": true,
            "type": "pie"
           }
          ],
          "scatter": [
           {
            "fillpattern": {
             "fillmode": "overlay",
             "size": 10,
             "solidity": 0.2
            },
            "type": "scatter"
           }
          ],
          "scatter3d": [
           {
            "line": {
             "colorbar": {
              "outlinewidth": 1,
              "tickcolor": "rgb(36,36,36)",
              "ticks": "outside"
             }
            },
            "marker": {
             "colorbar": {
              "outlinewidth": 1,
              "tickcolor": "rgb(36,36,36)",
              "ticks": "outside"
             }
            },
            "type": "scatter3d"
           }
          ],
          "scattercarpet": [
           {
            "marker": {
             "colorbar": {
              "outlinewidth": 1,
              "tickcolor": "rgb(36,36,36)",
              "ticks": "outside"
             }
            },
            "type": "scattercarpet"
           }
          ],
          "scattergeo": [
           {
            "marker": {
             "colorbar": {
              "outlinewidth": 1,
              "tickcolor": "rgb(36,36,36)",
              "ticks": "outside"
             }
            },
            "type": "scattergeo"
           }
          ],
          "scattergl": [
           {
            "marker": {
             "colorbar": {
              "outlinewidth": 1,
              "tickcolor": "rgb(36,36,36)",
              "ticks": "outside"
             }
            },
            "type": "scattergl"
           }
          ],
          "scattermapbox": [
           {
            "marker": {
             "colorbar": {
              "outlinewidth": 1,
              "tickcolor": "rgb(36,36,36)",
              "ticks": "outside"
             }
            },
            "type": "scattermapbox"
           }
          ],
          "scatterpolar": [
           {
            "marker": {
             "colorbar": {
              "outlinewidth": 1,
              "tickcolor": "rgb(36,36,36)",
              "ticks": "outside"
             }
            },
            "type": "scatterpolar"
           }
          ],
          "scatterpolargl": [
           {
            "marker": {
             "colorbar": {
              "outlinewidth": 1,
              "tickcolor": "rgb(36,36,36)",
              "ticks": "outside"
             }
            },
            "type": "scatterpolargl"
           }
          ],
          "scatterternary": [
           {
            "marker": {
             "colorbar": {
              "outlinewidth": 1,
              "tickcolor": "rgb(36,36,36)",
              "ticks": "outside"
             }
            },
            "type": "scatterternary"
           }
          ],
          "surface": [
           {
            "colorbar": {
             "outlinewidth": 1,
             "tickcolor": "rgb(36,36,36)",
             "ticks": "outside"
            },
            "colorscale": [
             [
              0,
              "#440154"
             ],
             [
              0.1111111111111111,
              "#482878"
             ],
             [
              0.2222222222222222,
              "#3e4989"
             ],
             [
              0.3333333333333333,
              "#31688e"
             ],
             [
              0.4444444444444444,
              "#26828e"
             ],
             [
              0.5555555555555556,
              "#1f9e89"
             ],
             [
              0.6666666666666666,
              "#35b779"
             ],
             [
              0.7777777777777778,
              "#6ece58"
             ],
             [
              0.8888888888888888,
              "#b5de2b"
             ],
             [
              1,
              "#fde725"
             ]
            ],
            "type": "surface"
           }
          ],
          "table": [
           {
            "cells": {
             "fill": {
              "color": "rgb(237,237,237)"
             },
             "line": {
              "color": "white"
             }
            },
            "header": {
             "fill": {
              "color": "rgb(217,217,217)"
             },
             "line": {
              "color": "white"
             }
            },
            "type": "table"
           }
          ]
         },
         "layout": {
          "annotationdefaults": {
           "arrowhead": 0,
           "arrowwidth": 1
          },
          "autotypenumbers": "strict",
          "coloraxis": {
           "colorbar": {
            "outlinewidth": 1,
            "tickcolor": "rgb(36,36,36)",
            "ticks": "outside"
           }
          },
          "colorscale": {
           "diverging": [
            [
             0,
             "rgb(103,0,31)"
            ],
            [
             0.1,
             "rgb(178,24,43)"
            ],
            [
             0.2,
             "rgb(214,96,77)"
            ],
            [
             0.3,
             "rgb(244,165,130)"
            ],
            [
             0.4,
             "rgb(253,219,199)"
            ],
            [
             0.5,
             "rgb(247,247,247)"
            ],
            [
             0.6,
             "rgb(209,229,240)"
            ],
            [
             0.7,
             "rgb(146,197,222)"
            ],
            [
             0.8,
             "rgb(67,147,195)"
            ],
            [
             0.9,
             "rgb(33,102,172)"
            ],
            [
             1,
             "rgb(5,48,97)"
            ]
           ],
           "sequential": [
            [
             0,
             "#440154"
            ],
            [
             0.1111111111111111,
             "#482878"
            ],
            [
             0.2222222222222222,
             "#3e4989"
            ],
            [
             0.3333333333333333,
             "#31688e"
            ],
            [
             0.4444444444444444,
             "#26828e"
            ],
            [
             0.5555555555555556,
             "#1f9e89"
            ],
            [
             0.6666666666666666,
             "#35b779"
            ],
            [
             0.7777777777777778,
             "#6ece58"
            ],
            [
             0.8888888888888888,
             "#b5de2b"
            ],
            [
             1,
             "#fde725"
            ]
           ],
           "sequentialminus": [
            [
             0,
             "#440154"
            ],
            [
             0.1111111111111111,
             "#482878"
            ],
            [
             0.2222222222222222,
             "#3e4989"
            ],
            [
             0.3333333333333333,
             "#31688e"
            ],
            [
             0.4444444444444444,
             "#26828e"
            ],
            [
             0.5555555555555556,
             "#1f9e89"
            ],
            [
             0.6666666666666666,
             "#35b779"
            ],
            [
             0.7777777777777778,
             "#6ece58"
            ],
            [
             0.8888888888888888,
             "#b5de2b"
            ],
            [
             1,
             "#fde725"
            ]
           ]
          },
          "colorway": [
           "#1F77B4",
           "#FF7F0E",
           "#2CA02C",
           "#D62728",
           "#9467BD",
           "#8C564B",
           "#E377C2",
           "#7F7F7F",
           "#BCBD22",
           "#17BECF"
          ],
          "font": {
           "color": "rgb(36,36,36)"
          },
          "geo": {
           "bgcolor": "white",
           "lakecolor": "white",
           "landcolor": "white",
           "showlakes": true,
           "showland": true,
           "subunitcolor": "white"
          },
          "hoverlabel": {
           "align": "left"
          },
          "hovermode": "closest",
          "mapbox": {
           "style": "light"
          },
          "paper_bgcolor": "white",
          "plot_bgcolor": "white",
          "polar": {
           "angularaxis": {
            "gridcolor": "rgb(232,232,232)",
            "linecolor": "rgb(36,36,36)",
            "showgrid": false,
            "showline": true,
            "ticks": "outside"
           },
           "bgcolor": "white",
           "radialaxis": {
            "gridcolor": "rgb(232,232,232)",
            "linecolor": "rgb(36,36,36)",
            "showgrid": false,
            "showline": true,
            "ticks": "outside"
           }
          },
          "scene": {
           "xaxis": {
            "backgroundcolor": "white",
            "gridcolor": "rgb(232,232,232)",
            "gridwidth": 2,
            "linecolor": "rgb(36,36,36)",
            "showbackground": true,
            "showgrid": false,
            "showline": true,
            "ticks": "outside",
            "zeroline": false,
            "zerolinecolor": "rgb(36,36,36)"
           },
           "yaxis": {
            "backgroundcolor": "white",
            "gridcolor": "rgb(232,232,232)",
            "gridwidth": 2,
            "linecolor": "rgb(36,36,36)",
            "showbackground": true,
            "showgrid": false,
            "showline": true,
            "ticks": "outside",
            "zeroline": false,
            "zerolinecolor": "rgb(36,36,36)"
           },
           "zaxis": {
            "backgroundcolor": "white",
            "gridcolor": "rgb(232,232,232)",
            "gridwidth": 2,
            "linecolor": "rgb(36,36,36)",
            "showbackground": true,
            "showgrid": false,
            "showline": true,
            "ticks": "outside",
            "zeroline": false,
            "zerolinecolor": "rgb(36,36,36)"
           }
          },
          "shapedefaults": {
           "fillcolor": "black",
           "line": {
            "width": 0
           },
           "opacity": 0.3
          },
          "ternary": {
           "aaxis": {
            "gridcolor": "rgb(232,232,232)",
            "linecolor": "rgb(36,36,36)",
            "showgrid": false,
            "showline": true,
            "ticks": "outside"
           },
           "baxis": {
            "gridcolor": "rgb(232,232,232)",
            "linecolor": "rgb(36,36,36)",
            "showgrid": false,
            "showline": true,
            "ticks": "outside"
           },
           "bgcolor": "white",
           "caxis": {
            "gridcolor": "rgb(232,232,232)",
            "linecolor": "rgb(36,36,36)",
            "showgrid": false,
            "showline": true,
            "ticks": "outside"
           }
          },
          "title": {
           "x": 0.05
          },
          "xaxis": {
           "automargin": true,
           "gridcolor": "rgb(232,232,232)",
           "linecolor": "rgb(36,36,36)",
           "showgrid": false,
           "showline": true,
           "ticks": "outside",
           "title": {
            "standoff": 15
           },
           "zeroline": false,
           "zerolinecolor": "rgb(36,36,36)"
          },
          "yaxis": {
           "automargin": true,
           "gridcolor": "rgb(232,232,232)",
           "linecolor": "rgb(36,36,36)",
           "showgrid": false,
           "showline": true,
           "ticks": "outside",
           "title": {
            "standoff": 15
           },
           "zeroline": false,
           "zerolinecolor": "rgb(36,36,36)"
          }
         }
        },
        "title": {
         "font": {
          "color": "Black",
          "size": 22
         },
         "text": "<b>Intertopic Distance Map</b>",
         "x": 0.5,
         "xanchor": "center",
         "y": 0.95,
         "yanchor": "top"
        },
        "width": 650,
        "xaxis": {
         "anchor": "y",
         "domain": [
          0,
          1
         ],
         "range": [
          -11.245868968963624,
          20.018172359466554
         ],
         "title": {
          "text": ""
         },
         "visible": false
        },
        "yaxis": {
         "anchor": "x",
         "domain": [
          0,
          1
         ],
         "range": [
          -4.7603494882583615,
          25.480349922180174
         ],
         "title": {
          "text": ""
         },
         "visible": false
        }
       }
      }
     },
     "metadata": {},
     "output_type": "display_data"
    }
   ],
   "source": [
    "fig = topic_model.visualize_topics(); fig"
   ]
  }
 ],
 "metadata": {
  "kernelspec": {
   "display_name": "ml_angew_programm",
   "language": "python",
   "name": "python3"
  },
  "language_info": {
   "codemirror_mode": {
    "name": "ipython",
    "version": 3
   },
   "file_extension": ".py",
   "mimetype": "text/x-python",
   "name": "python",
   "nbconvert_exporter": "python",
   "pygments_lexer": "ipython3",
   "version": "3.8.19"
  }
 },
 "nbformat": 4,
 "nbformat_minor": 2
}
