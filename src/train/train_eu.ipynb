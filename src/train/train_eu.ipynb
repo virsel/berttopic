{
 "cells": [
  {
   "cell_type": "code",
   "metadata": {
    "ExecuteTime": {
     "end_time": "2024-05-18T14:11:56.852262Z",
     "start_time": "2024-05-18T14:11:56.587883Z"
    }
   },
   "source": [
    "import pandas as pd\n",
    "\n",
    "data_path1 = \"D:/studium/analyse/data_prep/src/_2_preproc_pipeline_de/data_preprocessed/2_tokenize.csv\"\n",
    "data_path2 = \"D:/studium/analyse/data_prep/src/_2_preproc_pipeline_en/data_preprocessed/2_tokenize_eu_en.csv\"\n",
    "df1 = pd.read_csv(data_path1)\n",
    "df2 = pd.read_csv(data_path2)"
   ],
   "outputs": [],
   "execution_count": 1
  },
  {
   "metadata": {
    "ExecuteTime": {
     "end_time": "2024-05-18T14:11:56.867840Z",
     "start_time": "2024-05-18T14:11:56.852262Z"
    }
   },
   "cell_type": "code",
   "source": [
    "# concatenate both dataframes\n",
    "df = pd.concat([df1, df2], ignore_index=True)"
   ],
   "outputs": [],
   "execution_count": 2
  },
  {
   "cell_type": "code",
   "metadata": {
    "ExecuteTime": {
     "end_time": "2024-05-18T14:11:56.883466Z",
     "start_time": "2024-05-18T14:11:56.867840Z"
    }
   },
   "source": [
    "pd.set_option('display.max_colwidth', None)\n",
    "df.sample(20)"
   ],
   "outputs": [
    {
     "data": {
      "text/plain": [
       "                    id  pub_year  \\\n",
       "859   EP000004201269A1      2023   \n",
       "374   DE102012002507B4      2023   \n",
       "907   DE102021214206A1      2023   \n",
       "178   DE112022000867T5      2024   \n",
       "4734  EP000004026653A1      2022   \n",
       "1533  EP000004067213A1      2022   \n",
       "517   DE102012218252B4      2023   \n",
       "702   EP000004230363A1      2023   \n",
       "4633   GB000002603881A      2022   \n",
       "2896  EP000004275470A1      2023   \n",
       "2976  EP000004233770A3      2023   \n",
       "2274  EP000004360826A1      2024   \n",
       "3927  EP000004140380A1      2023   \n",
       "2343  EP000004349539A1      2024   \n",
       "774   DE112021004859T5      2023   \n",
       "2547  WO002024038265A1      2024   \n",
       "2608  WO002024028615A1      2024   \n",
       "2320  EP000004353177A2      2024   \n",
       "3821  EP000004159382A1      2023   \n",
       "4973  EP000003998588A1      2022   \n",
       "\n",
       "                                                                                                                                                                                                                                                                                                                                                                                                                                                                                                                                                                                                                                                                                                                                 text_preproc2  \n",
       "859         vorrichtung zubereitung heissgetränks geeigneter erweiterungs küchenmaschine vorrichtung zubereitung heißgetränk umfassen heizeinrichtung erhitzen flüssigkeit auslegen zubereitung gefäß aufnahme sammelbad heiß flüssigkeit vertikal rotationsachse rotierbar rotationselement ausstatten erzeugen flüssigkeitsstrudel heiß flüssigkeit sammelbad eignen brüheinsatz einsetzen zubereitung gefäß brüheinsatz aufweisen ableitelement filterelement aufnahme aufgussubstanz ausgehend vorrichtung bereitstellen einfach art weise aufbrühen heißgetränken kaffee tee geschmack ermöglichen vorschlagen ableitelement abzweigung flüssigkeits teilmenge flüssigkeitsstrudel zuführen flüssigkeits teilmenge filterelement auslegen  \n",
       "374                                                                                                                                                                                                                  verbundbauteil kraftfahrzeug karosseriebau bestehend blechteil leichtmetall blechteil stahl blechteil verbinden kennzeichnen blechteil punktschweißvorgang ausreichend lochung ausbilden ringartig befestigungshilfsteil leichtmetall lochung umgebend verbinden blechteil stahl lochung blechteil überdeckend fixieren blechteil befestigungshilfsteil blechteil halten blechteil robotergeführt punktverschweißt schweißroboter lochung hineingreift durchgreifen kontaktpunkt punktschweißzange blechteil verschweißen  \n",
       "907                                                           autonome mobil arbeitsgerät erfindung betreffen autonom mobil arbeitsgerät robotersauger robotermäher mobil überwachungsroboter mobil überwachungsflugdrohne antriebseinheit antrieb autonom arbeitsgeräts navigationseinheit navigation arbeitsbereich navigationseinheit ausbilden einrichten position autonom mobil arbeitsgeräts arbeitsbereich ermitteln vorschlagen autonom mobil arbeitsgerät kommunikationsmittel drahtlos kommunikation aufweisen kommunikationsmittel ausbilden einrichten kommunikationssignalinformatione empfangen kommunikationssignal sender ermitteln verarbeitungseinheit vorsehen erfasst kommunikationssignalinformatione position verknüpfen  \n",
       "178                                                                                                                                                                                                                                                      kamerakalibrierung überwachung warnungskonfiguration testung verfahren kalibrieren system kamera aufweisen verfahren erkennen umfassen umgebung navigieren geo vieleckraum modellieren durchquerung szene umgebung kamera aufnehmen kartier mehrzahl belegt punkt bild szene geo vieleckraum aufzeichnen datum kartierung konfigurieren warnung verwendung kartierung aufgezeichnet datum warnung datenverarbeitungssystem ausführen konfigurieren szene durchquerend objekt auslösen  \n",
       "4734                                                                                                                                                                                                                                                                        system method invention relate system method automated coordinated collaborative changing mill liner configuration allow automated manipulation method mean remote command enter operator mean processor control system comprise manipulator locate mill control system series tool manipulate manipulator control system send command operate external manipulator internal manipulator carry step change liner mill coordinated collaborative manner manipulator  \n",
       "1533                                                                                                                                                                                                                                     verfahren automatisierten anbringung dämmelementen strukturelementen verfahren automatisiert anbringung dämmelemente strukturelement kraftfahrzeugen umfassen folgend schritt bereitstellen mehrere dämmelement träger expandierbar material träger anordnen fixierungselement fixierung dämmelement strukturelement umfassen ergreifen einzeln dämmelement mehrachsenroboter greifer ausbilden anbringen dämmelement strukturelement fixierungselement dämmelement öffnung strukturelement einführen  \n",
       "517                                                                                                                                                            verfahren inbetriebnahme fahrzeuggetriebe fahrzeugkupplung verfahren inbetriebnahme fahrzeuggetriebe getriebeaktor betätigung fahrzeuggetriebe inbetriebnahme fahrzeugkupplung kupplungsaktor betätigung fahrzeugkupplung steuergerät steuerung kupplungsaktor steuerung getriebeaktor steuergerät kupplungsaktor eineindeutig zugeordnet flüchtig speicherbereich aufweisen serst teuergerät steuergerät eineindeutig zugeordnet speicherbereich aufweisen vorliegen vorgegeben bedingung steuergerät diagnosebefehl veranlassen datum flüchtig speicherbereich kupplungsaktor  \n",
       "702                                                                                                                                                                                                                                                                                                                                                                                                                                                                       verfahren umsetzen produkten hierfür geeigneter umsetz umsetzen produkt begrenzt mehrgewicht konstruktiv mehraufwand greifkopf beschleunigen umfassen mehrere genau greifer sauger steuerbar achse freiheitsgrad verwenden relativ position greifer sauger verändern  \n",
       "4633                                                                                                                                                       gear packaging joint arm comprise second arm segment couple revolute joint axis second revolute joint second axis parallel rotation axis joint mechanism articulate arm segment relative second arm segment second rotation axis joint mechanism comprise drive gear axle rotation axis axle fast arm segment drive gear axis non intersect axis engagement drive gear rotate axle second drive gear second rotation axis fast second arm segment drive gear second drive gear drive second drive gear rotation second rotation axis intermediary gear arrangement dispose rotation  \n",
       "2896                                                                                                                                                                                             lawnmower system lawnmower comprise chassis outer shell define exterior face lawnmower outer shell comprise skirt enclose chassis distance therefrom sensor module comprise chassis connection interface connect sensor module connection interface chassis sensor module hold sensor vertical projection chassis skirt module connection interface locate face chassis sensor module housing extend position low module connection interface cantilever member hold main housing body sensor module horizontal gap main housing body chassis  \n",
       "2976                                                                                                                                                                                                                                                                                                                                                   roller module medical drive device medical present invention provide medical hygienic capable transfer catheter drive device mount medical roller module mount drive device roller module include drive unit roller unit rotate vertical axis drive unit roller unit include roller shaft couple roller unit rotate drive unit groove form roller unit shaft roller unit dispose groove  \n",
       "2274                                                                                                                                                                                                                                                                                   offline teaching device offline teaching method offline teach device comprise input unit capable receive operator operation acquisition unit acquire shape datum workpiece welding operation path sensor scan range generation unit generate region scan basis scan range scan interval control unit position region shape datum workpiece create output welding perform weld teaching program scan region basis position region welding operation path  \n",
       "3927                                                                                                                                                                                                                                                                                                                                                                 docking station mobile management system disclosed docking station mobile management method control docking station mobile disclosure relate mobile management method order display information associate docking station output device mobile transmit information user terminal device connect mobile transmit user terminal device information receive docking station  \n",
       "2343                                                                                                                                                                                                                                                                                                                                    handle variable power associated method present disclosure relate control unit method control method comprise receive path datum indicative path include joint assembly second joint assembly follow receive electrical level input indicative voltage level input current level input determine plurality movement plurality motor base path datum voltage electrical level input current level input  \n",
       "774   spannungsschätzungsvorrichtung lebensdauerbewertungsvorrichtung robotersystem bereitstellen spannungsschätzungsvorrichtung spannung riemen genau schätzen lebensdauerbewertungsvorrichtung lebensdauer übertragungsmechanismus spannung riemen genau bewerten robotersystem aufweisen spannungsschätzungsvorrichtung weisen übertragungsmechanismus leistung riemen übertragen motor nähe riemen anordnen motorerwärmungswertberechnungseinheit motorerwärmungswert grundlage stromwert drehzahl motor berechnen reibungserwärmungswertberechnungseinheit reibungserwärmungswert übertragungsmechanismus grundlage stromwert drehzahl motor reibungskoeffiziente nähe riemen angeordnet welle berechnen riemenspannungsschätzungseinheit  \n",
       "2547                                                                                                                  surgical instrument disengagement control unit surgical system comprise arm comprise drive assembly interface element configure provide mechanical drive actuate joint instrument arm engage instrument end effector comprise end effector element second end effector element moveable respect second end effector element joint control unit configure control drive assembly comprise processor configure receive signal input device response following user request disengage instrument arm activation instrument withdrawal mode surgical system instrument reference point surgical system instrument withdrawal  \n",
       "2608                                                                                                                                                                                                                                                                                         radiation imaging apparatus comprise radiation detector configure detect ionising radiation position orientation detector configure determine instantaneous position orientation radiation imaging apparatus degree freedom relative real world structure fix frame reference method estimate radiation source distribution facility provide method estimate spatial distribution minimum detectable activity radiation account parameter provide  \n",
       "2320                                                                                                                                                                                                                                                                                                                       graphical user interface use surgical navigation system comprise tracker real time tracking position orientation arm source patient anatomical datum arm virtual image surgical navigation image generator configure generate surgical navigation image comprise patient anatomy arm virtual image accordance current position orientation datum provide tracker display system configure surgical navigation image  \n",
       "3821                                                                                                               teleoperated system impact responsive force feedback teleoperated system comprise platform master control arm plurality support member couple joint form plurality degree freedom correspond degree freedom human arm actuator operable actuate plurality support member arm plurality degree freedom user interface form handle associate master control arm facilitate operation master control arm user slave arm mount platform plurality support member couple joint form plurality degree freedom correspond degree freedom master control arm slave arm comprise load sensor operable facilitate force feedback user  \n",
       "4973                                                                                                                               apparatus systems methods automated dispensing articles automated dispensing system provide comprise controller configure process request article dispense storage module comprise plurality moveable tray stack moveable tray comprise storage location hold article loading bin end panel slide floor configure access storage location moveable tray storage module transfer request article loading bin dispense request article loading bin patient specific container moveable tray storage position retrieval position access storage location retrieve article loading bin dispense request article  "
      ],
      "text/html": [
       "<div>\n",
       "<style scoped>\n",
       "    .dataframe tbody tr th:only-of-type {\n",
       "        vertical-align: middle;\n",
       "    }\n",
       "\n",
       "    .dataframe tbody tr th {\n",
       "        vertical-align: top;\n",
       "    }\n",
       "\n",
       "    .dataframe thead th {\n",
       "        text-align: right;\n",
       "    }\n",
       "</style>\n",
       "<table border=\"1\" class=\"dataframe\">\n",
       "  <thead>\n",
       "    <tr style=\"text-align: right;\">\n",
       "      <th></th>\n",
       "      <th>id</th>\n",
       "      <th>pub_year</th>\n",
       "      <th>text_preproc2</th>\n",
       "    </tr>\n",
       "  </thead>\n",
       "  <tbody>\n",
       "    <tr>\n",
       "      <th>859</th>\n",
       "      <td>EP000004201269A1</td>\n",
       "      <td>2023</td>\n",
       "      <td>vorrichtung zubereitung heissgetränks geeigneter erweiterungs küchenmaschine vorrichtung zubereitung heißgetränk umfassen heizeinrichtung erhitzen flüssigkeit auslegen zubereitung gefäß aufnahme sammelbad heiß flüssigkeit vertikal rotationsachse rotierbar rotationselement ausstatten erzeugen flüssigkeitsstrudel heiß flüssigkeit sammelbad eignen brüheinsatz einsetzen zubereitung gefäß brüheinsatz aufweisen ableitelement filterelement aufnahme aufgussubstanz ausgehend vorrichtung bereitstellen einfach art weise aufbrühen heißgetränken kaffee tee geschmack ermöglichen vorschlagen ableitelement abzweigung flüssigkeits teilmenge flüssigkeitsstrudel zuführen flüssigkeits teilmenge filterelement auslegen</td>\n",
       "    </tr>\n",
       "    <tr>\n",
       "      <th>374</th>\n",
       "      <td>DE102012002507B4</td>\n",
       "      <td>2023</td>\n",
       "      <td>verbundbauteil kraftfahrzeug karosseriebau bestehend blechteil leichtmetall blechteil stahl blechteil verbinden kennzeichnen blechteil punktschweißvorgang ausreichend lochung ausbilden ringartig befestigungshilfsteil leichtmetall lochung umgebend verbinden blechteil stahl lochung blechteil überdeckend fixieren blechteil befestigungshilfsteil blechteil halten blechteil robotergeführt punktverschweißt schweißroboter lochung hineingreift durchgreifen kontaktpunkt punktschweißzange blechteil verschweißen</td>\n",
       "    </tr>\n",
       "    <tr>\n",
       "      <th>907</th>\n",
       "      <td>DE102021214206A1</td>\n",
       "      <td>2023</td>\n",
       "      <td>autonome mobil arbeitsgerät erfindung betreffen autonom mobil arbeitsgerät robotersauger robotermäher mobil überwachungsroboter mobil überwachungsflugdrohne antriebseinheit antrieb autonom arbeitsgeräts navigationseinheit navigation arbeitsbereich navigationseinheit ausbilden einrichten position autonom mobil arbeitsgeräts arbeitsbereich ermitteln vorschlagen autonom mobil arbeitsgerät kommunikationsmittel drahtlos kommunikation aufweisen kommunikationsmittel ausbilden einrichten kommunikationssignalinformatione empfangen kommunikationssignal sender ermitteln verarbeitungseinheit vorsehen erfasst kommunikationssignalinformatione position verknüpfen</td>\n",
       "    </tr>\n",
       "    <tr>\n",
       "      <th>178</th>\n",
       "      <td>DE112022000867T5</td>\n",
       "      <td>2024</td>\n",
       "      <td>kamerakalibrierung überwachung warnungskonfiguration testung verfahren kalibrieren system kamera aufweisen verfahren erkennen umfassen umgebung navigieren geo vieleckraum modellieren durchquerung szene umgebung kamera aufnehmen kartier mehrzahl belegt punkt bild szene geo vieleckraum aufzeichnen datum kartierung konfigurieren warnung verwendung kartierung aufgezeichnet datum warnung datenverarbeitungssystem ausführen konfigurieren szene durchquerend objekt auslösen</td>\n",
       "    </tr>\n",
       "    <tr>\n",
       "      <th>4734</th>\n",
       "      <td>EP000004026653A1</td>\n",
       "      <td>2022</td>\n",
       "      <td>system method invention relate system method automated coordinated collaborative changing mill liner configuration allow automated manipulation method mean remote command enter operator mean processor control system comprise manipulator locate mill control system series tool manipulate manipulator control system send command operate external manipulator internal manipulator carry step change liner mill coordinated collaborative manner manipulator</td>\n",
       "    </tr>\n",
       "    <tr>\n",
       "      <th>1533</th>\n",
       "      <td>EP000004067213A1</td>\n",
       "      <td>2022</td>\n",
       "      <td>verfahren automatisierten anbringung dämmelementen strukturelementen verfahren automatisiert anbringung dämmelemente strukturelement kraftfahrzeugen umfassen folgend schritt bereitstellen mehrere dämmelement träger expandierbar material träger anordnen fixierungselement fixierung dämmelement strukturelement umfassen ergreifen einzeln dämmelement mehrachsenroboter greifer ausbilden anbringen dämmelement strukturelement fixierungselement dämmelement öffnung strukturelement einführen</td>\n",
       "    </tr>\n",
       "    <tr>\n",
       "      <th>517</th>\n",
       "      <td>DE102012218252B4</td>\n",
       "      <td>2023</td>\n",
       "      <td>verfahren inbetriebnahme fahrzeuggetriebe fahrzeugkupplung verfahren inbetriebnahme fahrzeuggetriebe getriebeaktor betätigung fahrzeuggetriebe inbetriebnahme fahrzeugkupplung kupplungsaktor betätigung fahrzeugkupplung steuergerät steuerung kupplungsaktor steuerung getriebeaktor steuergerät kupplungsaktor eineindeutig zugeordnet flüchtig speicherbereich aufweisen serst teuergerät steuergerät eineindeutig zugeordnet speicherbereich aufweisen vorliegen vorgegeben bedingung steuergerät diagnosebefehl veranlassen datum flüchtig speicherbereich kupplungsaktor</td>\n",
       "    </tr>\n",
       "    <tr>\n",
       "      <th>702</th>\n",
       "      <td>EP000004230363A1</td>\n",
       "      <td>2023</td>\n",
       "      <td>verfahren umsetzen produkten hierfür geeigneter umsetz umsetzen produkt begrenzt mehrgewicht konstruktiv mehraufwand greifkopf beschleunigen umfassen mehrere genau greifer sauger steuerbar achse freiheitsgrad verwenden relativ position greifer sauger verändern</td>\n",
       "    </tr>\n",
       "    <tr>\n",
       "      <th>4633</th>\n",
       "      <td>GB000002603881A</td>\n",
       "      <td>2022</td>\n",
       "      <td>gear packaging joint arm comprise second arm segment couple revolute joint axis second revolute joint second axis parallel rotation axis joint mechanism articulate arm segment relative second arm segment second rotation axis joint mechanism comprise drive gear axle rotation axis axle fast arm segment drive gear axis non intersect axis engagement drive gear rotate axle second drive gear second rotation axis fast second arm segment drive gear second drive gear drive second drive gear rotation second rotation axis intermediary gear arrangement dispose rotation</td>\n",
       "    </tr>\n",
       "    <tr>\n",
       "      <th>2896</th>\n",
       "      <td>EP000004275470A1</td>\n",
       "      <td>2023</td>\n",
       "      <td>lawnmower system lawnmower comprise chassis outer shell define exterior face lawnmower outer shell comprise skirt enclose chassis distance therefrom sensor module comprise chassis connection interface connect sensor module connection interface chassis sensor module hold sensor vertical projection chassis skirt module connection interface locate face chassis sensor module housing extend position low module connection interface cantilever member hold main housing body sensor module horizontal gap main housing body chassis</td>\n",
       "    </tr>\n",
       "    <tr>\n",
       "      <th>2976</th>\n",
       "      <td>EP000004233770A3</td>\n",
       "      <td>2023</td>\n",
       "      <td>roller module medical drive device medical present invention provide medical hygienic capable transfer catheter drive device mount medical roller module mount drive device roller module include drive unit roller unit rotate vertical axis drive unit roller unit include roller shaft couple roller unit rotate drive unit groove form roller unit shaft roller unit dispose groove</td>\n",
       "    </tr>\n",
       "    <tr>\n",
       "      <th>2274</th>\n",
       "      <td>EP000004360826A1</td>\n",
       "      <td>2024</td>\n",
       "      <td>offline teaching device offline teaching method offline teach device comprise input unit capable receive operator operation acquisition unit acquire shape datum workpiece welding operation path sensor scan range generation unit generate region scan basis scan range scan interval control unit position region shape datum workpiece create output welding perform weld teaching program scan region basis position region welding operation path</td>\n",
       "    </tr>\n",
       "    <tr>\n",
       "      <th>3927</th>\n",
       "      <td>EP000004140380A1</td>\n",
       "      <td>2023</td>\n",
       "      <td>docking station mobile management system disclosed docking station mobile management method control docking station mobile disclosure relate mobile management method order display information associate docking station output device mobile transmit information user terminal device connect mobile transmit user terminal device information receive docking station</td>\n",
       "    </tr>\n",
       "    <tr>\n",
       "      <th>2343</th>\n",
       "      <td>EP000004349539A1</td>\n",
       "      <td>2024</td>\n",
       "      <td>handle variable power associated method present disclosure relate control unit method control method comprise receive path datum indicative path include joint assembly second joint assembly follow receive electrical level input indicative voltage level input current level input determine plurality movement plurality motor base path datum voltage electrical level input current level input</td>\n",
       "    </tr>\n",
       "    <tr>\n",
       "      <th>774</th>\n",
       "      <td>DE112021004859T5</td>\n",
       "      <td>2023</td>\n",
       "      <td>spannungsschätzungsvorrichtung lebensdauerbewertungsvorrichtung robotersystem bereitstellen spannungsschätzungsvorrichtung spannung riemen genau schätzen lebensdauerbewertungsvorrichtung lebensdauer übertragungsmechanismus spannung riemen genau bewerten robotersystem aufweisen spannungsschätzungsvorrichtung weisen übertragungsmechanismus leistung riemen übertragen motor nähe riemen anordnen motorerwärmungswertberechnungseinheit motorerwärmungswert grundlage stromwert drehzahl motor berechnen reibungserwärmungswertberechnungseinheit reibungserwärmungswert übertragungsmechanismus grundlage stromwert drehzahl motor reibungskoeffiziente nähe riemen angeordnet welle berechnen riemenspannungsschätzungseinheit</td>\n",
       "    </tr>\n",
       "    <tr>\n",
       "      <th>2547</th>\n",
       "      <td>WO002024038265A1</td>\n",
       "      <td>2024</td>\n",
       "      <td>surgical instrument disengagement control unit surgical system comprise arm comprise drive assembly interface element configure provide mechanical drive actuate joint instrument arm engage instrument end effector comprise end effector element second end effector element moveable respect second end effector element joint control unit configure control drive assembly comprise processor configure receive signal input device response following user request disengage instrument arm activation instrument withdrawal mode surgical system instrument reference point surgical system instrument withdrawal</td>\n",
       "    </tr>\n",
       "    <tr>\n",
       "      <th>2608</th>\n",
       "      <td>WO002024028615A1</td>\n",
       "      <td>2024</td>\n",
       "      <td>radiation imaging apparatus comprise radiation detector configure detect ionising radiation position orientation detector configure determine instantaneous position orientation radiation imaging apparatus degree freedom relative real world structure fix frame reference method estimate radiation source distribution facility provide method estimate spatial distribution minimum detectable activity radiation account parameter provide</td>\n",
       "    </tr>\n",
       "    <tr>\n",
       "      <th>2320</th>\n",
       "      <td>EP000004353177A2</td>\n",
       "      <td>2024</td>\n",
       "      <td>graphical user interface use surgical navigation system comprise tracker real time tracking position orientation arm source patient anatomical datum arm virtual image surgical navigation image generator configure generate surgical navigation image comprise patient anatomy arm virtual image accordance current position orientation datum provide tracker display system configure surgical navigation image</td>\n",
       "    </tr>\n",
       "    <tr>\n",
       "      <th>3821</th>\n",
       "      <td>EP000004159382A1</td>\n",
       "      <td>2023</td>\n",
       "      <td>teleoperated system impact responsive force feedback teleoperated system comprise platform master control arm plurality support member couple joint form plurality degree freedom correspond degree freedom human arm actuator operable actuate plurality support member arm plurality degree freedom user interface form handle associate master control arm facilitate operation master control arm user slave arm mount platform plurality support member couple joint form plurality degree freedom correspond degree freedom master control arm slave arm comprise load sensor operable facilitate force feedback user</td>\n",
       "    </tr>\n",
       "    <tr>\n",
       "      <th>4973</th>\n",
       "      <td>EP000003998588A1</td>\n",
       "      <td>2022</td>\n",
       "      <td>apparatus systems methods automated dispensing articles automated dispensing system provide comprise controller configure process request article dispense storage module comprise plurality moveable tray stack moveable tray comprise storage location hold article loading bin end panel slide floor configure access storage location moveable tray storage module transfer request article loading bin dispense request article loading bin patient specific container moveable tray storage position retrieval position access storage location retrieve article loading bin dispense request article</td>\n",
       "    </tr>\n",
       "  </tbody>\n",
       "</table>\n",
       "</div>"
      ]
     },
     "execution_count": 3,
     "metadata": {},
     "output_type": "execute_result"
    }
   ],
   "execution_count": 3
  },
  {
   "cell_type": "code",
   "metadata": {
    "ExecuteTime": {
     "end_time": "2024-05-18T14:12:08.448060Z",
     "start_time": "2024-05-18T14:11:56.883466Z"
    }
   },
   "source": [
    "from bertopic import BERTopic"
   ],
   "outputs": [],
   "execution_count": 4
  },
  {
   "cell_type": "code",
   "metadata": {
    "ExecuteTime": {
     "end_time": "2024-05-18T14:12:11.748402Z",
     "start_time": "2024-05-18T14:12:08.448060Z"
    }
   },
   "source": [
    "from sentence_transformers import SentenceTransformer\n",
    "\n",
    "model = SentenceTransformer('distiluse-base-multilingual-cased-v1')"
   ],
   "outputs": [],
   "execution_count": 5
  },
  {
   "cell_type": "code",
   "metadata": {
    "ExecuteTime": {
     "end_time": "2024-05-18T14:12:11.764027Z",
     "start_time": "2024-05-18T14:12:11.748402Z"
    }
   },
   "source": [
    "texts = df['text_preproc2'].tolist()"
   ],
   "outputs": [],
   "execution_count": 6
  },
  {
   "cell_type": "code",
   "metadata": {
    "ExecuteTime": {
     "end_time": "2024-05-18T14:24:09.622775Z",
     "start_time": "2024-05-18T14:24:09.607149Z"
    }
   },
   "source": "topic_model = BERTopic(embedding_model=model, min_topic_size=20)",
   "outputs": [],
   "execution_count": 31
  },
  {
   "cell_type": "code",
   "metadata": {
    "ExecuteTime": {
     "end_time": "2024-05-18T14:25:25.170498Z",
     "start_time": "2024-05-18T14:24:09.622775Z"
    }
   },
   "source": [
    "topics, probabilities = topic_model.fit_transform(texts)"
   ],
   "outputs": [],
   "execution_count": 32
  },
  {
   "cell_type": "code",
   "metadata": {
    "ExecuteTime": {
     "end_time": "2024-05-18T14:25:25.186003Z",
     "start_time": "2024-05-18T14:25:25.171499Z"
    }
   },
   "source": [
    "topic_model.get_topic_info()"
   ],
   "outputs": [
    {
     "data": {
      "text/plain": [
       "    Topic  Count                                                Name  \\\n",
       "0      -1   1424                   -1_device_system_comprise_control   \n",
       "1       0   2012            0_verfahren_umfassen_aufweisen_erfindung   \n",
       "2       1    923                       1_method_control_datum_system   \n",
       "3       2    265                     2_container_storage_system_grid   \n",
       "4       3    154                     3_surgical_instrument_end_drive   \n",
       "5       4    150                     4_cleaning_clean_cleaner_vacuum   \n",
       "6       5    113                    5_surgical_instrument_arm_system   \n",
       "7       6     74             6_food_küchenmaschine_cooking_processor   \n",
       "8       7     70                          7_second_axis_joint_member   \n",
       "9       8     68  8_reinigungsroboter_reinigung_saugroboter_reinigen   \n",
       "10      9     40                   9_battery_charge_electric_vehicle   \n",
       "11     10     39                      10_cleaning_clean_area_cleaner   \n",
       "12     11     35                     11_crop_mower_lawn_agricultural   \n",
       "13     12     34                     12_laser_beam_optical_projektor   \n",
       "14     13     29                     13_finger_assembly_gripper_grip   \n",
       "15     14     28                       14_paint_head_nozzle_painting   \n",
       "\n",
       "                                                                                                                   Representation  \\\n",
       "0                                             [device, system, comprise, control, arm, include, method, drive, configure, second]   \n",
       "1                     [verfahren, umfassen, aufweisen, erfindung, roboterarm, objekt, betreffen, mehrere, werkstück, vorrichtung]   \n",
       "2                                            [method, control, datum, system, information, object, image, base, device, position]   \n",
       "3                                            [container, storage, system, grid, comprise, transport, good, sort, plurality, pick]   \n",
       "4                                           [surgical, instrument, end, drive, interface, element, portion, effector, shaft, arm]   \n",
       "5                                           [cleaning, clean, cleaner, vacuum, dust, body, suction, comprise, configure, docking]   \n",
       "6                                       [surgical, instrument, arm, system, control, surgery, configure, comprise, tool, patient]   \n",
       "7                         [food, küchenmaschine, cooking, processor, küchengerät, hochfrequenz, cutter, speise, processing, topf]   \n",
       "8                                                          [second, axis, joint, member, gear, link, rotation, shaft, arm, motor]   \n",
       "9   [reinigungsroboter, reinigung, saugroboter, reinigen, erfindung, betreffen, verfahren, reinigungsstation, aufweisen, bauteil]   \n",
       "10                                   [battery, charge, electric, vehicle, power, station, electrical, mobile, batterie, charging]   \n",
       "11                                            [cleaning, clean, area, cleaner, perimeter, method, region, medium, cleanable, map]   \n",
       "12                                                       [crop, mower, lawn, agricultural, work, plant, plot, method, grass, gps]   \n",
       "13                       [laser, beam, optical, projektor, rolling, projektion, führungsroboter, laserstrahl, intersection, head]   \n",
       "14                                              [finger, assembly, gripper, grip, second, shaft, ball, manipulator, phalanx, pin]   \n",
       "15                                          [paint, head, nozzle, painting, coat, coating, material, supply, printhead, pressure]   \n",
       "\n",
       "                                                                                                                                                                                                                                                                                                                                                                                                                                                                                                                                                                                                                                                                                                                                                                                                                                                                                                                                                                                                                                                                                                                                                                                                                                                                                                                                                                                                                                                                                                                                                                                                                                                                                                                                                                                                                                                                                                                                       Representative_Docs  \n",
       "0                                                                                                                                                                                                                                                   [support device present disclosure relate support device capable support object appropriate support force support device include elastic body come contact support object surface elastic body surface plurality curvature different detection unit detect information shear force portion surface elastic body portion contact object present disclosure apply example support device grip device electronic device support system grip system like, method apparatus system controlling control device embodiment present disclosure provide control method apparatus system control device method include determine storage position temporary storage shelve unit user perform operation control operation accord storage position temporary storage shelve unit user perform operation avoid perform operation storage position user accord control method apparatus system control device provide embodiment present disclosure case come contact user reduce injury cause user extent improve operation safety addition good sort selection efficiency ensure, system parallel link mechanism control method control device program system accord embodiment include arm mechanism articulate parallel link mechanism end effector detector control device parallel link mechanism include fix mount distal arm mechanism movable mount fix multiple parallel link movable respect fix end effector mount movable detector provide detect position orientation control point control device control arm mechanism parallel link mechanism control device perform operation set posture control point posture second operation set posture control point task posture end effector perform task]  \n",
       "1                                                                                                                                                                                                                                                                                                                    [modulares robotersystem verfahren transportieren objektes erfindung betreffen modular robotersystem transportieren objekt umfassend autonom robotereinheit antrieb verbindungsmittel verbinden objekt aufweisen autonom robotereinheit koppelmittel aufweisen autonom robotereinheit koppeln robotersystem einheit ausbilden steuereinrichtung einrichten robotereinheit transportieren objekt ansteuern regeln bezug ausgebildet robotersystem einheit ausbilden lösen kopplung robotereinheit ausbilden lösen verbindung, verfahren aufnehmen objekt robotervorrichtung verschieden ausführungsform verfahren aufnehmen objekt robotervorrichtung beschreiben aufweisend beschaffen tiefenbild objekt ermitteln mehrere punkt objekt wert maß streuung oberfläche normalenvektor bereich punkt objekt zuführen ermittelt wert neuronal netzwerk einrichten reaktion eingabe streuungsmaßwert enthalten angabe objektstellen aufnehmen ausgeben ermittel stelle objekt aufnehmen objekt ausgabe neuronal netzwerk reaktion zufuhr ermittelt wert ausgeben steuer robotervorrichtung aufnehmen objekt ermittelt stelle, werkzeugmaschine folgend umfassen werkzeugstütze konfigurieren mehrere werkzeug halten richtung achse parallel achse orthogonal linear bewegen werkstückspindelvorrichtung konfigurieren werkstück achse parallel achse drehbar zustand halten werkstückspindelvorrichtung werkstückspindel umfassen undein maschine bearbeitungskammer installieren mehrere gelenk mehrere verbindung verbinden gelenk umfassen mehrere gelenk maschine umfassen basisgelenk achse parallel achse drehen unddrei parallele]  \n",
       "2                                                                                                                     [method device positioning smart storage medium provide positioning method apparatus intelligent storage medium method include configure camera sensor acquire image collect camera sensing datum collect sensor extract semantic information contain collect image identifying accord semantic information scenario identify determine current position accord target sense datum correspond scenario locate method sense datum determine pose sense datum target sense datum correspond scenario basis determine pose targeted improve accuracy pose, system control method memory device system include controller configure control base sequential teach position teaching device communicative controller configure receive operation operator controller include path generation unit configure generate response determine target position designate operator teaching device path current position target position simulation base surround environmental information jump control unit configure target position generate path, interaction method apparatus mobile storage medium interaction method apparatus mobile computer device storage medium computer program product method comprise acquire map datum information space mobile locate acquire real time environment perception datum collect environment perception sensor real time environment perception datum comprise real time obstacle information real time indication information indicate road condition mobile acquire target travel path information mobile basis real time obstacle information map datum information determine ground projection region accord target travel path information real time indication information acquire pattern project determine accord pattern ground projection region projection parameter correspond pattern]  \n",
       "3                                                                                                                                                                                    [automated load handling system automate load handle system comprise second automate storage retrieval system grid framework structure track system second set parallel track run horizontal plane arrange grid pattern form plurality grid cell define grid opening container house grid define plurality storage column arrange store respective stack storage container store item storage container locate track system stack storage container occupy single grid space grid cell plurality load handling device operative track system lift storage container stack port column extend grid opening track, automated load handling system automate load handle system comprise automate storage retrieval system second automate storage retrieval system comprise grid framework structure comprise track system arrange grid pattern comprise plurality grid cell define grid opening plurality storage column arrange store respective stack storage container store item stack storage container locate track system stack storage container occupy single grid space grid cell plurality load handle device operative track system lift storage container stack port column extend, systems methods order processing system method machine executable code instruction set automate handling good particular disclosure provide improvement storage retrieval storage delivery container order processing system embodiment frame define grid storage location configure store plurality storage container row column stack storage container plurality overhead load handler transport storage container storage location grid plurality delivery container configure storage grid combine container comprise delivery container store storage container]  \n",
       "4                                                                                                         [surgical arm instrument detachment surgical arm comprise terminal link comprise drive assembly interface element configure engage instrument interface element instrument interface surgical instrument surgical arm engage surgical instrument drive assembly interface range motion engage instrument interface element transfer drive instrument interface element drive assembly interface element arrange plane perpendicular longitudinal axis terminal link surgical instrument detachable surgical arm detachment direction parallel plane surgical instrument provide corresponding instrument interface, interface surgical arm instrument surgical instrument comprising shaft drive element run shaft articulation distal end shaft articulate end effector articulation driveable drive element instrument interface proximal end shaft instrument interface comprise instrument interface element configure drive element engage drive assembly interface element drive assembly interface surgical arm surgical instrument engage surgical arm engage instrument interface element drive assembly interface element intersect line drive element, interface surgical arm instrument surgical instrument comprise shaft drive element run shaft articulation distal end shaft articulate end effector articulation driveable drive element instrument interface proximal end shaft instrument interface comprise instrument interface element configure drive element engage drive assembly interface element drive assembly interface surgical arm surgical instrument engage surgical arm engage instrument interface element drive assembly interface element intersect line drive element surgical arm comprise base connect terminal link series intermediate joint terminal link comprise drive assembly interface element]  \n",
       "5                                                                                                                               [vacuum cleaning system comprise unit include traction arrangement docking interface receive handheld vacuum cleaner configure dock docking interface handheld vacuum cleaner comprise vacuum motor draw air suction flow path define unit dock docking interface handheld vacuum cleaner comprise main body extend battery pack handheld vacuum cleaner dock docking interface configure battery pack extend unit invention provide user friendly cleaning system user able use handheld vacuum cleaner spot cleaning large cleaning task able dock handheld vacuum cleaner unit autonomous cleaning task, vacuum cleaning system comprise unit comprise traction arrangement docking interface receive handheld vacuum cleaner unit define suction flow path extend suction port docking interface vacuum cleaning system comprise handheld vacuum cleaner configure dock docking interface suction port handheld vacuum clean comprise vacuum motor draw air suction flow path dock docking interface vacuum cleaning system include suction tool configure attach suction port unit suction port handheld vacuum cleaner, vacuum cleaning system comprise unit comprise traction arrangement docking interface receive handheld vacuum cleaner unit define suction flow path extend suction port docking interface vacuum cleaning system comprise handheld vacuum cleaner configure dock docking interface suction port handheld vacuum clean comprise vacuum motor draw air suction flow path dock docking interface vacuum cleaning system comprise suction tool configure attach suction port unit suction port handheld vacuum cleaner invention provide user friendly cleaning system user able use handheld vacuum cleaner spot cleaning large cleaning task able dock handheld vacuum cleaner unit autonomous]  \n",
       "6   [surgical system control surgical system provide use surgical procedure surgical system comprise surgical arm comprise movable arm mount surgical instrument movable arm degree freedom enable longitudinal movement surgical instrument surgical target human machine interface provide receive position command human operator control longitudinal movement surgical instrument actuator configure arrange actuate movable arm effect longitudinal movement surgical instrument actuator control processor accordance positioning command virtual bound virtual bind establish transition control longitudinal movement surgical instrument direction surgical target use surgical, control system surgical system safety monitor control system control surgical system comprise surgical comprise base arm extend base attachment instrument arm comprise plurality joint configuration arm alter control system comprise main controller configure receive communication device operator console identify input operator surgical generate control signal control movement surgical arm base input send communication surgical identify control signal safety monitor configure analyse portion communication main controller determine surgical system fault state response determine surgical, control system surgical system comprise surgical arm surgeon input device surgical arm comprise series joint configuration alter series joint extend base proximal end surgical arm attachment surgical instrument distal end surgical arm control system configure control surgical arm dependence input receive surgeon input device alter configuration surgical arm maintain intersection surgical instrument attach surgical arm fulcrum control system configure receive input surgeon input device input indicate request movement surgical instrument determine scaling factor scaling function dependent distance surgical instrument]  \n",
       "7                                                                                                                                                                                                                                                                                                                                                                                                                                                                       [temperature control system domestic food processor food processing method provide temperature control system condition food receive food preparation container domestic food processor mechanical food processing system extract juice condition food temperature control system configure implement food conditioning stage atmosphere food preparation container heat temperature control system minute temperature high provide domestic food processor comprise temperature control system method relate computer program process food, electromechanical lock device food processor invention relate device secure lock food preparation container base food processor prevent user accident operation device comprise base food processor food preparation container upper cover processing unit characterise base food processor comprise electromechanical actuator motor drive shaft provide horizontal movement safety spring end drive shaft actuate cause safety spring pass hole body hole food preparation container manner latch prevent food preparation container separate base food processor mechanism food preparation heat motor, cooking appliance present invention concern cooking appliance comprise food treatment area accord invention kitchen machine food processor particular cook food processor include cooking appliance provide space include kitchen machine food processor connection energy supply energize kitchen machine food processor]  \n",
       "8                                                                                                                                                                                                                                               [gear packaging joints arm comprise arm segment second arm segment couple revolute joint rotation axis second revolute joint second rotation axis non parallel rotation axis joint mechanism articulate arm segment relative second arm segment second rotation axis joint mechanism comprise drive gear dispose axle coincident rotation axis axle fast arm segment arm second drive gear dispose second rotation axis fast second arm segment arm drive gear rotation axis drive gear configure drive gear rotate axle drive gear arrange engage drive gear second drive gear drive second drive gear rotate second rotation axis, gear packaging joint arm comprise second arm segment couple revolute joint axis second revolute joint second axis parallel rotation axis joint mechanism articulate arm segment relative second arm segment second rotation axis joint mechanism comprise drive gear axle rotation axis axle fast arm segment drive gear axis non intersect axis engagement drive gear rotate axle second drive gear second rotation axis fast second arm segment drive gear second drive gear drive second drive gear rotation second rotation axis intermediary gear arrangement dispose rotation, include joint member second joint member connect second arm member joint member connect arm member flange link end connect second joint member end connect joint member second link end connect second joint member counter weight connect end second link joint member include motor rotate arm member opposite joint member end second link base point transmission member transmit rotate force generate motor arm member joint member second arm member second joint member]  \n",
       "9                                                                                                            [saugroboter autonomen reinigung bodenflächen raums erfindung betreffen saugroboter autonom reinigung bodenfläche raum umfassend erfassung datum betreffend ausfeder räd saugroboter betreffend unterbrechung verbindung ladekontakt erfassung datum betreffend drehung saugroboter horizontal orientiert drehachse betreffend translatorisch bewegung saugroboter senkrecht richtung bezug bewegungsrichtung saugbetrieb einhüllungszustand saugroboter behälter steuereinrichtung erfasst datum verarbeiten betreffen erfindung verfahren detektiere diebstahlversuch saugroboter autonom reinigung bodenfläche raum, wagen verfahren ausbringen reinigungsrobotern wagen erfindung betreffen wagen verstauung entleerung energieversorgung reinigungsroboter aufweisend energieversorgungseinheit ausbilden stromnetz verbinden staufächer verstauen reinigungsroboter staufach ladekontakt aufweisen ausbilden entsprechend staufach angeordnet reinigungsroboter kontaktieren reinigungsroboter energieversorgungseinheit energie versorgen transporträd ausbilden wagen untergrund bewegen absaugsystem klappbar absaugplattform aufweisen ausbilden reinigungsroboter entleeren absaugplattform anordnen liftsystem klappbar aufnahmeelement liftsystem ausbilden reinigungsroboter einzeln, verfahren reinigen reinigungsroboter erfindung betreffen verfahren reinigung fläche privathaushalt reinigungsroboter sensor detektion hindernissen kartierung umgebung ausstatten reinigungsfahrt basis sensorsignale sensor geplant route durchführen reinigungsroboter rad fortbewegen fahrtrichtung reinigungsmechanismus reinigen aufweisen rad reinigungsmechanismus motor antreiben akku reinigungsroboter elektrisch energie versorgen reinigungsroboter bauhöhe gewicht maximal betriebsgeschwindigkeit smax flächenleistung dpu]  \n",
       "10                                                                                                                                                                                                                                                   [control method therefor disclose comprise plurality battery switch supply plurality battery electric energy provide external charger second switch connect plurality battery processor control switch external charger connect plurality battery charge basis soc plurality battery remain battery charge control second switch connection external charger disconnect difference soc plurality battery reach threshold accord operation battery high soc plurality battery charge battery low soc, method discharge plurality battery include mobile provide method discharge battery second battery include mobile method include determine mobile begin drive determine plurality predetermine interval charge battery charge second battery time point determination fall determine interval discharge battery base interval charge battery charge second battery fall perform switch operation begin discharge second battery complete discharge determined interval mobile perform method computer readable recording medium computer program execute method store thereon, interchangeable battery rechargeable interchangeable battery include body couple wheel assembly include plurality wheel drive mechanism arrange body set parallel rail extend direction second set parallel rail extend second direction perpendicular direction body chassis define battery compartment second battery compartment battery module dispose battery compartment chassis engage charge station chassis arrange release battery module battery compartment receive second battery module second battery compartment design swap deplete battery module charge second battery module return operation]  \n",
       "11                                                                    [clean control method apparatus cleaning storage medium application disclose cleaning control method device cleaning storage medium relate technical field intelligent equipment apply execute cleaning clean unknown area clean cleaning base station method include obtain area map represent area clean sub area clean uncleaned area clean determine cleaning starting point area clean sub area clean base area map cleaning starting point edge area clean sub area clean cleaning direction perform cleaning operation area clean sub area clean cleaning starting point application realize clean inner, clean control method apparatus cleaning storage medium cleaning control method apparatus cleaning storage medium relate technical field intelligent device method comprise step cleaning acquire map space clean spatial map dividing base spatial map space cleaning region set cleaning sequence cleaning region perform cleaning region unit cleaning operation cleaning region space accord cleaning sequence cleaning perform clean operation cleaning region space accord cleaning sequence clean cleaning region prevent dirty cleaning region base station position charge clean cleaning member enhance clean effect improve cleaning efficiency, clean control method apparatus clean storage medium cleaning control method apparatus cleaning storage medium relate technical field intelligent device realize clean inner end region clean entrance prevent dirty cleaning member dirty clean floor improve cleaning efficiency cleaning control method implement cleaning clean unknown region clean cleaning cooperation base station method comprise acquire regional map indicate region clean sub region uncleaned region clean determine base regional map cleaning start point region clean sub region cleaning start point edge face cleaning]  \n",
       "12                                                                                                                                                                                                                                                                                                                                                                                                                                                                                                                                                                                                                                                                                                                                                                                            [lawn mowers method operate mow system method include mow work area mow perform lawn mower work area comprise plurality base station configure charge lawn mower determine charge lawn mower view current charge level current location lawn mower, energy efficient lawn mower present disclosure relate lawn mower control unit adapt use lawn mower comprise main processing unit adapt cause control unit control operation lawn mower include limit control environment detection device propulsion lawn mower control unit comprise separate auxiliary processing unit dedicate perform recognition classification object mean datum acquire mean environment detection device, automatic lawn mower path planning method system device thereof mower path planning method system device provide method include control mower exit charge station control mower find boundary wire guide wire boundary wire pre lay edge work area mower guidance line lay work area mower control mower follow boundary wire guide wire reach predetermine position disclosure track generate mower exit charge station fix path avoid damage lawn vegetation reduce]  \n",
       "13                                                                                                                                                                                                                                                                                                                                                                                                                                                                           [verfahren laser optisches roboterarbeitsplatz erfindung betreffen verfahren laser optisch erfassungssystem aufweisend laser projektor kamera steuervorrichtung ausbilden einrichten laser projektor kamera ansteuern merkmal objekt bestimmen sensoreinrichtung steuervorrichtung einrichten abhängigkeit sensoreinrich tung erhalten charakterisierend signal annäherung anwesenheit person kritisch räumlich nähe laser projektor belichtungsparameter kamera abhängigkeit reduziert maximal bestrahlungsstärke laser projektor momentan bestrahlungsstärke laser projektor anpassen erfindung betreffen roboterarbeitsplatz laser optisch erfassungssystem, laser module end effector device laser module include laser source air knife laser source configure couple arm device emit laser beam process workpiece surface air knife configure couple arm discharge airflow sheet direction laser spot laser beam impinge workpiece surface clearing contaminant generate impingement laser beam, laser processing device method adjust focal position laser beam laser processing device include laser oscillator generate laser beam laser head irradiate workpiece laser beam manipulator laser head mount manipulator include arm tip shaft provide tip arm manner rotatable axis connector component connect arm tip shaft laser head connector component provide gauge attachment portion gauge attach gauge reference point correspond focal position laser beam]  \n",
       "14                                                                                                                                                                                                                                                                                                                                                                                                                                                                                                                                                                                                                                                                                                                [finger sub assembly manipulator present disclosure relate finger sub assembly gripper assembly manipulator finger sub assembly comprise base unit connectable gripper assembly mount high friction pad contact article manipulation high friction pad secure base unit, gripper assembly manipulator disclosure concern ascertain force apply finger element gripper assembly manipulator manipulation object aspect disclose gripper assembly comprise finger element actuator linkage assembly comprise plurality arm connect finger element actuator sensor assembly configure output signal indicative force component apply plurality arm result force apply finger element, improvement relate gripper comprise finger member connect mount assembly linear coupling rotational coupling gripper comprise drive assembly control linear position finger relative mount assembly linear coupling angular orientation finger relative mount assembly rotational coupling gripper comprise second finger member relative finger member control gripper control grip target object clamp force second finger member connect mount assembly second linear coupling second rotational coupling drive assembly configure control linear]  \n",
       "15                                                                                                                                                                                                                                                                           [painting accord present invention possible provide painting capable reduce influence pressure fluctuation paint discharge stop painting comprise arm paint head unit attach tip paint supply mechanism provide arm paint head unit control unit paint supply mechanism include paint circulation channel paint transfer mean regulate valve provide middle paint circulation channel control unit equip feedback control unit calculate pressure calculation value execute feedback control operation control object feedforward control unit control operation control object compensate, painting present application provide painting prevent introduction air nozzle paint color change paint filling paint prevent acceleration wear pump remove dissolve gas paint painting include paint supply path connect paint supply nozzle head return flow path configure recover paint discharge nozzle filter configure remove foreign matter paint second filter configure separate dissolve gas paint discharge nozzle head control unit open valve circulate paint bypass flow path return flow path connect location upstream second filter paint supply path paint circulate, coating machine inkjet coating machine provide prevent component paint precipitate inkjet coating machine include arm chuck end nozzle head unit mount chuck nozzle head unit include nozzle head nozzle spray paint nozzle control unit control driving nozzle head circulation path enable paint circulate nozzle head nozzle control unit head circulation path configure coat machine include hold unit hold nozzle head unit standby head replacement unit replace nozzle head unit]  "
      ],
      "text/html": [
       "<div>\n",
       "<style scoped>\n",
       "    .dataframe tbody tr th:only-of-type {\n",
       "        vertical-align: middle;\n",
       "    }\n",
       "\n",
       "    .dataframe tbody tr th {\n",
       "        vertical-align: top;\n",
       "    }\n",
       "\n",
       "    .dataframe thead th {\n",
       "        text-align: right;\n",
       "    }\n",
       "</style>\n",
       "<table border=\"1\" class=\"dataframe\">\n",
       "  <thead>\n",
       "    <tr style=\"text-align: right;\">\n",
       "      <th></th>\n",
       "      <th>Topic</th>\n",
       "      <th>Count</th>\n",
       "      <th>Name</th>\n",
       "      <th>Representation</th>\n",
       "      <th>Representative_Docs</th>\n",
       "    </tr>\n",
       "  </thead>\n",
       "  <tbody>\n",
       "    <tr>\n",
       "      <th>0</th>\n",
       "      <td>-1</td>\n",
       "      <td>1424</td>\n",
       "      <td>-1_device_system_comprise_control</td>\n",
       "      <td>[device, system, comprise, control, arm, include, method, drive, configure, second]</td>\n",
       "      <td>[support device present disclosure relate support device capable support object appropriate support force support device include elastic body come contact support object surface elastic body surface plurality curvature different detection unit detect information shear force portion surface elastic body portion contact object present disclosure apply example support device grip device electronic device support system grip system like, method apparatus system controlling control device embodiment present disclosure provide control method apparatus system control device method include determine storage position temporary storage shelve unit user perform operation control operation accord storage position temporary storage shelve unit user perform operation avoid perform operation storage position user accord control method apparatus system control device provide embodiment present disclosure case come contact user reduce injury cause user extent improve operation safety addition good sort selection efficiency ensure, system parallel link mechanism control method control device program system accord embodiment include arm mechanism articulate parallel link mechanism end effector detector control device parallel link mechanism include fix mount distal arm mechanism movable mount fix multiple parallel link movable respect fix end effector mount movable detector provide detect position orientation control point control device control arm mechanism parallel link mechanism control device perform operation set posture control point posture second operation set posture control point task posture end effector perform task]</td>\n",
       "    </tr>\n",
       "    <tr>\n",
       "      <th>1</th>\n",
       "      <td>0</td>\n",
       "      <td>2012</td>\n",
       "      <td>0_verfahren_umfassen_aufweisen_erfindung</td>\n",
       "      <td>[verfahren, umfassen, aufweisen, erfindung, roboterarm, objekt, betreffen, mehrere, werkstück, vorrichtung]</td>\n",
       "      <td>[modulares robotersystem verfahren transportieren objektes erfindung betreffen modular robotersystem transportieren objekt umfassend autonom robotereinheit antrieb verbindungsmittel verbinden objekt aufweisen autonom robotereinheit koppelmittel aufweisen autonom robotereinheit koppeln robotersystem einheit ausbilden steuereinrichtung einrichten robotereinheit transportieren objekt ansteuern regeln bezug ausgebildet robotersystem einheit ausbilden lösen kopplung robotereinheit ausbilden lösen verbindung, verfahren aufnehmen objekt robotervorrichtung verschieden ausführungsform verfahren aufnehmen objekt robotervorrichtung beschreiben aufweisend beschaffen tiefenbild objekt ermitteln mehrere punkt objekt wert maß streuung oberfläche normalenvektor bereich punkt objekt zuführen ermittelt wert neuronal netzwerk einrichten reaktion eingabe streuungsmaßwert enthalten angabe objektstellen aufnehmen ausgeben ermittel stelle objekt aufnehmen objekt ausgabe neuronal netzwerk reaktion zufuhr ermittelt wert ausgeben steuer robotervorrichtung aufnehmen objekt ermittelt stelle, werkzeugmaschine folgend umfassen werkzeugstütze konfigurieren mehrere werkzeug halten richtung achse parallel achse orthogonal linear bewegen werkstückspindelvorrichtung konfigurieren werkstück achse parallel achse drehbar zustand halten werkstückspindelvorrichtung werkstückspindel umfassen undein maschine bearbeitungskammer installieren mehrere gelenk mehrere verbindung verbinden gelenk umfassen mehrere gelenk maschine umfassen basisgelenk achse parallel achse drehen unddrei parallele]</td>\n",
       "    </tr>\n",
       "    <tr>\n",
       "      <th>2</th>\n",
       "      <td>1</td>\n",
       "      <td>923</td>\n",
       "      <td>1_method_control_datum_system</td>\n",
       "      <td>[method, control, datum, system, information, object, image, base, device, position]</td>\n",
       "      <td>[method device positioning smart storage medium provide positioning method apparatus intelligent storage medium method include configure camera sensor acquire image collect camera sensing datum collect sensor extract semantic information contain collect image identifying accord semantic information scenario identify determine current position accord target sense datum correspond scenario locate method sense datum determine pose sense datum target sense datum correspond scenario basis determine pose targeted improve accuracy pose, system control method memory device system include controller configure control base sequential teach position teaching device communicative controller configure receive operation operator controller include path generation unit configure generate response determine target position designate operator teaching device path current position target position simulation base surround environmental information jump control unit configure target position generate path, interaction method apparatus mobile storage medium interaction method apparatus mobile computer device storage medium computer program product method comprise acquire map datum information space mobile locate acquire real time environment perception datum collect environment perception sensor real time environment perception datum comprise real time obstacle information real time indication information indicate road condition mobile acquire target travel path information mobile basis real time obstacle information map datum information determine ground projection region accord target travel path information real time indication information acquire pattern project determine accord pattern ground projection region projection parameter correspond pattern]</td>\n",
       "    </tr>\n",
       "    <tr>\n",
       "      <th>3</th>\n",
       "      <td>2</td>\n",
       "      <td>265</td>\n",
       "      <td>2_container_storage_system_grid</td>\n",
       "      <td>[container, storage, system, grid, comprise, transport, good, sort, plurality, pick]</td>\n",
       "      <td>[automated load handling system automate load handle system comprise second automate storage retrieval system grid framework structure track system second set parallel track run horizontal plane arrange grid pattern form plurality grid cell define grid opening container house grid define plurality storage column arrange store respective stack storage container store item storage container locate track system stack storage container occupy single grid space grid cell plurality load handling device operative track system lift storage container stack port column extend grid opening track, automated load handling system automate load handle system comprise automate storage retrieval system second automate storage retrieval system comprise grid framework structure comprise track system arrange grid pattern comprise plurality grid cell define grid opening plurality storage column arrange store respective stack storage container store item stack storage container locate track system stack storage container occupy single grid space grid cell plurality load handle device operative track system lift storage container stack port column extend, systems methods order processing system method machine executable code instruction set automate handling good particular disclosure provide improvement storage retrieval storage delivery container order processing system embodiment frame define grid storage location configure store plurality storage container row column stack storage container plurality overhead load handler transport storage container storage location grid plurality delivery container configure storage grid combine container comprise delivery container store storage container]</td>\n",
       "    </tr>\n",
       "    <tr>\n",
       "      <th>4</th>\n",
       "      <td>3</td>\n",
       "      <td>154</td>\n",
       "      <td>3_surgical_instrument_end_drive</td>\n",
       "      <td>[surgical, instrument, end, drive, interface, element, portion, effector, shaft, arm]</td>\n",
       "      <td>[surgical arm instrument detachment surgical arm comprise terminal link comprise drive assembly interface element configure engage instrument interface element instrument interface surgical instrument surgical arm engage surgical instrument drive assembly interface range motion engage instrument interface element transfer drive instrument interface element drive assembly interface element arrange plane perpendicular longitudinal axis terminal link surgical instrument detachable surgical arm detachment direction parallel plane surgical instrument provide corresponding instrument interface, interface surgical arm instrument surgical instrument comprising shaft drive element run shaft articulation distal end shaft articulate end effector articulation driveable drive element instrument interface proximal end shaft instrument interface comprise instrument interface element configure drive element engage drive assembly interface element drive assembly interface surgical arm surgical instrument engage surgical arm engage instrument interface element drive assembly interface element intersect line drive element, interface surgical arm instrument surgical instrument comprise shaft drive element run shaft articulation distal end shaft articulate end effector articulation driveable drive element instrument interface proximal end shaft instrument interface comprise instrument interface element configure drive element engage drive assembly interface element drive assembly interface surgical arm surgical instrument engage surgical arm engage instrument interface element drive assembly interface element intersect line drive element surgical arm comprise base connect terminal link series intermediate joint terminal link comprise drive assembly interface element]</td>\n",
       "    </tr>\n",
       "    <tr>\n",
       "      <th>5</th>\n",
       "      <td>4</td>\n",
       "      <td>150</td>\n",
       "      <td>4_cleaning_clean_cleaner_vacuum</td>\n",
       "      <td>[cleaning, clean, cleaner, vacuum, dust, body, suction, comprise, configure, docking]</td>\n",
       "      <td>[vacuum cleaning system comprise unit include traction arrangement docking interface receive handheld vacuum cleaner configure dock docking interface handheld vacuum cleaner comprise vacuum motor draw air suction flow path define unit dock docking interface handheld vacuum cleaner comprise main body extend battery pack handheld vacuum cleaner dock docking interface configure battery pack extend unit invention provide user friendly cleaning system user able use handheld vacuum cleaner spot cleaning large cleaning task able dock handheld vacuum cleaner unit autonomous cleaning task, vacuum cleaning system comprise unit comprise traction arrangement docking interface receive handheld vacuum cleaner unit define suction flow path extend suction port docking interface vacuum cleaning system comprise handheld vacuum cleaner configure dock docking interface suction port handheld vacuum clean comprise vacuum motor draw air suction flow path dock docking interface vacuum cleaning system include suction tool configure attach suction port unit suction port handheld vacuum cleaner, vacuum cleaning system comprise unit comprise traction arrangement docking interface receive handheld vacuum cleaner unit define suction flow path extend suction port docking interface vacuum cleaning system comprise handheld vacuum cleaner configure dock docking interface suction port handheld vacuum clean comprise vacuum motor draw air suction flow path dock docking interface vacuum cleaning system comprise suction tool configure attach suction port unit suction port handheld vacuum cleaner invention provide user friendly cleaning system user able use handheld vacuum cleaner spot cleaning large cleaning task able dock handheld vacuum cleaner unit autonomous]</td>\n",
       "    </tr>\n",
       "    <tr>\n",
       "      <th>6</th>\n",
       "      <td>5</td>\n",
       "      <td>113</td>\n",
       "      <td>5_surgical_instrument_arm_system</td>\n",
       "      <td>[surgical, instrument, arm, system, control, surgery, configure, comprise, tool, patient]</td>\n",
       "      <td>[surgical system control surgical system provide use surgical procedure surgical system comprise surgical arm comprise movable arm mount surgical instrument movable arm degree freedom enable longitudinal movement surgical instrument surgical target human machine interface provide receive position command human operator control longitudinal movement surgical instrument actuator configure arrange actuate movable arm effect longitudinal movement surgical instrument actuator control processor accordance positioning command virtual bound virtual bind establish transition control longitudinal movement surgical instrument direction surgical target use surgical, control system surgical system safety monitor control system control surgical system comprise surgical comprise base arm extend base attachment instrument arm comprise plurality joint configuration arm alter control system comprise main controller configure receive communication device operator console identify input operator surgical generate control signal control movement surgical arm base input send communication surgical identify control signal safety monitor configure analyse portion communication main controller determine surgical system fault state response determine surgical, control system surgical system comprise surgical arm surgeon input device surgical arm comprise series joint configuration alter series joint extend base proximal end surgical arm attachment surgical instrument distal end surgical arm control system configure control surgical arm dependence input receive surgeon input device alter configuration surgical arm maintain intersection surgical instrument attach surgical arm fulcrum control system configure receive input surgeon input device input indicate request movement surgical instrument determine scaling factor scaling function dependent distance surgical instrument]</td>\n",
       "    </tr>\n",
       "    <tr>\n",
       "      <th>7</th>\n",
       "      <td>6</td>\n",
       "      <td>74</td>\n",
       "      <td>6_food_küchenmaschine_cooking_processor</td>\n",
       "      <td>[food, küchenmaschine, cooking, processor, küchengerät, hochfrequenz, cutter, speise, processing, topf]</td>\n",
       "      <td>[temperature control system domestic food processor food processing method provide temperature control system condition food receive food preparation container domestic food processor mechanical food processing system extract juice condition food temperature control system configure implement food conditioning stage atmosphere food preparation container heat temperature control system minute temperature high provide domestic food processor comprise temperature control system method relate computer program process food, electromechanical lock device food processor invention relate device secure lock food preparation container base food processor prevent user accident operation device comprise base food processor food preparation container upper cover processing unit characterise base food processor comprise electromechanical actuator motor drive shaft provide horizontal movement safety spring end drive shaft actuate cause safety spring pass hole body hole food preparation container manner latch prevent food preparation container separate base food processor mechanism food preparation heat motor, cooking appliance present invention concern cooking appliance comprise food treatment area accord invention kitchen machine food processor particular cook food processor include cooking appliance provide space include kitchen machine food processor connection energy supply energize kitchen machine food processor]</td>\n",
       "    </tr>\n",
       "    <tr>\n",
       "      <th>8</th>\n",
       "      <td>7</td>\n",
       "      <td>70</td>\n",
       "      <td>7_second_axis_joint_member</td>\n",
       "      <td>[second, axis, joint, member, gear, link, rotation, shaft, arm, motor]</td>\n",
       "      <td>[gear packaging joints arm comprise arm segment second arm segment couple revolute joint rotation axis second revolute joint second rotation axis non parallel rotation axis joint mechanism articulate arm segment relative second arm segment second rotation axis joint mechanism comprise drive gear dispose axle coincident rotation axis axle fast arm segment arm second drive gear dispose second rotation axis fast second arm segment arm drive gear rotation axis drive gear configure drive gear rotate axle drive gear arrange engage drive gear second drive gear drive second drive gear rotate second rotation axis, gear packaging joint arm comprise second arm segment couple revolute joint axis second revolute joint second axis parallel rotation axis joint mechanism articulate arm segment relative second arm segment second rotation axis joint mechanism comprise drive gear axle rotation axis axle fast arm segment drive gear axis non intersect axis engagement drive gear rotate axle second drive gear second rotation axis fast second arm segment drive gear second drive gear drive second drive gear rotation second rotation axis intermediary gear arrangement dispose rotation, include joint member second joint member connect second arm member joint member connect arm member flange link end connect second joint member end connect joint member second link end connect second joint member counter weight connect end second link joint member include motor rotate arm member opposite joint member end second link base point transmission member transmit rotate force generate motor arm member joint member second arm member second joint member]</td>\n",
       "    </tr>\n",
       "    <tr>\n",
       "      <th>9</th>\n",
       "      <td>8</td>\n",
       "      <td>68</td>\n",
       "      <td>8_reinigungsroboter_reinigung_saugroboter_reinigen</td>\n",
       "      <td>[reinigungsroboter, reinigung, saugroboter, reinigen, erfindung, betreffen, verfahren, reinigungsstation, aufweisen, bauteil]</td>\n",
       "      <td>[saugroboter autonomen reinigung bodenflächen raums erfindung betreffen saugroboter autonom reinigung bodenfläche raum umfassend erfassung datum betreffend ausfeder räd saugroboter betreffend unterbrechung verbindung ladekontakt erfassung datum betreffend drehung saugroboter horizontal orientiert drehachse betreffend translatorisch bewegung saugroboter senkrecht richtung bezug bewegungsrichtung saugbetrieb einhüllungszustand saugroboter behälter steuereinrichtung erfasst datum verarbeiten betreffen erfindung verfahren detektiere diebstahlversuch saugroboter autonom reinigung bodenfläche raum, wagen verfahren ausbringen reinigungsrobotern wagen erfindung betreffen wagen verstauung entleerung energieversorgung reinigungsroboter aufweisend energieversorgungseinheit ausbilden stromnetz verbinden staufächer verstauen reinigungsroboter staufach ladekontakt aufweisen ausbilden entsprechend staufach angeordnet reinigungsroboter kontaktieren reinigungsroboter energieversorgungseinheit energie versorgen transporträd ausbilden wagen untergrund bewegen absaugsystem klappbar absaugplattform aufweisen ausbilden reinigungsroboter entleeren absaugplattform anordnen liftsystem klappbar aufnahmeelement liftsystem ausbilden reinigungsroboter einzeln, verfahren reinigen reinigungsroboter erfindung betreffen verfahren reinigung fläche privathaushalt reinigungsroboter sensor detektion hindernissen kartierung umgebung ausstatten reinigungsfahrt basis sensorsignale sensor geplant route durchführen reinigungsroboter rad fortbewegen fahrtrichtung reinigungsmechanismus reinigen aufweisen rad reinigungsmechanismus motor antreiben akku reinigungsroboter elektrisch energie versorgen reinigungsroboter bauhöhe gewicht maximal betriebsgeschwindigkeit smax flächenleistung dpu]</td>\n",
       "    </tr>\n",
       "    <tr>\n",
       "      <th>10</th>\n",
       "      <td>9</td>\n",
       "      <td>40</td>\n",
       "      <td>9_battery_charge_electric_vehicle</td>\n",
       "      <td>[battery, charge, electric, vehicle, power, station, electrical, mobile, batterie, charging]</td>\n",
       "      <td>[control method therefor disclose comprise plurality battery switch supply plurality battery electric energy provide external charger second switch connect plurality battery processor control switch external charger connect plurality battery charge basis soc plurality battery remain battery charge control second switch connection external charger disconnect difference soc plurality battery reach threshold accord operation battery high soc plurality battery charge battery low soc, method discharge plurality battery include mobile provide method discharge battery second battery include mobile method include determine mobile begin drive determine plurality predetermine interval charge battery charge second battery time point determination fall determine interval discharge battery base interval charge battery charge second battery fall perform switch operation begin discharge second battery complete discharge determined interval mobile perform method computer readable recording medium computer program execute method store thereon, interchangeable battery rechargeable interchangeable battery include body couple wheel assembly include plurality wheel drive mechanism arrange body set parallel rail extend direction second set parallel rail extend second direction perpendicular direction body chassis define battery compartment second battery compartment battery module dispose battery compartment chassis engage charge station chassis arrange release battery module battery compartment receive second battery module second battery compartment design swap deplete battery module charge second battery module return operation]</td>\n",
       "    </tr>\n",
       "    <tr>\n",
       "      <th>11</th>\n",
       "      <td>10</td>\n",
       "      <td>39</td>\n",
       "      <td>10_cleaning_clean_area_cleaner</td>\n",
       "      <td>[cleaning, clean, area, cleaner, perimeter, method, region, medium, cleanable, map]</td>\n",
       "      <td>[clean control method apparatus cleaning storage medium application disclose cleaning control method device cleaning storage medium relate technical field intelligent equipment apply execute cleaning clean unknown area clean cleaning base station method include obtain area map represent area clean sub area clean uncleaned area clean determine cleaning starting point area clean sub area clean base area map cleaning starting point edge area clean sub area clean cleaning direction perform cleaning operation area clean sub area clean cleaning starting point application realize clean inner, clean control method apparatus cleaning storage medium cleaning control method apparatus cleaning storage medium relate technical field intelligent device method comprise step cleaning acquire map space clean spatial map dividing base spatial map space cleaning region set cleaning sequence cleaning region perform cleaning region unit cleaning operation cleaning region space accord cleaning sequence cleaning perform clean operation cleaning region space accord cleaning sequence clean cleaning region prevent dirty cleaning region base station position charge clean cleaning member enhance clean effect improve cleaning efficiency, clean control method apparatus clean storage medium cleaning control method apparatus cleaning storage medium relate technical field intelligent device realize clean inner end region clean entrance prevent dirty cleaning member dirty clean floor improve cleaning efficiency cleaning control method implement cleaning clean unknown region clean cleaning cooperation base station method comprise acquire regional map indicate region clean sub region uncleaned region clean determine base regional map cleaning start point region clean sub region cleaning start point edge face cleaning]</td>\n",
       "    </tr>\n",
       "    <tr>\n",
       "      <th>12</th>\n",
       "      <td>11</td>\n",
       "      <td>35</td>\n",
       "      <td>11_crop_mower_lawn_agricultural</td>\n",
       "      <td>[crop, mower, lawn, agricultural, work, plant, plot, method, grass, gps]</td>\n",
       "      <td>[lawn mowers method operate mow system method include mow work area mow perform lawn mower work area comprise plurality base station configure charge lawn mower determine charge lawn mower view current charge level current location lawn mower, energy efficient lawn mower present disclosure relate lawn mower control unit adapt use lawn mower comprise main processing unit adapt cause control unit control operation lawn mower include limit control environment detection device propulsion lawn mower control unit comprise separate auxiliary processing unit dedicate perform recognition classification object mean datum acquire mean environment detection device, automatic lawn mower path planning method system device thereof mower path planning method system device provide method include control mower exit charge station control mower find boundary wire guide wire boundary wire pre lay edge work area mower guidance line lay work area mower control mower follow boundary wire guide wire reach predetermine position disclosure track generate mower exit charge station fix path avoid damage lawn vegetation reduce]</td>\n",
       "    </tr>\n",
       "    <tr>\n",
       "      <th>13</th>\n",
       "      <td>12</td>\n",
       "      <td>34</td>\n",
       "      <td>12_laser_beam_optical_projektor</td>\n",
       "      <td>[laser, beam, optical, projektor, rolling, projektion, führungsroboter, laserstrahl, intersection, head]</td>\n",
       "      <td>[verfahren laser optisches roboterarbeitsplatz erfindung betreffen verfahren laser optisch erfassungssystem aufweisend laser projektor kamera steuervorrichtung ausbilden einrichten laser projektor kamera ansteuern merkmal objekt bestimmen sensoreinrichtung steuervorrichtung einrichten abhängigkeit sensoreinrich tung erhalten charakterisierend signal annäherung anwesenheit person kritisch räumlich nähe laser projektor belichtungsparameter kamera abhängigkeit reduziert maximal bestrahlungsstärke laser projektor momentan bestrahlungsstärke laser projektor anpassen erfindung betreffen roboterarbeitsplatz laser optisch erfassungssystem, laser module end effector device laser module include laser source air knife laser source configure couple arm device emit laser beam process workpiece surface air knife configure couple arm discharge airflow sheet direction laser spot laser beam impinge workpiece surface clearing contaminant generate impingement laser beam, laser processing device method adjust focal position laser beam laser processing device include laser oscillator generate laser beam laser head irradiate workpiece laser beam manipulator laser head mount manipulator include arm tip shaft provide tip arm manner rotatable axis connector component connect arm tip shaft laser head connector component provide gauge attachment portion gauge attach gauge reference point correspond focal position laser beam]</td>\n",
       "    </tr>\n",
       "    <tr>\n",
       "      <th>14</th>\n",
       "      <td>13</td>\n",
       "      <td>29</td>\n",
       "      <td>13_finger_assembly_gripper_grip</td>\n",
       "      <td>[finger, assembly, gripper, grip, second, shaft, ball, manipulator, phalanx, pin]</td>\n",
       "      <td>[finger sub assembly manipulator present disclosure relate finger sub assembly gripper assembly manipulator finger sub assembly comprise base unit connectable gripper assembly mount high friction pad contact article manipulation high friction pad secure base unit, gripper assembly manipulator disclosure concern ascertain force apply finger element gripper assembly manipulator manipulation object aspect disclose gripper assembly comprise finger element actuator linkage assembly comprise plurality arm connect finger element actuator sensor assembly configure output signal indicative force component apply plurality arm result force apply finger element, improvement relate gripper comprise finger member connect mount assembly linear coupling rotational coupling gripper comprise drive assembly control linear position finger relative mount assembly linear coupling angular orientation finger relative mount assembly rotational coupling gripper comprise second finger member relative finger member control gripper control grip target object clamp force second finger member connect mount assembly second linear coupling second rotational coupling drive assembly configure control linear]</td>\n",
       "    </tr>\n",
       "    <tr>\n",
       "      <th>15</th>\n",
       "      <td>14</td>\n",
       "      <td>28</td>\n",
       "      <td>14_paint_head_nozzle_painting</td>\n",
       "      <td>[paint, head, nozzle, painting, coat, coating, material, supply, printhead, pressure]</td>\n",
       "      <td>[painting accord present invention possible provide painting capable reduce influence pressure fluctuation paint discharge stop painting comprise arm paint head unit attach tip paint supply mechanism provide arm paint head unit control unit paint supply mechanism include paint circulation channel paint transfer mean regulate valve provide middle paint circulation channel control unit equip feedback control unit calculate pressure calculation value execute feedback control operation control object feedforward control unit control operation control object compensate, painting present application provide painting prevent introduction air nozzle paint color change paint filling paint prevent acceleration wear pump remove dissolve gas paint painting include paint supply path connect paint supply nozzle head return flow path configure recover paint discharge nozzle filter configure remove foreign matter paint second filter configure separate dissolve gas paint discharge nozzle head control unit open valve circulate paint bypass flow path return flow path connect location upstream second filter paint supply path paint circulate, coating machine inkjet coating machine provide prevent component paint precipitate inkjet coating machine include arm chuck end nozzle head unit mount chuck nozzle head unit include nozzle head nozzle spray paint nozzle control unit control driving nozzle head circulation path enable paint circulate nozzle head nozzle control unit head circulation path configure coat machine include hold unit hold nozzle head unit standby head replacement unit replace nozzle head unit]</td>\n",
       "    </tr>\n",
       "  </tbody>\n",
       "</table>\n",
       "</div>"
      ]
     },
     "execution_count": 33,
     "metadata": {},
     "output_type": "execute_result"
    }
   ],
   "execution_count": 33
  },
  {
   "cell_type": "code",
   "metadata": {
    "ExecuteTime": {
     "end_time": "2024-05-18T14:25:25.201625Z",
     "start_time": "2024-05-18T14:25:25.187005Z"
    }
   },
   "source": [
    "freq = topic_model.get_topic_info(); freq.head(2)"
   ],
   "outputs": [
    {
     "data": {
      "text/plain": [
       "   Topic  Count                                      Name  \\\n",
       "0     -1   1424         -1_device_system_comprise_control   \n",
       "1      0   2012  0_verfahren_umfassen_aufweisen_erfindung   \n",
       "\n",
       "                                                                                                Representation  \\\n",
       "0                          [device, system, comprise, control, arm, include, method, drive, configure, second]   \n",
       "1  [verfahren, umfassen, aufweisen, erfindung, roboterarm, objekt, betreffen, mehrere, werkstück, vorrichtung]   \n",
       "\n",
       "                                                                                                                                                                                                                                                                                                                                                                                                                                                                                                                                                                                                                                                                                                                                                                                                                                                                                                                                                                                                                                                                                                                                                                                                                                                                                                                                                                                                                                                                                                                                                                                                                                                                                      Representative_Docs  \n",
       "0  [support device present disclosure relate support device capable support object appropriate support force support device include elastic body come contact support object surface elastic body surface plurality curvature different detection unit detect information shear force portion surface elastic body portion contact object present disclosure apply example support device grip device electronic device support system grip system like, method apparatus system controlling control device embodiment present disclosure provide control method apparatus system control device method include determine storage position temporary storage shelve unit user perform operation control operation accord storage position temporary storage shelve unit user perform operation avoid perform operation storage position user accord control method apparatus system control device provide embodiment present disclosure case come contact user reduce injury cause user extent improve operation safety addition good sort selection efficiency ensure, system parallel link mechanism control method control device program system accord embodiment include arm mechanism articulate parallel link mechanism end effector detector control device parallel link mechanism include fix mount distal arm mechanism movable mount fix multiple parallel link movable respect fix end effector mount movable detector provide detect position orientation control point control device control arm mechanism parallel link mechanism control device perform operation set posture control point posture second operation set posture control point task posture end effector perform task]  \n",
       "1                                                                   [modulares robotersystem verfahren transportieren objektes erfindung betreffen modular robotersystem transportieren objekt umfassend autonom robotereinheit antrieb verbindungsmittel verbinden objekt aufweisen autonom robotereinheit koppelmittel aufweisen autonom robotereinheit koppeln robotersystem einheit ausbilden steuereinrichtung einrichten robotereinheit transportieren objekt ansteuern regeln bezug ausgebildet robotersystem einheit ausbilden lösen kopplung robotereinheit ausbilden lösen verbindung, verfahren aufnehmen objekt robotervorrichtung verschieden ausführungsform verfahren aufnehmen objekt robotervorrichtung beschreiben aufweisend beschaffen tiefenbild objekt ermitteln mehrere punkt objekt wert maß streuung oberfläche normalenvektor bereich punkt objekt zuführen ermittelt wert neuronal netzwerk einrichten reaktion eingabe streuungsmaßwert enthalten angabe objektstellen aufnehmen ausgeben ermittel stelle objekt aufnehmen objekt ausgabe neuronal netzwerk reaktion zufuhr ermittelt wert ausgeben steuer robotervorrichtung aufnehmen objekt ermittelt stelle, werkzeugmaschine folgend umfassen werkzeugstütze konfigurieren mehrere werkzeug halten richtung achse parallel achse orthogonal linear bewegen werkstückspindelvorrichtung konfigurieren werkstück achse parallel achse drehbar zustand halten werkstückspindelvorrichtung werkstückspindel umfassen undein maschine bearbeitungskammer installieren mehrere gelenk mehrere verbindung verbinden gelenk umfassen mehrere gelenk maschine umfassen basisgelenk achse parallel achse drehen unddrei parallele]  "
      ],
      "text/html": [
       "<div>\n",
       "<style scoped>\n",
       "    .dataframe tbody tr th:only-of-type {\n",
       "        vertical-align: middle;\n",
       "    }\n",
       "\n",
       "    .dataframe tbody tr th {\n",
       "        vertical-align: top;\n",
       "    }\n",
       "\n",
       "    .dataframe thead th {\n",
       "        text-align: right;\n",
       "    }\n",
       "</style>\n",
       "<table border=\"1\" class=\"dataframe\">\n",
       "  <thead>\n",
       "    <tr style=\"text-align: right;\">\n",
       "      <th></th>\n",
       "      <th>Topic</th>\n",
       "      <th>Count</th>\n",
       "      <th>Name</th>\n",
       "      <th>Representation</th>\n",
       "      <th>Representative_Docs</th>\n",
       "    </tr>\n",
       "  </thead>\n",
       "  <tbody>\n",
       "    <tr>\n",
       "      <th>0</th>\n",
       "      <td>-1</td>\n",
       "      <td>1424</td>\n",
       "      <td>-1_device_system_comprise_control</td>\n",
       "      <td>[device, system, comprise, control, arm, include, method, drive, configure, second]</td>\n",
       "      <td>[support device present disclosure relate support device capable support object appropriate support force support device include elastic body come contact support object surface elastic body surface plurality curvature different detection unit detect information shear force portion surface elastic body portion contact object present disclosure apply example support device grip device electronic device support system grip system like, method apparatus system controlling control device embodiment present disclosure provide control method apparatus system control device method include determine storage position temporary storage shelve unit user perform operation control operation accord storage position temporary storage shelve unit user perform operation avoid perform operation storage position user accord control method apparatus system control device provide embodiment present disclosure case come contact user reduce injury cause user extent improve operation safety addition good sort selection efficiency ensure, system parallel link mechanism control method control device program system accord embodiment include arm mechanism articulate parallel link mechanism end effector detector control device parallel link mechanism include fix mount distal arm mechanism movable mount fix multiple parallel link movable respect fix end effector mount movable detector provide detect position orientation control point control device control arm mechanism parallel link mechanism control device perform operation set posture control point posture second operation set posture control point task posture end effector perform task]</td>\n",
       "    </tr>\n",
       "    <tr>\n",
       "      <th>1</th>\n",
       "      <td>0</td>\n",
       "      <td>2012</td>\n",
       "      <td>0_verfahren_umfassen_aufweisen_erfindung</td>\n",
       "      <td>[verfahren, umfassen, aufweisen, erfindung, roboterarm, objekt, betreffen, mehrere, werkstück, vorrichtung]</td>\n",
       "      <td>[modulares robotersystem verfahren transportieren objektes erfindung betreffen modular robotersystem transportieren objekt umfassend autonom robotereinheit antrieb verbindungsmittel verbinden objekt aufweisen autonom robotereinheit koppelmittel aufweisen autonom robotereinheit koppeln robotersystem einheit ausbilden steuereinrichtung einrichten robotereinheit transportieren objekt ansteuern regeln bezug ausgebildet robotersystem einheit ausbilden lösen kopplung robotereinheit ausbilden lösen verbindung, verfahren aufnehmen objekt robotervorrichtung verschieden ausführungsform verfahren aufnehmen objekt robotervorrichtung beschreiben aufweisend beschaffen tiefenbild objekt ermitteln mehrere punkt objekt wert maß streuung oberfläche normalenvektor bereich punkt objekt zuführen ermittelt wert neuronal netzwerk einrichten reaktion eingabe streuungsmaßwert enthalten angabe objektstellen aufnehmen ausgeben ermittel stelle objekt aufnehmen objekt ausgabe neuronal netzwerk reaktion zufuhr ermittelt wert ausgeben steuer robotervorrichtung aufnehmen objekt ermittelt stelle, werkzeugmaschine folgend umfassen werkzeugstütze konfigurieren mehrere werkzeug halten richtung achse parallel achse orthogonal linear bewegen werkstückspindelvorrichtung konfigurieren werkstück achse parallel achse drehbar zustand halten werkstückspindelvorrichtung werkstückspindel umfassen undein maschine bearbeitungskammer installieren mehrere gelenk mehrere verbindung verbinden gelenk umfassen mehrere gelenk maschine umfassen basisgelenk achse parallel achse drehen unddrei parallele]</td>\n",
       "    </tr>\n",
       "  </tbody>\n",
       "</table>\n",
       "</div>"
      ]
     },
     "execution_count": 34,
     "metadata": {},
     "output_type": "execute_result"
    }
   ],
   "execution_count": 34
  },
  {
   "cell_type": "code",
   "metadata": {
    "ExecuteTime": {
     "end_time": "2024-05-18T14:25:25.216626Z",
     "start_time": "2024-05-18T14:25:25.202629Z"
    }
   },
   "source": [
    "topic_model.get_topic(5)"
   ],
   "outputs": [
    {
     "data": {
      "text/plain": [
       "[('surgical', 0.17789408148680047),\n",
       " ('instrument', 0.06819276019062673),\n",
       " ('arm', 0.06805990478135215),\n",
       " ('system', 0.0667827105855359),\n",
       " ('control', 0.05114545961777765),\n",
       " ('surgery', 0.048464799721136986),\n",
       " ('configure', 0.03973276439516999),\n",
       " ('comprise', 0.038955723961841465),\n",
       " ('tool', 0.03669766459371049),\n",
       " ('patient', 0.034372098406115395)]"
      ]
     },
     "execution_count": 35,
     "metadata": {},
     "output_type": "execute_result"
    }
   ],
   "execution_count": 35
  },
  {
   "cell_type": "code",
   "metadata": {
    "ExecuteTime": {
     "end_time": "2024-05-18T14:25:25.623104Z",
     "start_time": "2024-05-18T14:25:25.217626Z"
    }
   },
   "source": [
    "fig = topic_model.visualize_topics(); fig"
   ],
   "outputs": [
    {
     "data": {
      "application/vnd.plotly.v1+json": {
       "data": [
        {
         "customdata": [
          [
           0,
           "verfahren | umfassen | aufweisen | erfindung | roboterarm",
           2012
          ],
          [
           1,
           "method | control | datum | system | information",
           923
          ],
          [
           2,
           "container | storage | system | grid | comprise",
           265
          ],
          [
           3,
           "surgical | instrument | end | drive | interface",
           154
          ],
          [
           4,
           "cleaning | clean | cleaner | vacuum | dust",
           150
          ],
          [
           5,
           "surgical | instrument | arm | system | control",
           113
          ],
          [
           6,
           "food | küchenmaschine | cooking | processor | küchengerät",
           74
          ],
          [
           7,
           "second | axis | joint | member | gear",
           70
          ],
          [
           8,
           "reinigungsroboter | reinigung | saugroboter | reinigen | erfindung",
           68
          ],
          [
           9,
           "battery | charge | electric | vehicle | power",
           40
          ],
          [
           10,
           "cleaning | clean | area | cleaner | perimeter",
           39
          ],
          [
           11,
           "crop | mower | lawn | agricultural | work",
           35
          ],
          [
           12,
           "laser | beam | optical | projektor | rolling",
           34
          ],
          [
           13,
           "finger | assembly | gripper | grip | second",
           29
          ],
          [
           14,
           "paint | head | nozzle | painting | coat",
           28
          ]
         ],
         "hovertemplate": "<b>Topic %{customdata[0]}</b><br>%{customdata[1]}<br>Size: %{customdata[2]}",
         "legendgroup": "",
         "marker": {
          "color": "#B0BEC5",
          "size": [
           2012,
           923,
           265,
           154,
           150,
           113,
           74,
           70,
           68,
           40,
           39,
           35,
           34,
           29,
           28
          ],
          "sizemode": "area",
          "sizeref": 1.2575,
          "symbol": "circle",
          "line": {
           "color": "DarkSlateGrey",
           "width": 2
          }
         },
         "mode": "markers",
         "name": "",
         "orientation": "v",
         "showlegend": false,
         "x": [
          14.091886520385742,
          14.783180236816406,
          15.01402759552002,
          6.987566947937012,
          6.327954292297363,
          7.209515571594238,
          14.207486152648926,
          -1.859413504600525,
          6.771051406860352,
          14.863110542297363,
          6.515615463256836,
          14.986557006835938,
          13.697415351867676,
          -1.7874594926834106,
          15.441581726074219
         ],
         "xaxis": "x",
         "y": [
          22.81621551513672,
          22.068099975585938,
          21.438806533813477,
          -9.19853687286377,
          -1.389708399772644,
          -8.976216316223145,
          23.17823028564453,
          5.7177252769470215,
          -0.9571042656898499,
          21.137773513793945,
          -1.2018864154815674,
          22.560110092163086,
          22.72140121459961,
          5.645789623260498,
          22.284822463989258
         ],
         "yaxis": "y",
         "type": "scatter"
        }
       ],
       "layout": {
        "template": {
         "data": {
          "barpolar": [
           {
            "marker": {
             "line": {
              "color": "white",
              "width": 0.5
             },
             "pattern": {
              "fillmode": "overlay",
              "size": 10,
              "solidity": 0.2
             }
            },
            "type": "barpolar"
           }
          ],
          "bar": [
           {
            "error_x": {
             "color": "rgb(36,36,36)"
            },
            "error_y": {
             "color": "rgb(36,36,36)"
            },
            "marker": {
             "line": {
              "color": "white",
              "width": 0.5
             },
             "pattern": {
              "fillmode": "overlay",
              "size": 10,
              "solidity": 0.2
             }
            },
            "type": "bar"
           }
          ],
          "carpet": [
           {
            "aaxis": {
             "endlinecolor": "rgb(36,36,36)",
             "gridcolor": "white",
             "linecolor": "white",
             "minorgridcolor": "white",
             "startlinecolor": "rgb(36,36,36)"
            },
            "baxis": {
             "endlinecolor": "rgb(36,36,36)",
             "gridcolor": "white",
             "linecolor": "white",
             "minorgridcolor": "white",
             "startlinecolor": "rgb(36,36,36)"
            },
            "type": "carpet"
           }
          ],
          "choropleth": [
           {
            "colorbar": {
             "outlinewidth": 1,
             "tickcolor": "rgb(36,36,36)",
             "ticks": "outside"
            },
            "type": "choropleth"
           }
          ],
          "contourcarpet": [
           {
            "colorbar": {
             "outlinewidth": 1,
             "tickcolor": "rgb(36,36,36)",
             "ticks": "outside"
            },
            "type": "contourcarpet"
           }
          ],
          "contour": [
           {
            "colorbar": {
             "outlinewidth": 1,
             "tickcolor": "rgb(36,36,36)",
             "ticks": "outside"
            },
            "colorscale": [
             [
              0.0,
              "#440154"
             ],
             [
              0.1111111111111111,
              "#482878"
             ],
             [
              0.2222222222222222,
              "#3e4989"
             ],
             [
              0.3333333333333333,
              "#31688e"
             ],
             [
              0.4444444444444444,
              "#26828e"
             ],
             [
              0.5555555555555556,
              "#1f9e89"
             ],
             [
              0.6666666666666666,
              "#35b779"
             ],
             [
              0.7777777777777778,
              "#6ece58"
             ],
             [
              0.8888888888888888,
              "#b5de2b"
             ],
             [
              1.0,
              "#fde725"
             ]
            ],
            "type": "contour"
           }
          ],
          "heatmapgl": [
           {
            "colorbar": {
             "outlinewidth": 1,
             "tickcolor": "rgb(36,36,36)",
             "ticks": "outside"
            },
            "colorscale": [
             [
              0.0,
              "#440154"
             ],
             [
              0.1111111111111111,
              "#482878"
             ],
             [
              0.2222222222222222,
              "#3e4989"
             ],
             [
              0.3333333333333333,
              "#31688e"
             ],
             [
              0.4444444444444444,
              "#26828e"
             ],
             [
              0.5555555555555556,
              "#1f9e89"
             ],
             [
              0.6666666666666666,
              "#35b779"
             ],
             [
              0.7777777777777778,
              "#6ece58"
             ],
             [
              0.8888888888888888,
              "#b5de2b"
             ],
             [
              1.0,
              "#fde725"
             ]
            ],
            "type": "heatmapgl"
           }
          ],
          "heatmap": [
           {
            "colorbar": {
             "outlinewidth": 1,
             "tickcolor": "rgb(36,36,36)",
             "ticks": "outside"
            },
            "colorscale": [
             [
              0.0,
              "#440154"
             ],
             [
              0.1111111111111111,
              "#482878"
             ],
             [
              0.2222222222222222,
              "#3e4989"
             ],
             [
              0.3333333333333333,
              "#31688e"
             ],
             [
              0.4444444444444444,
              "#26828e"
             ],
             [
              0.5555555555555556,
              "#1f9e89"
             ],
             [
              0.6666666666666666,
              "#35b779"
             ],
             [
              0.7777777777777778,
              "#6ece58"
             ],
             [
              0.8888888888888888,
              "#b5de2b"
             ],
             [
              1.0,
              "#fde725"
             ]
            ],
            "type": "heatmap"
           }
          ],
          "histogram2dcontour": [
           {
            "colorbar": {
             "outlinewidth": 1,
             "tickcolor": "rgb(36,36,36)",
             "ticks": "outside"
            },
            "colorscale": [
             [
              0.0,
              "#440154"
             ],
             [
              0.1111111111111111,
              "#482878"
             ],
             [
              0.2222222222222222,
              "#3e4989"
             ],
             [
              0.3333333333333333,
              "#31688e"
             ],
             [
              0.4444444444444444,
              "#26828e"
             ],
             [
              0.5555555555555556,
              "#1f9e89"
             ],
             [
              0.6666666666666666,
              "#35b779"
             ],
             [
              0.7777777777777778,
              "#6ece58"
             ],
             [
              0.8888888888888888,
              "#b5de2b"
             ],
             [
              1.0,
              "#fde725"
             ]
            ],
            "type": "histogram2dcontour"
           }
          ],
          "histogram2d": [
           {
            "colorbar": {
             "outlinewidth": 1,
             "tickcolor": "rgb(36,36,36)",
             "ticks": "outside"
            },
            "colorscale": [
             [
              0.0,
              "#440154"
             ],
             [
              0.1111111111111111,
              "#482878"
             ],
             [
              0.2222222222222222,
              "#3e4989"
             ],
             [
              0.3333333333333333,
              "#31688e"
             ],
             [
              0.4444444444444444,
              "#26828e"
             ],
             [
              0.5555555555555556,
              "#1f9e89"
             ],
             [
              0.6666666666666666,
              "#35b779"
             ],
             [
              0.7777777777777778,
              "#6ece58"
             ],
             [
              0.8888888888888888,
              "#b5de2b"
             ],
             [
              1.0,
              "#fde725"
             ]
            ],
            "type": "histogram2d"
           }
          ],
          "histogram": [
           {
            "marker": {
             "line": {
              "color": "white",
              "width": 0.6
             }
            },
            "type": "histogram"
           }
          ],
          "mesh3d": [
           {
            "colorbar": {
             "outlinewidth": 1,
             "tickcolor": "rgb(36,36,36)",
             "ticks": "outside"
            },
            "type": "mesh3d"
           }
          ],
          "parcoords": [
           {
            "line": {
             "colorbar": {
              "outlinewidth": 1,
              "tickcolor": "rgb(36,36,36)",
              "ticks": "outside"
             }
            },
            "type": "parcoords"
           }
          ],
          "pie": [
           {
            "automargin": true,
            "type": "pie"
           }
          ],
          "scatter3d": [
           {
            "line": {
             "colorbar": {
              "outlinewidth": 1,
              "tickcolor": "rgb(36,36,36)",
              "ticks": "outside"
             }
            },
            "marker": {
             "colorbar": {
              "outlinewidth": 1,
              "tickcolor": "rgb(36,36,36)",
              "ticks": "outside"
             }
            },
            "type": "scatter3d"
           }
          ],
          "scattercarpet": [
           {
            "marker": {
             "colorbar": {
              "outlinewidth": 1,
              "tickcolor": "rgb(36,36,36)",
              "ticks": "outside"
             }
            },
            "type": "scattercarpet"
           }
          ],
          "scattergeo": [
           {
            "marker": {
             "colorbar": {
              "outlinewidth": 1,
              "tickcolor": "rgb(36,36,36)",
              "ticks": "outside"
             }
            },
            "type": "scattergeo"
           }
          ],
          "scattergl": [
           {
            "marker": {
             "colorbar": {
              "outlinewidth": 1,
              "tickcolor": "rgb(36,36,36)",
              "ticks": "outside"
             }
            },
            "type": "scattergl"
           }
          ],
          "scattermapbox": [
           {
            "marker": {
             "colorbar": {
              "outlinewidth": 1,
              "tickcolor": "rgb(36,36,36)",
              "ticks": "outside"
             }
            },
            "type": "scattermapbox"
           }
          ],
          "scatterpolargl": [
           {
            "marker": {
             "colorbar": {
              "outlinewidth": 1,
              "tickcolor": "rgb(36,36,36)",
              "ticks": "outside"
             }
            },
            "type": "scatterpolargl"
           }
          ],
          "scatterpolar": [
           {
            "marker": {
             "colorbar": {
              "outlinewidth": 1,
              "tickcolor": "rgb(36,36,36)",
              "ticks": "outside"
             }
            },
            "type": "scatterpolar"
           }
          ],
          "scatter": [
           {
            "fillpattern": {
             "fillmode": "overlay",
             "size": 10,
             "solidity": 0.2
            },
            "type": "scatter"
           }
          ],
          "scatterternary": [
           {
            "marker": {
             "colorbar": {
              "outlinewidth": 1,
              "tickcolor": "rgb(36,36,36)",
              "ticks": "outside"
             }
            },
            "type": "scatterternary"
           }
          ],
          "surface": [
           {
            "colorbar": {
             "outlinewidth": 1,
             "tickcolor": "rgb(36,36,36)",
             "ticks": "outside"
            },
            "colorscale": [
             [
              0.0,
              "#440154"
             ],
             [
              0.1111111111111111,
              "#482878"
             ],
             [
              0.2222222222222222,
              "#3e4989"
             ],
             [
              0.3333333333333333,
              "#31688e"
             ],
             [
              0.4444444444444444,
              "#26828e"
             ],
             [
              0.5555555555555556,
              "#1f9e89"
             ],
             [
              0.6666666666666666,
              "#35b779"
             ],
             [
              0.7777777777777778,
              "#6ece58"
             ],
             [
              0.8888888888888888,
              "#b5de2b"
             ],
             [
              1.0,
              "#fde725"
             ]
            ],
            "type": "surface"
           }
          ],
          "table": [
           {
            "cells": {
             "fill": {
              "color": "rgb(237,237,237)"
             },
             "line": {
              "color": "white"
             }
            },
            "header": {
             "fill": {
              "color": "rgb(217,217,217)"
             },
             "line": {
              "color": "white"
             }
            },
            "type": "table"
           }
          ]
         },
         "layout": {
          "annotationdefaults": {
           "arrowhead": 0,
           "arrowwidth": 1
          },
          "autotypenumbers": "strict",
          "coloraxis": {
           "colorbar": {
            "outlinewidth": 1,
            "tickcolor": "rgb(36,36,36)",
            "ticks": "outside"
           }
          },
          "colorscale": {
           "diverging": [
            [
             0.0,
             "rgb(103,0,31)"
            ],
            [
             0.1,
             "rgb(178,24,43)"
            ],
            [
             0.2,
             "rgb(214,96,77)"
            ],
            [
             0.3,
             "rgb(244,165,130)"
            ],
            [
             0.4,
             "rgb(253,219,199)"
            ],
            [
             0.5,
             "rgb(247,247,247)"
            ],
            [
             0.6,
             "rgb(209,229,240)"
            ],
            [
             0.7,
             "rgb(146,197,222)"
            ],
            [
             0.8,
             "rgb(67,147,195)"
            ],
            [
             0.9,
             "rgb(33,102,172)"
            ],
            [
             1.0,
             "rgb(5,48,97)"
            ]
           ],
           "sequential": [
            [
             0.0,
             "#440154"
            ],
            [
             0.1111111111111111,
             "#482878"
            ],
            [
             0.2222222222222222,
             "#3e4989"
            ],
            [
             0.3333333333333333,
             "#31688e"
            ],
            [
             0.4444444444444444,
             "#26828e"
            ],
            [
             0.5555555555555556,
             "#1f9e89"
            ],
            [
             0.6666666666666666,
             "#35b779"
            ],
            [
             0.7777777777777778,
             "#6ece58"
            ],
            [
             0.8888888888888888,
             "#b5de2b"
            ],
            [
             1.0,
             "#fde725"
            ]
           ],
           "sequentialminus": [
            [
             0.0,
             "#440154"
            ],
            [
             0.1111111111111111,
             "#482878"
            ],
            [
             0.2222222222222222,
             "#3e4989"
            ],
            [
             0.3333333333333333,
             "#31688e"
            ],
            [
             0.4444444444444444,
             "#26828e"
            ],
            [
             0.5555555555555556,
             "#1f9e89"
            ],
            [
             0.6666666666666666,
             "#35b779"
            ],
            [
             0.7777777777777778,
             "#6ece58"
            ],
            [
             0.8888888888888888,
             "#b5de2b"
            ],
            [
             1.0,
             "#fde725"
            ]
           ]
          },
          "colorway": [
           "#1F77B4",
           "#FF7F0E",
           "#2CA02C",
           "#D62728",
           "#9467BD",
           "#8C564B",
           "#E377C2",
           "#7F7F7F",
           "#BCBD22",
           "#17BECF"
          ],
          "font": {
           "color": "rgb(36,36,36)"
          },
          "geo": {
           "bgcolor": "white",
           "lakecolor": "white",
           "landcolor": "white",
           "showlakes": true,
           "showland": true,
           "subunitcolor": "white"
          },
          "hoverlabel": {
           "align": "left"
          },
          "hovermode": "closest",
          "mapbox": {
           "style": "light"
          },
          "paper_bgcolor": "white",
          "plot_bgcolor": "white",
          "polar": {
           "angularaxis": {
            "gridcolor": "rgb(232,232,232)",
            "linecolor": "rgb(36,36,36)",
            "showgrid": false,
            "showline": true,
            "ticks": "outside"
           },
           "bgcolor": "white",
           "radialaxis": {
            "gridcolor": "rgb(232,232,232)",
            "linecolor": "rgb(36,36,36)",
            "showgrid": false,
            "showline": true,
            "ticks": "outside"
           }
          },
          "scene": {
           "xaxis": {
            "backgroundcolor": "white",
            "gridcolor": "rgb(232,232,232)",
            "gridwidth": 2,
            "linecolor": "rgb(36,36,36)",
            "showbackground": true,
            "showgrid": false,
            "showline": true,
            "ticks": "outside",
            "zeroline": false,
            "zerolinecolor": "rgb(36,36,36)"
           },
           "yaxis": {
            "backgroundcolor": "white",
            "gridcolor": "rgb(232,232,232)",
            "gridwidth": 2,
            "linecolor": "rgb(36,36,36)",
            "showbackground": true,
            "showgrid": false,
            "showline": true,
            "ticks": "outside",
            "zeroline": false,
            "zerolinecolor": "rgb(36,36,36)"
           },
           "zaxis": {
            "backgroundcolor": "white",
            "gridcolor": "rgb(232,232,232)",
            "gridwidth": 2,
            "linecolor": "rgb(36,36,36)",
            "showbackground": true,
            "showgrid": false,
            "showline": true,
            "ticks": "outside",
            "zeroline": false,
            "zerolinecolor": "rgb(36,36,36)"
           }
          },
          "shapedefaults": {
           "fillcolor": "black",
           "line": {
            "width": 0
           },
           "opacity": 0.3
          },
          "ternary": {
           "aaxis": {
            "gridcolor": "rgb(232,232,232)",
            "linecolor": "rgb(36,36,36)",
            "showgrid": false,
            "showline": true,
            "ticks": "outside"
           },
           "baxis": {
            "gridcolor": "rgb(232,232,232)",
            "linecolor": "rgb(36,36,36)",
            "showgrid": false,
            "showline": true,
            "ticks": "outside"
           },
           "bgcolor": "white",
           "caxis": {
            "gridcolor": "rgb(232,232,232)",
            "linecolor": "rgb(36,36,36)",
            "showgrid": false,
            "showline": true,
            "ticks": "outside"
           }
          },
          "title": {
           "x": 0.05
          },
          "xaxis": {
           "automargin": true,
           "gridcolor": "rgb(232,232,232)",
           "linecolor": "rgb(36,36,36)",
           "showgrid": false,
           "showline": true,
           "ticks": "outside",
           "title": {
            "standoff": 15
           },
           "zeroline": false,
           "zerolinecolor": "rgb(36,36,36)"
          },
          "yaxis": {
           "automargin": true,
           "gridcolor": "rgb(232,232,232)",
           "linecolor": "rgb(36,36,36)",
           "showgrid": false,
           "showline": true,
           "ticks": "outside",
           "title": {
            "standoff": 15
           },
           "zeroline": false,
           "zerolinecolor": "rgb(36,36,36)"
          }
         }
        },
        "xaxis": {
         "anchor": "y",
         "domain": [
          0.0,
          1.0
         ],
         "title": {
          "text": ""
         },
         "visible": false,
         "range": [
          -2.1383255302906035,
          17.757818984985352
         ]
        },
        "yaxis": {
         "anchor": "x",
         "domain": [
          0.0,
          1.0
         ],
         "title": {
          "text": ""
         },
         "visible": false,
         "range": [
          -10.578317403793335,
          26.65496482849121
         ]
        },
        "legend": {
         "tracegroupgap": 0,
         "itemsizing": "constant"
        },
        "margin": {
         "t": 60
        },
        "title": {
         "font": {
          "size": 22,
          "color": "Black"
         },
         "text": "<b>Intertopic Distance Map</b>",
         "y": 0.95,
         "x": 0.5,
         "xanchor": "center",
         "yanchor": "top"
        },
        "hoverlabel": {
         "font": {
          "size": 16,
          "family": "Rockwell"
         },
         "bgcolor": "white"
        },
        "width": 650,
        "height": 650,
        "sliders": [
         {
          "active": 0,
          "pad": {
           "t": 50
          },
          "steps": [
           {
            "args": [
             {
              "marker.color": [
               [
                "red",
                "#B0BEC5",
                "#B0BEC5",
                "#B0BEC5",
                "#B0BEC5",
                "#B0BEC5",
                "#B0BEC5",
                "#B0BEC5",
                "#B0BEC5",
                "#B0BEC5",
                "#B0BEC5",
                "#B0BEC5",
                "#B0BEC5",
                "#B0BEC5",
                "#B0BEC5"
               ]
              ]
             }
            ],
            "label": "Topic 0",
            "method": "update"
           },
           {
            "args": [
             {
              "marker.color": [
               [
                "#B0BEC5",
                "red",
                "#B0BEC5",
                "#B0BEC5",
                "#B0BEC5",
                "#B0BEC5",
                "#B0BEC5",
                "#B0BEC5",
                "#B0BEC5",
                "#B0BEC5",
                "#B0BEC5",
                "#B0BEC5",
                "#B0BEC5",
                "#B0BEC5",
                "#B0BEC5"
               ]
              ]
             }
            ],
            "label": "Topic 1",
            "method": "update"
           },
           {
            "args": [
             {
              "marker.color": [
               [
                "#B0BEC5",
                "#B0BEC5",
                "red",
                "#B0BEC5",
                "#B0BEC5",
                "#B0BEC5",
                "#B0BEC5",
                "#B0BEC5",
                "#B0BEC5",
                "#B0BEC5",
                "#B0BEC5",
                "#B0BEC5",
                "#B0BEC5",
                "#B0BEC5",
                "#B0BEC5"
               ]
              ]
             }
            ],
            "label": "Topic 2",
            "method": "update"
           },
           {
            "args": [
             {
              "marker.color": [
               [
                "#B0BEC5",
                "#B0BEC5",
                "#B0BEC5",
                "red",
                "#B0BEC5",
                "#B0BEC5",
                "#B0BEC5",
                "#B0BEC5",
                "#B0BEC5",
                "#B0BEC5",
                "#B0BEC5",
                "#B0BEC5",
                "#B0BEC5",
                "#B0BEC5",
                "#B0BEC5"
               ]
              ]
             }
            ],
            "label": "Topic 3",
            "method": "update"
           },
           {
            "args": [
             {
              "marker.color": [
               [
                "#B0BEC5",
                "#B0BEC5",
                "#B0BEC5",
                "#B0BEC5",
                "red",
                "#B0BEC5",
                "#B0BEC5",
                "#B0BEC5",
                "#B0BEC5",
                "#B0BEC5",
                "#B0BEC5",
                "#B0BEC5",
                "#B0BEC5",
                "#B0BEC5",
                "#B0BEC5"
               ]
              ]
             }
            ],
            "label": "Topic 4",
            "method": "update"
           },
           {
            "args": [
             {
              "marker.color": [
               [
                "#B0BEC5",
                "#B0BEC5",
                "#B0BEC5",
                "#B0BEC5",
                "#B0BEC5",
                "red",
                "#B0BEC5",
                "#B0BEC5",
                "#B0BEC5",
                "#B0BEC5",
                "#B0BEC5",
                "#B0BEC5",
                "#B0BEC5",
                "#B0BEC5",
                "#B0BEC5"
               ]
              ]
             }
            ],
            "label": "Topic 5",
            "method": "update"
           },
           {
            "args": [
             {
              "marker.color": [
               [
                "#B0BEC5",
                "#B0BEC5",
                "#B0BEC5",
                "#B0BEC5",
                "#B0BEC5",
                "#B0BEC5",
                "red",
                "#B0BEC5",
                "#B0BEC5",
                "#B0BEC5",
                "#B0BEC5",
                "#B0BEC5",
                "#B0BEC5",
                "#B0BEC5",
                "#B0BEC5"
               ]
              ]
             }
            ],
            "label": "Topic 6",
            "method": "update"
           },
           {
            "args": [
             {
              "marker.color": [
               [
                "#B0BEC5",
                "#B0BEC5",
                "#B0BEC5",
                "#B0BEC5",
                "#B0BEC5",
                "#B0BEC5",
                "#B0BEC5",
                "red",
                "#B0BEC5",
                "#B0BEC5",
                "#B0BEC5",
                "#B0BEC5",
                "#B0BEC5",
                "#B0BEC5",
                "#B0BEC5"
               ]
              ]
             }
            ],
            "label": "Topic 7",
            "method": "update"
           },
           {
            "args": [
             {
              "marker.color": [
               [
                "#B0BEC5",
                "#B0BEC5",
                "#B0BEC5",
                "#B0BEC5",
                "#B0BEC5",
                "#B0BEC5",
                "#B0BEC5",
                "#B0BEC5",
                "red",
                "#B0BEC5",
                "#B0BEC5",
                "#B0BEC5",
                "#B0BEC5",
                "#B0BEC5",
                "#B0BEC5"
               ]
              ]
             }
            ],
            "label": "Topic 8",
            "method": "update"
           },
           {
            "args": [
             {
              "marker.color": [
               [
                "#B0BEC5",
                "#B0BEC5",
                "#B0BEC5",
                "#B0BEC5",
                "#B0BEC5",
                "#B0BEC5",
                "#B0BEC5",
                "#B0BEC5",
                "#B0BEC5",
                "red",
                "#B0BEC5",
                "#B0BEC5",
                "#B0BEC5",
                "#B0BEC5",
                "#B0BEC5"
               ]
              ]
             }
            ],
            "label": "Topic 9",
            "method": "update"
           },
           {
            "args": [
             {
              "marker.color": [
               [
                "#B0BEC5",
                "#B0BEC5",
                "#B0BEC5",
                "#B0BEC5",
                "#B0BEC5",
                "#B0BEC5",
                "#B0BEC5",
                "#B0BEC5",
                "#B0BEC5",
                "#B0BEC5",
                "red",
                "#B0BEC5",
                "#B0BEC5",
                "#B0BEC5",
                "#B0BEC5"
               ]
              ]
             }
            ],
            "label": "Topic 10",
            "method": "update"
           },
           {
            "args": [
             {
              "marker.color": [
               [
                "#B0BEC5",
                "#B0BEC5",
                "#B0BEC5",
                "#B0BEC5",
                "#B0BEC5",
                "#B0BEC5",
                "#B0BEC5",
                "#B0BEC5",
                "#B0BEC5",
                "#B0BEC5",
                "#B0BEC5",
                "red",
                "#B0BEC5",
                "#B0BEC5",
                "#B0BEC5"
               ]
              ]
             }
            ],
            "label": "Topic 11",
            "method": "update"
           },
           {
            "args": [
             {
              "marker.color": [
               [
                "#B0BEC5",
                "#B0BEC5",
                "#B0BEC5",
                "#B0BEC5",
                "#B0BEC5",
                "#B0BEC5",
                "#B0BEC5",
                "#B0BEC5",
                "#B0BEC5",
                "#B0BEC5",
                "#B0BEC5",
                "#B0BEC5",
                "red",
                "#B0BEC5",
                "#B0BEC5"
               ]
              ]
             }
            ],
            "label": "Topic 12",
            "method": "update"
           },
           {
            "args": [
             {
              "marker.color": [
               [
                "#B0BEC5",
                "#B0BEC5",
                "#B0BEC5",
                "#B0BEC5",
                "#B0BEC5",
                "#B0BEC5",
                "#B0BEC5",
                "#B0BEC5",
                "#B0BEC5",
                "#B0BEC5",
                "#B0BEC5",
                "#B0BEC5",
                "#B0BEC5",
                "red",
                "#B0BEC5"
               ]
              ]
             }
            ],
            "label": "Topic 13",
            "method": "update"
           },
           {
            "args": [
             {
              "marker.color": [
               [
                "#B0BEC5",
                "#B0BEC5",
                "#B0BEC5",
                "#B0BEC5",
                "#B0BEC5",
                "#B0BEC5",
                "#B0BEC5",
                "#B0BEC5",
                "#B0BEC5",
                "#B0BEC5",
                "#B0BEC5",
                "#B0BEC5",
                "#B0BEC5",
                "#B0BEC5",
                "red"
               ]
              ]
             }
            ],
            "label": "Topic 14",
            "method": "update"
           }
          ]
         }
        ],
        "shapes": [
         {
          "line": {
           "color": "#CFD8DC",
           "width": 2
          },
          "type": "line",
          "x0": 7.809746727347374,
          "x1": 7.809746727347374,
          "y0": -10.578317403793335,
          "y1": 26.65496482849121
         },
         {
          "line": {
           "color": "#9E9E9E",
           "width": 2
          },
          "type": "line",
          "x0": -2.1383255302906035,
          "x1": 17.757818984985352,
          "y0": 8.038323712348937,
          "y1": 8.038323712348937
         }
        ],
        "annotations": [
         {
          "showarrow": false,
          "text": "D1",
          "x": -2.1383255302906035,
          "y": 8.038323712348937,
          "yshift": 10
         },
         {
          "showarrow": false,
          "text": "D2",
          "x": 7.809746727347374,
          "xshift": 10,
          "y": 26.65496482849121
         }
        ]
       },
       "config": {
        "plotlyServerURL": "https://plot.ly"
       }
      },
      "text/html": [
       "<div>                            <div id=\"d224c903-9c9a-445c-b404-ed0d1ae32bf8\" class=\"plotly-graph-div\" style=\"height:650px; width:650px;\"></div>            <script type=\"text/javascript\">                require([\"plotly\"], function(Plotly) {                    window.PLOTLYENV=window.PLOTLYENV || {};                                    if (document.getElementById(\"d224c903-9c9a-445c-b404-ed0d1ae32bf8\")) {                    Plotly.newPlot(                        \"d224c903-9c9a-445c-b404-ed0d1ae32bf8\",                        [{\"customdata\":[[0,\"verfahren | umfassen | aufweisen | erfindung | roboterarm\",2012],[1,\"method | control | datum | system | information\",923],[2,\"container | storage | system | grid | comprise\",265],[3,\"surgical | instrument | end | drive | interface\",154],[4,\"cleaning | clean | cleaner | vacuum | dust\",150],[5,\"surgical | instrument | arm | system | control\",113],[6,\"food | k\\u00fcchenmaschine | cooking | processor | k\\u00fcchenger\\u00e4t\",74],[7,\"second | axis | joint | member | gear\",70],[8,\"reinigungsroboter | reinigung | saugroboter | reinigen | erfindung\",68],[9,\"battery | charge | electric | vehicle | power\",40],[10,\"cleaning | clean | area | cleaner | perimeter\",39],[11,\"crop | mower | lawn | agricultural | work\",35],[12,\"laser | beam | optical | projektor | rolling\",34],[13,\"finger | assembly | gripper | grip | second\",29],[14,\"paint | head | nozzle | painting | coat\",28]],\"hovertemplate\":\"\\u003cb\\u003eTopic %{customdata[0]}\\u003c\\u002fb\\u003e\\u003cbr\\u003e%{customdata[1]}\\u003cbr\\u003eSize: %{customdata[2]}\",\"legendgroup\":\"\",\"marker\":{\"color\":\"#B0BEC5\",\"size\":[2012,923,265,154,150,113,74,70,68,40,39,35,34,29,28],\"sizemode\":\"area\",\"sizeref\":1.2575,\"symbol\":\"circle\",\"line\":{\"color\":\"DarkSlateGrey\",\"width\":2}},\"mode\":\"markers\",\"name\":\"\",\"orientation\":\"v\",\"showlegend\":false,\"x\":[14.091886520385742,14.783180236816406,15.01402759552002,6.987566947937012,6.327954292297363,7.209515571594238,14.207486152648926,-1.859413504600525,6.771051406860352,14.863110542297363,6.515615463256836,14.986557006835938,13.697415351867676,-1.7874594926834106,15.441581726074219],\"xaxis\":\"x\",\"y\":[22.81621551513672,22.068099975585938,21.438806533813477,-9.19853687286377,-1.389708399772644,-8.976216316223145,23.17823028564453,5.7177252769470215,-0.9571042656898499,21.137773513793945,-1.2018864154815674,22.560110092163086,22.72140121459961,5.645789623260498,22.284822463989258],\"yaxis\":\"y\",\"type\":\"scatter\"}],                        {\"template\":{\"data\":{\"barpolar\":[{\"marker\":{\"line\":{\"color\":\"white\",\"width\":0.5},\"pattern\":{\"fillmode\":\"overlay\",\"size\":10,\"solidity\":0.2}},\"type\":\"barpolar\"}],\"bar\":[{\"error_x\":{\"color\":\"rgb(36,36,36)\"},\"error_y\":{\"color\":\"rgb(36,36,36)\"},\"marker\":{\"line\":{\"color\":\"white\",\"width\":0.5},\"pattern\":{\"fillmode\":\"overlay\",\"size\":10,\"solidity\":0.2}},\"type\":\"bar\"}],\"carpet\":[{\"aaxis\":{\"endlinecolor\":\"rgb(36,36,36)\",\"gridcolor\":\"white\",\"linecolor\":\"white\",\"minorgridcolor\":\"white\",\"startlinecolor\":\"rgb(36,36,36)\"},\"baxis\":{\"endlinecolor\":\"rgb(36,36,36)\",\"gridcolor\":\"white\",\"linecolor\":\"white\",\"minorgridcolor\":\"white\",\"startlinecolor\":\"rgb(36,36,36)\"},\"type\":\"carpet\"}],\"choropleth\":[{\"colorbar\":{\"outlinewidth\":1,\"tickcolor\":\"rgb(36,36,36)\",\"ticks\":\"outside\"},\"type\":\"choropleth\"}],\"contourcarpet\":[{\"colorbar\":{\"outlinewidth\":1,\"tickcolor\":\"rgb(36,36,36)\",\"ticks\":\"outside\"},\"type\":\"contourcarpet\"}],\"contour\":[{\"colorbar\":{\"outlinewidth\":1,\"tickcolor\":\"rgb(36,36,36)\",\"ticks\":\"outside\"},\"colorscale\":[[0.0,\"#440154\"],[0.1111111111111111,\"#482878\"],[0.2222222222222222,\"#3e4989\"],[0.3333333333333333,\"#31688e\"],[0.4444444444444444,\"#26828e\"],[0.5555555555555556,\"#1f9e89\"],[0.6666666666666666,\"#35b779\"],[0.7777777777777778,\"#6ece58\"],[0.8888888888888888,\"#b5de2b\"],[1.0,\"#fde725\"]],\"type\":\"contour\"}],\"heatmapgl\":[{\"colorbar\":{\"outlinewidth\":1,\"tickcolor\":\"rgb(36,36,36)\",\"ticks\":\"outside\"},\"colorscale\":[[0.0,\"#440154\"],[0.1111111111111111,\"#482878\"],[0.2222222222222222,\"#3e4989\"],[0.3333333333333333,\"#31688e\"],[0.4444444444444444,\"#26828e\"],[0.5555555555555556,\"#1f9e89\"],[0.6666666666666666,\"#35b779\"],[0.7777777777777778,\"#6ece58\"],[0.8888888888888888,\"#b5de2b\"],[1.0,\"#fde725\"]],\"type\":\"heatmapgl\"}],\"heatmap\":[{\"colorbar\":{\"outlinewidth\":1,\"tickcolor\":\"rgb(36,36,36)\",\"ticks\":\"outside\"},\"colorscale\":[[0.0,\"#440154\"],[0.1111111111111111,\"#482878\"],[0.2222222222222222,\"#3e4989\"],[0.3333333333333333,\"#31688e\"],[0.4444444444444444,\"#26828e\"],[0.5555555555555556,\"#1f9e89\"],[0.6666666666666666,\"#35b779\"],[0.7777777777777778,\"#6ece58\"],[0.8888888888888888,\"#b5de2b\"],[1.0,\"#fde725\"]],\"type\":\"heatmap\"}],\"histogram2dcontour\":[{\"colorbar\":{\"outlinewidth\":1,\"tickcolor\":\"rgb(36,36,36)\",\"ticks\":\"outside\"},\"colorscale\":[[0.0,\"#440154\"],[0.1111111111111111,\"#482878\"],[0.2222222222222222,\"#3e4989\"],[0.3333333333333333,\"#31688e\"],[0.4444444444444444,\"#26828e\"],[0.5555555555555556,\"#1f9e89\"],[0.6666666666666666,\"#35b779\"],[0.7777777777777778,\"#6ece58\"],[0.8888888888888888,\"#b5de2b\"],[1.0,\"#fde725\"]],\"type\":\"histogram2dcontour\"}],\"histogram2d\":[{\"colorbar\":{\"outlinewidth\":1,\"tickcolor\":\"rgb(36,36,36)\",\"ticks\":\"outside\"},\"colorscale\":[[0.0,\"#440154\"],[0.1111111111111111,\"#482878\"],[0.2222222222222222,\"#3e4989\"],[0.3333333333333333,\"#31688e\"],[0.4444444444444444,\"#26828e\"],[0.5555555555555556,\"#1f9e89\"],[0.6666666666666666,\"#35b779\"],[0.7777777777777778,\"#6ece58\"],[0.8888888888888888,\"#b5de2b\"],[1.0,\"#fde725\"]],\"type\":\"histogram2d\"}],\"histogram\":[{\"marker\":{\"line\":{\"color\":\"white\",\"width\":0.6}},\"type\":\"histogram\"}],\"mesh3d\":[{\"colorbar\":{\"outlinewidth\":1,\"tickcolor\":\"rgb(36,36,36)\",\"ticks\":\"outside\"},\"type\":\"mesh3d\"}],\"parcoords\":[{\"line\":{\"colorbar\":{\"outlinewidth\":1,\"tickcolor\":\"rgb(36,36,36)\",\"ticks\":\"outside\"}},\"type\":\"parcoords\"}],\"pie\":[{\"automargin\":true,\"type\":\"pie\"}],\"scatter3d\":[{\"line\":{\"colorbar\":{\"outlinewidth\":1,\"tickcolor\":\"rgb(36,36,36)\",\"ticks\":\"outside\"}},\"marker\":{\"colorbar\":{\"outlinewidth\":1,\"tickcolor\":\"rgb(36,36,36)\",\"ticks\":\"outside\"}},\"type\":\"scatter3d\"}],\"scattercarpet\":[{\"marker\":{\"colorbar\":{\"outlinewidth\":1,\"tickcolor\":\"rgb(36,36,36)\",\"ticks\":\"outside\"}},\"type\":\"scattercarpet\"}],\"scattergeo\":[{\"marker\":{\"colorbar\":{\"outlinewidth\":1,\"tickcolor\":\"rgb(36,36,36)\",\"ticks\":\"outside\"}},\"type\":\"scattergeo\"}],\"scattergl\":[{\"marker\":{\"colorbar\":{\"outlinewidth\":1,\"tickcolor\":\"rgb(36,36,36)\",\"ticks\":\"outside\"}},\"type\":\"scattergl\"}],\"scattermapbox\":[{\"marker\":{\"colorbar\":{\"outlinewidth\":1,\"tickcolor\":\"rgb(36,36,36)\",\"ticks\":\"outside\"}},\"type\":\"scattermapbox\"}],\"scatterpolargl\":[{\"marker\":{\"colorbar\":{\"outlinewidth\":1,\"tickcolor\":\"rgb(36,36,36)\",\"ticks\":\"outside\"}},\"type\":\"scatterpolargl\"}],\"scatterpolar\":[{\"marker\":{\"colorbar\":{\"outlinewidth\":1,\"tickcolor\":\"rgb(36,36,36)\",\"ticks\":\"outside\"}},\"type\":\"scatterpolar\"}],\"scatter\":[{\"fillpattern\":{\"fillmode\":\"overlay\",\"size\":10,\"solidity\":0.2},\"type\":\"scatter\"}],\"scatterternary\":[{\"marker\":{\"colorbar\":{\"outlinewidth\":1,\"tickcolor\":\"rgb(36,36,36)\",\"ticks\":\"outside\"}},\"type\":\"scatterternary\"}],\"surface\":[{\"colorbar\":{\"outlinewidth\":1,\"tickcolor\":\"rgb(36,36,36)\",\"ticks\":\"outside\"},\"colorscale\":[[0.0,\"#440154\"],[0.1111111111111111,\"#482878\"],[0.2222222222222222,\"#3e4989\"],[0.3333333333333333,\"#31688e\"],[0.4444444444444444,\"#26828e\"],[0.5555555555555556,\"#1f9e89\"],[0.6666666666666666,\"#35b779\"],[0.7777777777777778,\"#6ece58\"],[0.8888888888888888,\"#b5de2b\"],[1.0,\"#fde725\"]],\"type\":\"surface\"}],\"table\":[{\"cells\":{\"fill\":{\"color\":\"rgb(237,237,237)\"},\"line\":{\"color\":\"white\"}},\"header\":{\"fill\":{\"color\":\"rgb(217,217,217)\"},\"line\":{\"color\":\"white\"}},\"type\":\"table\"}]},\"layout\":{\"annotationdefaults\":{\"arrowhead\":0,\"arrowwidth\":1},\"autotypenumbers\":\"strict\",\"coloraxis\":{\"colorbar\":{\"outlinewidth\":1,\"tickcolor\":\"rgb(36,36,36)\",\"ticks\":\"outside\"}},\"colorscale\":{\"diverging\":[[0.0,\"rgb(103,0,31)\"],[0.1,\"rgb(178,24,43)\"],[0.2,\"rgb(214,96,77)\"],[0.3,\"rgb(244,165,130)\"],[0.4,\"rgb(253,219,199)\"],[0.5,\"rgb(247,247,247)\"],[0.6,\"rgb(209,229,240)\"],[0.7,\"rgb(146,197,222)\"],[0.8,\"rgb(67,147,195)\"],[0.9,\"rgb(33,102,172)\"],[1.0,\"rgb(5,48,97)\"]],\"sequential\":[[0.0,\"#440154\"],[0.1111111111111111,\"#482878\"],[0.2222222222222222,\"#3e4989\"],[0.3333333333333333,\"#31688e\"],[0.4444444444444444,\"#26828e\"],[0.5555555555555556,\"#1f9e89\"],[0.6666666666666666,\"#35b779\"],[0.7777777777777778,\"#6ece58\"],[0.8888888888888888,\"#b5de2b\"],[1.0,\"#fde725\"]],\"sequentialminus\":[[0.0,\"#440154\"],[0.1111111111111111,\"#482878\"],[0.2222222222222222,\"#3e4989\"],[0.3333333333333333,\"#31688e\"],[0.4444444444444444,\"#26828e\"],[0.5555555555555556,\"#1f9e89\"],[0.6666666666666666,\"#35b779\"],[0.7777777777777778,\"#6ece58\"],[0.8888888888888888,\"#b5de2b\"],[1.0,\"#fde725\"]]},\"colorway\":[\"#1F77B4\",\"#FF7F0E\",\"#2CA02C\",\"#D62728\",\"#9467BD\",\"#8C564B\",\"#E377C2\",\"#7F7F7F\",\"#BCBD22\",\"#17BECF\"],\"font\":{\"color\":\"rgb(36,36,36)\"},\"geo\":{\"bgcolor\":\"white\",\"lakecolor\":\"white\",\"landcolor\":\"white\",\"showlakes\":true,\"showland\":true,\"subunitcolor\":\"white\"},\"hoverlabel\":{\"align\":\"left\"},\"hovermode\":\"closest\",\"mapbox\":{\"style\":\"light\"},\"paper_bgcolor\":\"white\",\"plot_bgcolor\":\"white\",\"polar\":{\"angularaxis\":{\"gridcolor\":\"rgb(232,232,232)\",\"linecolor\":\"rgb(36,36,36)\",\"showgrid\":false,\"showline\":true,\"ticks\":\"outside\"},\"bgcolor\":\"white\",\"radialaxis\":{\"gridcolor\":\"rgb(232,232,232)\",\"linecolor\":\"rgb(36,36,36)\",\"showgrid\":false,\"showline\":true,\"ticks\":\"outside\"}},\"scene\":{\"xaxis\":{\"backgroundcolor\":\"white\",\"gridcolor\":\"rgb(232,232,232)\",\"gridwidth\":2,\"linecolor\":\"rgb(36,36,36)\",\"showbackground\":true,\"showgrid\":false,\"showline\":true,\"ticks\":\"outside\",\"zeroline\":false,\"zerolinecolor\":\"rgb(36,36,36)\"},\"yaxis\":{\"backgroundcolor\":\"white\",\"gridcolor\":\"rgb(232,232,232)\",\"gridwidth\":2,\"linecolor\":\"rgb(36,36,36)\",\"showbackground\":true,\"showgrid\":false,\"showline\":true,\"ticks\":\"outside\",\"zeroline\":false,\"zerolinecolor\":\"rgb(36,36,36)\"},\"zaxis\":{\"backgroundcolor\":\"white\",\"gridcolor\":\"rgb(232,232,232)\",\"gridwidth\":2,\"linecolor\":\"rgb(36,36,36)\",\"showbackground\":true,\"showgrid\":false,\"showline\":true,\"ticks\":\"outside\",\"zeroline\":false,\"zerolinecolor\":\"rgb(36,36,36)\"}},\"shapedefaults\":{\"fillcolor\":\"black\",\"line\":{\"width\":0},\"opacity\":0.3},\"ternary\":{\"aaxis\":{\"gridcolor\":\"rgb(232,232,232)\",\"linecolor\":\"rgb(36,36,36)\",\"showgrid\":false,\"showline\":true,\"ticks\":\"outside\"},\"baxis\":{\"gridcolor\":\"rgb(232,232,232)\",\"linecolor\":\"rgb(36,36,36)\",\"showgrid\":false,\"showline\":true,\"ticks\":\"outside\"},\"bgcolor\":\"white\",\"caxis\":{\"gridcolor\":\"rgb(232,232,232)\",\"linecolor\":\"rgb(36,36,36)\",\"showgrid\":false,\"showline\":true,\"ticks\":\"outside\"}},\"title\":{\"x\":0.05},\"xaxis\":{\"automargin\":true,\"gridcolor\":\"rgb(232,232,232)\",\"linecolor\":\"rgb(36,36,36)\",\"showgrid\":false,\"showline\":true,\"ticks\":\"outside\",\"title\":{\"standoff\":15},\"zeroline\":false,\"zerolinecolor\":\"rgb(36,36,36)\"},\"yaxis\":{\"automargin\":true,\"gridcolor\":\"rgb(232,232,232)\",\"linecolor\":\"rgb(36,36,36)\",\"showgrid\":false,\"showline\":true,\"ticks\":\"outside\",\"title\":{\"standoff\":15},\"zeroline\":false,\"zerolinecolor\":\"rgb(36,36,36)\"}}},\"xaxis\":{\"anchor\":\"y\",\"domain\":[0.0,1.0],\"title\":{\"text\":\"\"},\"visible\":false,\"range\":[-2.1383255302906035,17.757818984985352]},\"yaxis\":{\"anchor\":\"x\",\"domain\":[0.0,1.0],\"title\":{\"text\":\"\"},\"visible\":false,\"range\":[-10.578317403793335,26.65496482849121]},\"legend\":{\"tracegroupgap\":0,\"itemsizing\":\"constant\"},\"margin\":{\"t\":60},\"title\":{\"font\":{\"size\":22,\"color\":\"Black\"},\"text\":\"\\u003cb\\u003eIntertopic Distance Map\\u003c\\u002fb\\u003e\",\"y\":0.95,\"x\":0.5,\"xanchor\":\"center\",\"yanchor\":\"top\"},\"hoverlabel\":{\"font\":{\"size\":16,\"family\":\"Rockwell\"},\"bgcolor\":\"white\"},\"width\":650,\"height\":650,\"sliders\":[{\"active\":0,\"pad\":{\"t\":50},\"steps\":[{\"args\":[{\"marker.color\":[[\"red\",\"#B0BEC5\",\"#B0BEC5\",\"#B0BEC5\",\"#B0BEC5\",\"#B0BEC5\",\"#B0BEC5\",\"#B0BEC5\",\"#B0BEC5\",\"#B0BEC5\",\"#B0BEC5\",\"#B0BEC5\",\"#B0BEC5\",\"#B0BEC5\",\"#B0BEC5\"]]}],\"label\":\"Topic 0\",\"method\":\"update\"},{\"args\":[{\"marker.color\":[[\"#B0BEC5\",\"red\",\"#B0BEC5\",\"#B0BEC5\",\"#B0BEC5\",\"#B0BEC5\",\"#B0BEC5\",\"#B0BEC5\",\"#B0BEC5\",\"#B0BEC5\",\"#B0BEC5\",\"#B0BEC5\",\"#B0BEC5\",\"#B0BEC5\",\"#B0BEC5\"]]}],\"label\":\"Topic 1\",\"method\":\"update\"},{\"args\":[{\"marker.color\":[[\"#B0BEC5\",\"#B0BEC5\",\"red\",\"#B0BEC5\",\"#B0BEC5\",\"#B0BEC5\",\"#B0BEC5\",\"#B0BEC5\",\"#B0BEC5\",\"#B0BEC5\",\"#B0BEC5\",\"#B0BEC5\",\"#B0BEC5\",\"#B0BEC5\",\"#B0BEC5\"]]}],\"label\":\"Topic 2\",\"method\":\"update\"},{\"args\":[{\"marker.color\":[[\"#B0BEC5\",\"#B0BEC5\",\"#B0BEC5\",\"red\",\"#B0BEC5\",\"#B0BEC5\",\"#B0BEC5\",\"#B0BEC5\",\"#B0BEC5\",\"#B0BEC5\",\"#B0BEC5\",\"#B0BEC5\",\"#B0BEC5\",\"#B0BEC5\",\"#B0BEC5\"]]}],\"label\":\"Topic 3\",\"method\":\"update\"},{\"args\":[{\"marker.color\":[[\"#B0BEC5\",\"#B0BEC5\",\"#B0BEC5\",\"#B0BEC5\",\"red\",\"#B0BEC5\",\"#B0BEC5\",\"#B0BEC5\",\"#B0BEC5\",\"#B0BEC5\",\"#B0BEC5\",\"#B0BEC5\",\"#B0BEC5\",\"#B0BEC5\",\"#B0BEC5\"]]}],\"label\":\"Topic 4\",\"method\":\"update\"},{\"args\":[{\"marker.color\":[[\"#B0BEC5\",\"#B0BEC5\",\"#B0BEC5\",\"#B0BEC5\",\"#B0BEC5\",\"red\",\"#B0BEC5\",\"#B0BEC5\",\"#B0BEC5\",\"#B0BEC5\",\"#B0BEC5\",\"#B0BEC5\",\"#B0BEC5\",\"#B0BEC5\",\"#B0BEC5\"]]}],\"label\":\"Topic 5\",\"method\":\"update\"},{\"args\":[{\"marker.color\":[[\"#B0BEC5\",\"#B0BEC5\",\"#B0BEC5\",\"#B0BEC5\",\"#B0BEC5\",\"#B0BEC5\",\"red\",\"#B0BEC5\",\"#B0BEC5\",\"#B0BEC5\",\"#B0BEC5\",\"#B0BEC5\",\"#B0BEC5\",\"#B0BEC5\",\"#B0BEC5\"]]}],\"label\":\"Topic 6\",\"method\":\"update\"},{\"args\":[{\"marker.color\":[[\"#B0BEC5\",\"#B0BEC5\",\"#B0BEC5\",\"#B0BEC5\",\"#B0BEC5\",\"#B0BEC5\",\"#B0BEC5\",\"red\",\"#B0BEC5\",\"#B0BEC5\",\"#B0BEC5\",\"#B0BEC5\",\"#B0BEC5\",\"#B0BEC5\",\"#B0BEC5\"]]}],\"label\":\"Topic 7\",\"method\":\"update\"},{\"args\":[{\"marker.color\":[[\"#B0BEC5\",\"#B0BEC5\",\"#B0BEC5\",\"#B0BEC5\",\"#B0BEC5\",\"#B0BEC5\",\"#B0BEC5\",\"#B0BEC5\",\"red\",\"#B0BEC5\",\"#B0BEC5\",\"#B0BEC5\",\"#B0BEC5\",\"#B0BEC5\",\"#B0BEC5\"]]}],\"label\":\"Topic 8\",\"method\":\"update\"},{\"args\":[{\"marker.color\":[[\"#B0BEC5\",\"#B0BEC5\",\"#B0BEC5\",\"#B0BEC5\",\"#B0BEC5\",\"#B0BEC5\",\"#B0BEC5\",\"#B0BEC5\",\"#B0BEC5\",\"red\",\"#B0BEC5\",\"#B0BEC5\",\"#B0BEC5\",\"#B0BEC5\",\"#B0BEC5\"]]}],\"label\":\"Topic 9\",\"method\":\"update\"},{\"args\":[{\"marker.color\":[[\"#B0BEC5\",\"#B0BEC5\",\"#B0BEC5\",\"#B0BEC5\",\"#B0BEC5\",\"#B0BEC5\",\"#B0BEC5\",\"#B0BEC5\",\"#B0BEC5\",\"#B0BEC5\",\"red\",\"#B0BEC5\",\"#B0BEC5\",\"#B0BEC5\",\"#B0BEC5\"]]}],\"label\":\"Topic 10\",\"method\":\"update\"},{\"args\":[{\"marker.color\":[[\"#B0BEC5\",\"#B0BEC5\",\"#B0BEC5\",\"#B0BEC5\",\"#B0BEC5\",\"#B0BEC5\",\"#B0BEC5\",\"#B0BEC5\",\"#B0BEC5\",\"#B0BEC5\",\"#B0BEC5\",\"red\",\"#B0BEC5\",\"#B0BEC5\",\"#B0BEC5\"]]}],\"label\":\"Topic 11\",\"method\":\"update\"},{\"args\":[{\"marker.color\":[[\"#B0BEC5\",\"#B0BEC5\",\"#B0BEC5\",\"#B0BEC5\",\"#B0BEC5\",\"#B0BEC5\",\"#B0BEC5\",\"#B0BEC5\",\"#B0BEC5\",\"#B0BEC5\",\"#B0BEC5\",\"#B0BEC5\",\"red\",\"#B0BEC5\",\"#B0BEC5\"]]}],\"label\":\"Topic 12\",\"method\":\"update\"},{\"args\":[{\"marker.color\":[[\"#B0BEC5\",\"#B0BEC5\",\"#B0BEC5\",\"#B0BEC5\",\"#B0BEC5\",\"#B0BEC5\",\"#B0BEC5\",\"#B0BEC5\",\"#B0BEC5\",\"#B0BEC5\",\"#B0BEC5\",\"#B0BEC5\",\"#B0BEC5\",\"red\",\"#B0BEC5\"]]}],\"label\":\"Topic 13\",\"method\":\"update\"},{\"args\":[{\"marker.color\":[[\"#B0BEC5\",\"#B0BEC5\",\"#B0BEC5\",\"#B0BEC5\",\"#B0BEC5\",\"#B0BEC5\",\"#B0BEC5\",\"#B0BEC5\",\"#B0BEC5\",\"#B0BEC5\",\"#B0BEC5\",\"#B0BEC5\",\"#B0BEC5\",\"#B0BEC5\",\"red\"]]}],\"label\":\"Topic 14\",\"method\":\"update\"}]}],\"shapes\":[{\"line\":{\"color\":\"#CFD8DC\",\"width\":2},\"type\":\"line\",\"x0\":7.809746727347374,\"x1\":7.809746727347374,\"y0\":-10.578317403793335,\"y1\":26.65496482849121},{\"line\":{\"color\":\"#9E9E9E\",\"width\":2},\"type\":\"line\",\"x0\":-2.1383255302906035,\"x1\":17.757818984985352,\"y0\":8.038323712348937,\"y1\":8.038323712348937}],\"annotations\":[{\"showarrow\":false,\"text\":\"D1\",\"x\":-2.1383255302906035,\"y\":8.038323712348937,\"yshift\":10},{\"showarrow\":false,\"text\":\"D2\",\"x\":7.809746727347374,\"xshift\":10,\"y\":26.65496482849121}]},                        {\"responsive\": true}                    ).then(function(){\n",
       "                            \n",
       "var gd = document.getElementById('d224c903-9c9a-445c-b404-ed0d1ae32bf8');\n",
       "var x = new MutationObserver(function (mutations, observer) {{\n",
       "        var display = window.getComputedStyle(gd).display;\n",
       "        if (!display || display === 'none') {{\n",
       "            console.log([gd, 'removed!']);\n",
       "            Plotly.purge(gd);\n",
       "            observer.disconnect();\n",
       "        }}\n",
       "}});\n",
       "\n",
       "// Listen for the removal of the full notebook cells\n",
       "var notebookContainer = gd.closest('#notebook-container');\n",
       "if (notebookContainer) {{\n",
       "    x.observe(notebookContainer, {childList: true});\n",
       "}}\n",
       "\n",
       "// Listen for the clearing of the current output cell\n",
       "var outputEl = gd.closest('.output');\n",
       "if (outputEl) {{\n",
       "    x.observe(outputEl, {childList: true});\n",
       "}}\n",
       "\n",
       "                        })                };                });            </script>        </div>"
      ]
     },
     "metadata": {},
     "output_type": "display_data"
    }
   ],
   "execution_count": 36
  }
 ],
 "metadata": {
  "kernelspec": {
   "display_name": "ml_angew_programm",
   "language": "python",
   "name": "python3"
  },
  "language_info": {
   "codemirror_mode": {
    "name": "ipython",
    "version": 3
   },
   "file_extension": ".py",
   "mimetype": "text/x-python",
   "name": "python",
   "nbconvert_exporter": "python",
   "pygments_lexer": "ipython3",
   "version": "3.8.19"
  }
 },
 "nbformat": 4,
 "nbformat_minor": 2
}
