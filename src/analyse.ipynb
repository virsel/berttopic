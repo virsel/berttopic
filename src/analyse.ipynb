{
 "cells": [
  {
   "cell_type": "code",
   "execution_count": 12,
   "metadata": {
    "ExecuteTime": {
     "end_time": "2024-05-18T14:12:47.541930Z",
     "start_time": "2024-05-18T14:12:46.918893Z"
    }
   },
   "outputs": [],
   "source": [
    "import pandas as pd\n",
    "\n",
    "data_path = \"D:/studium/analyse/data_prep/output/data_corpus.csv\"\n",
    "df = pd.read_csv(data_path, usecols=[\"id\", \"text_preproc1\"])"
   ]
  },
  {
   "cell_type": "code",
   "execution_count": 13,
   "metadata": {},
   "outputs": [
    {
     "name": "stdout",
     "output_type": "stream",
     "text": [
      "<class 'pandas.core.frame.DataFrame'>\n",
      "RangeIndex: 123667 entries, 0 to 123666\n",
      "Data columns (total 2 columns):\n",
      " #   Column         Non-Null Count   Dtype \n",
      "---  ------         --------------   ----- \n",
      " 0   id             123667 non-null  object\n",
      " 1   text_preproc1  123667 non-null  object\n",
      "dtypes: object(2)\n",
      "memory usage: 1.9+ MB\n"
     ]
    }
   ],
   "source": [
    "df.info()"
   ]
  },
  {
   "cell_type": "code",
   "execution_count": 1,
   "metadata": {
    "ExecuteTime": {
     "end_time": "2024-05-18T17:30:46.521239Z",
     "start_time": "2024-05-18T17:30:46.506236Z"
    }
   },
   "outputs": [],
   "source": [
    "from bertopic import BERTopic\n",
    "topic_model = BERTopic.load(\"output/bertopic_model_v1\")"
   ]
  },
  {
   "cell_type": "code",
   "execution_count": 2,
   "metadata": {
    "ExecuteTime": {
     "end_time": "2024-05-18T17:31:30.121005Z",
     "start_time": "2024-05-18T17:30:46.521239Z"
    }
   },
   "outputs": [],
   "source": [
    "topics, probabilities = topic_model.topics_, topic_model.probabilities_"
   ]
  },
  {
   "cell_type": "code",
   "execution_count": 3,
   "metadata": {
    "ExecuteTime": {
     "end_time": "2024-05-18T17:33:19.719845Z",
     "start_time": "2024-05-18T17:33:19.704327Z"
    }
   },
   "outputs": [
    {
     "data": {
      "text/plain": [
       "17982"
      ]
     },
     "execution_count": 3,
     "metadata": {},
     "output_type": "execute_result"
    }
   ],
   "source": [
    "topic_model.get_topic_info(-1).Count[0]"
   ]
  },
  {
   "cell_type": "markdown",
   "metadata": {},
   "source": [
    "#### 1\n",
    "```\n",
    "Topic -1 Count: 1991\n",
    "umap_model = UMAP(n_neighbors=10, min_dist=0.0, n_components=8, random_state=42)\n",
    "hdbscan_model = hdbscan.HDBSCAN(min_cluster_size=60, min_samples=2, cluster_selection_epsilon=0.1)\n",
    "topic_model = BERTopic(hdbscan_model=hdbscan_model, umap_model=umap_model, embedding_model=model)\n",
    "```"
   ]
  },
  {
   "cell_type": "code",
   "execution_count": 4,
   "metadata": {
    "ExecuteTime": {
     "end_time": "2024-05-18T17:31:30.176159Z",
     "start_time": "2024-05-18T17:31:30.152219Z"
    }
   },
   "outputs": [],
   "source": [
    "freq = topic_model.get_topic_info();"
   ]
  },
  {
   "cell_type": "markdown",
   "metadata": {},
   "source": [
    "0\t-1\t23358\t-1_der_die_und_object\n",
    "1\t0\t2304\t0_exoskeleton_limb_rehabilitation_waist\n",
    "2\t1\t1400\t1_surgical_instrument_surgery_patient\n",
    "3\t2\t970\t2_welding_seam_gun_weld\n",
    "4\t3\t602\t3_pipeline_pipe_dredging_oil\n",
    "5\t4\t508\t4_charging_pile_recharging_charged\n",
    "6\t5\t429\t5_planning_path_global_algorithm\n",
    "7\t6\t398\t6_image_images_captured_camera\n",
    "\n",
    "0\t-1\t17982\t-1_der_und_die_eine\n",
    "1\t0\t3375\t0_underwater_cleaning_water_dust\n",
    "2\t1\t3332\t1_surgical_instrument_effector_surgery\n",
    "3\t2\t2580\t2_cloud_path_map_planning\n",
    "4\t3\t2293\t3_exoskeleton_limb_rehabilitation_waist\n",
    "5\t4\t1219\t4_map_apparatus_program_trajectory\n",
    "6\t5\t1045\t5_chassis_carrying_tray_goods\n",
    "7\t6\t997\t6_welding_seam_gun_weld"
   ]
  },
  {
   "cell_type": "code",
   "execution_count": 5,
   "metadata": {},
   "outputs": [
    {
     "data": {
      "text/html": [
       "<div>\n",
       "<style scoped>\n",
       "    .dataframe tbody tr th:only-of-type {\n",
       "        vertical-align: middle;\n",
       "    }\n",
       "\n",
       "    .dataframe tbody tr th {\n",
       "        vertical-align: top;\n",
       "    }\n",
       "\n",
       "    .dataframe thead th {\n",
       "        text-align: right;\n",
       "    }\n",
       "</style>\n",
       "<table border=\"1\" class=\"dataframe\">\n",
       "  <thead>\n",
       "    <tr style=\"text-align: right;\">\n",
       "      <th></th>\n",
       "      <th>Topic</th>\n",
       "      <th>Count</th>\n",
       "      <th>Name</th>\n",
       "    </tr>\n",
       "  </thead>\n",
       "  <tbody>\n",
       "    <tr>\n",
       "      <th>0</th>\n",
       "      <td>-1</td>\n",
       "      <td>17982</td>\n",
       "      <td>-1_system_for_an_in</td>\n",
       "    </tr>\n",
       "    <tr>\n",
       "      <th>1</th>\n",
       "      <td>0</td>\n",
       "      <td>19473</td>\n",
       "      <td>0_cleaning_body_robot_welding</td>\n",
       "    </tr>\n",
       "    <tr>\n",
       "      <th>2</th>\n",
       "      <td>1</td>\n",
       "      <td>3661</td>\n",
       "      <td>1_surgical_instrument_robotic_effector</td>\n",
       "    </tr>\n",
       "    <tr>\n",
       "      <th>3</th>\n",
       "      <td>2</td>\n",
       "      <td>2293</td>\n",
       "      <td>2_exoskeleton_limb_rehabilitation_joint</td>\n",
       "    </tr>\n",
       "    <tr>\n",
       "      <th>4</th>\n",
       "      <td>3</td>\n",
       "      <td>1014</td>\n",
       "      <td>3_substrate_sorting_transfer_chamber</td>\n",
       "    </tr>\n",
       "    <tr>\n",
       "      <th>5</th>\n",
       "      <td>4</td>\n",
       "      <td>619</td>\n",
       "      <td>4_rpa_voice_automation_dialogue</td>\n",
       "    </tr>\n",
       "    <tr>\n",
       "      <th>6</th>\n",
       "      <td>5</td>\n",
       "      <td>247</td>\n",
       "      <td>5_aerial_wind_unmanned_flying</td>\n",
       "    </tr>\n",
       "    <tr>\n",
       "      <th>7</th>\n",
       "      <td>6</td>\n",
       "      <td>239</td>\n",
       "      <td>6_food_cooking_kitchen_processor</td>\n",
       "    </tr>\n",
       "    <tr>\n",
       "      <th>8</th>\n",
       "      <td>7</td>\n",
       "      <td>159</td>\n",
       "      <td>7_cup_glass_suction_fluid</td>\n",
       "    </tr>\n",
       "    <tr>\n",
       "      <th>9</th>\n",
       "      <td>8</td>\n",
       "      <td>143</td>\n",
       "      <td>8_agv_gait_biped_carrying</td>\n",
       "    </tr>\n",
       "    <tr>\n",
       "      <th>10</th>\n",
       "      <td>9</td>\n",
       "      <td>128</td>\n",
       "      <td>9_catheter_interventional_guidewire_guide</td>\n",
       "    </tr>\n",
       "    <tr>\n",
       "      <th>11</th>\n",
       "      <td>10</td>\n",
       "      <td>123</td>\n",
       "      <td>10_printing_print_printer_ink</td>\n",
       "    </tr>\n",
       "    <tr>\n",
       "      <th>12</th>\n",
       "      <td>11</td>\n",
       "      <td>108</td>\n",
       "      <td>11_brake_braking_band_electromagnetic</td>\n",
       "    </tr>\n",
       "    <tr>\n",
       "      <th>13</th>\n",
       "      <td>12</td>\n",
       "      <td>99</td>\n",
       "      <td>12_tactile_sensor_layer_sensing</td>\n",
       "    </tr>\n",
       "    <tr>\n",
       "      <th>14</th>\n",
       "      <td>13</td>\n",
       "      <td>81</td>\n",
       "      <td>13_fruit_picking_fruits_vegetable</td>\n",
       "    </tr>\n",
       "    <tr>\n",
       "      <th>15</th>\n",
       "      <td>14</td>\n",
       "      <td>81</td>\n",
       "      <td>14_neural_network_training_neuronalen</td>\n",
       "    </tr>\n",
       "    <tr>\n",
       "      <th>16</th>\n",
       "      <td>15</td>\n",
       "      <td>66</td>\n",
       "      <td>15_gear_planetary_wave_harmonic</td>\n",
       "    </tr>\n",
       "    <tr>\n",
       "      <th>17</th>\n",
       "      <td>16</td>\n",
       "      <td>54</td>\n",
       "      <td>16_snakelike_snake_shaped_section</td>\n",
       "    </tr>\n",
       "    <tr>\n",
       "      <th>18</th>\n",
       "      <td>17</td>\n",
       "      <td>53</td>\n",
       "      <td>17_der_einer_werkstückträgervorrichtung_des</td>\n",
       "    </tr>\n",
       "    <tr>\n",
       "      <th>19</th>\n",
       "      <td>18</td>\n",
       "      <td>50</td>\n",
       "      <td>18_vehicle_passenger_autonomous_reality</td>\n",
       "    </tr>\n",
       "  </tbody>\n",
       "</table>\n",
       "</div>"
      ],
      "text/plain": [
       "    Topic  Count                                         Name\n",
       "0      -1  17982                          -1_system_for_an_in\n",
       "1       0  19473                0_cleaning_body_robot_welding\n",
       "2       1   3661       1_surgical_instrument_robotic_effector\n",
       "3       2   2293      2_exoskeleton_limb_rehabilitation_joint\n",
       "4       3   1014         3_substrate_sorting_transfer_chamber\n",
       "5       4    619              4_rpa_voice_automation_dialogue\n",
       "6       5    247                5_aerial_wind_unmanned_flying\n",
       "7       6    239             6_food_cooking_kitchen_processor\n",
       "8       7    159                    7_cup_glass_suction_fluid\n",
       "9       8    143                    8_agv_gait_biped_carrying\n",
       "10      9    128    9_catheter_interventional_guidewire_guide\n",
       "11     10    123                10_printing_print_printer_ink\n",
       "12     11    108        11_brake_braking_band_electromagnetic\n",
       "13     12     99              12_tactile_sensor_layer_sensing\n",
       "14     13     81            13_fruit_picking_fruits_vegetable\n",
       "15     14     81        14_neural_network_training_neuronalen\n",
       "16     15     66              15_gear_planetary_wave_harmonic\n",
       "17     16     54            16_snakelike_snake_shaped_section\n",
       "18     17     53  17_der_einer_werkstückträgervorrichtung_des\n",
       "19     18     50      18_vehicle_passenger_autonomous_reality"
      ]
     },
     "execution_count": 5,
     "metadata": {},
     "output_type": "execute_result"
    }
   ],
   "source": [
    "freq[['Topic', 'Count', 'Name']].head(30)"
   ]
  },
  {
   "cell_type": "code",
   "execution_count": 627,
   "metadata": {
    "ExecuteTime": {
     "end_time": "2024-05-18T17:31:30.191787Z",
     "start_time": "2024-05-18T17:31:30.176159Z"
    }
   },
   "outputs": [
    {
     "data": {
      "text/plain": [
       "[('aerial', 0.5583696692712207),\n",
       " ('wind', 0.4762240339759627),\n",
       " ('unmanned', 0.4664865895009757),\n",
       " ('flying', 0.4525764447657768),\n",
       " ('turbine', 0.41122533731574307),\n",
       " ('wing', 0.3922356590535333),\n",
       " ('blade', 0.3767734351352035),\n",
       " ('flight', 0.34517307599310126),\n",
       " ('flapping', 0.34396367955885493),\n",
       " ('air', 0.34376343103044876)]"
      ]
     },
     "execution_count": 627,
     "metadata": {},
     "output_type": "execute_result"
    }
   ],
   "source": [
    "topic_model.get_topic(5)"
   ]
  },
  {
   "cell_type": "code",
   "execution_count": 6,
   "metadata": {
    "ExecuteTime": {
     "end_time": "2024-05-18T17:31:30.632444Z",
     "start_time": "2024-05-18T17:31:30.191787Z"
    }
   },
   "outputs": [
    {
     "data": {
      "application/vnd.plotly.v1+json": {
       "config": {
        "plotlyServerURL": "https://plot.ly"
       },
       "data": [
        {
         "customdata": [
          [
           0,
           "cleaning | body | robot | welding | is",
           19473
          ],
          [
           1,
           "surgical | instrument | robotic | effector | arm",
           3661
          ],
          [
           2,
           "exoskeleton | limb | rehabilitation | joint | waist",
           2293
          ],
          [
           3,
           "substrate | sorting | transfer | chamber | container",
           1014
          ],
          [
           4,
           "rpa | voice | automation | dialogue | chat",
           619
          ],
          [
           5,
           "aerial | wind | unmanned | flying | turbine",
           247
          ],
          [
           6,
           "food | cooking | kitchen | processor | küchenmaschine",
           239
          ],
          [
           7,
           "cup | glass | suction | fluid | liquid",
           159
          ],
          [
           8,
           "agv | gait | biped | carrying | phase",
           143
          ],
          [
           9,
           "catheter | interventional | guidewire | guide | translation",
           128
          ],
          [
           10,
           "printing | print | printer | ink | head",
           123
          ],
          [
           11,
           "brake | braking | band | electromagnetic | brakes",
           108
          ],
          [
           12,
           "tactile | sensor | layer | sensing | force",
           99
          ],
          [
           13,
           "fruit | picking | fruits | vegetable | vine",
           81
          ],
          [
           14,
           "neural | network | training | neuronalen | netzes",
           81
          ],
          [
           15,
           "gear | planetary | wave | harmonic | generator",
           66
          ],
          [
           16,
           "snakelike | snake | shaped | section | bionic",
           54
          ],
          [
           17,
           "der | einer | werkstückträgervorrichtung | des | eines",
           53
          ],
          [
           18,
           "vehicle | passenger | autonomous | reality | service",
           50
          ]
         ],
         "hovertemplate": "<b>Topic %{customdata[0]}</b><br>%{customdata[1]}<br>Size: %{customdata[2]}",
         "legendgroup": "",
         "marker": {
          "color": "#B0BEC5",
          "line": {
           "color": "DarkSlateGrey",
           "width": 2
          },
          "size": [
           19473,
           3661,
           2293,
           1014,
           619,
           247,
           239,
           159,
           143,
           128,
           123,
           108,
           99,
           81,
           81,
           66,
           54,
           53,
           50
          ],
          "sizemode": "area",
          "sizeref": 12.170625,
          "symbol": "circle"
         },
         "mode": "markers",
         "name": "",
         "orientation": "v",
         "showlegend": false,
         "type": "scatter",
         "x": [
          4.015682697296143,
          1.9429490566253662,
          2.215151309967041,
          1.7230827808380127,
          4.6986894607543945,
          3.436882734298706,
          2.9673731327056885,
          3.3292274475097656,
          3.8799967765808105,
          0.955401599407196,
          3.4880926609039307,
          4.172124862670898,
          1.6240204572677612,
          3.7588093280792236,
          4.560422897338867,
          1.554684042930603,
          4.311105251312256,
          2.793771505355835,
          2.169710159301758
         ],
         "xaxis": "x",
         "y": [
          4.218018054962158,
          8.082501411437988,
          8.443903923034668,
          7.376103401184082,
          3.448530912399292,
          3.9447901248931885,
          2.1994757652282715,
          2.7208287715911865,
          3.909193754196167,
          8.259883880615234,
          4.392642498016357,
          4.59517240524292,
          8.33337116241455,
          4.675292491912842,
          4.216981887817383,
          7.830965995788574,
          4.028697967529297,
          2.0416061878204346,
          7.770536422729492
         ],
         "yaxis": "y"
        }
       ],
       "layout": {
        "annotations": [
         {
          "showarrow": false,
          "text": "D1",
          "x": 0.8120913594961167,
          "y": 5.722927385568619,
          "yshift": 10
         },
         {
          "showarrow": false,
          "text": "D2",
          "x": 3.1077921196818354,
          "xshift": 10,
          "y": 9.710489511489868
         }
        ],
        "height": 650,
        "hoverlabel": {
         "bgcolor": "white",
         "font": {
          "family": "Rockwell",
          "size": 16
         }
        },
        "legend": {
         "itemsizing": "constant",
         "tracegroupgap": 0
        },
        "margin": {
         "t": 60
        },
        "shapes": [
         {
          "line": {
           "color": "#CFD8DC",
           "width": 2
          },
          "type": "line",
          "x0": 3.1077921196818354,
          "x1": 3.1077921196818354,
          "y0": 1.7353652596473694,
          "y1": 9.710489511489868
         },
         {
          "line": {
           "color": "#9E9E9E",
           "width": 2
          },
          "type": "line",
          "x0": 0.8120913594961167,
          "x1": 5.403492879867554,
          "y0": 5.722927385568619,
          "y1": 5.722927385568619
         }
        ],
        "sliders": [
         {
          "active": 0,
          "pad": {
           "t": 50
          },
          "steps": [
           {
            "args": [
             {
              "marker.color": [
               [
                "red",
                "#B0BEC5",
                "#B0BEC5",
                "#B0BEC5",
                "#B0BEC5",
                "#B0BEC5",
                "#B0BEC5",
                "#B0BEC5",
                "#B0BEC5",
                "#B0BEC5",
                "#B0BEC5",
                "#B0BEC5",
                "#B0BEC5",
                "#B0BEC5",
                "#B0BEC5",
                "#B0BEC5",
                "#B0BEC5",
                "#B0BEC5",
                "#B0BEC5"
               ]
              ]
             }
            ],
            "label": "Topic 0",
            "method": "update"
           },
           {
            "args": [
             {
              "marker.color": [
               [
                "#B0BEC5",
                "red",
                "#B0BEC5",
                "#B0BEC5",
                "#B0BEC5",
                "#B0BEC5",
                "#B0BEC5",
                "#B0BEC5",
                "#B0BEC5",
                "#B0BEC5",
                "#B0BEC5",
                "#B0BEC5",
                "#B0BEC5",
                "#B0BEC5",
                "#B0BEC5",
                "#B0BEC5",
                "#B0BEC5",
                "#B0BEC5",
                "#B0BEC5"
               ]
              ]
             }
            ],
            "label": "Topic 1",
            "method": "update"
           },
           {
            "args": [
             {
              "marker.color": [
               [
                "#B0BEC5",
                "#B0BEC5",
                "red",
                "#B0BEC5",
                "#B0BEC5",
                "#B0BEC5",
                "#B0BEC5",
                "#B0BEC5",
                "#B0BEC5",
                "#B0BEC5",
                "#B0BEC5",
                "#B0BEC5",
                "#B0BEC5",
                "#B0BEC5",
                "#B0BEC5",
                "#B0BEC5",
                "#B0BEC5",
                "#B0BEC5",
                "#B0BEC5"
               ]
              ]
             }
            ],
            "label": "Topic 2",
            "method": "update"
           },
           {
            "args": [
             {
              "marker.color": [
               [
                "#B0BEC5",
                "#B0BEC5",
                "#B0BEC5",
                "red",
                "#B0BEC5",
                "#B0BEC5",
                "#B0BEC5",
                "#B0BEC5",
                "#B0BEC5",
                "#B0BEC5",
                "#B0BEC5",
                "#B0BEC5",
                "#B0BEC5",
                "#B0BEC5",
                "#B0BEC5",
                "#B0BEC5",
                "#B0BEC5",
                "#B0BEC5",
                "#B0BEC5"
               ]
              ]
             }
            ],
            "label": "Topic 3",
            "method": "update"
           },
           {
            "args": [
             {
              "marker.color": [
               [
                "#B0BEC5",
                "#B0BEC5",
                "#B0BEC5",
                "#B0BEC5",
                "red",
                "#B0BEC5",
                "#B0BEC5",
                "#B0BEC5",
                "#B0BEC5",
                "#B0BEC5",
                "#B0BEC5",
                "#B0BEC5",
                "#B0BEC5",
                "#B0BEC5",
                "#B0BEC5",
                "#B0BEC5",
                "#B0BEC5",
                "#B0BEC5",
                "#B0BEC5"
               ]
              ]
             }
            ],
            "label": "Topic 4",
            "method": "update"
           },
           {
            "args": [
             {
              "marker.color": [
               [
                "#B0BEC5",
                "#B0BEC5",
                "#B0BEC5",
                "#B0BEC5",
                "#B0BEC5",
                "red",
                "#B0BEC5",
                "#B0BEC5",
                "#B0BEC5",
                "#B0BEC5",
                "#B0BEC5",
                "#B0BEC5",
                "#B0BEC5",
                "#B0BEC5",
                "#B0BEC5",
                "#B0BEC5",
                "#B0BEC5",
                "#B0BEC5",
                "#B0BEC5"
               ]
              ]
             }
            ],
            "label": "Topic 5",
            "method": "update"
           },
           {
            "args": [
             {
              "marker.color": [
               [
                "#B0BEC5",
                "#B0BEC5",
                "#B0BEC5",
                "#B0BEC5",
                "#B0BEC5",
                "#B0BEC5",
                "red",
                "#B0BEC5",
                "#B0BEC5",
                "#B0BEC5",
                "#B0BEC5",
                "#B0BEC5",
                "#B0BEC5",
                "#B0BEC5",
                "#B0BEC5",
                "#B0BEC5",
                "#B0BEC5",
                "#B0BEC5",
                "#B0BEC5"
               ]
              ]
             }
            ],
            "label": "Topic 6",
            "method": "update"
           },
           {
            "args": [
             {
              "marker.color": [
               [
                "#B0BEC5",
                "#B0BEC5",
                "#B0BEC5",
                "#B0BEC5",
                "#B0BEC5",
                "#B0BEC5",
                "#B0BEC5",
                "red",
                "#B0BEC5",
                "#B0BEC5",
                "#B0BEC5",
                "#B0BEC5",
                "#B0BEC5",
                "#B0BEC5",
                "#B0BEC5",
                "#B0BEC5",
                "#B0BEC5",
                "#B0BEC5",
                "#B0BEC5"
               ]
              ]
             }
            ],
            "label": "Topic 7",
            "method": "update"
           },
           {
            "args": [
             {
              "marker.color": [
               [
                "#B0BEC5",
                "#B0BEC5",
                "#B0BEC5",
                "#B0BEC5",
                "#B0BEC5",
                "#B0BEC5",
                "#B0BEC5",
                "#B0BEC5",
                "red",
                "#B0BEC5",
                "#B0BEC5",
                "#B0BEC5",
                "#B0BEC5",
                "#B0BEC5",
                "#B0BEC5",
                "#B0BEC5",
                "#B0BEC5",
                "#B0BEC5",
                "#B0BEC5"
               ]
              ]
             }
            ],
            "label": "Topic 8",
            "method": "update"
           },
           {
            "args": [
             {
              "marker.color": [
               [
                "#B0BEC5",
                "#B0BEC5",
                "#B0BEC5",
                "#B0BEC5",
                "#B0BEC5",
                "#B0BEC5",
                "#B0BEC5",
                "#B0BEC5",
                "#B0BEC5",
                "red",
                "#B0BEC5",
                "#B0BEC5",
                "#B0BEC5",
                "#B0BEC5",
                "#B0BEC5",
                "#B0BEC5",
                "#B0BEC5",
                "#B0BEC5",
                "#B0BEC5"
               ]
              ]
             }
            ],
            "label": "Topic 9",
            "method": "update"
           },
           {
            "args": [
             {
              "marker.color": [
               [
                "#B0BEC5",
                "#B0BEC5",
                "#B0BEC5",
                "#B0BEC5",
                "#B0BEC5",
                "#B0BEC5",
                "#B0BEC5",
                "#B0BEC5",
                "#B0BEC5",
                "#B0BEC5",
                "red",
                "#B0BEC5",
                "#B0BEC5",
                "#B0BEC5",
                "#B0BEC5",
                "#B0BEC5",
                "#B0BEC5",
                "#B0BEC5",
                "#B0BEC5"
               ]
              ]
             }
            ],
            "label": "Topic 10",
            "method": "update"
           },
           {
            "args": [
             {
              "marker.color": [
               [
                "#B0BEC5",
                "#B0BEC5",
                "#B0BEC5",
                "#B0BEC5",
                "#B0BEC5",
                "#B0BEC5",
                "#B0BEC5",
                "#B0BEC5",
                "#B0BEC5",
                "#B0BEC5",
                "#B0BEC5",
                "red",
                "#B0BEC5",
                "#B0BEC5",
                "#B0BEC5",
                "#B0BEC5",
                "#B0BEC5",
                "#B0BEC5",
                "#B0BEC5"
               ]
              ]
             }
            ],
            "label": "Topic 11",
            "method": "update"
           },
           {
            "args": [
             {
              "marker.color": [
               [
                "#B0BEC5",
                "#B0BEC5",
                "#B0BEC5",
                "#B0BEC5",
                "#B0BEC5",
                "#B0BEC5",
                "#B0BEC5",
                "#B0BEC5",
                "#B0BEC5",
                "#B0BEC5",
                "#B0BEC5",
                "#B0BEC5",
                "red",
                "#B0BEC5",
                "#B0BEC5",
                "#B0BEC5",
                "#B0BEC5",
                "#B0BEC5",
                "#B0BEC5"
               ]
              ]
             }
            ],
            "label": "Topic 12",
            "method": "update"
           },
           {
            "args": [
             {
              "marker.color": [
               [
                "#B0BEC5",
                "#B0BEC5",
                "#B0BEC5",
                "#B0BEC5",
                "#B0BEC5",
                "#B0BEC5",
                "#B0BEC5",
                "#B0BEC5",
                "#B0BEC5",
                "#B0BEC5",
                "#B0BEC5",
                "#B0BEC5",
                "#B0BEC5",
                "red",
                "#B0BEC5",
                "#B0BEC5",
                "#B0BEC5",
                "#B0BEC5",
                "#B0BEC5"
               ]
              ]
             }
            ],
            "label": "Topic 13",
            "method": "update"
           },
           {
            "args": [
             {
              "marker.color": [
               [
                "#B0BEC5",
                "#B0BEC5",
                "#B0BEC5",
                "#B0BEC5",
                "#B0BEC5",
                "#B0BEC5",
                "#B0BEC5",
                "#B0BEC5",
                "#B0BEC5",
                "#B0BEC5",
                "#B0BEC5",
                "#B0BEC5",
                "#B0BEC5",
                "#B0BEC5",
                "red",
                "#B0BEC5",
                "#B0BEC5",
                "#B0BEC5",
                "#B0BEC5"
               ]
              ]
             }
            ],
            "label": "Topic 14",
            "method": "update"
           },
           {
            "args": [
             {
              "marker.color": [
               [
                "#B0BEC5",
                "#B0BEC5",
                "#B0BEC5",
                "#B0BEC5",
                "#B0BEC5",
                "#B0BEC5",
                "#B0BEC5",
                "#B0BEC5",
                "#B0BEC5",
                "#B0BEC5",
                "#B0BEC5",
                "#B0BEC5",
                "#B0BEC5",
                "#B0BEC5",
                "#B0BEC5",
                "red",
                "#B0BEC5",
                "#B0BEC5",
                "#B0BEC5"
               ]
              ]
             }
            ],
            "label": "Topic 15",
            "method": "update"
           },
           {
            "args": [
             {
              "marker.color": [
               [
                "#B0BEC5",
                "#B0BEC5",
                "#B0BEC5",
                "#B0BEC5",
                "#B0BEC5",
                "#B0BEC5",
                "#B0BEC5",
                "#B0BEC5",
                "#B0BEC5",
                "#B0BEC5",
                "#B0BEC5",
                "#B0BEC5",
                "#B0BEC5",
                "#B0BEC5",
                "#B0BEC5",
                "#B0BEC5",
                "red",
                "#B0BEC5",
                "#B0BEC5"
               ]
              ]
             }
            ],
            "label": "Topic 16",
            "method": "update"
           },
           {
            "args": [
             {
              "marker.color": [
               [
                "#B0BEC5",
                "#B0BEC5",
                "#B0BEC5",
                "#B0BEC5",
                "#B0BEC5",
                "#B0BEC5",
                "#B0BEC5",
                "#B0BEC5",
                "#B0BEC5",
                "#B0BEC5",
                "#B0BEC5",
                "#B0BEC5",
                "#B0BEC5",
                "#B0BEC5",
                "#B0BEC5",
                "#B0BEC5",
                "#B0BEC5",
                "red",
                "#B0BEC5"
               ]
              ]
             }
            ],
            "label": "Topic 17",
            "method": "update"
           },
           {
            "args": [
             {
              "marker.color": [
               [
                "#B0BEC5",
                "#B0BEC5",
                "#B0BEC5",
                "#B0BEC5",
                "#B0BEC5",
                "#B0BEC5",
                "#B0BEC5",
                "#B0BEC5",
                "#B0BEC5",
                "#B0BEC5",
                "#B0BEC5",
                "#B0BEC5",
                "#B0BEC5",
                "#B0BEC5",
                "#B0BEC5",
                "#B0BEC5",
                "#B0BEC5",
                "#B0BEC5",
                "red"
               ]
              ]
             }
            ],
            "label": "Topic 18",
            "method": "update"
           }
          ]
         }
        ],
        "template": {
         "data": {
          "bar": [
           {
            "error_x": {
             "color": "rgb(36,36,36)"
            },
            "error_y": {
             "color": "rgb(36,36,36)"
            },
            "marker": {
             "line": {
              "color": "white",
              "width": 0.5
             },
             "pattern": {
              "fillmode": "overlay",
              "size": 10,
              "solidity": 0.2
             }
            },
            "type": "bar"
           }
          ],
          "barpolar": [
           {
            "marker": {
             "line": {
              "color": "white",
              "width": 0.5
             },
             "pattern": {
              "fillmode": "overlay",
              "size": 10,
              "solidity": 0.2
             }
            },
            "type": "barpolar"
           }
          ],
          "carpet": [
           {
            "aaxis": {
             "endlinecolor": "rgb(36,36,36)",
             "gridcolor": "white",
             "linecolor": "white",
             "minorgridcolor": "white",
             "startlinecolor": "rgb(36,36,36)"
            },
            "baxis": {
             "endlinecolor": "rgb(36,36,36)",
             "gridcolor": "white",
             "linecolor": "white",
             "minorgridcolor": "white",
             "startlinecolor": "rgb(36,36,36)"
            },
            "type": "carpet"
           }
          ],
          "choropleth": [
           {
            "colorbar": {
             "outlinewidth": 1,
             "tickcolor": "rgb(36,36,36)",
             "ticks": "outside"
            },
            "type": "choropleth"
           }
          ],
          "contour": [
           {
            "colorbar": {
             "outlinewidth": 1,
             "tickcolor": "rgb(36,36,36)",
             "ticks": "outside"
            },
            "colorscale": [
             [
              0,
              "#440154"
             ],
             [
              0.1111111111111111,
              "#482878"
             ],
             [
              0.2222222222222222,
              "#3e4989"
             ],
             [
              0.3333333333333333,
              "#31688e"
             ],
             [
              0.4444444444444444,
              "#26828e"
             ],
             [
              0.5555555555555556,
              "#1f9e89"
             ],
             [
              0.6666666666666666,
              "#35b779"
             ],
             [
              0.7777777777777778,
              "#6ece58"
             ],
             [
              0.8888888888888888,
              "#b5de2b"
             ],
             [
              1,
              "#fde725"
             ]
            ],
            "type": "contour"
           }
          ],
          "contourcarpet": [
           {
            "colorbar": {
             "outlinewidth": 1,
             "tickcolor": "rgb(36,36,36)",
             "ticks": "outside"
            },
            "type": "contourcarpet"
           }
          ],
          "heatmap": [
           {
            "colorbar": {
             "outlinewidth": 1,
             "tickcolor": "rgb(36,36,36)",
             "ticks": "outside"
            },
            "colorscale": [
             [
              0,
              "#440154"
             ],
             [
              0.1111111111111111,
              "#482878"
             ],
             [
              0.2222222222222222,
              "#3e4989"
             ],
             [
              0.3333333333333333,
              "#31688e"
             ],
             [
              0.4444444444444444,
              "#26828e"
             ],
             [
              0.5555555555555556,
              "#1f9e89"
             ],
             [
              0.6666666666666666,
              "#35b779"
             ],
             [
              0.7777777777777778,
              "#6ece58"
             ],
             [
              0.8888888888888888,
              "#b5de2b"
             ],
             [
              1,
              "#fde725"
             ]
            ],
            "type": "heatmap"
           }
          ],
          "heatmapgl": [
           {
            "colorbar": {
             "outlinewidth": 1,
             "tickcolor": "rgb(36,36,36)",
             "ticks": "outside"
            },
            "colorscale": [
             [
              0,
              "#440154"
             ],
             [
              0.1111111111111111,
              "#482878"
             ],
             [
              0.2222222222222222,
              "#3e4989"
             ],
             [
              0.3333333333333333,
              "#31688e"
             ],
             [
              0.4444444444444444,
              "#26828e"
             ],
             [
              0.5555555555555556,
              "#1f9e89"
             ],
             [
              0.6666666666666666,
              "#35b779"
             ],
             [
              0.7777777777777778,
              "#6ece58"
             ],
             [
              0.8888888888888888,
              "#b5de2b"
             ],
             [
              1,
              "#fde725"
             ]
            ],
            "type": "heatmapgl"
           }
          ],
          "histogram": [
           {
            "marker": {
             "line": {
              "color": "white",
              "width": 0.6
             }
            },
            "type": "histogram"
           }
          ],
          "histogram2d": [
           {
            "colorbar": {
             "outlinewidth": 1,
             "tickcolor": "rgb(36,36,36)",
             "ticks": "outside"
            },
            "colorscale": [
             [
              0,
              "#440154"
             ],
             [
              0.1111111111111111,
              "#482878"
             ],
             [
              0.2222222222222222,
              "#3e4989"
             ],
             [
              0.3333333333333333,
              "#31688e"
             ],
             [
              0.4444444444444444,
              "#26828e"
             ],
             [
              0.5555555555555556,
              "#1f9e89"
             ],
             [
              0.6666666666666666,
              "#35b779"
             ],
             [
              0.7777777777777778,
              "#6ece58"
             ],
             [
              0.8888888888888888,
              "#b5de2b"
             ],
             [
              1,
              "#fde725"
             ]
            ],
            "type": "histogram2d"
           }
          ],
          "histogram2dcontour": [
           {
            "colorbar": {
             "outlinewidth": 1,
             "tickcolor": "rgb(36,36,36)",
             "ticks": "outside"
            },
            "colorscale": [
             [
              0,
              "#440154"
             ],
             [
              0.1111111111111111,
              "#482878"
             ],
             [
              0.2222222222222222,
              "#3e4989"
             ],
             [
              0.3333333333333333,
              "#31688e"
             ],
             [
              0.4444444444444444,
              "#26828e"
             ],
             [
              0.5555555555555556,
              "#1f9e89"
             ],
             [
              0.6666666666666666,
              "#35b779"
             ],
             [
              0.7777777777777778,
              "#6ece58"
             ],
             [
              0.8888888888888888,
              "#b5de2b"
             ],
             [
              1,
              "#fde725"
             ]
            ],
            "type": "histogram2dcontour"
           }
          ],
          "mesh3d": [
           {
            "colorbar": {
             "outlinewidth": 1,
             "tickcolor": "rgb(36,36,36)",
             "ticks": "outside"
            },
            "type": "mesh3d"
           }
          ],
          "parcoords": [
           {
            "line": {
             "colorbar": {
              "outlinewidth": 1,
              "tickcolor": "rgb(36,36,36)",
              "ticks": "outside"
             }
            },
            "type": "parcoords"
           }
          ],
          "pie": [
           {
            "automargin": true,
            "type": "pie"
           }
          ],
          "scatter": [
           {
            "fillpattern": {
             "fillmode": "overlay",
             "size": 10,
             "solidity": 0.2
            },
            "type": "scatter"
           }
          ],
          "scatter3d": [
           {
            "line": {
             "colorbar": {
              "outlinewidth": 1,
              "tickcolor": "rgb(36,36,36)",
              "ticks": "outside"
             }
            },
            "marker": {
             "colorbar": {
              "outlinewidth": 1,
              "tickcolor": "rgb(36,36,36)",
              "ticks": "outside"
             }
            },
            "type": "scatter3d"
           }
          ],
          "scattercarpet": [
           {
            "marker": {
             "colorbar": {
              "outlinewidth": 1,
              "tickcolor": "rgb(36,36,36)",
              "ticks": "outside"
             }
            },
            "type": "scattercarpet"
           }
          ],
          "scattergeo": [
           {
            "marker": {
             "colorbar": {
              "outlinewidth": 1,
              "tickcolor": "rgb(36,36,36)",
              "ticks": "outside"
             }
            },
            "type": "scattergeo"
           }
          ],
          "scattergl": [
           {
            "marker": {
             "colorbar": {
              "outlinewidth": 1,
              "tickcolor": "rgb(36,36,36)",
              "ticks": "outside"
             }
            },
            "type": "scattergl"
           }
          ],
          "scattermapbox": [
           {
            "marker": {
             "colorbar": {
              "outlinewidth": 1,
              "tickcolor": "rgb(36,36,36)",
              "ticks": "outside"
             }
            },
            "type": "scattermapbox"
           }
          ],
          "scatterpolar": [
           {
            "marker": {
             "colorbar": {
              "outlinewidth": 1,
              "tickcolor": "rgb(36,36,36)",
              "ticks": "outside"
             }
            },
            "type": "scatterpolar"
           }
          ],
          "scatterpolargl": [
           {
            "marker": {
             "colorbar": {
              "outlinewidth": 1,
              "tickcolor": "rgb(36,36,36)",
              "ticks": "outside"
             }
            },
            "type": "scatterpolargl"
           }
          ],
          "scatterternary": [
           {
            "marker": {
             "colorbar": {
              "outlinewidth": 1,
              "tickcolor": "rgb(36,36,36)",
              "ticks": "outside"
             }
            },
            "type": "scatterternary"
           }
          ],
          "surface": [
           {
            "colorbar": {
             "outlinewidth": 1,
             "tickcolor": "rgb(36,36,36)",
             "ticks": "outside"
            },
            "colorscale": [
             [
              0,
              "#440154"
             ],
             [
              0.1111111111111111,
              "#482878"
             ],
             [
              0.2222222222222222,
              "#3e4989"
             ],
             [
              0.3333333333333333,
              "#31688e"
             ],
             [
              0.4444444444444444,
              "#26828e"
             ],
             [
              0.5555555555555556,
              "#1f9e89"
             ],
             [
              0.6666666666666666,
              "#35b779"
             ],
             [
              0.7777777777777778,
              "#6ece58"
             ],
             [
              0.8888888888888888,
              "#b5de2b"
             ],
             [
              1,
              "#fde725"
             ]
            ],
            "type": "surface"
           }
          ],
          "table": [
           {
            "cells": {
             "fill": {
              "color": "rgb(237,237,237)"
             },
             "line": {
              "color": "white"
             }
            },
            "header": {
             "fill": {
              "color": "rgb(217,217,217)"
             },
             "line": {
              "color": "white"
             }
            },
            "type": "table"
           }
          ]
         },
         "layout": {
          "annotationdefaults": {
           "arrowhead": 0,
           "arrowwidth": 1
          },
          "autotypenumbers": "strict",
          "coloraxis": {
           "colorbar": {
            "outlinewidth": 1,
            "tickcolor": "rgb(36,36,36)",
            "ticks": "outside"
           }
          },
          "colorscale": {
           "diverging": [
            [
             0,
             "rgb(103,0,31)"
            ],
            [
             0.1,
             "rgb(178,24,43)"
            ],
            [
             0.2,
             "rgb(214,96,77)"
            ],
            [
             0.3,
             "rgb(244,165,130)"
            ],
            [
             0.4,
             "rgb(253,219,199)"
            ],
            [
             0.5,
             "rgb(247,247,247)"
            ],
            [
             0.6,
             "rgb(209,229,240)"
            ],
            [
             0.7,
             "rgb(146,197,222)"
            ],
            [
             0.8,
             "rgb(67,147,195)"
            ],
            [
             0.9,
             "rgb(33,102,172)"
            ],
            [
             1,
             "rgb(5,48,97)"
            ]
           ],
           "sequential": [
            [
             0,
             "#440154"
            ],
            [
             0.1111111111111111,
             "#482878"
            ],
            [
             0.2222222222222222,
             "#3e4989"
            ],
            [
             0.3333333333333333,
             "#31688e"
            ],
            [
             0.4444444444444444,
             "#26828e"
            ],
            [
             0.5555555555555556,
             "#1f9e89"
            ],
            [
             0.6666666666666666,
             "#35b779"
            ],
            [
             0.7777777777777778,
             "#6ece58"
            ],
            [
             0.8888888888888888,
             "#b5de2b"
            ],
            [
             1,
             "#fde725"
            ]
           ],
           "sequentialminus": [
            [
             0,
             "#440154"
            ],
            [
             0.1111111111111111,
             "#482878"
            ],
            [
             0.2222222222222222,
             "#3e4989"
            ],
            [
             0.3333333333333333,
             "#31688e"
            ],
            [
             0.4444444444444444,
             "#26828e"
            ],
            [
             0.5555555555555556,
             "#1f9e89"
            ],
            [
             0.6666666666666666,
             "#35b779"
            ],
            [
             0.7777777777777778,
             "#6ece58"
            ],
            [
             0.8888888888888888,
             "#b5de2b"
            ],
            [
             1,
             "#fde725"
            ]
           ]
          },
          "colorway": [
           "#1F77B4",
           "#FF7F0E",
           "#2CA02C",
           "#D62728",
           "#9467BD",
           "#8C564B",
           "#E377C2",
           "#7F7F7F",
           "#BCBD22",
           "#17BECF"
          ],
          "font": {
           "color": "rgb(36,36,36)"
          },
          "geo": {
           "bgcolor": "white",
           "lakecolor": "white",
           "landcolor": "white",
           "showlakes": true,
           "showland": true,
           "subunitcolor": "white"
          },
          "hoverlabel": {
           "align": "left"
          },
          "hovermode": "closest",
          "mapbox": {
           "style": "light"
          },
          "paper_bgcolor": "white",
          "plot_bgcolor": "white",
          "polar": {
           "angularaxis": {
            "gridcolor": "rgb(232,232,232)",
            "linecolor": "rgb(36,36,36)",
            "showgrid": false,
            "showline": true,
            "ticks": "outside"
           },
           "bgcolor": "white",
           "radialaxis": {
            "gridcolor": "rgb(232,232,232)",
            "linecolor": "rgb(36,36,36)",
            "showgrid": false,
            "showline": true,
            "ticks": "outside"
           }
          },
          "scene": {
           "xaxis": {
            "backgroundcolor": "white",
            "gridcolor": "rgb(232,232,232)",
            "gridwidth": 2,
            "linecolor": "rgb(36,36,36)",
            "showbackground": true,
            "showgrid": false,
            "showline": true,
            "ticks": "outside",
            "zeroline": false,
            "zerolinecolor": "rgb(36,36,36)"
           },
           "yaxis": {
            "backgroundcolor": "white",
            "gridcolor": "rgb(232,232,232)",
            "gridwidth": 2,
            "linecolor": "rgb(36,36,36)",
            "showbackground": true,
            "showgrid": false,
            "showline": true,
            "ticks": "outside",
            "zeroline": false,
            "zerolinecolor": "rgb(36,36,36)"
           },
           "zaxis": {
            "backgroundcolor": "white",
            "gridcolor": "rgb(232,232,232)",
            "gridwidth": 2,
            "linecolor": "rgb(36,36,36)",
            "showbackground": true,
            "showgrid": false,
            "showline": true,
            "ticks": "outside",
            "zeroline": false,
            "zerolinecolor": "rgb(36,36,36)"
           }
          },
          "shapedefaults": {
           "fillcolor": "black",
           "line": {
            "width": 0
           },
           "opacity": 0.3
          },
          "ternary": {
           "aaxis": {
            "gridcolor": "rgb(232,232,232)",
            "linecolor": "rgb(36,36,36)",
            "showgrid": false,
            "showline": true,
            "ticks": "outside"
           },
           "baxis": {
            "gridcolor": "rgb(232,232,232)",
            "linecolor": "rgb(36,36,36)",
            "showgrid": false,
            "showline": true,
            "ticks": "outside"
           },
           "bgcolor": "white",
           "caxis": {
            "gridcolor": "rgb(232,232,232)",
            "linecolor": "rgb(36,36,36)",
            "showgrid": false,
            "showline": true,
            "ticks": "outside"
           }
          },
          "title": {
           "x": 0.05
          },
          "xaxis": {
           "automargin": true,
           "gridcolor": "rgb(232,232,232)",
           "linecolor": "rgb(36,36,36)",
           "showgrid": false,
           "showline": true,
           "ticks": "outside",
           "title": {
            "standoff": 15
           },
           "zeroline": false,
           "zerolinecolor": "rgb(36,36,36)"
          },
          "yaxis": {
           "automargin": true,
           "gridcolor": "rgb(232,232,232)",
           "linecolor": "rgb(36,36,36)",
           "showgrid": false,
           "showline": true,
           "ticks": "outside",
           "title": {
            "standoff": 15
           },
           "zeroline": false,
           "zerolinecolor": "rgb(36,36,36)"
          }
         }
        },
        "title": {
         "font": {
          "color": "Black",
          "size": 22
         },
         "text": "<b>Intertopic Distance Map</b>",
         "x": 0.5,
         "xanchor": "center",
         "y": 0.95,
         "yanchor": "top"
        },
        "width": 650,
        "xaxis": {
         "anchor": "y",
         "domain": [
          0,
          1
         ],
         "range": [
          0.8120913594961167,
          5.403492879867554
         ],
         "title": {
          "text": ""
         },
         "visible": false
        },
        "yaxis": {
         "anchor": "x",
         "domain": [
          0,
          1
         ],
         "range": [
          1.7353652596473694,
          9.710489511489868
         ],
         "title": {
          "text": ""
         },
         "visible": false
        }
       }
      }
     },
     "metadata": {},
     "output_type": "display_data"
    }
   ],
   "source": [
    "fig = topic_model.visualize_topics(); fig"
   ]
  },
  {
   "cell_type": "code",
   "execution_count": 629,
   "metadata": {},
   "outputs": [
    {
     "name": "stderr",
     "output_type": "stream",
     "text": [
      "100%|██████████| 18/18 [00:00<00:00, 237.40it/s]\n"
     ]
    }
   ],
   "source": [
    "from scipy.cluster import hierarchy as sch\n",
    "\n",
    "# Hierarchical topics\n",
    "linkage_function = lambda x: sch.linkage(x, 'single', optimal_ordering=True)\n",
    "hierarchical_topics = topic_model.hierarchical_topics(texts, linkage_function=linkage_function)"
   ]
  },
  {
   "cell_type": "code",
   "execution_count": 630,
   "metadata": {},
   "outputs": [
    {
     "data": {
      "application/vnd.plotly.v1+json": {
       "config": {
        "plotlyServerURL": "https://plot.ly"
       },
       "data": [
        {
         "hoverinfo": "text",
         "marker": {
          "color": "rgb(61,153,112)"
         },
         "mode": "lines",
         "text": [
          "rpa_voice_automation_dialogue_chat",
          "",
          "",
          "vehicle_passenger_autonomous_reality_service"
         ],
         "type": "scatter",
         "x": [
          0,
          0.5893279725363244,
          0.5893279725363244,
          0
         ],
         "xaxis": "x",
         "y": [
          -25,
          -25,
          -35,
          -35
         ],
         "yaxis": "y"
        },
        {
         "hoverinfo": "text",
         "marker": {
          "color": "rgb(61,153,112)"
         },
         "mode": "lines",
         "text": [
          "neural_network_training_neuronalen_netzes",
          "",
          "",
          "vehicle_passenger_autonomous_reality_service"
         ],
         "type": "scatter",
         "x": [
          0,
          0.709529610802991,
          0.709529610802991,
          0.5893279725363244
         ],
         "xaxis": "x",
         "y": [
          -15,
          -15,
          -30,
          -30
         ],
         "yaxis": "y"
        },
        {
         "hoverinfo": "text",
         "marker": {
          "color": "rgb(61,153,112)"
         },
         "mode": "lines",
         "text": [
          "tactile_sensor_layer_sensing_force",
          "",
          "",
          "fruit_picking_fruits_vegetable_vine"
         ],
         "type": "scatter",
         "x": [
          0,
          0.6741292492235555,
          0.6741292492235555,
          0
         ],
         "xaxis": "x",
         "y": [
          -45,
          -45,
          -55,
          -55
         ],
         "yaxis": "y"
        },
        {
         "hoverinfo": "text",
         "marker": {
          "color": "rgb(61,153,112)"
         },
         "mode": "lines",
         "text": [
          "substrate_sorting_transfer_chamber_container",
          "",
          "",
          "cup_glass_suction_fluid_liquid"
         ],
         "type": "scatter",
         "x": [
          0,
          0.4821589368364252,
          0.4821589368364252,
          0
         ],
         "xaxis": "x",
         "y": [
          -75,
          -75,
          -85,
          -85
         ],
         "yaxis": "y"
        },
        {
         "hoverinfo": "text",
         "marker": {
          "color": "rgb(61,153,112)"
         },
         "mode": "lines",
         "text": [
          "food_cooking_kitchen_processor_küchenmaschine",
          "",
          "",
          "cup_glass_suction_fluid_liquid"
         ],
         "type": "scatter",
         "x": [
          0,
          0.5647056866416937,
          0.5647056866416937,
          0.4821589368364252
         ],
         "xaxis": "x",
         "y": [
          -65,
          -65,
          -80,
          -80
         ],
         "yaxis": "y"
        },
        {
         "hoverinfo": "text",
         "marker": {
          "color": "rgb(61,153,112)"
         },
         "mode": "lines",
         "text": [
          "food_cooking_kitchen_processor_küchenmaschine",
          "",
          "",
          "printing_print_printer_ink_head"
         ],
         "type": "scatter",
         "x": [
          0.5647056866416937,
          0.637544656557704,
          0.637544656557704,
          0
         ],
         "xaxis": "x",
         "y": [
          -72.5,
          -72.5,
          -95,
          -95
         ],
         "yaxis": "y"
        },
        {
         "hoverinfo": "text",
         "marker": {
          "color": "rgb(61,153,112)"
         },
         "mode": "lines",
         "text": [
          "food_cooking_kitchen_processor_küchenmaschine",
          "",
          "",
          "printing_print_printer_ink_head"
         ],
         "type": "scatter",
         "x": [
          0.6741292492235555,
          0.6864674712319652,
          0.6864674712319652,
          0.637544656557704
         ],
         "xaxis": "x",
         "y": [
          -50,
          -50,
          -83.75,
          -83.75
         ],
         "yaxis": "y"
        },
        {
         "hoverinfo": "text",
         "marker": {
          "color": "rgb(61,153,112)"
         },
         "mode": "lines",
         "text": [
          "aerial_wind_unmanned_flying_turbine",
          "",
          "",
          "agv_gait_biped_carrying_phase"
         ],
         "type": "scatter",
         "x": [
          0,
          0.46769154053813855,
          0.46769154053813855,
          0
         ],
         "xaxis": "x",
         "y": [
          -115,
          -115,
          -125,
          -125
         ],
         "yaxis": "y"
        },
        {
         "hoverinfo": "text",
         "marker": {
          "color": "rgb(61,153,112)"
         },
         "mode": "lines",
         "text": [
          "cleaning_body_robot_welding_is",
          "",
          "",
          "surgical_instrument_robotic_effector_arm"
         ],
         "type": "scatter",
         "x": [
          0,
          0.26618684284941896,
          0.26618684284941896,
          0
         ],
         "xaxis": "x",
         "y": [
          -145,
          -145,
          -155,
          -155
         ],
         "yaxis": "y"
        },
        {
         "hoverinfo": "text",
         "marker": {
          "color": "rgb(61,153,112)"
         },
         "mode": "lines",
         "text": [
          "exoskeleton_limb_rehabilitation_joint_waist",
          "",
          "",
          "cleaning_body_is_robot_on"
         ],
         "type": "scatter",
         "x": [
          0,
          0.3480656520379247,
          0.3480656520379247,
          0.26618684284941896
         ],
         "xaxis": "x",
         "y": [
          -135,
          -135,
          -150,
          -150
         ],
         "yaxis": "y"
        },
        {
         "hoverinfo": "text",
         "marker": {
          "color": "rgb(61,153,112)"
         },
         "mode": "lines",
         "text": [
          "exoskeleton_limb_rehabilitation_joint_waist",
          "",
          "",
          "cleaning_body_is_comprises_with"
         ],
         "type": "scatter",
         "x": [
          0.46769154053813855,
          0.47222368314048285,
          0.47222368314048285,
          0.3480656520379247
         ],
         "xaxis": "x",
         "y": [
          -120,
          -120,
          -142.5,
          -142.5
         ],
         "yaxis": "y"
        },
        {
         "hoverinfo": "text",
         "marker": {
          "color": "rgb(61,153,112)"
         },
         "mode": "lines",
         "text": [
          "cleaning_body_is_comprises_with",
          "",
          "",
          "snakelike_snake_shaped_section_bionic"
         ],
         "type": "scatter",
         "x": [
          0.47222368314048285,
          0.5958759432157894,
          0.5958759432157894,
          0
         ],
         "xaxis": "x",
         "y": [
          -131.25,
          -131.25,
          -165,
          -165
         ],
         "yaxis": "y"
        },
        {
         "hoverinfo": "text",
         "marker": {
          "color": "rgb(61,153,112)"
         },
         "mode": "lines",
         "text": [
          "brake_braking_band_electromagnetic_brakes",
          "",
          "",
          "snakelike_snake_shaped_section_bionic"
         ],
         "type": "scatter",
         "x": [
          0,
          0.6125239335331035,
          0.6125239335331035,
          0.5958759432157894
         ],
         "xaxis": "x",
         "y": [
          -105,
          -105,
          -148.125,
          -148.125
         ],
         "yaxis": "y"
        },
        {
         "hoverinfo": "text",
         "marker": {
          "color": "rgb(61,153,112)"
         },
         "mode": "lines",
         "text": [
          "brake_braking_band_electromagnetic_brakes",
          "",
          "",
          "catheter_interventional_guidewire_guide_translation"
         ],
         "type": "scatter",
         "x": [
          0.6125239335331035,
          0.6316272452618023,
          0.6316272452618023,
          0
         ],
         "xaxis": "x",
         "y": [
          -126.5625,
          -126.5625,
          -175,
          -175
         ],
         "yaxis": "y"
        },
        {
         "hoverinfo": "text",
         "marker": {
          "color": "rgb(61,153,112)"
         },
         "mode": "lines",
         "text": [
          "brake_braking_band_electromagnetic_brakes",
          "",
          "",
          "catheter_interventional_guidewire_guide_translation"
         ],
         "type": "scatter",
         "x": [
          0.6864674712319652,
          0.738463094513046,
          0.738463094513046,
          0.6316272452618023
         ],
         "xaxis": "x",
         "y": [
          -66.875,
          -66.875,
          -150.78125,
          -150.78125
         ],
         "yaxis": "y"
        },
        {
         "hoverinfo": "text",
         "marker": {
          "color": "rgb(61,153,112)"
         },
         "mode": "lines",
         "text": [
          "brake_braking_band_electromagnetic_brakes",
          "",
          "",
          "gear_planetary_wave_harmonic_generator"
         ],
         "type": "scatter",
         "x": [
          0.738463094513046,
          0.792319729751296,
          0.792319729751296,
          0
         ],
         "xaxis": "x",
         "y": [
          -108.828125,
          -108.828125,
          -185,
          -185
         ],
         "yaxis": "y"
        },
        {
         "hoverinfo": "text",
         "marker": {
          "color": "rgb(61,153,112)"
         },
         "mode": "lines",
         "text": [
          "brake_braking_band_electromagnetic_brakes",
          "",
          "",
          "gear_planetary_wave_harmonic_generator"
         ],
         "type": "scatter",
         "x": [
          0.709529610802991,
          0.9165206840037986,
          0.9165206840037986,
          0.792319729751296
         ],
         "xaxis": "x",
         "y": [
          -22.5,
          -22.5,
          -146.9140625,
          -146.9140625
         ],
         "yaxis": "y"
        },
        {
         "hoverinfo": "text",
         "marker": {
          "color": "rgb(0,116,217)"
         },
         "mode": "lines",
         "text": [
          "der_einer_werkstückträgervorrichtung_des_eines",
          "",
          "",
          "is_with_body_cleaning_comprises"
         ],
         "type": "scatter",
         "x": [
          0,
          1.0230858175162845,
          1.0230858175162845,
          0.9165206840037986
         ],
         "xaxis": "x",
         "y": [
          -5,
          -5,
          -84.70703125,
          -84.70703125
         ],
         "yaxis": "y"
        },
        {
         "hoverinfo": "text",
         "hovertext": [
          "food_cooking_kitchen_processor_küchenmaschine",
          "food_cooking_kitchen_processor_küchenmaschine",
          "exoskeleton_limb_rehabilitation_joint_waist",
          "cleaning_body_is_comprises_with",
          "brake_braking_band_electromagnetic_brakes",
          "brake_braking_band_electromagnetic_brakes",
          "brake_braking_band_electromagnetic_brakes",
          "brake_braking_band_electromagnetic_brakes"
         ],
         "marker": {
          "color": "black"
         },
         "mode": "markers",
         "showlegend": false,
         "type": "scatter",
         "x": [
          0.5647056866416937,
          0.6741292492235555,
          0.46769154053813855,
          0.47222368314048285,
          0.6125239335331035,
          0.6864674712319652,
          0.738463094513046,
          0.709529610802991
         ],
         "y": [
          -72.5,
          -50,
          -120,
          -131.25,
          -126.5625,
          -66.875,
          -108.828125,
          -22.5
         ]
        },
        {
         "hoverinfo": "text",
         "hovertext": [
          "vehicle_passenger_autonomous_reality_service",
          "cup_glass_suction_fluid_liquid",
          "printing_print_printer_ink_head",
          "cleaning_body_is_robot_on",
          "cleaning_body_is_comprises_with",
          "snakelike_snake_shaped_section_bionic",
          "catheter_interventional_guidewire_guide_translation",
          "gear_planetary_wave_harmonic_generator",
          "is_with_body_cleaning_comprises"
         ],
         "marker": {
          "color": "black"
         },
         "mode": "markers",
         "showlegend": false,
         "type": "scatter",
         "x": [
          0.5893279725363244,
          0.4821589368364252,
          0.637544656557704,
          0.26618684284941896,
          0.3480656520379247,
          0.5958759432157894,
          0.6316272452618023,
          0.792319729751296,
          0.9165206840037986
         ],
         "y": [
          -30,
          -80,
          -83.75,
          -150,
          -142.5,
          -148.125,
          -150.78125,
          -146.9140625,
          -84.70703125
         ]
        }
       ],
       "layout": {
        "autosize": false,
        "height": 485,
        "hoverlabel": {
         "bgcolor": "white",
         "font": {
          "family": "Rockwell",
          "size": 16
         }
        },
        "hovermode": "closest",
        "plot_bgcolor": "#ECEFF1",
        "showlegend": false,
        "template": {
         "data": {
          "bar": [
           {
            "error_x": {
             "color": "#2a3f5f"
            },
            "error_y": {
             "color": "#2a3f5f"
            },
            "marker": {
             "line": {
              "color": "white",
              "width": 0.5
             },
             "pattern": {
              "fillmode": "overlay",
              "size": 10,
              "solidity": 0.2
             }
            },
            "type": "bar"
           }
          ],
          "barpolar": [
           {
            "marker": {
             "line": {
              "color": "white",
              "width": 0.5
             },
             "pattern": {
              "fillmode": "overlay",
              "size": 10,
              "solidity": 0.2
             }
            },
            "type": "barpolar"
           }
          ],
          "carpet": [
           {
            "aaxis": {
             "endlinecolor": "#2a3f5f",
             "gridcolor": "#C8D4E3",
             "linecolor": "#C8D4E3",
             "minorgridcolor": "#C8D4E3",
             "startlinecolor": "#2a3f5f"
            },
            "baxis": {
             "endlinecolor": "#2a3f5f",
             "gridcolor": "#C8D4E3",
             "linecolor": "#C8D4E3",
             "minorgridcolor": "#C8D4E3",
             "startlinecolor": "#2a3f5f"
            },
            "type": "carpet"
           }
          ],
          "choropleth": [
           {
            "colorbar": {
             "outlinewidth": 0,
             "ticks": ""
            },
            "type": "choropleth"
           }
          ],
          "contour": [
           {
            "colorbar": {
             "outlinewidth": 0,
             "ticks": ""
            },
            "colorscale": [
             [
              0,
              "#0d0887"
             ],
             [
              0.1111111111111111,
              "#46039f"
             ],
             [
              0.2222222222222222,
              "#7201a8"
             ],
             [
              0.3333333333333333,
              "#9c179e"
             ],
             [
              0.4444444444444444,
              "#bd3786"
             ],
             [
              0.5555555555555556,
              "#d8576b"
             ],
             [
              0.6666666666666666,
              "#ed7953"
             ],
             [
              0.7777777777777778,
              "#fb9f3a"
             ],
             [
              0.8888888888888888,
              "#fdca26"
             ],
             [
              1,
              "#f0f921"
             ]
            ],
            "type": "contour"
           }
          ],
          "contourcarpet": [
           {
            "colorbar": {
             "outlinewidth": 0,
             "ticks": ""
            },
            "type": "contourcarpet"
           }
          ],
          "heatmap": [
           {
            "colorbar": {
             "outlinewidth": 0,
             "ticks": ""
            },
            "colorscale": [
             [
              0,
              "#0d0887"
             ],
             [
              0.1111111111111111,
              "#46039f"
             ],
             [
              0.2222222222222222,
              "#7201a8"
             ],
             [
              0.3333333333333333,
              "#9c179e"
             ],
             [
              0.4444444444444444,
              "#bd3786"
             ],
             [
              0.5555555555555556,
              "#d8576b"
             ],
             [
              0.6666666666666666,
              "#ed7953"
             ],
             [
              0.7777777777777778,
              "#fb9f3a"
             ],
             [
              0.8888888888888888,
              "#fdca26"
             ],
             [
              1,
              "#f0f921"
             ]
            ],
            "type": "heatmap"
           }
          ],
          "heatmapgl": [
           {
            "colorbar": {
             "outlinewidth": 0,
             "ticks": ""
            },
            "colorscale": [
             [
              0,
              "#0d0887"
             ],
             [
              0.1111111111111111,
              "#46039f"
             ],
             [
              0.2222222222222222,
              "#7201a8"
             ],
             [
              0.3333333333333333,
              "#9c179e"
             ],
             [
              0.4444444444444444,
              "#bd3786"
             ],
             [
              0.5555555555555556,
              "#d8576b"
             ],
             [
              0.6666666666666666,
              "#ed7953"
             ],
             [
              0.7777777777777778,
              "#fb9f3a"
             ],
             [
              0.8888888888888888,
              "#fdca26"
             ],
             [
              1,
              "#f0f921"
             ]
            ],
            "type": "heatmapgl"
           }
          ],
          "histogram": [
           {
            "marker": {
             "pattern": {
              "fillmode": "overlay",
              "size": 10,
              "solidity": 0.2
             }
            },
            "type": "histogram"
           }
          ],
          "histogram2d": [
           {
            "colorbar": {
             "outlinewidth": 0,
             "ticks": ""
            },
            "colorscale": [
             [
              0,
              "#0d0887"
             ],
             [
              0.1111111111111111,
              "#46039f"
             ],
             [
              0.2222222222222222,
              "#7201a8"
             ],
             [
              0.3333333333333333,
              "#9c179e"
             ],
             [
              0.4444444444444444,
              "#bd3786"
             ],
             [
              0.5555555555555556,
              "#d8576b"
             ],
             [
              0.6666666666666666,
              "#ed7953"
             ],
             [
              0.7777777777777778,
              "#fb9f3a"
             ],
             [
              0.8888888888888888,
              "#fdca26"
             ],
             [
              1,
              "#f0f921"
             ]
            ],
            "type": "histogram2d"
           }
          ],
          "histogram2dcontour": [
           {
            "colorbar": {
             "outlinewidth": 0,
             "ticks": ""
            },
            "colorscale": [
             [
              0,
              "#0d0887"
             ],
             [
              0.1111111111111111,
              "#46039f"
             ],
             [
              0.2222222222222222,
              "#7201a8"
             ],
             [
              0.3333333333333333,
              "#9c179e"
             ],
             [
              0.4444444444444444,
              "#bd3786"
             ],
             [
              0.5555555555555556,
              "#d8576b"
             ],
             [
              0.6666666666666666,
              "#ed7953"
             ],
             [
              0.7777777777777778,
              "#fb9f3a"
             ],
             [
              0.8888888888888888,
              "#fdca26"
             ],
             [
              1,
              "#f0f921"
             ]
            ],
            "type": "histogram2dcontour"
           }
          ],
          "mesh3d": [
           {
            "colorbar": {
             "outlinewidth": 0,
             "ticks": ""
            },
            "type": "mesh3d"
           }
          ],
          "parcoords": [
           {
            "line": {
             "colorbar": {
              "outlinewidth": 0,
              "ticks": ""
             }
            },
            "type": "parcoords"
           }
          ],
          "pie": [
           {
            "automargin": true,
            "type": "pie"
           }
          ],
          "scatter": [
           {
            "fillpattern": {
             "fillmode": "overlay",
             "size": 10,
             "solidity": 0.2
            },
            "type": "scatter"
           }
          ],
          "scatter3d": [
           {
            "line": {
             "colorbar": {
              "outlinewidth": 0,
              "ticks": ""
             }
            },
            "marker": {
             "colorbar": {
              "outlinewidth": 0,
              "ticks": ""
             }
            },
            "type": "scatter3d"
           }
          ],
          "scattercarpet": [
           {
            "marker": {
             "colorbar": {
              "outlinewidth": 0,
              "ticks": ""
             }
            },
            "type": "scattercarpet"
           }
          ],
          "scattergeo": [
           {
            "marker": {
             "colorbar": {
              "outlinewidth": 0,
              "ticks": ""
             }
            },
            "type": "scattergeo"
           }
          ],
          "scattergl": [
           {
            "marker": {
             "colorbar": {
              "outlinewidth": 0,
              "ticks": ""
             }
            },
            "type": "scattergl"
           }
          ],
          "scattermapbox": [
           {
            "marker": {
             "colorbar": {
              "outlinewidth": 0,
              "ticks": ""
             }
            },
            "type": "scattermapbox"
           }
          ],
          "scatterpolar": [
           {
            "marker": {
             "colorbar": {
              "outlinewidth": 0,
              "ticks": ""
             }
            },
            "type": "scatterpolar"
           }
          ],
          "scatterpolargl": [
           {
            "marker": {
             "colorbar": {
              "outlinewidth": 0,
              "ticks": ""
             }
            },
            "type": "scatterpolargl"
           }
          ],
          "scatterternary": [
           {
            "marker": {
             "colorbar": {
              "outlinewidth": 0,
              "ticks": ""
             }
            },
            "type": "scatterternary"
           }
          ],
          "surface": [
           {
            "colorbar": {
             "outlinewidth": 0,
             "ticks": ""
            },
            "colorscale": [
             [
              0,
              "#0d0887"
             ],
             [
              0.1111111111111111,
              "#46039f"
             ],
             [
              0.2222222222222222,
              "#7201a8"
             ],
             [
              0.3333333333333333,
              "#9c179e"
             ],
             [
              0.4444444444444444,
              "#bd3786"
             ],
             [
              0.5555555555555556,
              "#d8576b"
             ],
             [
              0.6666666666666666,
              "#ed7953"
             ],
             [
              0.7777777777777778,
              "#fb9f3a"
             ],
             [
              0.8888888888888888,
              "#fdca26"
             ],
             [
              1,
              "#f0f921"
             ]
            ],
            "type": "surface"
           }
          ],
          "table": [
           {
            "cells": {
             "fill": {
              "color": "#EBF0F8"
             },
             "line": {
              "color": "white"
             }
            },
            "header": {
             "fill": {
              "color": "#C8D4E3"
             },
             "line": {
              "color": "white"
             }
            },
            "type": "table"
           }
          ]
         },
         "layout": {
          "annotationdefaults": {
           "arrowcolor": "#2a3f5f",
           "arrowhead": 0,
           "arrowwidth": 1
          },
          "autotypenumbers": "strict",
          "coloraxis": {
           "colorbar": {
            "outlinewidth": 0,
            "ticks": ""
           }
          },
          "colorscale": {
           "diverging": [
            [
             0,
             "#8e0152"
            ],
            [
             0.1,
             "#c51b7d"
            ],
            [
             0.2,
             "#de77ae"
            ],
            [
             0.3,
             "#f1b6da"
            ],
            [
             0.4,
             "#fde0ef"
            ],
            [
             0.5,
             "#f7f7f7"
            ],
            [
             0.6,
             "#e6f5d0"
            ],
            [
             0.7,
             "#b8e186"
            ],
            [
             0.8,
             "#7fbc41"
            ],
            [
             0.9,
             "#4d9221"
            ],
            [
             1,
             "#276419"
            ]
           ],
           "sequential": [
            [
             0,
             "#0d0887"
            ],
            [
             0.1111111111111111,
             "#46039f"
            ],
            [
             0.2222222222222222,
             "#7201a8"
            ],
            [
             0.3333333333333333,
             "#9c179e"
            ],
            [
             0.4444444444444444,
             "#bd3786"
            ],
            [
             0.5555555555555556,
             "#d8576b"
            ],
            [
             0.6666666666666666,
             "#ed7953"
            ],
            [
             0.7777777777777778,
             "#fb9f3a"
            ],
            [
             0.8888888888888888,
             "#fdca26"
            ],
            [
             1,
             "#f0f921"
            ]
           ],
           "sequentialminus": [
            [
             0,
             "#0d0887"
            ],
            [
             0.1111111111111111,
             "#46039f"
            ],
            [
             0.2222222222222222,
             "#7201a8"
            ],
            [
             0.3333333333333333,
             "#9c179e"
            ],
            [
             0.4444444444444444,
             "#bd3786"
            ],
            [
             0.5555555555555556,
             "#d8576b"
            ],
            [
             0.6666666666666666,
             "#ed7953"
            ],
            [
             0.7777777777777778,
             "#fb9f3a"
            ],
            [
             0.8888888888888888,
             "#fdca26"
            ],
            [
             1,
             "#f0f921"
            ]
           ]
          },
          "colorway": [
           "#636efa",
           "#EF553B",
           "#00cc96",
           "#ab63fa",
           "#FFA15A",
           "#19d3f3",
           "#FF6692",
           "#B6E880",
           "#FF97FF",
           "#FECB52"
          ],
          "font": {
           "color": "#2a3f5f"
          },
          "geo": {
           "bgcolor": "white",
           "lakecolor": "white",
           "landcolor": "white",
           "showlakes": true,
           "showland": true,
           "subunitcolor": "#C8D4E3"
          },
          "hoverlabel": {
           "align": "left"
          },
          "hovermode": "closest",
          "mapbox": {
           "style": "light"
          },
          "paper_bgcolor": "white",
          "plot_bgcolor": "white",
          "polar": {
           "angularaxis": {
            "gridcolor": "#EBF0F8",
            "linecolor": "#EBF0F8",
            "ticks": ""
           },
           "bgcolor": "white",
           "radialaxis": {
            "gridcolor": "#EBF0F8",
            "linecolor": "#EBF0F8",
            "ticks": ""
           }
          },
          "scene": {
           "xaxis": {
            "backgroundcolor": "white",
            "gridcolor": "#DFE8F3",
            "gridwidth": 2,
            "linecolor": "#EBF0F8",
            "showbackground": true,
            "ticks": "",
            "zerolinecolor": "#EBF0F8"
           },
           "yaxis": {
            "backgroundcolor": "white",
            "gridcolor": "#DFE8F3",
            "gridwidth": 2,
            "linecolor": "#EBF0F8",
            "showbackground": true,
            "ticks": "",
            "zerolinecolor": "#EBF0F8"
           },
           "zaxis": {
            "backgroundcolor": "white",
            "gridcolor": "#DFE8F3",
            "gridwidth": 2,
            "linecolor": "#EBF0F8",
            "showbackground": true,
            "ticks": "",
            "zerolinecolor": "#EBF0F8"
           }
          },
          "shapedefaults": {
           "line": {
            "color": "#2a3f5f"
           }
          },
          "ternary": {
           "aaxis": {
            "gridcolor": "#DFE8F3",
            "linecolor": "#A2B1C6",
            "ticks": ""
           },
           "baxis": {
            "gridcolor": "#DFE8F3",
            "linecolor": "#A2B1C6",
            "ticks": ""
           },
           "bgcolor": "white",
           "caxis": {
            "gridcolor": "#DFE8F3",
            "linecolor": "#A2B1C6",
            "ticks": ""
           }
          },
          "title": {
           "x": 0.05
          },
          "xaxis": {
           "automargin": true,
           "gridcolor": "#EBF0F8",
           "linecolor": "#EBF0F8",
           "ticks": "",
           "title": {
            "standoff": 15
           },
           "zerolinecolor": "#EBF0F8",
           "zerolinewidth": 2
          },
          "yaxis": {
           "automargin": true,
           "gridcolor": "#EBF0F8",
           "linecolor": "#EBF0F8",
           "ticks": "",
           "title": {
            "standoff": 15
           },
           "zerolinecolor": "#EBF0F8",
           "zerolinewidth": 2
          }
         }
        },
        "title": {
         "font": {
          "color": "Black",
          "size": 22
         },
         "text": "<b>Hierarchical Clustering</b>",
         "x": 0.5,
         "xanchor": "center",
         "yanchor": "top"
        },
        "width": 1000,
        "xaxis": {
         "mirror": "allticks",
         "rangemode": "tozero",
         "showgrid": false,
         "showline": true,
         "showticklabels": true,
         "ticks": "outside",
         "type": "linear",
         "zeroline": false
        },
        "yaxis": {
         "mirror": "allticks",
         "range": [
          -190,
          0
         ],
         "rangemode": "tozero",
         "showgrid": false,
         "showline": true,
         "showticklabels": true,
         "tickmode": "array",
         "ticks": "outside",
         "ticktext": [
          "17_der_einer_werkstückträge...",
          "14_neural_network_training",
          "4_rpa_voice_automation",
          "18_vehicle_passenger_autono...",
          "12_tactile_sensor_layer",
          "13_fruit_picking_fruits",
          "6_food_cooking_kitchen",
          "3_substrate_sorting_transfer",
          "7_cup_glass_suction",
          "10_printing_print_printer",
          "11_brake_braking_band",
          "5_aerial_wind_unmanned",
          "8_agv_gait_biped",
          "2_exoskeleton_limb_rehabili...",
          "0_cleaning_body_robot",
          "1_surgical_instrument_robotic",
          "16_snakelike_snake_shaped",
          "9_catheter_interventional_g...",
          "15_gear_planetary_wave"
         ],
         "tickvals": [
          -5,
          -15,
          -25,
          -35,
          -45,
          -55,
          -65,
          -75,
          -85,
          -95,
          -105,
          -115,
          -125,
          -135,
          -145,
          -155,
          -165,
          -175,
          -185
         ],
         "type": "linear",
         "zeroline": false
        }
       }
      }
     },
     "metadata": {},
     "output_type": "display_data"
    }
   ],
   "source": [
    "topic_model.visualize_hierarchy(hierarchical_topics=hierarchical_topics)"
   ]
  },
  {
   "cell_type": "code",
   "execution_count": 19,
   "metadata": {},
   "outputs": [
    {
     "ename": "NameError",
     "evalue": "name 'hierarchical_topics' is not defined",
     "output_type": "error",
     "traceback": [
      "\u001b[1;31m---------------------------------------------------------------------------\u001b[0m",
      "\u001b[1;31mNameError\u001b[0m                                 Traceback (most recent call last)",
      "Cell \u001b[1;32mIn[19], line 6\u001b[0m\n\u001b[0;32m      3\u001b[0m     \u001b[38;5;28;01mfor\u001b[39;00m line \u001b[38;5;129;01min\u001b[39;00m lines:\n\u001b[0;32m      4\u001b[0m         \u001b[38;5;28mprint\u001b[39m(line)\n\u001b[1;32m----> 6\u001b[0m topic_tree \u001b[38;5;241m=\u001b[39m topic_model\u001b[38;5;241m.\u001b[39mget_topic_tree(\u001b[43mhierarchical_topics\u001b[49m)\n\u001b[0;32m      8\u001b[0m print_hierarchical_topics(topic_tree)\n",
      "\u001b[1;31mNameError\u001b[0m: name 'hierarchical_topics' is not defined"
     ]
    }
   ],
   "source": [
    "def print_hierarchical_topics(topic_string):\n",
    "    lines = topic_string.split('\\n')\n",
    "    for line in lines:\n",
    "        print(line)\n",
    "\n",
    "topic_tree = topic_model.get_topic_tree(hierarchical_topics)\n",
    "\n",
    "print_hierarchical_topics(topic_tree)"
   ]
  },
  {
   "cell_type": "code",
   "execution_count": 632,
   "metadata": {},
   "outputs": [],
   "source": [
    "# topics_to_merge = [[1, 2],\n",
    "#                    [3, 4]]\n",
    "# topic_model.merge_topics(docs, topics_to_merge)"
   ]
  },
  {
   "cell_type": "code",
   "execution_count": 7,
   "metadata": {},
   "outputs": [
    {
     "data": {
      "application/vnd.plotly.v1+json": {
       "config": {
        "plotlyServerURL": "https://plot.ly"
       },
       "data": [
        {
         "coloraxis": "coloraxis",
         "hovertemplate": "x: %{x}<br>y: %{y}<br>Similarity Score: %{z}<extra></extra>",
         "name": "0",
         "type": "heatmap",
         "x": [
          "0_cleaning_body_robot",
          "1_surgical_instrument_robotic",
          "2_exoskeleton_limb_rehabili...",
          "3_substrate_sorting_transfer",
          "4_rpa_voice_automation",
          "5_aerial_wind_unmanned",
          "6_food_cooking_kitchen",
          "7_cup_glass_suction",
          "8_agv_gait_biped",
          "9_catheter_interventional_g...",
          "10_printing_print_printer",
          "11_brake_braking_band",
          "12_tactile_sensor_layer",
          "13_fruit_picking_fruits",
          "14_neural_network_training",
          "15_gear_planetary_wave",
          "16_snakelike_snake_shaped",
          "17_der_einer_werkstückträge...",
          "18_vehicle_passenger_autono..."
         ],
         "xaxis": "x",
         "y": [
          "0_cleaning_body_robot",
          "1_surgical_instrument_robotic",
          "2_exoskeleton_limb_rehabili...",
          "3_substrate_sorting_transfer",
          "4_rpa_voice_automation",
          "5_aerial_wind_unmanned",
          "6_food_cooking_kitchen",
          "7_cup_glass_suction",
          "8_agv_gait_biped",
          "9_catheter_interventional_g...",
          "10_printing_print_printer",
          "11_brake_braking_band",
          "12_tactile_sensor_layer",
          "13_fruit_picking_fruits",
          "14_neural_network_training",
          "15_gear_planetary_wave",
          "16_snakelike_snake_shaped",
          "17_der_einer_werkstückträge...",
          "18_vehicle_passenger_autono..."
         ],
         "yaxis": "y",
         "z": [
          [
           0.9999999999999996,
           0.9051003825611572,
           0.6198875412146916,
           0.8526331634012323,
           0.8817752318796587,
           0.8770915769509746,
           0.7268167669569787,
           0.8523128786640667,
           0.8516314166880284,
           0.7953555434144972,
           0.7666891644941505,
           0.8029756636993179,
           0.751065793026434,
           0.8081817739906942,
           0.7884906042377261,
           0.7208525994495588,
           0.7799889035669872,
           0.48754176128060633,
           0.6304500062912484
          ],
          [
           0.9051003825611572,
           0.9999999999999997,
           0.7119862782582778,
           0.8556469842723493,
           0.8338776374098218,
           0.8189909988218399,
           0.7452277222882704,
           0.8249209903168424,
           0.777800329746057,
           0.8365080462236898,
           0.7606858314545766,
           0.7752674431525234,
           0.7856345581323341,
           0.7725875780638259,
           0.7723643910379584,
           0.7541003660207682,
           0.7089679227904387,
           0.6121874365068777,
           0.6656084264561586
          ],
          [
           0.6198875412146916,
           0.7119862782582778,
           1,
           0.5643934698216893,
           0.5209948509450683,
           0.5705567811113061,
           0.5287377918568281,
           0.5542226725887727,
           0.530400114252642,
           0.6040860970560328,
           0.5141333430961645,
           0.5552592393632705,
           0.5715256663998944,
           0.48662280261371493,
           0.5329333017326603,
           0.5626985970750589,
           0.5527350526886197,
           0.4116168894339965,
           0.468759426892977
          ],
          [
           0.8526331634012323,
           0.8556469842723493,
           0.5643934698216893,
           0.9999999999999996,
           0.7997740700719138,
           0.7617160789616024,
           0.7423011914230647,
           0.8079266064940408,
           0.763436739799727,
           0.746235168981363,
           0.703640641969004,
           0.6704363135896726,
           0.6641238387916675,
           0.7778926906384529,
           0.7044153876014121,
           0.6510072772281172,
           0.6241103591151775,
           0.5973989375156488,
           0.6577142123419861
          ],
          [
           0.8817752318796587,
           0.8338776374098218,
           0.5209948509450683,
           0.7997740700719138,
           0.9999999999999999,
           0.7597284422458075,
           0.684102173193978,
           0.763008213396717,
           0.7696443442053145,
           0.7147124304497108,
           0.693856269009973,
           0.6981471649676044,
           0.6759096046964058,
           0.7522023329118863,
           0.7746600154176128,
           0.6053307549080837,
           0.6614504950331591,
           0.5078758192023745,
           0.6633795445406993
          ],
          [
           0.8770915769509746,
           0.8189909988218399,
           0.5705567811113061,
           0.7617160789616024,
           0.7597284422458075,
           0.9999999999999998,
           0.6529957007179057,
           0.7537132415707525,
           0.7698424697154563,
           0.7107745598811408,
           0.6763324095150055,
           0.7317352461397554,
           0.6888024894519209,
           0.7122034759400748,
           0.690509392517185,
           0.6889473758097858,
           0.6843684339011338,
           0.48860323337154565,
           0.6355653338238614
          ],
          [
           0.7268167669569787,
           0.7452277222882704,
           0.5287377918568281,
           0.7423011914230647,
           0.684102173193978,
           0.6529957007179057,
           0.9999999999999999,
           0.7475184712491267,
           0.6224530974985347,
           0.6485333363133362,
           0.620064201000683,
           0.6091130162052325,
           0.6073814894649139,
           0.6687747401481499,
           0.5762271352927737,
           0.5948166597403419,
           0.5532533338992563,
           0.6189918236825536,
           0.5350208229633402
          ],
          [
           0.8523128786640667,
           0.8249209903168424,
           0.5542226725887727,
           0.8079266064940408,
           0.763008213396717,
           0.7537132415707525,
           0.7475184712491267,
           1.0000000000000002,
           0.736913140267073,
           0.7601106770639194,
           0.7195726140297514,
           0.6723485633019721,
           0.6648223127624537,
           0.7178526463122585,
           0.6735336393457474,
           0.652868521046457,
           0.658195052949059,
           0.5453282553388785,
           0.5679082095494967
          ],
          [
           0.8516314166880284,
           0.777800329746057,
           0.530400114252642,
           0.763436739799727,
           0.7696443442053145,
           0.7698424697154563,
           0.6224530974985347,
           0.736913140267073,
           0.9999999999999996,
           0.6932919037355461,
           0.6354889413309626,
           0.682821770955414,
           0.6291474026886568,
           0.7116588445028906,
           0.6682147704271896,
           0.6603207103123572,
           0.6661903200365863,
           0.41034797059801914,
           0.5851283442968945
          ],
          [
           0.7953555434144972,
           0.8365080462236898,
           0.6040860970560328,
           0.746235168981363,
           0.7147124304497108,
           0.7107745598811408,
           0.6485333363133362,
           0.7601106770639194,
           0.6932919037355461,
           0.9999999999999998,
           0.6327065173384718,
           0.6757743290327399,
           0.6485552992910634,
           0.6424912007666062,
           0.6709243214777542,
           0.6325133871741123,
           0.6319500460417633,
           0.5131510887278555,
           0.5664138328016863
          ],
          [
           0.7666891644941505,
           0.7606858314545766,
           0.5141333430961645,
           0.703640641969004,
           0.693856269009973,
           0.6763324095150055,
           0.620064201000683,
           0.7195726140297514,
           0.6354889413309626,
           0.6327065173384718,
           1.0000000000000002,
           0.626552956659411,
           0.6680896987590546,
           0.6531485460687058,
           0.650456501270759,
           0.6001101843960297,
           0.5904896660239785,
           0.48563081238091643,
           0.5119371353923418
          ],
          [
           0.8029756636993179,
           0.7752674431525234,
           0.5552592393632705,
           0.6704363135896726,
           0.6981471649676044,
           0.7317352461397554,
           0.6091130162052325,
           0.6723485633019721,
           0.682821770955414,
           0.6757743290327399,
           0.626552956659411,
           0.9999999999999993,
           0.630539534786255,
           0.6226013453546368,
           0.5884620235008433,
           0.6811163405880988,
           0.6256787363426293,
           0.45481290520406814,
           0.5552739259252333
          ],
          [
           0.751065793026434,
           0.7856345581323341,
           0.5715256663998944,
           0.6641238387916675,
           0.6759096046964058,
           0.6888024894519209,
           0.6073814894649139,
           0.6648223127624537,
           0.6291474026886568,
           0.6485552992910634,
           0.6680896987590546,
           0.630539534786255,
           1.0000000000000002,
           0.6524003593209788,
           0.7061093158552489,
           0.6206508596512594,
           0.5574932543405666,
           0.4610105292643978,
           0.6129485820672557
          ],
          [
           0.8081817739906942,
           0.7725875780638259,
           0.48662280261371493,
           0.7778926906384529,
           0.7522023329118863,
           0.7122034759400748,
           0.6687747401481499,
           0.7178526463122585,
           0.7116588445028906,
           0.6424912007666062,
           0.6531485460687058,
           0.6226013453546368,
           0.6524003593209788,
           0.9999999999999998,
           0.6789537967934742,
           0.5733300764913624,
           0.6320610303324857,
           0.47068223685873384,
           0.5677190677306547
          ],
          [
           0.7884906042377261,
           0.7723643910379584,
           0.5329333017326603,
           0.7044153876014121,
           0.7746600154176128,
           0.690509392517185,
           0.5762271352927737,
           0.6735336393457474,
           0.6682147704271896,
           0.6709243214777542,
           0.650456501270759,
           0.5884620235008433,
           0.7061093158552489,
           0.6789537967934742,
           1,
           0.5655843040921636,
           0.5532901309623173,
           0.4415235070863436,
           0.5792950250406574
          ],
          [
           0.7208525994495588,
           0.7541003660207682,
           0.5626985970750589,
           0.6510072772281172,
           0.6053307549080837,
           0.6889473758097858,
           0.5948166597403419,
           0.652868521046457,
           0.6603207103123572,
           0.6325133871741123,
           0.6001101843960297,
           0.6811163405880988,
           0.6206508596512594,
           0.5733300764913624,
           0.5655843040921636,
           0.9999999999999998,
           0.6141141411243994,
           0.44653446630912474,
           0.47764842365943794
          ],
          [
           0.7799889035669872,
           0.7089679227904387,
           0.5527350526886197,
           0.6241103591151775,
           0.6614504950331591,
           0.6843684339011338,
           0.5532533338992563,
           0.658195052949059,
           0.6661903200365863,
           0.6319500460417633,
           0.5904896660239785,
           0.6256787363426293,
           0.5574932543405666,
           0.6320610303324857,
           0.5532901309623173,
           0.6141141411243994,
           1,
           0.3611721928115419,
           0.46532726409852593
          ],
          [
           0.48754176128060633,
           0.6121874365068777,
           0.4116168894339965,
           0.5973989375156488,
           0.5078758192023745,
           0.48860323337154565,
           0.6189918236825536,
           0.5453282553388785,
           0.41034797059801914,
           0.5131510887278555,
           0.48563081238091643,
           0.45481290520406814,
           0.4610105292643978,
           0.47068223685873384,
           0.4415235070863436,
           0.44653446630912474,
           0.3611721928115419,
           1,
           0.4869736961994493
          ],
          [
           0.6304500062912484,
           0.6656084264561586,
           0.468759426892977,
           0.6577142123419861,
           0.6633795445406993,
           0.6355653338238614,
           0.5350208229633402,
           0.5679082095494967,
           0.5851283442968945,
           0.5664138328016863,
           0.5119371353923418,
           0.5552739259252333,
           0.6129485820672557,
           0.5677190677306547,
           0.5792950250406574,
           0.47764842365943794,
           0.46532726409852593,
           0.4869736961994493,
           1.0000000000000007
          ]
         ]
        }
       ],
       "layout": {
        "coloraxis": {
         "colorbar": {
          "title": {
           "text": "Similarity Score"
          }
         },
         "colorscale": [
          [
           0,
           "rgb(247,252,240)"
          ],
          [
           0.125,
           "rgb(224,243,219)"
          ],
          [
           0.25,
           "rgb(204,235,197)"
          ],
          [
           0.375,
           "rgb(168,221,181)"
          ],
          [
           0.5,
           "rgb(123,204,196)"
          ],
          [
           0.625,
           "rgb(78,179,211)"
          ],
          [
           0.75,
           "rgb(43,140,190)"
          ],
          [
           0.875,
           "rgb(8,104,172)"
          ],
          [
           1,
           "rgb(8,64,129)"
          ]
         ]
        },
        "height": 800,
        "hoverlabel": {
         "bgcolor": "white",
         "font": {
          "family": "Rockwell",
          "size": 16
         }
        },
        "legend": {
         "title": {
          "text": "Trend"
         }
        },
        "margin": {
         "t": 60
        },
        "showlegend": true,
        "template": {
         "data": {
          "bar": [
           {
            "error_x": {
             "color": "#2a3f5f"
            },
            "error_y": {
             "color": "#2a3f5f"
            },
            "marker": {
             "line": {
              "color": "#E5ECF6",
              "width": 0.5
             },
             "pattern": {
              "fillmode": "overlay",
              "size": 10,
              "solidity": 0.2
             }
            },
            "type": "bar"
           }
          ],
          "barpolar": [
           {
            "marker": {
             "line": {
              "color": "#E5ECF6",
              "width": 0.5
             },
             "pattern": {
              "fillmode": "overlay",
              "size": 10,
              "solidity": 0.2
             }
            },
            "type": "barpolar"
           }
          ],
          "carpet": [
           {
            "aaxis": {
             "endlinecolor": "#2a3f5f",
             "gridcolor": "white",
             "linecolor": "white",
             "minorgridcolor": "white",
             "startlinecolor": "#2a3f5f"
            },
            "baxis": {
             "endlinecolor": "#2a3f5f",
             "gridcolor": "white",
             "linecolor": "white",
             "minorgridcolor": "white",
             "startlinecolor": "#2a3f5f"
            },
            "type": "carpet"
           }
          ],
          "choropleth": [
           {
            "colorbar": {
             "outlinewidth": 0,
             "ticks": ""
            },
            "type": "choropleth"
           }
          ],
          "contour": [
           {
            "colorbar": {
             "outlinewidth": 0,
             "ticks": ""
            },
            "colorscale": [
             [
              0,
              "#0d0887"
             ],
             [
              0.1111111111111111,
              "#46039f"
             ],
             [
              0.2222222222222222,
              "#7201a8"
             ],
             [
              0.3333333333333333,
              "#9c179e"
             ],
             [
              0.4444444444444444,
              "#bd3786"
             ],
             [
              0.5555555555555556,
              "#d8576b"
             ],
             [
              0.6666666666666666,
              "#ed7953"
             ],
             [
              0.7777777777777778,
              "#fb9f3a"
             ],
             [
              0.8888888888888888,
              "#fdca26"
             ],
             [
              1,
              "#f0f921"
             ]
            ],
            "type": "contour"
           }
          ],
          "contourcarpet": [
           {
            "colorbar": {
             "outlinewidth": 0,
             "ticks": ""
            },
            "type": "contourcarpet"
           }
          ],
          "heatmap": [
           {
            "colorbar": {
             "outlinewidth": 0,
             "ticks": ""
            },
            "colorscale": [
             [
              0,
              "#0d0887"
             ],
             [
              0.1111111111111111,
              "#46039f"
             ],
             [
              0.2222222222222222,
              "#7201a8"
             ],
             [
              0.3333333333333333,
              "#9c179e"
             ],
             [
              0.4444444444444444,
              "#bd3786"
             ],
             [
              0.5555555555555556,
              "#d8576b"
             ],
             [
              0.6666666666666666,
              "#ed7953"
             ],
             [
              0.7777777777777778,
              "#fb9f3a"
             ],
             [
              0.8888888888888888,
              "#fdca26"
             ],
             [
              1,
              "#f0f921"
             ]
            ],
            "type": "heatmap"
           }
          ],
          "heatmapgl": [
           {
            "colorbar": {
             "outlinewidth": 0,
             "ticks": ""
            },
            "colorscale": [
             [
              0,
              "#0d0887"
             ],
             [
              0.1111111111111111,
              "#46039f"
             ],
             [
              0.2222222222222222,
              "#7201a8"
             ],
             [
              0.3333333333333333,
              "#9c179e"
             ],
             [
              0.4444444444444444,
              "#bd3786"
             ],
             [
              0.5555555555555556,
              "#d8576b"
             ],
             [
              0.6666666666666666,
              "#ed7953"
             ],
             [
              0.7777777777777778,
              "#fb9f3a"
             ],
             [
              0.8888888888888888,
              "#fdca26"
             ],
             [
              1,
              "#f0f921"
             ]
            ],
            "type": "heatmapgl"
           }
          ],
          "histogram": [
           {
            "marker": {
             "pattern": {
              "fillmode": "overlay",
              "size": 10,
              "solidity": 0.2
             }
            },
            "type": "histogram"
           }
          ],
          "histogram2d": [
           {
            "colorbar": {
             "outlinewidth": 0,
             "ticks": ""
            },
            "colorscale": [
             [
              0,
              "#0d0887"
             ],
             [
              0.1111111111111111,
              "#46039f"
             ],
             [
              0.2222222222222222,
              "#7201a8"
             ],
             [
              0.3333333333333333,
              "#9c179e"
             ],
             [
              0.4444444444444444,
              "#bd3786"
             ],
             [
              0.5555555555555556,
              "#d8576b"
             ],
             [
              0.6666666666666666,
              "#ed7953"
             ],
             [
              0.7777777777777778,
              "#fb9f3a"
             ],
             [
              0.8888888888888888,
              "#fdca26"
             ],
             [
              1,
              "#f0f921"
             ]
            ],
            "type": "histogram2d"
           }
          ],
          "histogram2dcontour": [
           {
            "colorbar": {
             "outlinewidth": 0,
             "ticks": ""
            },
            "colorscale": [
             [
              0,
              "#0d0887"
             ],
             [
              0.1111111111111111,
              "#46039f"
             ],
             [
              0.2222222222222222,
              "#7201a8"
             ],
             [
              0.3333333333333333,
              "#9c179e"
             ],
             [
              0.4444444444444444,
              "#bd3786"
             ],
             [
              0.5555555555555556,
              "#d8576b"
             ],
             [
              0.6666666666666666,
              "#ed7953"
             ],
             [
              0.7777777777777778,
              "#fb9f3a"
             ],
             [
              0.8888888888888888,
              "#fdca26"
             ],
             [
              1,
              "#f0f921"
             ]
            ],
            "type": "histogram2dcontour"
           }
          ],
          "mesh3d": [
           {
            "colorbar": {
             "outlinewidth": 0,
             "ticks": ""
            },
            "type": "mesh3d"
           }
          ],
          "parcoords": [
           {
            "line": {
             "colorbar": {
              "outlinewidth": 0,
              "ticks": ""
             }
            },
            "type": "parcoords"
           }
          ],
          "pie": [
           {
            "automargin": true,
            "type": "pie"
           }
          ],
          "scatter": [
           {
            "fillpattern": {
             "fillmode": "overlay",
             "size": 10,
             "solidity": 0.2
            },
            "type": "scatter"
           }
          ],
          "scatter3d": [
           {
            "line": {
             "colorbar": {
              "outlinewidth": 0,
              "ticks": ""
             }
            },
            "marker": {
             "colorbar": {
              "outlinewidth": 0,
              "ticks": ""
             }
            },
            "type": "scatter3d"
           }
          ],
          "scattercarpet": [
           {
            "marker": {
             "colorbar": {
              "outlinewidth": 0,
              "ticks": ""
             }
            },
            "type": "scattercarpet"
           }
          ],
          "scattergeo": [
           {
            "marker": {
             "colorbar": {
              "outlinewidth": 0,
              "ticks": ""
             }
            },
            "type": "scattergeo"
           }
          ],
          "scattergl": [
           {
            "marker": {
             "colorbar": {
              "outlinewidth": 0,
              "ticks": ""
             }
            },
            "type": "scattergl"
           }
          ],
          "scattermapbox": [
           {
            "marker": {
             "colorbar": {
              "outlinewidth": 0,
              "ticks": ""
             }
            },
            "type": "scattermapbox"
           }
          ],
          "scatterpolar": [
           {
            "marker": {
             "colorbar": {
              "outlinewidth": 0,
              "ticks": ""
             }
            },
            "type": "scatterpolar"
           }
          ],
          "scatterpolargl": [
           {
            "marker": {
             "colorbar": {
              "outlinewidth": 0,
              "ticks": ""
             }
            },
            "type": "scatterpolargl"
           }
          ],
          "scatterternary": [
           {
            "marker": {
             "colorbar": {
              "outlinewidth": 0,
              "ticks": ""
             }
            },
            "type": "scatterternary"
           }
          ],
          "surface": [
           {
            "colorbar": {
             "outlinewidth": 0,
             "ticks": ""
            },
            "colorscale": [
             [
              0,
              "#0d0887"
             ],
             [
              0.1111111111111111,
              "#46039f"
             ],
             [
              0.2222222222222222,
              "#7201a8"
             ],
             [
              0.3333333333333333,
              "#9c179e"
             ],
             [
              0.4444444444444444,
              "#bd3786"
             ],
             [
              0.5555555555555556,
              "#d8576b"
             ],
             [
              0.6666666666666666,
              "#ed7953"
             ],
             [
              0.7777777777777778,
              "#fb9f3a"
             ],
             [
              0.8888888888888888,
              "#fdca26"
             ],
             [
              1,
              "#f0f921"
             ]
            ],
            "type": "surface"
           }
          ],
          "table": [
           {
            "cells": {
             "fill": {
              "color": "#EBF0F8"
             },
             "line": {
              "color": "white"
             }
            },
            "header": {
             "fill": {
              "color": "#C8D4E3"
             },
             "line": {
              "color": "white"
             }
            },
            "type": "table"
           }
          ]
         },
         "layout": {
          "annotationdefaults": {
           "arrowcolor": "#2a3f5f",
           "arrowhead": 0,
           "arrowwidth": 1
          },
          "autotypenumbers": "strict",
          "coloraxis": {
           "colorbar": {
            "outlinewidth": 0,
            "ticks": ""
           }
          },
          "colorscale": {
           "diverging": [
            [
             0,
             "#8e0152"
            ],
            [
             0.1,
             "#c51b7d"
            ],
            [
             0.2,
             "#de77ae"
            ],
            [
             0.3,
             "#f1b6da"
            ],
            [
             0.4,
             "#fde0ef"
            ],
            [
             0.5,
             "#f7f7f7"
            ],
            [
             0.6,
             "#e6f5d0"
            ],
            [
             0.7,
             "#b8e186"
            ],
            [
             0.8,
             "#7fbc41"
            ],
            [
             0.9,
             "#4d9221"
            ],
            [
             1,
             "#276419"
            ]
           ],
           "sequential": [
            [
             0,
             "#0d0887"
            ],
            [
             0.1111111111111111,
             "#46039f"
            ],
            [
             0.2222222222222222,
             "#7201a8"
            ],
            [
             0.3333333333333333,
             "#9c179e"
            ],
            [
             0.4444444444444444,
             "#bd3786"
            ],
            [
             0.5555555555555556,
             "#d8576b"
            ],
            [
             0.6666666666666666,
             "#ed7953"
            ],
            [
             0.7777777777777778,
             "#fb9f3a"
            ],
            [
             0.8888888888888888,
             "#fdca26"
            ],
            [
             1,
             "#f0f921"
            ]
           ],
           "sequentialminus": [
            [
             0,
             "#0d0887"
            ],
            [
             0.1111111111111111,
             "#46039f"
            ],
            [
             0.2222222222222222,
             "#7201a8"
            ],
            [
             0.3333333333333333,
             "#9c179e"
            ],
            [
             0.4444444444444444,
             "#bd3786"
            ],
            [
             0.5555555555555556,
             "#d8576b"
            ],
            [
             0.6666666666666666,
             "#ed7953"
            ],
            [
             0.7777777777777778,
             "#fb9f3a"
            ],
            [
             0.8888888888888888,
             "#fdca26"
            ],
            [
             1,
             "#f0f921"
            ]
           ]
          },
          "colorway": [
           "#636efa",
           "#EF553B",
           "#00cc96",
           "#ab63fa",
           "#FFA15A",
           "#19d3f3",
           "#FF6692",
           "#B6E880",
           "#FF97FF",
           "#FECB52"
          ],
          "font": {
           "color": "#2a3f5f"
          },
          "geo": {
           "bgcolor": "white",
           "lakecolor": "white",
           "landcolor": "#E5ECF6",
           "showlakes": true,
           "showland": true,
           "subunitcolor": "white"
          },
          "hoverlabel": {
           "align": "left"
          },
          "hovermode": "closest",
          "mapbox": {
           "style": "light"
          },
          "paper_bgcolor": "white",
          "plot_bgcolor": "#E5ECF6",
          "polar": {
           "angularaxis": {
            "gridcolor": "white",
            "linecolor": "white",
            "ticks": ""
           },
           "bgcolor": "#E5ECF6",
           "radialaxis": {
            "gridcolor": "white",
            "linecolor": "white",
            "ticks": ""
           }
          },
          "scene": {
           "xaxis": {
            "backgroundcolor": "#E5ECF6",
            "gridcolor": "white",
            "gridwidth": 2,
            "linecolor": "white",
            "showbackground": true,
            "ticks": "",
            "zerolinecolor": "white"
           },
           "yaxis": {
            "backgroundcolor": "#E5ECF6",
            "gridcolor": "white",
            "gridwidth": 2,
            "linecolor": "white",
            "showbackground": true,
            "ticks": "",
            "zerolinecolor": "white"
           },
           "zaxis": {
            "backgroundcolor": "#E5ECF6",
            "gridcolor": "white",
            "gridwidth": 2,
            "linecolor": "white",
            "showbackground": true,
            "ticks": "",
            "zerolinecolor": "white"
           }
          },
          "shapedefaults": {
           "line": {
            "color": "#2a3f5f"
           }
          },
          "ternary": {
           "aaxis": {
            "gridcolor": "white",
            "linecolor": "white",
            "ticks": ""
           },
           "baxis": {
            "gridcolor": "white",
            "linecolor": "white",
            "ticks": ""
           },
           "bgcolor": "#E5ECF6",
           "caxis": {
            "gridcolor": "white",
            "linecolor": "white",
            "ticks": ""
           }
          },
          "title": {
           "x": 0.05
          },
          "xaxis": {
           "automargin": true,
           "gridcolor": "white",
           "linecolor": "white",
           "ticks": "",
           "title": {
            "standoff": 15
           },
           "zerolinecolor": "white",
           "zerolinewidth": 2
          },
          "yaxis": {
           "automargin": true,
           "gridcolor": "white",
           "linecolor": "white",
           "ticks": "",
           "title": {
            "standoff": 15
           },
           "zerolinecolor": "white",
           "zerolinewidth": 2
          }
         }
        },
        "title": {
         "font": {
          "color": "Black",
          "size": 22
         },
         "text": "<b>Similarity Matrix</b>",
         "x": 0.55,
         "xanchor": "center",
         "y": 0.95,
         "yanchor": "top"
        },
        "width": 800,
        "xaxis": {
         "anchor": "y",
         "constrain": "domain",
         "domain": [
          0,
          1
         ],
         "scaleanchor": "y"
        },
        "yaxis": {
         "anchor": "x",
         "autorange": "reversed",
         "constrain": "domain",
         "domain": [
          0,
          1
         ]
        }
       }
      }
     },
     "metadata": {},
     "output_type": "display_data"
    }
   ],
   "source": [
    "topic_model.visualize_heatmap()"
   ]
  },
  {
   "cell_type": "code",
   "execution_count": 8,
   "metadata": {},
   "outputs": [
    {
     "data": {
      "application/vnd.plotly.v1+json": {
       "config": {
        "plotlyServerURL": "https://plot.ly"
       },
       "data": [
        {
         "hovertext": "<b>Topic -1</b>:system_for_an_in_control_method_on",
         "line": {
          "color": "black",
          "width": 1.5
         },
         "mode": "lines+lines",
         "name": "",
         "opacity": 0.1,
         "type": "scatter",
         "x": [
          1,
          2,
          3,
          4,
          5,
          6,
          7,
          8,
          9,
          10
         ],
         "y": [
          0.1870991211069108,
          0.1864596243970539,
          0.18500402059596985,
          0.1819540616089281,
          0.18191829868538978,
          0.18098815755852837,
          0.17691983331139352,
          0.17630396379905758,
          0.17615144597369417,
          0.17532858168738605
         ]
        },
        {
         "hovertext": "<b>Topic 0</b>:cleaning_body_robot_welding_is_arra",
         "line": {
          "color": "black",
          "width": 1.5
         },
         "mode": "lines+lines",
         "name": "",
         "opacity": 0.1,
         "type": "scatter",
         "x": [
          1,
          2,
          3,
          4,
          5,
          6,
          7,
          8,
          9,
          10
         ],
         "y": [
          0.2124025833820966,
          0.1946920910562392,
          0.19152845770259552,
          0.18932733250904427,
          0.1889289332917383,
          0.18834135191936885,
          0.18693598718716567,
          0.18484843431997727,
          0.18167389088902683,
          0.18152125006508366
         ]
        },
        {
         "hovertext": "<b>Topic 1</b>:surgical_instrument_robotic_effecto",
         "line": {
          "color": "black",
          "width": 1.5
         },
         "mode": "lines+lines",
         "name": "",
         "opacity": 0.1,
         "type": "scatter",
         "x": [
          1,
          2,
          3,
          4,
          5,
          6,
          7,
          8,
          9,
          10
         ],
         "y": [
          0.41747705864718626,
          0.32058058273070333,
          0.30049081382365056,
          0.2642992743503837,
          0.24936020954152438,
          0.2445324189979409,
          0.2369631727098119,
          0.23246366779096733,
          0.23171482848595262,
          0.23035797122791396
         ]
        },
        {
         "hovertext": "<b>Topic 2</b>:exoskeleton_limb_rehabilitation_joi",
         "line": {
          "color": "black",
          "width": 1.5
         },
         "mode": "lines+lines",
         "name": "",
         "opacity": 0.1,
         "type": "scatter",
         "x": [
          1,
          2,
          3,
          4,
          5,
          6,
          7,
          8,
          9,
          10
         ],
         "y": [
          0.5560214181422959,
          0.3969865469277233,
          0.3726296531389702,
          0.3369367152378699,
          0.3299143194058658,
          0.3283884014723305,
          0.32501852991480645,
          0.3147517469706257,
          0.3106893606044616,
          0.3044808240883294
         ]
        },
        {
         "hovertext": "<b>Topic 3</b>:substrate_sorting_transfer_chamber_",
         "line": {
          "color": "black",
          "width": 1.5
         },
         "mode": "lines+lines",
         "name": "",
         "opacity": 0.1,
         "type": "scatter",
         "x": [
          1,
          2,
          3,
          4,
          5,
          6,
          7,
          8,
          9,
          10
         ],
         "y": [
          0.42372401941094656,
          0.4216538151545987,
          0.4102808255001006,
          0.3761042168272429,
          0.3721300087452816,
          0.345914922105233,
          0.3406690151825554,
          0.3266641443518855,
          0.3227549724991517,
          0.3104984580421934
         ]
        },
        {
         "hovertext": "<b>Topic 4</b>:rpa_voice_automation_dialogue_chat_",
         "line": {
          "color": "black",
          "width": 1.5
         },
         "mode": "lines+lines",
         "name": "",
         "opacity": 0.1,
         "type": "scatter",
         "x": [
          1,
          2,
          3,
          4,
          5,
          6,
          7,
          8,
          9,
          10
         ],
         "y": [
          0.6086083796930808,
          0.5221654836512204,
          0.4703725151504775,
          0.4035159368236631,
          0.3902424753049471,
          0.38077160330681115,
          0.36826108350197595,
          0.36728856943573085,
          0.361359300052361,
          0.30929185900080314
         ]
        },
        {
         "hovertext": "<b>Topic 5</b>:aerial_wind_unmanned_flying_turbine",
         "line": {
          "color": "black",
          "width": 1.5
         },
         "mode": "lines+lines",
         "name": "",
         "opacity": 0.1,
         "type": "scatter",
         "x": [
          1,
          2,
          3,
          4,
          5,
          6,
          7,
          8,
          9,
          10
         ],
         "y": [
          0.5583696692712207,
          0.4762240339759627,
          0.4664865895009757,
          0.4525764447657768,
          0.41122533731574307,
          0.3922356590535333,
          0.3767734351352035,
          0.34517307599310126,
          0.34396367955885493,
          0.34376343103044876
         ]
        },
        {
         "hovertext": "<b>Topic 6</b>:food_cooking_kitchen_processor_küch",
         "line": {
          "color": "black",
          "width": 1.5
         },
         "mode": "lines+lines",
         "name": "",
         "opacity": 0.1,
         "type": "scatter",
         "x": [
          1,
          2,
          3,
          4,
          5,
          6,
          7,
          8,
          9,
          10
         ],
         "y": [
          0.7690241547708336,
          0.724102634618962,
          0.4990450746187213,
          0.3962104258734538,
          0.3815576591317273,
          0.3558637616767181,
          0.3493559196093885,
          0.34133754847876296,
          0.32351270946451743,
          0.308194531920219
         ]
        },
        {
         "hovertext": "<b>Topic 7</b>:cup_glass_suction_fluid_liquid_coff",
         "line": {
          "color": "black",
          "width": 1.5
         },
         "mode": "lines+lines",
         "name": "",
         "opacity": 0.1,
         "type": "scatter",
         "x": [
          1,
          2,
          3,
          4,
          5,
          6,
          7,
          8,
          9,
          10
         ],
         "y": [
          0.6468079072860787,
          0.6375653703795243,
          0.475819587374626,
          0.4660267561491425,
          0.38627816601592196,
          0.37822126543261,
          0.35813965868587777,
          0.3358658763030153,
          0.3241446402963268,
          0.3107576197603829
         ]
        },
        {
         "hovertext": "<b>Topic 8</b>:agv_gait_biped_carrying_phase_troll",
         "line": {
          "color": "black",
          "width": 1.5
         },
         "mode": "lines+lines",
         "name": "",
         "opacity": 0.1,
         "type": "scatter",
         "x": [
          1,
          2,
          3,
          4,
          5,
          6,
          7,
          8,
          9,
          10
         ],
         "y": [
          0.8792028894954129,
          0.6603698482719464,
          0.33721554589886144,
          0.30799143160944753,
          0.27288585784828995,
          0.27226071711451816,
          0.27012106034150135,
          0.2412946980024652,
          0.2403635136369818,
          0.23993975845499305
         ]
        },
        {
         "hovertext": "<b>Topic 9</b>:catheter_interventional_guidewire_g",
         "line": {
          "color": "black",
          "width": 1.5
         },
         "mode": "lines+lines",
         "name": "",
         "opacity": 0.1,
         "type": "scatter",
         "x": [
          1,
          2,
          3,
          4,
          5,
          6,
          7,
          8,
          9,
          10
         ],
         "y": [
          1.1828381741948004,
          0.44544663396109674,
          0.4176134523147119,
          0.4103889209578631,
          0.38553005833761056,
          0.37792516422973643,
          0.37719973527814354,
          0.35934720111662655,
          0.35815951808605395,
          0.3479522964268191
         ]
        },
        {
         "hovertext": "<b>Topic 10</b>:printing_print_printer_ink_head_di",
         "line": {
          "color": "black",
          "width": 1.5
         },
         "mode": "lines+lines",
         "name": "",
         "opacity": 0.1,
         "type": "scatter",
         "x": [
          1,
          2,
          3,
          4,
          5,
          6,
          7,
          8,
          9,
          10
         ],
         "y": [
          0.9055372440372902,
          0.5358253910760062,
          0.48450267795749974,
          0.46704333971969314,
          0.4242294270666262,
          0.36461326315858034,
          0.3615367649355616,
          0.3443302780774263,
          0.34355661481257826,
          0.34238241634024996
         ]
        },
        {
         "hovertext": "<b>Topic 11</b>:brake_braking_band_electromagnetic",
         "line": {
          "color": "black",
          "width": 1.5
         },
         "mode": "lines+lines",
         "name": "",
         "opacity": 0.1,
         "type": "scatter",
         "x": [
          1,
          2,
          3,
          4,
          5,
          6,
          7,
          8,
          9,
          10
         ],
         "y": [
          1.1230690299950363,
          0.772200771773953,
          0.40759440776441097,
          0.344530305267717,
          0.34279101318023236,
          0.31841437488234603,
          0.30937673555936757,
          0.30790264643608845,
          0.28699886507525624,
          0.2860824826237712
         ]
        },
        {
         "hovertext": "<b>Topic 12</b>:tactile_sensor_layer_sensing_force",
         "line": {
          "color": "black",
          "width": 1.5
         },
         "mode": "lines+lines",
         "name": "",
         "opacity": 0.1,
         "type": "scatter",
         "x": [
          1,
          2,
          3,
          4,
          5,
          6,
          7,
          8,
          9,
          10
         ],
         "y": [
          0.6116917500401821,
          0.6072450082808456,
          0.5100192531450334,
          0.4669398147205039,
          0.4087270970700598,
          0.38993702804960695,
          0.3789782061062538,
          0.3619075218552793,
          0.3377339734851562,
          0.3359102387823319
         ]
        },
        {
         "hovertext": "<b>Topic 13</b>:fruit_picking_fruits_vegetable_vin",
         "line": {
          "color": "black",
          "width": 1.5
         },
         "mode": "lines+lines",
         "name": "",
         "opacity": 0.1,
         "type": "scatter",
         "x": [
          1,
          2,
          3,
          4,
          5,
          6,
          7,
          8,
          9,
          10
         ],
         "y": [
          1.0397914498159426,
          0.8967607654577564,
          0.6250158336750055,
          0.5074295600406498,
          0.4461125848926706,
          0.4309715423520016,
          0.40695905336766475,
          0.4014583336420841,
          0.3892244844195195,
          0.3752103954315755
         ]
        },
        {
         "hovertext": "<b>Topic 14</b>:neural_network_training_neuronalen",
         "line": {
          "color": "black",
          "width": 1.5
         },
         "mode": "lines+lines",
         "name": "",
         "opacity": 0.1,
         "type": "scatter",
         "x": [
          1,
          2,
          3,
          4,
          5,
          6,
          7,
          8,
          9,
          10
         ],
         "y": [
          0.8020854765933717,
          0.697645684687821,
          0.5019931038368647,
          0.48806613580796526,
          0.44440122187513775,
          0.42714392843110566,
          0.424640070918707,
          0.42350746302343856,
          0.4054007803623067,
          0.3928225232056416
         ]
        },
        {
         "hovertext": "<b>Topic 15</b>:gear_planetary_wave_harmonic_gener",
         "line": {
          "color": "black",
          "width": 1.5
         },
         "mode": "lines+lines",
         "name": "",
         "opacity": 0.1,
         "type": "scatter",
         "x": [
          1,
          2,
          3,
          4,
          5,
          6,
          7,
          8,
          9,
          10
         ],
         "y": [
          0.9400337212752754,
          0.7732494787068455,
          0.6603867315735565,
          0.6511597084228297,
          0.5278190822308448,
          0.5156609256132852,
          0.508402243607604,
          0.5075985111571613,
          0.4985426387435162,
          0.4907483884240834
         ]
        },
        {
         "hovertext": "<b>Topic 16</b>:snakelike_snake_shaped_section_bio",
         "line": {
          "color": "black",
          "width": 1.5
         },
         "mode": "lines+lines",
         "name": "",
         "opacity": 0.1,
         "type": "scatter",
         "x": [
          1,
          2,
          3,
          4,
          5,
          6,
          7,
          8,
          9,
          10
         ],
         "y": [
          1.0858426569364932,
          0.8662568541600757,
          0.4130199168755024,
          0.3560555386165209,
          0.3392791671747399,
          0.3143766026352945,
          0.30277052126476284,
          0.2970098543388105,
          0.29544499300432425,
          0.2874614225561843
         ]
        },
        {
         "hovertext": "<b>Topic 17</b>:der_einer_werkstückträgervorrichtu",
         "line": {
          "color": "black",
          "width": 1.5
         },
         "mode": "lines+lines",
         "name": "",
         "opacity": 0.1,
         "type": "scatter",
         "x": [
          1,
          2,
          3,
          4,
          5,
          6,
          7,
          8,
          9,
          10
         ],
         "y": [
          0.6747542032427826,
          0.6379993682700337,
          0.6236493135163835,
          0.5919859974931864,
          0.5764333670737967,
          0.571558984401576,
          0.5661252822065013,
          0.5585144508433045,
          0.5583535062466222,
          0.5550262199272146
         ]
        },
        {
         "hovertext": "<b>Topic 18</b>:vehicle_passenger_autonomous_reali",
         "line": {
          "color": "black",
          "width": 1.5
         },
         "mode": "lines+lines",
         "name": "",
         "opacity": 0.1,
         "type": "scatter",
         "x": [
          1,
          2,
          3,
          4,
          5,
          6,
          7,
          8,
          9,
          10
         ],
         "y": [
          0.7999294052460395,
          0.5748965133076571,
          0.523812350057847,
          0.46125852842420106,
          0.40112718319774215,
          0.3789219497073226,
          0.37579577649485263,
          0.33715540076248335,
          0.3366755449095522,
          0.33353708477480304
         ]
        }
       ],
       "layout": {
        "height": 500,
        "hoverlabel": {
         "bgcolor": "white",
         "font": {
          "family": "Rockwell",
          "size": 16
         }
        },
        "showlegend": false,
        "template": {
         "data": {
          "bar": [
           {
            "error_x": {
             "color": "#2a3f5f"
            },
            "error_y": {
             "color": "#2a3f5f"
            },
            "marker": {
             "line": {
              "color": "white",
              "width": 0.5
             },
             "pattern": {
              "fillmode": "overlay",
              "size": 10,
              "solidity": 0.2
             }
            },
            "type": "bar"
           }
          ],
          "barpolar": [
           {
            "marker": {
             "line": {
              "color": "white",
              "width": 0.5
             },
             "pattern": {
              "fillmode": "overlay",
              "size": 10,
              "solidity": 0.2
             }
            },
            "type": "barpolar"
           }
          ],
          "carpet": [
           {
            "aaxis": {
             "endlinecolor": "#2a3f5f",
             "gridcolor": "#C8D4E3",
             "linecolor": "#C8D4E3",
             "minorgridcolor": "#C8D4E3",
             "startlinecolor": "#2a3f5f"
            },
            "baxis": {
             "endlinecolor": "#2a3f5f",
             "gridcolor": "#C8D4E3",
             "linecolor": "#C8D4E3",
             "minorgridcolor": "#C8D4E3",
             "startlinecolor": "#2a3f5f"
            },
            "type": "carpet"
           }
          ],
          "choropleth": [
           {
            "colorbar": {
             "outlinewidth": 0,
             "ticks": ""
            },
            "type": "choropleth"
           }
          ],
          "contour": [
           {
            "colorbar": {
             "outlinewidth": 0,
             "ticks": ""
            },
            "colorscale": [
             [
              0,
              "#0d0887"
             ],
             [
              0.1111111111111111,
              "#46039f"
             ],
             [
              0.2222222222222222,
              "#7201a8"
             ],
             [
              0.3333333333333333,
              "#9c179e"
             ],
             [
              0.4444444444444444,
              "#bd3786"
             ],
             [
              0.5555555555555556,
              "#d8576b"
             ],
             [
              0.6666666666666666,
              "#ed7953"
             ],
             [
              0.7777777777777778,
              "#fb9f3a"
             ],
             [
              0.8888888888888888,
              "#fdca26"
             ],
             [
              1,
              "#f0f921"
             ]
            ],
            "type": "contour"
           }
          ],
          "contourcarpet": [
           {
            "colorbar": {
             "outlinewidth": 0,
             "ticks": ""
            },
            "type": "contourcarpet"
           }
          ],
          "heatmap": [
           {
            "colorbar": {
             "outlinewidth": 0,
             "ticks": ""
            },
            "colorscale": [
             [
              0,
              "#0d0887"
             ],
             [
              0.1111111111111111,
              "#46039f"
             ],
             [
              0.2222222222222222,
              "#7201a8"
             ],
             [
              0.3333333333333333,
              "#9c179e"
             ],
             [
              0.4444444444444444,
              "#bd3786"
             ],
             [
              0.5555555555555556,
              "#d8576b"
             ],
             [
              0.6666666666666666,
              "#ed7953"
             ],
             [
              0.7777777777777778,
              "#fb9f3a"
             ],
             [
              0.8888888888888888,
              "#fdca26"
             ],
             [
              1,
              "#f0f921"
             ]
            ],
            "type": "heatmap"
           }
          ],
          "heatmapgl": [
           {
            "colorbar": {
             "outlinewidth": 0,
             "ticks": ""
            },
            "colorscale": [
             [
              0,
              "#0d0887"
             ],
             [
              0.1111111111111111,
              "#46039f"
             ],
             [
              0.2222222222222222,
              "#7201a8"
             ],
             [
              0.3333333333333333,
              "#9c179e"
             ],
             [
              0.4444444444444444,
              "#bd3786"
             ],
             [
              0.5555555555555556,
              "#d8576b"
             ],
             [
              0.6666666666666666,
              "#ed7953"
             ],
             [
              0.7777777777777778,
              "#fb9f3a"
             ],
             [
              0.8888888888888888,
              "#fdca26"
             ],
             [
              1,
              "#f0f921"
             ]
            ],
            "type": "heatmapgl"
           }
          ],
          "histogram": [
           {
            "marker": {
             "pattern": {
              "fillmode": "overlay",
              "size": 10,
              "solidity": 0.2
             }
            },
            "type": "histogram"
           }
          ],
          "histogram2d": [
           {
            "colorbar": {
             "outlinewidth": 0,
             "ticks": ""
            },
            "colorscale": [
             [
              0,
              "#0d0887"
             ],
             [
              0.1111111111111111,
              "#46039f"
             ],
             [
              0.2222222222222222,
              "#7201a8"
             ],
             [
              0.3333333333333333,
              "#9c179e"
             ],
             [
              0.4444444444444444,
              "#bd3786"
             ],
             [
              0.5555555555555556,
              "#d8576b"
             ],
             [
              0.6666666666666666,
              "#ed7953"
             ],
             [
              0.7777777777777778,
              "#fb9f3a"
             ],
             [
              0.8888888888888888,
              "#fdca26"
             ],
             [
              1,
              "#f0f921"
             ]
            ],
            "type": "histogram2d"
           }
          ],
          "histogram2dcontour": [
           {
            "colorbar": {
             "outlinewidth": 0,
             "ticks": ""
            },
            "colorscale": [
             [
              0,
              "#0d0887"
             ],
             [
              0.1111111111111111,
              "#46039f"
             ],
             [
              0.2222222222222222,
              "#7201a8"
             ],
             [
              0.3333333333333333,
              "#9c179e"
             ],
             [
              0.4444444444444444,
              "#bd3786"
             ],
             [
              0.5555555555555556,
              "#d8576b"
             ],
             [
              0.6666666666666666,
              "#ed7953"
             ],
             [
              0.7777777777777778,
              "#fb9f3a"
             ],
             [
              0.8888888888888888,
              "#fdca26"
             ],
             [
              1,
              "#f0f921"
             ]
            ],
            "type": "histogram2dcontour"
           }
          ],
          "mesh3d": [
           {
            "colorbar": {
             "outlinewidth": 0,
             "ticks": ""
            },
            "type": "mesh3d"
           }
          ],
          "parcoords": [
           {
            "line": {
             "colorbar": {
              "outlinewidth": 0,
              "ticks": ""
             }
            },
            "type": "parcoords"
           }
          ],
          "pie": [
           {
            "automargin": true,
            "type": "pie"
           }
          ],
          "scatter": [
           {
            "fillpattern": {
             "fillmode": "overlay",
             "size": 10,
             "solidity": 0.2
            },
            "type": "scatter"
           }
          ],
          "scatter3d": [
           {
            "line": {
             "colorbar": {
              "outlinewidth": 0,
              "ticks": ""
             }
            },
            "marker": {
             "colorbar": {
              "outlinewidth": 0,
              "ticks": ""
             }
            },
            "type": "scatter3d"
           }
          ],
          "scattercarpet": [
           {
            "marker": {
             "colorbar": {
              "outlinewidth": 0,
              "ticks": ""
             }
            },
            "type": "scattercarpet"
           }
          ],
          "scattergeo": [
           {
            "marker": {
             "colorbar": {
              "outlinewidth": 0,
              "ticks": ""
             }
            },
            "type": "scattergeo"
           }
          ],
          "scattergl": [
           {
            "marker": {
             "colorbar": {
              "outlinewidth": 0,
              "ticks": ""
             }
            },
            "type": "scattergl"
           }
          ],
          "scattermapbox": [
           {
            "marker": {
             "colorbar": {
              "outlinewidth": 0,
              "ticks": ""
             }
            },
            "type": "scattermapbox"
           }
          ],
          "scatterpolar": [
           {
            "marker": {
             "colorbar": {
              "outlinewidth": 0,
              "ticks": ""
             }
            },
            "type": "scatterpolar"
           }
          ],
          "scatterpolargl": [
           {
            "marker": {
             "colorbar": {
              "outlinewidth": 0,
              "ticks": ""
             }
            },
            "type": "scatterpolargl"
           }
          ],
          "scatterternary": [
           {
            "marker": {
             "colorbar": {
              "outlinewidth": 0,
              "ticks": ""
             }
            },
            "type": "scatterternary"
           }
          ],
          "surface": [
           {
            "colorbar": {
             "outlinewidth": 0,
             "ticks": ""
            },
            "colorscale": [
             [
              0,
              "#0d0887"
             ],
             [
              0.1111111111111111,
              "#46039f"
             ],
             [
              0.2222222222222222,
              "#7201a8"
             ],
             [
              0.3333333333333333,
              "#9c179e"
             ],
             [
              0.4444444444444444,
              "#bd3786"
             ],
             [
              0.5555555555555556,
              "#d8576b"
             ],
             [
              0.6666666666666666,
              "#ed7953"
             ],
             [
              0.7777777777777778,
              "#fb9f3a"
             ],
             [
              0.8888888888888888,
              "#fdca26"
             ],
             [
              1,
              "#f0f921"
             ]
            ],
            "type": "surface"
           }
          ],
          "table": [
           {
            "cells": {
             "fill": {
              "color": "#EBF0F8"
             },
             "line": {
              "color": "white"
             }
            },
            "header": {
             "fill": {
              "color": "#C8D4E3"
             },
             "line": {
              "color": "white"
             }
            },
            "type": "table"
           }
          ]
         },
         "layout": {
          "annotationdefaults": {
           "arrowcolor": "#2a3f5f",
           "arrowhead": 0,
           "arrowwidth": 1
          },
          "autotypenumbers": "strict",
          "coloraxis": {
           "colorbar": {
            "outlinewidth": 0,
            "ticks": ""
           }
          },
          "colorscale": {
           "diverging": [
            [
             0,
             "#8e0152"
            ],
            [
             0.1,
             "#c51b7d"
            ],
            [
             0.2,
             "#de77ae"
            ],
            [
             0.3,
             "#f1b6da"
            ],
            [
             0.4,
             "#fde0ef"
            ],
            [
             0.5,
             "#f7f7f7"
            ],
            [
             0.6,
             "#e6f5d0"
            ],
            [
             0.7,
             "#b8e186"
            ],
            [
             0.8,
             "#7fbc41"
            ],
            [
             0.9,
             "#4d9221"
            ],
            [
             1,
             "#276419"
            ]
           ],
           "sequential": [
            [
             0,
             "#0d0887"
            ],
            [
             0.1111111111111111,
             "#46039f"
            ],
            [
             0.2222222222222222,
             "#7201a8"
            ],
            [
             0.3333333333333333,
             "#9c179e"
            ],
            [
             0.4444444444444444,
             "#bd3786"
            ],
            [
             0.5555555555555556,
             "#d8576b"
            ],
            [
             0.6666666666666666,
             "#ed7953"
            ],
            [
             0.7777777777777778,
             "#fb9f3a"
            ],
            [
             0.8888888888888888,
             "#fdca26"
            ],
            [
             1,
             "#f0f921"
            ]
           ],
           "sequentialminus": [
            [
             0,
             "#0d0887"
            ],
            [
             0.1111111111111111,
             "#46039f"
            ],
            [
             0.2222222222222222,
             "#7201a8"
            ],
            [
             0.3333333333333333,
             "#9c179e"
            ],
            [
             0.4444444444444444,
             "#bd3786"
            ],
            [
             0.5555555555555556,
             "#d8576b"
            ],
            [
             0.6666666666666666,
             "#ed7953"
            ],
            [
             0.7777777777777778,
             "#fb9f3a"
            ],
            [
             0.8888888888888888,
             "#fdca26"
            ],
            [
             1,
             "#f0f921"
            ]
           ]
          },
          "colorway": [
           "#636efa",
           "#EF553B",
           "#00cc96",
           "#ab63fa",
           "#FFA15A",
           "#19d3f3",
           "#FF6692",
           "#B6E880",
           "#FF97FF",
           "#FECB52"
          ],
          "font": {
           "color": "#2a3f5f"
          },
          "geo": {
           "bgcolor": "white",
           "lakecolor": "white",
           "landcolor": "white",
           "showlakes": true,
           "showland": true,
           "subunitcolor": "#C8D4E3"
          },
          "hoverlabel": {
           "align": "left"
          },
          "hovermode": "closest",
          "mapbox": {
           "style": "light"
          },
          "paper_bgcolor": "white",
          "plot_bgcolor": "white",
          "polar": {
           "angularaxis": {
            "gridcolor": "#EBF0F8",
            "linecolor": "#EBF0F8",
            "ticks": ""
           },
           "bgcolor": "white",
           "radialaxis": {
            "gridcolor": "#EBF0F8",
            "linecolor": "#EBF0F8",
            "ticks": ""
           }
          },
          "scene": {
           "xaxis": {
            "backgroundcolor": "white",
            "gridcolor": "#DFE8F3",
            "gridwidth": 2,
            "linecolor": "#EBF0F8",
            "showbackground": true,
            "ticks": "",
            "zerolinecolor": "#EBF0F8"
           },
           "yaxis": {
            "backgroundcolor": "white",
            "gridcolor": "#DFE8F3",
            "gridwidth": 2,
            "linecolor": "#EBF0F8",
            "showbackground": true,
            "ticks": "",
            "zerolinecolor": "#EBF0F8"
           },
           "zaxis": {
            "backgroundcolor": "white",
            "gridcolor": "#DFE8F3",
            "gridwidth": 2,
            "linecolor": "#EBF0F8",
            "showbackground": true,
            "ticks": "",
            "zerolinecolor": "#EBF0F8"
           }
          },
          "shapedefaults": {
           "line": {
            "color": "#2a3f5f"
           }
          },
          "ternary": {
           "aaxis": {
            "gridcolor": "#DFE8F3",
            "linecolor": "#A2B1C6",
            "ticks": ""
           },
           "baxis": {
            "gridcolor": "#DFE8F3",
            "linecolor": "#A2B1C6",
            "ticks": ""
           },
           "bgcolor": "white",
           "caxis": {
            "gridcolor": "#DFE8F3",
            "linecolor": "#A2B1C6",
            "ticks": ""
           }
          },
          "title": {
           "x": 0.05
          },
          "xaxis": {
           "automargin": true,
           "gridcolor": "#EBF0F8",
           "linecolor": "#EBF0F8",
           "ticks": "",
           "title": {
            "standoff": 15
           },
           "zerolinecolor": "#EBF0F8",
           "zerolinewidth": 2
          },
          "yaxis": {
           "automargin": true,
           "gridcolor": "#EBF0F8",
           "linecolor": "#EBF0F8",
           "ticks": "",
           "title": {
            "standoff": 15
           },
           "zerolinecolor": "#EBF0F8",
           "zerolinewidth": 2
          }
         }
        },
        "title": {
         "font": {
          "color": "Black",
          "size": 22
         },
         "text": "<b>Term score decline per Topic</b>",
         "x": 0.5,
         "xanchor": "center",
         "y": 0.9,
         "yanchor": "top"
        },
        "width": 800,
        "xaxis": {
         "dtick": 2,
         "range": [
          0,
          10
         ],
         "tick0": 1,
         "title": {
          "text": "Term Rank"
         }
        },
        "yaxis": {
         "title": {
          "text": "c-TF-IDF score"
         }
        }
       }
      }
     },
     "metadata": {},
     "output_type": "display_data"
    }
   ],
   "source": [
    "topic_model.visualize_term_rank()"
   ]
  },
  {
   "cell_type": "code",
   "execution_count": 637,
   "metadata": {},
   "outputs": [
    {
     "data": {
      "application/vnd.plotly.v1+json": {
       "config": {
        "plotlyServerURL": "https://plot.ly"
       },
       "data": [
        {
         "marker": {
          "color": "#D55E00"
         },
         "orientation": "h",
         "type": "bar",
         "x": [
          0.1889289332917383,
          0.18932733250904427,
          0.19152845770259552,
          0.1946920910562392,
          0.2124025833820966
         ],
         "xaxis": "x",
         "y": [
          "is  ",
          "welding  ",
          "robot  ",
          "body  ",
          "cleaning  "
         ],
         "yaxis": "y"
        },
        {
         "marker": {
          "color": "#0072B2"
         },
         "orientation": "h",
         "type": "bar",
         "x": [
          0.24936020954152438,
          0.2642992743503837,
          0.30049081382365056,
          0.32058058273070333,
          0.41747705864718626
         ],
         "xaxis": "x2",
         "y": [
          "arm  ",
          "effector  ",
          "robotic  ",
          "instrument  ",
          "surgical  "
         ],
         "yaxis": "y2"
        },
        {
         "marker": {
          "color": "#CC79A7"
         },
         "orientation": "h",
         "type": "bar",
         "x": [
          0.3299143194058658,
          0.3369367152378699,
          0.3726296531389702,
          0.3969865469277233,
          0.5560214181422959
         ],
         "xaxis": "x3",
         "y": [
          "waist  ",
          "joint  ",
          "rehabilitation  ",
          "limb  ",
          "exoskeleton  "
         ],
         "yaxis": "y3"
        },
        {
         "marker": {
          "color": "#E69F00"
         },
         "orientation": "h",
         "type": "bar",
         "x": [
          0.3721300087452816,
          0.3761042168272429,
          0.4102808255001006,
          0.4216538151545987,
          0.42372401941094656
         ],
         "xaxis": "x4",
         "y": [
          "container  ",
          "chamber  ",
          "transfer  ",
          "sorting  ",
          "substrate  "
         ],
         "yaxis": "y4"
        },
        {
         "marker": {
          "color": "#56B4E9"
         },
         "orientation": "h",
         "type": "bar",
         "x": [
          0.3902424753049471,
          0.4035159368236631,
          0.4703725151504775,
          0.5221654836512204,
          0.6086083796930808
         ],
         "xaxis": "x5",
         "y": [
          "chat  ",
          "dialogue  ",
          "automation  ",
          "voice  ",
          "rpa  "
         ],
         "yaxis": "y5"
        },
        {
         "marker": {
          "color": "#009E73"
         },
         "orientation": "h",
         "type": "bar",
         "x": [
          0.41122533731574307,
          0.4525764447657768,
          0.4664865895009757,
          0.4762240339759627,
          0.5583696692712207
         ],
         "xaxis": "x6",
         "y": [
          "turbine  ",
          "flying  ",
          "unmanned  ",
          "wind  ",
          "aerial  "
         ],
         "yaxis": "y6"
        },
        {
         "marker": {
          "color": "#F0E442"
         },
         "orientation": "h",
         "type": "bar",
         "x": [
          0.3815576591317273,
          0.3962104258734538,
          0.4990450746187213,
          0.724102634618962,
          0.7690241547708336
         ],
         "xaxis": "x7",
         "y": [
          "küchenmaschine  ",
          "processor  ",
          "kitchen  ",
          "cooking  ",
          "food  "
         ],
         "yaxis": "y7"
        },
        {
         "marker": {
          "color": "#D55E00"
         },
         "orientation": "h",
         "type": "bar",
         "x": [
          0.38627816601592196,
          0.4660267561491425,
          0.475819587374626,
          0.6375653703795243,
          0.6468079072860787
         ],
         "xaxis": "x8",
         "y": [
          "liquid  ",
          "fluid  ",
          "suction  ",
          "glass  ",
          "cup  "
         ],
         "yaxis": "y8"
        }
       ],
       "layout": {
        "annotations": [
         {
          "font": {
           "size": 16
          },
          "showarrow": false,
          "text": "Topic 0",
          "x": 0.0875,
          "xanchor": "center",
          "xref": "paper",
          "y": 1,
          "yanchor": "bottom",
          "yref": "paper"
         },
         {
          "font": {
           "size": 16
          },
          "showarrow": false,
          "text": "Topic 1",
          "x": 0.36250000000000004,
          "xanchor": "center",
          "xref": "paper",
          "y": 1,
          "yanchor": "bottom",
          "yref": "paper"
         },
         {
          "font": {
           "size": 16
          },
          "showarrow": false,
          "text": "Topic 2",
          "x": 0.6375000000000001,
          "xanchor": "center",
          "xref": "paper",
          "y": 1,
          "yanchor": "bottom",
          "yref": "paper"
         },
         {
          "font": {
           "size": 16
          },
          "showarrow": false,
          "text": "Topic 3",
          "x": 0.9125,
          "xanchor": "center",
          "xref": "paper",
          "y": 1,
          "yanchor": "bottom",
          "yref": "paper"
         },
         {
          "font": {
           "size": 16
          },
          "showarrow": false,
          "text": "Topic 4",
          "x": 0.0875,
          "xanchor": "center",
          "xref": "paper",
          "y": 0.4,
          "yanchor": "bottom",
          "yref": "paper"
         },
         {
          "font": {
           "size": 16
          },
          "showarrow": false,
          "text": "Topic 5",
          "x": 0.36250000000000004,
          "xanchor": "center",
          "xref": "paper",
          "y": 0.4,
          "yanchor": "bottom",
          "yref": "paper"
         },
         {
          "font": {
           "size": 16
          },
          "showarrow": false,
          "text": "Topic 6",
          "x": 0.6375000000000001,
          "xanchor": "center",
          "xref": "paper",
          "y": 0.4,
          "yanchor": "bottom",
          "yref": "paper"
         },
         {
          "font": {
           "size": 16
          },
          "showarrow": false,
          "text": "Topic 7",
          "x": 0.9125,
          "xanchor": "center",
          "xref": "paper",
          "y": 0.4,
          "yanchor": "bottom",
          "yref": "paper"
         }
        ],
        "height": 500,
        "hoverlabel": {
         "bgcolor": "white",
         "font": {
          "family": "Rockwell",
          "size": 16
         }
        },
        "showlegend": false,
        "template": {
         "data": {
          "bar": [
           {
            "error_x": {
             "color": "#2a3f5f"
            },
            "error_y": {
             "color": "#2a3f5f"
            },
            "marker": {
             "line": {
              "color": "white",
              "width": 0.5
             },
             "pattern": {
              "fillmode": "overlay",
              "size": 10,
              "solidity": 0.2
             }
            },
            "type": "bar"
           }
          ],
          "barpolar": [
           {
            "marker": {
             "line": {
              "color": "white",
              "width": 0.5
             },
             "pattern": {
              "fillmode": "overlay",
              "size": 10,
              "solidity": 0.2
             }
            },
            "type": "barpolar"
           }
          ],
          "carpet": [
           {
            "aaxis": {
             "endlinecolor": "#2a3f5f",
             "gridcolor": "#C8D4E3",
             "linecolor": "#C8D4E3",
             "minorgridcolor": "#C8D4E3",
             "startlinecolor": "#2a3f5f"
            },
            "baxis": {
             "endlinecolor": "#2a3f5f",
             "gridcolor": "#C8D4E3",
             "linecolor": "#C8D4E3",
             "minorgridcolor": "#C8D4E3",
             "startlinecolor": "#2a3f5f"
            },
            "type": "carpet"
           }
          ],
          "choropleth": [
           {
            "colorbar": {
             "outlinewidth": 0,
             "ticks": ""
            },
            "type": "choropleth"
           }
          ],
          "contour": [
           {
            "colorbar": {
             "outlinewidth": 0,
             "ticks": ""
            },
            "colorscale": [
             [
              0,
              "#0d0887"
             ],
             [
              0.1111111111111111,
              "#46039f"
             ],
             [
              0.2222222222222222,
              "#7201a8"
             ],
             [
              0.3333333333333333,
              "#9c179e"
             ],
             [
              0.4444444444444444,
              "#bd3786"
             ],
             [
              0.5555555555555556,
              "#d8576b"
             ],
             [
              0.6666666666666666,
              "#ed7953"
             ],
             [
              0.7777777777777778,
              "#fb9f3a"
             ],
             [
              0.8888888888888888,
              "#fdca26"
             ],
             [
              1,
              "#f0f921"
             ]
            ],
            "type": "contour"
           }
          ],
          "contourcarpet": [
           {
            "colorbar": {
             "outlinewidth": 0,
             "ticks": ""
            },
            "type": "contourcarpet"
           }
          ],
          "heatmap": [
           {
            "colorbar": {
             "outlinewidth": 0,
             "ticks": ""
            },
            "colorscale": [
             [
              0,
              "#0d0887"
             ],
             [
              0.1111111111111111,
              "#46039f"
             ],
             [
              0.2222222222222222,
              "#7201a8"
             ],
             [
              0.3333333333333333,
              "#9c179e"
             ],
             [
              0.4444444444444444,
              "#bd3786"
             ],
             [
              0.5555555555555556,
              "#d8576b"
             ],
             [
              0.6666666666666666,
              "#ed7953"
             ],
             [
              0.7777777777777778,
              "#fb9f3a"
             ],
             [
              0.8888888888888888,
              "#fdca26"
             ],
             [
              1,
              "#f0f921"
             ]
            ],
            "type": "heatmap"
           }
          ],
          "heatmapgl": [
           {
            "colorbar": {
             "outlinewidth": 0,
             "ticks": ""
            },
            "colorscale": [
             [
              0,
              "#0d0887"
             ],
             [
              0.1111111111111111,
              "#46039f"
             ],
             [
              0.2222222222222222,
              "#7201a8"
             ],
             [
              0.3333333333333333,
              "#9c179e"
             ],
             [
              0.4444444444444444,
              "#bd3786"
             ],
             [
              0.5555555555555556,
              "#d8576b"
             ],
             [
              0.6666666666666666,
              "#ed7953"
             ],
             [
              0.7777777777777778,
              "#fb9f3a"
             ],
             [
              0.8888888888888888,
              "#fdca26"
             ],
             [
              1,
              "#f0f921"
             ]
            ],
            "type": "heatmapgl"
           }
          ],
          "histogram": [
           {
            "marker": {
             "pattern": {
              "fillmode": "overlay",
              "size": 10,
              "solidity": 0.2
             }
            },
            "type": "histogram"
           }
          ],
          "histogram2d": [
           {
            "colorbar": {
             "outlinewidth": 0,
             "ticks": ""
            },
            "colorscale": [
             [
              0,
              "#0d0887"
             ],
             [
              0.1111111111111111,
              "#46039f"
             ],
             [
              0.2222222222222222,
              "#7201a8"
             ],
             [
              0.3333333333333333,
              "#9c179e"
             ],
             [
              0.4444444444444444,
              "#bd3786"
             ],
             [
              0.5555555555555556,
              "#d8576b"
             ],
             [
              0.6666666666666666,
              "#ed7953"
             ],
             [
              0.7777777777777778,
              "#fb9f3a"
             ],
             [
              0.8888888888888888,
              "#fdca26"
             ],
             [
              1,
              "#f0f921"
             ]
            ],
            "type": "histogram2d"
           }
          ],
          "histogram2dcontour": [
           {
            "colorbar": {
             "outlinewidth": 0,
             "ticks": ""
            },
            "colorscale": [
             [
              0,
              "#0d0887"
             ],
             [
              0.1111111111111111,
              "#46039f"
             ],
             [
              0.2222222222222222,
              "#7201a8"
             ],
             [
              0.3333333333333333,
              "#9c179e"
             ],
             [
              0.4444444444444444,
              "#bd3786"
             ],
             [
              0.5555555555555556,
              "#d8576b"
             ],
             [
              0.6666666666666666,
              "#ed7953"
             ],
             [
              0.7777777777777778,
              "#fb9f3a"
             ],
             [
              0.8888888888888888,
              "#fdca26"
             ],
             [
              1,
              "#f0f921"
             ]
            ],
            "type": "histogram2dcontour"
           }
          ],
          "mesh3d": [
           {
            "colorbar": {
             "outlinewidth": 0,
             "ticks": ""
            },
            "type": "mesh3d"
           }
          ],
          "parcoords": [
           {
            "line": {
             "colorbar": {
              "outlinewidth": 0,
              "ticks": ""
             }
            },
            "type": "parcoords"
           }
          ],
          "pie": [
           {
            "automargin": true,
            "type": "pie"
           }
          ],
          "scatter": [
           {
            "fillpattern": {
             "fillmode": "overlay",
             "size": 10,
             "solidity": 0.2
            },
            "type": "scatter"
           }
          ],
          "scatter3d": [
           {
            "line": {
             "colorbar": {
              "outlinewidth": 0,
              "ticks": ""
             }
            },
            "marker": {
             "colorbar": {
              "outlinewidth": 0,
              "ticks": ""
             }
            },
            "type": "scatter3d"
           }
          ],
          "scattercarpet": [
           {
            "marker": {
             "colorbar": {
              "outlinewidth": 0,
              "ticks": ""
             }
            },
            "type": "scattercarpet"
           }
          ],
          "scattergeo": [
           {
            "marker": {
             "colorbar": {
              "outlinewidth": 0,
              "ticks": ""
             }
            },
            "type": "scattergeo"
           }
          ],
          "scattergl": [
           {
            "marker": {
             "colorbar": {
              "outlinewidth": 0,
              "ticks": ""
             }
            },
            "type": "scattergl"
           }
          ],
          "scattermapbox": [
           {
            "marker": {
             "colorbar": {
              "outlinewidth": 0,
              "ticks": ""
             }
            },
            "type": "scattermapbox"
           }
          ],
          "scatterpolar": [
           {
            "marker": {
             "colorbar": {
              "outlinewidth": 0,
              "ticks": ""
             }
            },
            "type": "scatterpolar"
           }
          ],
          "scatterpolargl": [
           {
            "marker": {
             "colorbar": {
              "outlinewidth": 0,
              "ticks": ""
             }
            },
            "type": "scatterpolargl"
           }
          ],
          "scatterternary": [
           {
            "marker": {
             "colorbar": {
              "outlinewidth": 0,
              "ticks": ""
             }
            },
            "type": "scatterternary"
           }
          ],
          "surface": [
           {
            "colorbar": {
             "outlinewidth": 0,
             "ticks": ""
            },
            "colorscale": [
             [
              0,
              "#0d0887"
             ],
             [
              0.1111111111111111,
              "#46039f"
             ],
             [
              0.2222222222222222,
              "#7201a8"
             ],
             [
              0.3333333333333333,
              "#9c179e"
             ],
             [
              0.4444444444444444,
              "#bd3786"
             ],
             [
              0.5555555555555556,
              "#d8576b"
             ],
             [
              0.6666666666666666,
              "#ed7953"
             ],
             [
              0.7777777777777778,
              "#fb9f3a"
             ],
             [
              0.8888888888888888,
              "#fdca26"
             ],
             [
              1,
              "#f0f921"
             ]
            ],
            "type": "surface"
           }
          ],
          "table": [
           {
            "cells": {
             "fill": {
              "color": "#EBF0F8"
             },
             "line": {
              "color": "white"
             }
            },
            "header": {
             "fill": {
              "color": "#C8D4E3"
             },
             "line": {
              "color": "white"
             }
            },
            "type": "table"
           }
          ]
         },
         "layout": {
          "annotationdefaults": {
           "arrowcolor": "#2a3f5f",
           "arrowhead": 0,
           "arrowwidth": 1
          },
          "autotypenumbers": "strict",
          "coloraxis": {
           "colorbar": {
            "outlinewidth": 0,
            "ticks": ""
           }
          },
          "colorscale": {
           "diverging": [
            [
             0,
             "#8e0152"
            ],
            [
             0.1,
             "#c51b7d"
            ],
            [
             0.2,
             "#de77ae"
            ],
            [
             0.3,
             "#f1b6da"
            ],
            [
             0.4,
             "#fde0ef"
            ],
            [
             0.5,
             "#f7f7f7"
            ],
            [
             0.6,
             "#e6f5d0"
            ],
            [
             0.7,
             "#b8e186"
            ],
            [
             0.8,
             "#7fbc41"
            ],
            [
             0.9,
             "#4d9221"
            ],
            [
             1,
             "#276419"
            ]
           ],
           "sequential": [
            [
             0,
             "#0d0887"
            ],
            [
             0.1111111111111111,
             "#46039f"
            ],
            [
             0.2222222222222222,
             "#7201a8"
            ],
            [
             0.3333333333333333,
             "#9c179e"
            ],
            [
             0.4444444444444444,
             "#bd3786"
            ],
            [
             0.5555555555555556,
             "#d8576b"
            ],
            [
             0.6666666666666666,
             "#ed7953"
            ],
            [
             0.7777777777777778,
             "#fb9f3a"
            ],
            [
             0.8888888888888888,
             "#fdca26"
            ],
            [
             1,
             "#f0f921"
            ]
           ],
           "sequentialminus": [
            [
             0,
             "#0d0887"
            ],
            [
             0.1111111111111111,
             "#46039f"
            ],
            [
             0.2222222222222222,
             "#7201a8"
            ],
            [
             0.3333333333333333,
             "#9c179e"
            ],
            [
             0.4444444444444444,
             "#bd3786"
            ],
            [
             0.5555555555555556,
             "#d8576b"
            ],
            [
             0.6666666666666666,
             "#ed7953"
            ],
            [
             0.7777777777777778,
             "#fb9f3a"
            ],
            [
             0.8888888888888888,
             "#fdca26"
            ],
            [
             1,
             "#f0f921"
            ]
           ]
          },
          "colorway": [
           "#636efa",
           "#EF553B",
           "#00cc96",
           "#ab63fa",
           "#FFA15A",
           "#19d3f3",
           "#FF6692",
           "#B6E880",
           "#FF97FF",
           "#FECB52"
          ],
          "font": {
           "color": "#2a3f5f"
          },
          "geo": {
           "bgcolor": "white",
           "lakecolor": "white",
           "landcolor": "white",
           "showlakes": true,
           "showland": true,
           "subunitcolor": "#C8D4E3"
          },
          "hoverlabel": {
           "align": "left"
          },
          "hovermode": "closest",
          "mapbox": {
           "style": "light"
          },
          "paper_bgcolor": "white",
          "plot_bgcolor": "white",
          "polar": {
           "angularaxis": {
            "gridcolor": "#EBF0F8",
            "linecolor": "#EBF0F8",
            "ticks": ""
           },
           "bgcolor": "white",
           "radialaxis": {
            "gridcolor": "#EBF0F8",
            "linecolor": "#EBF0F8",
            "ticks": ""
           }
          },
          "scene": {
           "xaxis": {
            "backgroundcolor": "white",
            "gridcolor": "#DFE8F3",
            "gridwidth": 2,
            "linecolor": "#EBF0F8",
            "showbackground": true,
            "ticks": "",
            "zerolinecolor": "#EBF0F8"
           },
           "yaxis": {
            "backgroundcolor": "white",
            "gridcolor": "#DFE8F3",
            "gridwidth": 2,
            "linecolor": "#EBF0F8",
            "showbackground": true,
            "ticks": "",
            "zerolinecolor": "#EBF0F8"
           },
           "zaxis": {
            "backgroundcolor": "white",
            "gridcolor": "#DFE8F3",
            "gridwidth": 2,
            "linecolor": "#EBF0F8",
            "showbackground": true,
            "ticks": "",
            "zerolinecolor": "#EBF0F8"
           }
          },
          "shapedefaults": {
           "line": {
            "color": "#2a3f5f"
           }
          },
          "ternary": {
           "aaxis": {
            "gridcolor": "#DFE8F3",
            "linecolor": "#A2B1C6",
            "ticks": ""
           },
           "baxis": {
            "gridcolor": "#DFE8F3",
            "linecolor": "#A2B1C6",
            "ticks": ""
           },
           "bgcolor": "white",
           "caxis": {
            "gridcolor": "#DFE8F3",
            "linecolor": "#A2B1C6",
            "ticks": ""
           }
          },
          "title": {
           "x": 0.05
          },
          "xaxis": {
           "automargin": true,
           "gridcolor": "#EBF0F8",
           "linecolor": "#EBF0F8",
           "ticks": "",
           "title": {
            "standoff": 15
           },
           "zerolinecolor": "#EBF0F8",
           "zerolinewidth": 2
          },
          "yaxis": {
           "automargin": true,
           "gridcolor": "#EBF0F8",
           "linecolor": "#EBF0F8",
           "ticks": "",
           "title": {
            "standoff": 15
           },
           "zerolinecolor": "#EBF0F8",
           "zerolinewidth": 2
          }
         }
        },
        "title": {
         "font": {
          "color": "Black",
          "size": 22
         },
         "text": "Topic Word Scores",
         "x": 0.5,
         "xanchor": "center",
         "yanchor": "top"
        },
        "width": 1000,
        "xaxis": {
         "anchor": "y",
         "domain": [
          0,
          0.175
         ],
         "showgrid": true
        },
        "xaxis2": {
         "anchor": "y2",
         "domain": [
          0.275,
          0.45
         ],
         "showgrid": true
        },
        "xaxis3": {
         "anchor": "y3",
         "domain": [
          0.55,
          0.7250000000000001
         ],
         "showgrid": true
        },
        "xaxis4": {
         "anchor": "y4",
         "domain": [
          0.825,
          1
         ],
         "showgrid": true
        },
        "xaxis5": {
         "anchor": "y5",
         "domain": [
          0,
          0.175
         ],
         "showgrid": true
        },
        "xaxis6": {
         "anchor": "y6",
         "domain": [
          0.275,
          0.45
         ],
         "showgrid": true
        },
        "xaxis7": {
         "anchor": "y7",
         "domain": [
          0.55,
          0.7250000000000001
         ],
         "showgrid": true
        },
        "xaxis8": {
         "anchor": "y8",
         "domain": [
          0.825,
          1
         ],
         "showgrid": true
        },
        "yaxis": {
         "anchor": "x",
         "domain": [
          0.6000000000000001,
          1
         ],
         "showgrid": true
        },
        "yaxis2": {
         "anchor": "x2",
         "domain": [
          0.6000000000000001,
          1
         ],
         "showgrid": true
        },
        "yaxis3": {
         "anchor": "x3",
         "domain": [
          0.6000000000000001,
          1
         ],
         "showgrid": true
        },
        "yaxis4": {
         "anchor": "x4",
         "domain": [
          0.6000000000000001,
          1
         ],
         "showgrid": true
        },
        "yaxis5": {
         "anchor": "x5",
         "domain": [
          0,
          0.4
         ],
         "showgrid": true
        },
        "yaxis6": {
         "anchor": "x6",
         "domain": [
          0,
          0.4
         ],
         "showgrid": true
        },
        "yaxis7": {
         "anchor": "x7",
         "domain": [
          0,
          0.4
         ],
         "showgrid": true
        },
        "yaxis8": {
         "anchor": "x8",
         "domain": [
          0,
          0.4
         ],
         "showgrid": true
        }
       }
      }
     },
     "metadata": {},
     "output_type": "display_data"
    }
   ],
   "source": [
    "topic_model.visualize_barchart()"
   ]
  },
  {
   "cell_type": "code",
   "execution_count": 638,
   "metadata": {},
   "outputs": [],
   "source": [
    "# topic_model.visualize_documents(texts)"
   ]
  },
  {
   "cell_type": "code",
   "execution_count": 639,
   "metadata": {},
   "outputs": [],
   "source": [
    "# topic_model.visualize_distribution(probabilities[200], min_probability=0.015)"
   ]
  },
  {
   "cell_type": "code",
   "execution_count": 640,
   "metadata": {},
   "outputs": [
    {
     "name": "stderr",
     "output_type": "stream",
     "text": [
      "2024-05-28 16:28:13,258 - BERTopic - Topic reduction - Reducing number of topics\n",
      "2024-05-28 16:28:13,259 - BERTopic - Topic reduction - Reduced number of topics from 20 to 20\n"
     ]
    },
    {
     "data": {
      "text/plain": [
       "<bertopic._bertopic.BERTopic at 0x15bbee22820>"
      ]
     },
     "execution_count": 640,
     "metadata": {},
     "output_type": "execute_result"
    }
   ],
   "source": [
    "topic_model.reduce_topics(texts, nr_topics=20)"
   ]
  },
  {
   "cell_type": "code",
   "execution_count": 11,
   "metadata": {},
   "outputs": [
    {
     "data": {
      "text/plain": [
       "['-1_system_for_an',\n",
       " '0_cleaning_body_robot',\n",
       " '1_surgical_instrument_robotic',\n",
       " '2_exoskeleton_limb_rehabilitation',\n",
       " '3_substrate_sorting_transfer',\n",
       " '4_rpa_voice_automation',\n",
       " '5_aerial_wind_unmanned',\n",
       " '6_food_cooking_kitchen',\n",
       " '7_cup_glass_suction',\n",
       " '8_agv_gait_biped',\n",
       " '9_catheter_interventional_guidewire',\n",
       " '10_printing_print_printer',\n",
       " '11_brake_braking_band',\n",
       " '12_tactile_sensor_layer',\n",
       " '13_fruit_picking_fruits',\n",
       " '14_neural_network_training',\n",
       " '15_gear_planetary_wave',\n",
       " '16_snakelike_snake_shaped',\n",
       " '17_der_einer_werkstückträgervorrichtung',\n",
       " '18_vehicle_passenger_autonomous']"
      ]
     },
     "execution_count": 11,
     "metadata": {},
     "output_type": "execute_result"
    }
   ],
   "source": [
    "topic_model.generate_topic_labels()"
   ]
  },
  {
   "cell_type": "code",
   "execution_count": 18,
   "metadata": {},
   "outputs": [
    {
     "data": {
      "text/plain": [
       "{-1: ['Robot. The invention relates to the technical field of automatic equipment, in particular to a robot which comprises a head assembly, a first display assembly and a first signal collecting assembly are arranged on the head assembly, a second display assembly is arranged on the side face, facing the outer side, of a robot body, and the first signal collecting assembly is used for collecting external to be input information, the head assembly can move under the control of a control instruction and or to be input information, and the first display assembly and the second display assembly can perform interaction and information display under the control of the control instruction and or the to be input information. According to the robot provided by the invention, the robot is provided with the head assembly, the display assembly and the signal acquisition assembly which have the interaction function, so that the diversity of the interaction process and the interaction mode of the robot is.',\n",
       "  'Robot protection control method, device and equipment based on dynamic current detection, and storage medium. The embodiment of the invention provides a robot protection control method, device and equipment based on dynamic current detection, and a storage medium, and relates to the technical field of robot control. According to the method, firstly, the current value of the whole robot and the states of all steering engines of the robot are obtained, then the current posture of the robot is obtained, and the current posture of the robot comprises a rotation angle sequence formed by the states of all the steering engines of the robot when the robot is in current action. If at least one of the steering engines is in an abnormal state, and the current value of the whole robot is larger than or equal to a first current threshold, the robot is controlled to execute a target action according to the current posture of the robot, and power supply to the robot is stopped. According to the method, the short circuit problem of a robot sensor and an internal circuit board can be effectively detected.',\n",
       "  'Multifunctional robot based on laser and visual identification navigation. The utility model discloses a multifunctional robot based on laser and visual identification navigation, which belongs to the technical field of intelligent robots and solves the problems of high cost and large size of the existing robot due to the fact that the existing robot needs a large number of sensors for positioning, identification, sensing and other functions. A top plate is installed on the upper portion of the rack, a movement system is installed at the bottom of the rack, a depth vision camera, a camera, a laser radar and a control system are installed on the top plate, a driving plate is connected to the bottom of the top and connected with the control system, and the control system comprises a small computer and a memory card. The robot can be applied to various industrial and service robots such as security inspection robots, express delivery robots, meal delivery robots, floor sweeping robots, floor washing robots, fire extinguishing robots, logistics robots, welcome.'],\n",
       " 0: ['Robot apparatus. The embodiment of the utility model provides robot equipment. The equipment comprises a base capable of moving and walking, the display device is mounted on the base, the supporting mechanism is used for supporting the display device, the robot equipment further comprises a driving mechanism used for driving the display device to move relative to the supporting mechanism, the display device has at least two positions including the first position for normal work and the second position for storage, and at the first position, the display device is located on the front side of the robot equipment and has a first height, in the second position, the display device is located on the rear side of the robotic apparatus and has a second height, where the second height is lower than the first height. According to the technical scheme provided by the embodiment of the invention, the size of the robot equipment with the display device is reduced, and the use safety of the robot equipment is.',\n",
       "  'Pipeline inner wall cleaning robot. The utility model discloses a pipeline inner wall cleaning robot which comprises a robot body, at least two groups of moving mechanisms, a cleaning mechanism and a reducing adjusting mechanism, the robot body is in wireless communication with a robot remote controller and receives instructions of the robot remote controller, and the moving mechanisms are respectively installed on the outer side of the robot body. The cleaning mechanism is used for driving the robot body to move back and forth on the inner wall of the pipeline and comprises a crawler wheel assembly and a connecting rod assembly connected with the crawler wheel assembly and the robot body, the cleaning mechanism is installed on the outer wall of the front end of the robot body and driven by the robot body to spray water, and the variable diameter adjusting mechanism drives the connecting rod assembly to move. The distance between the moving mechanism and the robot body is adjusted. The robot body is driven by the.',\n",
       "  'Welding robot with high working efficiency. The welding robot high in working efficiency comprises a bottom plate and a robot body fixedly arranged at the top of the bottom plate, a first electric sliding rail is fixedly arranged at the position, located on one side of the robot body, of the top of the bottom plate, and a sliding seat is slidably connected to the top of the first electric sliding rail, and a first motor is fixedly connected into the sliding seat, and one end of an output shaft of the first motor is fixedly connected with a control box through a coupler. According to the welding robot with the high working efficiency, by adopting the left operation table and the right operation table, when a plate on one operation table is welded, a worker can conveniently complete subsequent plate feeding on the other operation table, so that the purpose of feeding at the same time of welding is achieved, the plate feeding and discharging time is saved, continuous operation of the welding robot is achieved, and the working.'],\n",
       " 1: [\"Configuring surgical robotic system. A control system of a surgical robotic system, the surgical robotic system comprising a first robotic arm and a second robotic arm, each of the first robotic arm and the second robotic arm comprising a series of joints, the configuration of the robotic arm being changeable by the series of joints, a surgical robotic system having a first robotic arm and a series of joints extending from a base at a proximal end of the robotic arm to an attachment for a surgical instrument at a distal end of the robotic arm, the control system configured to reconfigure the surgical robotic system by controlling the first robotic arm to operate in a surgical mode, a first surgical instrument attached to the first robotic arm in the surgical mode is inside the body of the patient, and when the first robotic arm is operating in the surgical mode: controlling the second robotic arm so as to allow a second surgical instrument attached to the second robotic arm to be inserted into a port of the patient' s.\",\n",
       "  'Robotic Surgical Systems. A robotic surgical system for performing surgery, the system includes a robotic arm having a force and or torque control sensor coupled to the end effector and configured to hold a first surgical tool. The robotic system further includes an actuator that includes controlled movement of the robotic arm and or positioning of the end effector. The system further includes a tracking detector having optical markers for real time detection of surgical tool position and or end effector position and patient position. The system also includes a feedback system for moving the end effector to a planned trajectory based on the threshold distance between the planned trajectory and the actual trajectory.',\n",
       "  'Surgical instrument disengagement. A control unit for a surgical robotic system comprising a robotic arm with a drive assembly having a first interface element to actuate a first joint of an instrument when engaged with the robotic arm. The instrument has an end effector with first and second end effector elements, the first being moveable with respect to the second about the first joint. The control unit receives a signal from a user input device, that may be located on the robot arm, indicating intended disengagement of the instrument from the robotic arm, and in response cause the system to change from a first state in which the first effector element exerts a gripping force on the second end effector element, to a second state in which it does not. The effector elements may be in contact in the second state. The second end effector may also be driven.'],\n",
       " 2: ['Lower limb exoskeleton auxiliary rehabilitation robot. The utility model discloses a lower limb exoskeleton auxiliary rehabilitation robot, and relates to the field of medical rehabilitation training equipment, the lower limb exoskeleton auxiliary rehabilitation robot is bilaterally symmetrically arranged, and the lower limb exoskeleton auxiliary rehabilitation robot comprises a waist and back assembly, two hip joint assemblies, two thigh assemblies, two knee joint motor sets, two shank assemblies and two foot assemblies, the hip joint assemblies, the thigh assemblies, the knee joint motor sets, the shank assemblies and the foot assemblies are sequentially installed on the two sides of the lower end of the waist and back assembly from top to bottom. The wearable medical device is simple in structure, light in weight, small in size and low in cost, safety, comfort, portability and functionality are improved, the wearable medical device is suitable for being worn by patients of different body types, and the wearable medical device has.',\n",
       "  'Hip joint assisting exoskeleton. The invention relates to the field of power assisted exoskeletons, and discloses a hip joint power assisted exoskeleton which comprises a back supporting rod, two waist supporting rods and two thigh rods. The back supporting rod, the waist supporting rod and the thigh rods are rigid rods, the first end of the waist supporting rod is fixedly connected with the first end of the back supporting rod, a joint driving module is arranged at the second end of the waist supporting rod, and the joint driving module is used for being worn at the hip joint of a user, the joint driving module comprises a fixed end and an output end, the fixed end is fixedly connected with the second end of the waist supporting rod, and the output end can rotate around the axis of the output end relative to the fixed end and is fixedly connected with the first end of the thigh rod. The hip joint assistance exoskeleton is simple and compact in structure, a user can wear the hip joint assistance exoskeleton conveniently, .',\n",
       "  'Passive power assisted lower limb exoskeleton walking aid device and method based on carrying load driving. The invention discloses a passive assistance lower limb exoskeleton walking assisting device and method based on carrying load driving, and the device comprises an exoskeleton waist and back supporting mechanism which comprises a back plate, a sliding rail, a back frame, a waist plate, two side supporting pipes, and a connecting rod, the exoskeleton hip joint mechanism comprises a conduit, a first spring end, a second spring end, a spring, a roller connecting piece, a roller and a cam, the exoskeleton thigh mechanism comprises a first exoskeleton thigh rod, a second thigh rod and a thigh bandage, the exoskeleton knee joint mechanism comprises a special shaped rotation assembly, a knee joint rotation assembly and a knee joint shank rod. The exoskeleton shank mechanism comprises an exoskeleton shank rod and a shank bandage, an exoskeleton shoe cover mechanism, functions of a carrying exoskeleton and a power assisted exoskeleton are combined, energy of up and down fluctuation of a.'],\n",
       " 3: ['STORAGE SYSTEM. A storage system for storing product items includes a grid structure and a number of first storage bins configured to be stored in vertical stacks in the grid structure. Each first storage bin is configured to contain at least one product item. A vehicle is arranged to move horizontally at the top level of the grid structure, and further arranged to pick up, carry, and place the first storage bins at desired locations within the grid structure. The storage system further includes a robot device that includes a movable arm with a picking mechanism in one end thereof. The robot device is configured to move a storage item between a first location and a second location by means of its picking mechanism. The first location is the location of a first storage bin stored in the storage grid.',\n",
       "  'Management System and Control Method for Management System. Provided is a management system for managing storage and retrieval of items. The management system includes a transfer robot that includes a drive mechanism and a sensor, the drive mechanism being configured to move a shelf along a transfer route to a region where any one of operations of carrying in an item, carrying out the item, and transferring the item between shelves is enabled to be performed, and place the shelf at a predetermined position, the sensor being configured to detect a position of the transfer robot in a space where the transfer robot is allowed to be moved, a device configured to perform at least either the operation or assistance in the operation, and a first controller configured to generate control data for controlling the device and output the control data to the device, the control data being generated on the basis of an error between a position of the shelf transferred by the transfer robot and a target position on the transfer route, the error being calculated.',\n",
       "  'Delivery system with an access point and a method of accessing an access point of the delivery system. An automated storage and retrieval system includes a storage grid for storage of storage containers and a delivery system for transport of said storage containers between a delivery port of the storage grid and an access point of the delivery system. The access point is adapted for handling of items held in the storage containers by a robotic operator or human operator. The delivery system includes a delivery rail system including at least a first set of parallel rails arranged in a horizontal plane and extending in a first direction, and at least a second set of parallel rails arranged in the horizontal plane and extending in a second direction which is orthogonal to the first direction, the first and second sets of rails together defining a delivery grid of delivery grid cells, the access point, and a remotely operated delivery vehicle comprising a motorized vehicle body and a container carrier provided above the motorized vehicle body for carrying a storage.'],\n",
       " 4: ['INTELLIGENT VOICE RECOGNITION METHOD AND APPARATUS. An intelligent voice recognition method and apparatus are disclosed. An intelligent voice recognition apparatus according to one embodiment of the present invention recognizes speech of the user and outputs a response determined on the basis of the speech, wherein, when a plurality of candidate responses related to the speech exist, the response is determined from among the plurality of candidate responses on the basis of device state information about the voice recognition apparatus, and thus ambiguity in a conversation between a user and the voice recognition apparatus can be reduced so that more natural conversation processing is possible. The intelligent voice recognition apparatus and or an artificial intelligence apparatus of the present invention can be associated with an AI module, a drone, a robot, an augmented reality device, a virtual reality device, a device related to a G service, and the like.',\n",
       "  \"ROBOTIC PROCESS AUTOMATION WITH CONVERSATIONAL USER INTERFACE. Robotic process automation systems with improved user access enable a user to interact with an RPA system by way of a communication platform. The communication platform can support text messaging and or speech communication with a virtual agent that in turn is able to interface with an RPA system. In this way, a user of the communication platform is able to conveniently interact with the RPA system, such as in a conversational manner. By analyzing and interpreting the conversation, the user' s intent or desire can be determined and then carried out by the RPA system. Thereafter, results from the RPA system can be formatted and returned to the user. In one embodiment, to better understand the user' s intent or desire from the text messages or natural language communications, artificial intelligence can be used.\",\n",
       "  'TASK AUTOMATION BY SUPPORT ROBOTS FOR ROBOTIC PROCESS AUTOMATION. Task automation by support robots for robotic process automation is disclosed. RPA robots may be located on the computing systems of two or more users and or remotely. The RPA robots may use an artificial intelligence machine learning model that is trained to use computer vision to recognize tasks that the respective user is performing with the computing system. The RPA robots may then determine that the respective user is performing certain tasks on a regular basis in response to a certain action, such as receiving a request via email or another application, determining that a certain task has been completed, noting that a time period has elapsed, etc. , and automate the respective tasks.'],\n",
       " 5: ['Air ground dual purpose reconnaissance robot. The invention discloses a land air dual purpose reconnaissance robot, which comprises a land patrol mechanism, the land patrol mechanism comprises a suspension structure, a driving structure and crawler belt structures symmetrically installed on the two sides of the suspension structure, and the driving structure drives the crawler belt structures to walk, an air patrol mechanism, the aerial patrol mechanism comprises an unmanned aerial vehicle and a visual monitoring camera, and the visual monitoring camera is connected to the unmanned aerial vehicle, a mounting plate is arranged on the suspension structure, and a power generation device, a plurality of charging devices and a patrol camera are arranged on the mounting plate. According to the unmanned aerial vehicle, land and air simultaneous reconnaissance can be achieved at the same time, reconnaissance in a more complex environment is met, when the land patrol mechanism is out of power, the power generation device can automatically.',\n",
       "  'Air ground amphibious robot combining double rotors and wheel feet. The utility model discloses an air ground amphibious robot combining double rotors and wheel feet, and belongs to the field of air ground amphibious robots. The unmanned aerial vehicle comprises an upper double rotor flying structure and a lower wheel foot moving structure. The double rotor flying structure comprises a rotor recovery mechanism, a machine arm, a rotor tilting mechanism and a rotor power mechanism. The wheel foot moving structure comprises a driving steering engine, a front thigh connecting rod, a rear thigh connecting rod, a thigh connecting rod, a shank connecting rod and a hub motor. The double rotor flying structure, the wheel foot moving structure and the electronic equipment bin are all fixedly connected to the robot body frame. The rotor wing power mechanism is fixedly connected with the rotor wing tilting mechanism, and the machine arm is fixedly connected with the rotor wing recovery mechanism. The rotor wing recovery mechanism retracts the machine arms, .',\n",
       "  'Reconfigurable air ground amphibious robot. The invention discloses a reconfigurable air ground amphibious robot which is composed of two four rotor unmanned aerial vehicles with similar framework types, the four rotor unmanned aerial vehicles are the upper unmanned aerial vehicle and the lower unmanned aerial vehicle respectively, the two unmanned aerial vehicles can be automatically butted and separated, and therefore topology reconfiguration of the robot is achieved. When the two units are combined into a whole, the outer envelope curved surface of the whole is a cylindrical surface, and ground rolling and air flying can be achieved by means of rotor wing thrust. The reconfigurable air ground amphibious robot is compact in structure, flexible to control, small in size and light in weight, and compared with a traditional multi rotor unmanned aerial vehicle, the cruising ability of the reconfigurable air ground amphibious robot is greatly enhanced due to the fact that lift force provided by propellers does not need to balance.'],\n",
       " 6: ['Air fryer with vibrating or rotating pot and induction cooking unit for robotic and automated food preparation systems. The present invention is to provide a cooking apparatus to operate in an automated robotic environment containing major sub units: air fryer hood, a rotating or a vibrating pot and an induction heating subunit. The air fryer hood of the air fryer subunit streams high velocity, heated air, circulating it in the cooking pot which is rotated, generating a stirring motion of the food ingredients contained in the said pot. The induction unit which is positioned under the rotating pot base may be used to heat the pot for frying and browning of the food products. The apparatus can be used as a stand alone or incorporated in robotic or automated food preparation systems. The apparatus provides controlled cooking regimes for various recipes and food product requirements and each of the sub units of the apparatus is independently controlled.',\n",
       "  'Robotic food preparation system. A robotic system for food preparation has a compact form factor and enables processes for dispensing food ingredients, weighing ingredients, processing ingredients, and storing and transferring ingredients in a tight space, such as within a kitchen cabinet or similar enclosure. The robotic system can also be put to use in larger commercial settings. The robotic system includes one or more gantry subsystems to translate and rotate tools relative to orthogonal axes. An ingredient storage subsystem includes multiple ingredient storage containers, each having a dispenser actuatable by an ingredient dispensing mechanism. A sensor subsystem includes a camera, a temperature sensor, or a weight sensor to detect presence or absence of objects at locations within the robotic apparatus, or to determine weight of ingredients. One or more cooking appliances have lids that can be inverted to receive and weigh dispensed ingredient, and transfer the ingredient into the cooking appliance.',\n",
       "  'ROBOTIC FOOD PREPARATION SYSTEM. A robotic system for food preparation has a compact form factor and enables processes for dispensing food ingredients, weighing ingredients, processing ingredients, and storing and transferring ingredients in a tight space, such as within a kitchen cabinet or similar enclosure. The robotic system can also be put to use in larger commercial settings. The robotic system includes one or more gantry subsystems to translate and rotate tools relative to orthogonal axes. An ingredient storage subsystem includes multiple ingredient storage containers, each having a dispenser actuatable by an ingredient dispensing mechanism. A sensor subsystem includes a camera, a temperature sensor, or a weight sensor to detect presence or absence of objects at locations within the robotic apparatus, or to determine weight of ingredients. One or more cooking appliances have lids that can be inverted to receive and weigh dispensed ingredient, and transfer the ingredient into the cooking appliance.'],\n",
       " 7: ['Combined suction cup device applied to wall climbing robot and wall climbing robot. The embodiment of the invention discloses a combined suction cup device applied to a wall climbing robot and the wall climbing robot. According to one specific implementation mode, the device comprises a suction cup device body, an electromagnet, a concave suction cup and a vacuum connector, a cavity is formed in the suction cup device body, and openings are formed in the two ends of the suction cup device body. The electromagnet is connected with an opening in one end of the suction cup device body, a first through hole is formed in the electromagnet, the inwards concave suction cup is arranged on one face of the electromagnet, the inwards concave suction cup is provided with a groove and a second through hole, and the vacuum connector is connected with an opening in the other end of the suction cup device body and used for being connected with a vacuum pump. According to the implementation mode, conversion can be conducted between negative pressure adsorption and magnetic adsorption, .',\n",
       "  'Robot suction cup frame structure for adsorption substrate glass transportation. The utility model relates to the field of substrate glass, and discloses a robot suction cup frame structure used for sucking substrate glass for transportation, a display board frame is arranged on one side of a robot suction cup frame, and the display board frame and the robot suction cup frame are connected through a width adjusting assembly. The distance between the display board frame and the robot suction cup frame is adjusted by adjusting the width adjusting assembly according to the length of the substrate glass, the use requirement is met, and the situation that the substrate glass shakes in the adsorption transportation process, and consequently the loss of the substrate glass is caused is avoided, a plurality of first suction cups are arranged on the robot suction cup frame, and a plurality of second suction cups are arranged on the display board frame, the stability of the substrate glass in the production process is improved, and the safety of the substrate glass in.',\n",
       "  'Robot package collecting and aligning device applied to liquid crystal glass substrate. The utility model discloses a robot package receiving alignment device applied to a liquid crystal glass substrate, which comprises a package receiving robot and an A shaped frame, a mechanical arm of the package receiving robot is provided with a suction cup seat, the suction cup seat is fixedly provided with a suction cup frame, and the suction cup frame is provided with a range finder for measuring the package receiving distance of the glass substrate, the A shaped frame comprises a base, a front side seat is fixedly arranged at one end of the base, a supporting seat is fixedly arranged at the joint of the base and the front side seat, and the end face, close to the front side seat, of the supporting seat and the upper end face of the front side seat are distributed in a right angle mode. According to the device, judgment is made according to the distance information relative to the A shaped frame measured at the plate placing position, and the plate placing position of the.'],\n",
       " 8: ['Heavy load fork arm integrated high precision AGV robot for factory automatic production. The invention discloses a heavy load fork arm integrated high precision AGV robot for factory automatic production, relates to the technical field of factory intelligent production, and provides the following scheme that the heavy load fork arm integrated high precision AGV robot comprises an AGV walking chassis, a shell arranged at the top of the AGV walking chassis, and a loading assembly and a fork assembly which are arranged in an inner cavity of the shell, and a buffer tray located between the loading assembly and the pallet fork assembly is arranged at the bottom of the inner cavity of the shell. According to the technical scheme, the intelligent production robot system is composed of an AGV trolley, a feeding and discharging robot, an intelligent control system and the like, the AGV serves as a structure main body, a robot carrying device is carried, a special material caching platform and a zero point positioning device are matched, and through control of an intelligent.',\n",
       "  'Motion control method and device, controller, medium and robot. The invention relates to a motion control method and device, a controller, a medium and a robot. The motion control method comprises the following steps: acquiring gait parameters of the biped robot, inputting the gait parameters into a preset gait planning model, determining gait track parameters of the biped robot based on the gait parameters through the preset gait planning model, wherein the gait track parameters comprise a mass center state corresponding to a double foot supporting period and a mass center state corresponding to a single foot supporting period, and the mass center states comprise the mass center position and the mass center moving speed, and controlling the biped robot to move according to the gait track parameters. By adopting the method provided by the embodiment of the invention, the stability of the biped robot can be improved.',\n",
       "  'AGV robot based on visual target recognition system. The utility model relates to the technical field of robot vision, in particular to an AGV robot based on a visual target recognition system, which comprises an AGV robot, a laser sensor is arranged in the middle of the bottom end of the AGV robot, and driving universal wheels are movably connected to the periphery of the lower surface of the AGV robot. A telescopic carrying table is arranged in the middle of the upper surface, close to the front face, of the AGV robot and located on the outer side, close to a back face vertical rod, of the AGV robot. Visual sensors are arranged at the two ends of the front face of the telescopic carrying table correspondingly. According to the AGV robot based on the visual target recognition system, through the structure that the carrying frame is provided with the visual sensor and the radar detector, intelligent and automatic carrying of high rise goods on the AGV robot is achieved, and the function that the movable visual system intelligently.'],\n",
       " 9: ['SLAVE DEVICE FOR INTERVENTIONAL SURGICAL ROBOT. The present application relates to the field of medical robots, and provides a slave device for an interventional surgical robot, comprising: a main body, and a first driving mechanism, a second driving mechanism, a third driving mechanism and a fourth driving mechanism which are sequentially mounted on the main body. When a guide wire penetrates a third catheter, the third catheter penetrates a second catheter, the second catheter penetrates a first catheter, and the first catheter, the second catheter, the third catheter and the guide wire are respectively clamped to the first driving mechanism, the second driving mechanism, the third driving mechanism and the fourth driving mechanism, the first driving mechanism, the second driving mechanism, the third driving mechanism and the fourth driving mechanism move on the main body along the same axial direction and drive the first catheter, the second catheter, the third catheter and the guide wire to move respectively. Therefore, .',\n",
       "  'SLAVE END DEVICE FOR INTERVENTIONAL SURGICAL ROBOT. A slave end apparatus for an interventional robot includes: a body, and a front clamper, a first drive mechanism, a second drive mechanism and a third drive mechanism that are mounted on the body, wherein in a case that the first guide wire runs into the second catheter, the second catheter runs into the first catheter, and the first guide wire, the second catheter and the first catheter are respectively clamped by the third drive mechanism, the second drive mechanism and the first drive mechanism and move along a same axial direction on the body to a desired position, the first catheter, the second catheter and the first guide wire are respectively taken off from the first drive mechanism, the second drive mechanism and the third drive mechanism, the front clamper and the second drive mechanism take over to clamp the first catheter and the second catheter, the third catheter is caused to run into the second catheter and the second guide wire is caused to run into the third catheter, .',\n",
       "  'SLAVE END APPARATUS FOR INTERVENTIONAL SURGICAL ROBOT. A slave end apparatus for an interventional surgical robot, comprising a body, and a first driving mechanism, a second driving mechanism and a front clamping device mounted on the body. When a first guide wire penetrates into a first catheter and the first guide wire are respectively clamped to the first driving mechanism and the second driving mechanism, and after the first catheter and the first guide wire move in place in the same axial direction on the body, the first catheter and the first guide wire are respectively taken down from the first drive mechanism and the second drive mechanism, the front clamping device clamps the first catheter so that the first catheter does not move, the second catheter penetrates into the first catheter, the second guide wire penetrates into the second catheter, and the second catheter and the second guide wire are respectively clamped to the first drive mechanism.'],\n",
       " 10: ['THREE DIMENSIONAL OBJECT PRINTING APPARATUS AND THREE DIMENSIONAL OBJECT PRINTING. A three dimensional object printing apparatus includes a head unit and a robot. The head unit includes a head and an energy emission unit. The head has an ejecting surface on which a nozzle is provided. The head is configured to eject ink from the nozzle toward a three dimensional workpiece. The energy emission unit has an emitting surface from which energy for curing the ink is emitted. The robot changes relative position and relative orientation of the workpiece and the head unit. When a direction in which the head ejects the ink is defined as an ejecting direction, the ejecting surface is located closer to an ejecting direction side, which is a side toward which the ejecting direction goes, than the emitting surface is.',\n",
       "  'Three Dimensional Object Printing Apparatus And Three Dimensional Object Printing Method. A three dimensional object printing apparatus includes a head unit and a robot. The head unit includes a head and an energy emission unit. The head has an ejecting surface on which a nozzle is provided. The head is configured to eject ink from the nozzle toward a three dimensional workpiece. The energy emission unit has an emitting surface from which energy for curing the ink is emitted. The robot changes relative position and relative orientation of the workpiece and the head unit. When a direction in which the head ejects the ink is defined as an ejecting direction, the ejecting surface is located closer to an ejecting direction side, which is a side toward which the ejecting direction goes, than the emitting surface is.',\n",
       "  'Three Dimensional Object Printing Apparatus And Three Dimensional Object Printing Method. A three dimensional object printing apparatus includes: a head having a nozzle surface, and a robot that has a base portion and an arm portion that supports the head, and changes a position of the head with respect to the base portion, in which the three dimensional object printing apparatus is configured to execute: a first printing operation of causing the head to print an image to a three dimensional first medium, and a second printing operation of causing the head to print a test pattern while causing the robot to change a position of the head with respect to the second medium, and a yaw angle of the head during the execution of the first printing operation and a yaw angle of the head during the execution of the second printing operation are different from each other.'],\n",
       " 11: ['Robot joint, collaborative robot, speed reducer and brake. The utility model relates to a robot joint, collaborative robot, decelerator and brake, the robot joint includes joint shell, power device and brake assembly, the brake assembly includes armature and friction plate, the power device includes main part and cover body at least partially cover the main part, and the brake assembly includes the armature and friction plate. The power device comprises a motor and a speed reducer, a cover body of the speed reducer or a cover body of the motor is used for forming a brake disc, and the brake disc can adsorb or release the armature according to the power on and power off state so as to clamp the friction plate to achieve braking or release the friction plate to relieve braking. The robot joint has the beneficial effects that the cover body of the speed reducer or the motor is fused with the brake disc, and the brake disc is matched with the brake assembly to finish braking, so that the axial space of the robot joint is compressed, and the.',\n",
       "  'High reliability braking system, detection method and robot. The invention discloses a high reliability braking system, a detection method and a robot, and the system comprises a housing which is internally provided with a motor output shaft used for outputting motor torque, the band type brake assembly comprises a band type brake piece and a plurality of clamping jaws distributed along the periphery of the band type brake piece, the band type brake sheet is fixedly arranged on an output shaft of the motor, and the braking mechanism at least comprises two braking parts, the braking parts and the band type brake piece are arranged in a staggered mode in the radial direction, and the braking parts slide relative to the band type brake piece in the axial direction till any braking part abuts against any clamping jaw so as to stop rotation of the output shaft of the motor. Double and even multiple protection effects can be achieved, meanwhile, the movement range of the motor shaft is small, and the braking precision and reliability are improved, .',\n",
       "  'ROBOT JOINT, COLLABORATIVE ROBOT, SPEED REDUCER ASSEMBLY AND BRAKE. A robot joint, comprising a joint housing, a power device, and a brake. The brake comprises a brake disc, a friction plate and a limiting member, and the power device comprises a fixed component and a movable component, wherein the relative positions of the limiting member and the fixed component are fixed, the friction plate and the brake disc are distributed between the limiting member and the fixed component, the friction plate can be clamped by the brake disc and the limiting member, and the brake disc can generate an elastic force or an attraction force, and the brake disc can move along an electric motor shaft so as to be away from the fixed component or close to the fixed component, so as to clamp the friction plate to achieve braking or release the friction plate to release braking. The robot joint integrates the fixed component of the power device with an armature.'],\n",
       " 12: ['Flexible pressure sensor, preparation method, application and intelligent tactile perception system. The invention discloses a flexible pressure sensor, a preparation method, application and an intelligent touch sensing system, and belongs to the technical field of flexible pressure sensors. The flexible pressure sensor comprises a PI thin film layer, a CMCS MXene sponge layer, an electrode layer and a PET thin film layer which are sequentially attached from top to bottom. The flexible pressure sensor has the advantages of being simple in high performance sensitive layer, flexible and wearable, high in sensitivity, high in response speed, short in response time and recovery time and large in detection range, so that pressure can be sensed accurately and sensitively, and the flexible pressure sensor has great application prospects in motion detection, gesture recognition, touch sensing, electronic skin and robots.',\n",
       "  'VISUAL TACTILE SENSING DEVICE FOR USE IN ROBOTIC GRIPPER. A visual tactile sensing device includes a visual tactile sensing pad useful to capture image data related to a work piece during contact with the pad and as it approaches the pad. The sensing device can be used as part of a robotic gripper or other device. One or more lights can be used to illuminate the work piece and or project light through the pad. The pad includes a rigid base, an elastic layer structured to deform upon contact with the work piece, a light layer structured to emit light at a first wavelength, and a spectrally absorbing layer structured to absorb light at a target wavelength but allow light at other wavelengths to pass. In one form the light layer can be a fluorescent layer. The spectrally absorbing layer can be a dye layer.',\n",
       "  'Visual Tactile Sensing Device for Use in Robotic Gripper. A visual tactile sensing device includes a visual tactile sensing pad useful to capture image data related to a work piece during contact with the pad and as it approaches the pad. The sensing device can be used as part of a robotic gripper or other device. One or more lights can be used to illuminate the work piece and or project light through the pad. The pad includes a rigid base, an elastic layer structured to deform upon contact with the work piece, a light layer structured to emit light at a first wavelength, and a spectrally absorbing layer structured to absorb light at a target wavelength but allow light at other wavelengths to pass. In one form the light layer can be a fluorescent layer. The spectrally absorbing layer can be a dye layer.'],\n",
       " 13: ['System and Method for Sorting and or Packing Items. An item packing system configured to sort and or pack items such as fruit and vegetables into item containers comprises a robotic arm, at least one end effector for holding and manipulating an item to be sorted and or packed and which comprises a pressure sensing assembly which may comprise a plurality of contact points on a digit, . A controller receives sensor signals from the pressure sensing assembly to obtain indications of the magnitude and direction of contact pressure for contact between the end effector and the item held by the end effector and determines whether the end effector is correctly holding the item based on the indications. That the end effector is not holding the item correctly is determined if at least one of the indications of the magnitude and direction of contact pressure have changed by more than a first or second amount respectively or are changing by more than a first or second rate.',\n",
       "  'System and method for sorting and or packing items. An item packing system configured to sort and or pack items such as fruit and vegetables into item containers comprises a robotic arm, at least one end effector for holding and manipulating an item to be sorted and or packed and which comprises a pressure sensing assembly which may comprise a plurality of contact points on a digit, . A controller receives sensor signals from the pressure sensing assembly to obtain indications of the magnitude and direction of contact pressure for contact between the end effector and the item held by the end effector and determines whether the end effector is correctly holding the item based on the indications. The controller performs an image analysis on each of one or more images obtained of each item to be sorted and or packed to determine whether to pack that item into an item container.',\n",
       "  'System and method for sorting and or packing items. An item packing system configured to sort and or pack items such as fruit and vegetables into item containers comprises a robotic arm, at least one end effector for holding and manipulating an item to be sorted and or packed and which comprises a pressure sensing assembly which may comprise a plurality of contact points on a digit, . A controller receives sensor signals from the pressure sensing assembly to obtain indications of the magnitude and direction of contact pressure for contact between the end effector and the item held by the end effector and determines whether the end effector is correctly holding the item based on the indications. The system also comprises a camera, used to provide an indication of at least one of the location and the size of the item to be sorted and or packed and the system moves the robotic arm and controls the end effector to pick up the item based.'],\n",
       " 14: ['Vorrichtung und Verfahren zum Trainieren eines Neuronalen Netzes zum Steuern eines Roboters für eine Einsetzaufgabe. Gemäß verschiedenen Ausführungsformen wird ein Verfahren zum Trainieren eines neuronalen Netzes zum Ableiten, anhand eines Bilds einer Kamera, die an einem Roboter montiert ist, eines Bewegungsvektors für den Roboter zum Einsetzen eines Objekts in eine Einsetzstelle beschrieben, wobei das Verfahren umfasst: Steuern des Roboters zum Halten des Objekts, Bringen des Roboters in eine Zielposition, in der das Objekt in die Einsetzstelle eingesetzt wird, für eine Mehrzahl von Positionen, die sich von der Zielposition unterscheiden, Steuern des Roboters, sich von der Zielposition weg zu der Position zu bewegen, Aufnehmen eines Kamerabilds durch die Kamera und Labeln des Kamerabilds durch einen Bewegungsvektor, um sich von der Position zu der Zielposition zurück zu bewegen, und Trainieren des neuronalen Netzes unter Verwendung der gelabelten Kamerabilder.',\n",
       "  'Vorrichtung und Verfahren zum Trainieren eines Neuronalen Netzes zum Steuern eines Roboters für eine Einsetzaufgabe. Verfahren zum Trainieren eines neuronalen Netzes zum Ableiten, anhand eines Bilds einer Kamera, die an einem Roboter montiert ist, eines Bewegungsvektors zum Einsetzen eines Objekts in eine Einsetzstelle, umfassend: für eine Mehrzahl von Positionen, in denen das Objekt, das durch den Roboter gehalten wird, eine Ebene, in der sich die Einsetzstelle befindet, berührt und nicht in die Einsetzstelle eingefügt ist, Steuern des Roboters zum Bewegen an die Position von einer Referenzposition, in der das Objekt in die Einsetzstelle eingeführt wird, und Aufzeichnen des Bewegungsvektors der Bewegung von der Referenzposition zur Position, Aufnehmen eines Kamerabilds durch die Kamera, und Labeln des Kamerabilds mit einem Bewegungsvektor zwischen der Position und der Einsetzstelle in der Ebene, und Trainieren des neuronalen Netzes durch überwachtes Training unter Verwendung der gelabelten.',\n",
       "  'Vorrichtung und Verfahren zum Trainieren eines Neuronalen Netzes zum Steuern eines Roboters für eine Einsetzaufgabe. Gemäß verschiedenen Ausführungsformen wird ein Verfahren zum Trainieren eines neuronalen Netzes zum Ableiten, anhand eines Bilds einer Kamera, die an einem Roboter montiert ist, eines Bewegungsvektors zum Einsetzen eines Objekts in eine Einsetzstelle beschrieben, umfassend, für eine Mehrzahl von Positionen, in denen das Objekt, das durch den Roboter gehalten wird, eine Ebene, in der sich die Einsetzstelle befindet, berührt, Steuern des Roboters zum Bewegen an die Position, Aufnehmen eines Kamerabilds durch die Kamera und Labeln des Kamerabilds mit einem Bewegungsvektor zwischen der Position und der Einsetzstelle in der Ebene und Trainieren des neuronalen Netzes unter Verwendung der gelabelten Kamerabilder.'],\n",
       " 15: ['INTERNAL MESHING PLANETARY GEAR APPARATUS AND ROBOT JOINT APPARATUS. An internal meshing planetary gear apparatus and a robot joint apparatus. The internal meshing planetary gear apparatus comprises an internally toothed gear, a planetary gear, a plurality of inner pins, an eccentric shaft which acts as an input shaft, and a bushing. The plurality of inner pins are respectively inserted into a plurality of inner pin holes formed in the planetary gear, and revolve in the inner pin holes while relatively rotating relative to the internally toothed gear by using a rotation axis as the center. The eccentric shaft makes the planetary gear oscillate eccentrically. The bushing has a fixing structure used for fixing an object member, and the bushing is combined with the eccentric shaft and rotates together with the eccentric shaft.',\n",
       "  'HARMONIC GEAR DEVICE AND MANUFACTURING METHOD THEREFOR, JOINT DEVICE FOR ROBOT, AND GEAR COMPONENT. A harmonic gear device, comprising a rigid internal gear, a flexible external gear, and a wave generator. The wave generator has a non circular cam, which is rotationally driven by taking a rotation axis as the center, and a bearing, which is fitted to an outer side of the cam. The harmonic gear device makes the flexible external gear deform as the cam rotates, such that some external teeth mesh with some internal teeth, thereby making the flexible external gear carry out relative rotation relative to the rigid internal gear according to the difference in the number of teeth between the flexible external gear and the rigid internal gear. A first region of an inner peripheral face of the flexible external gear that is located on the back side of the external teeth has a surface roughness less than that of a second region apart from the first region. Further provided are a manufacturing.',\n",
       "  'HARMONIC GEAR DEVICE, MANUFACTURING METHOD FOR HARMONIC GEAR DEVICE, ROBOT JOINT DEVICE, GEAR COMPONENT FOR ROBOT. A harmonic gear device. The harmonic gear device comprises a rigid internal gear, a flexible external gear, and a wave generator. The wave generator has a non circular cam rotatably driven with a rotating shaft as a center, and a bearing mounted on the outer side of the cam. The harmonic gear device deforms the flexible external gear with the rotation of the cam, thus some of external teeth are engaged with some of inner teeth, such that the flexible external gear rotates relatively with respect to the rigid internal gear according to the difference of the number of teeth with the rigid internal gear. At least one of the external teeth and the internal teeth comprises a rolling surface. A manufacturing method for the harmonic gear device, a robot joint device comprising the harmonic gear device, and a gear component for the harmonic gear device.'],\n",
       " 16: ['Snake like robot and cave detection method based on snake like robot. The invention discloses a snakelike imitating robot and a cave detection method based on the snakelike imitating robot. The snakelike imitating robot comprises a plurality of main body devices, a plurality of steering devices, a power driving device and a remote control device, the multiple main body devices and the multiple steering devices are distributed in a staggered mode, the head end and the tail end of each steering device are rotationally connected with one main body device, and a snake shaped main body of the robot is formed. The power driving device is in communication connection with the remote control device and is used for receiving the motion instruction sent by the remote control device and controlling the snake shaped main body to move according to the motion instruction, and the remote control device is in communication connection with the snakelike main body and is used for sending a data acquisition instruction to the snakelike main body, controlling the snakelike.',\n",
       "  'Bionic scale structure, snake body trunk thereof and snake shaped robot. The invention discloses a bionic scale structure, a snake body trunk thereof and a snake shaped robot. The bionic scale structure comprises a snake head part, a plurality of snake body trunks, a driving joint connected with the trunks, a snake tail part and a sealing element. The snakelike robot is compact in overall structure and small in occupied space, and the body shape and the body length can be flexibly changed according to the working environment. The snakelike robot is in a sine bending shape in the motion state, and the winding motion gait of the snakelike robot is achieved by transmitting power output by a motor in a non contact mode through the magnetic wheels and the magnetic discs of the driving joints. According to the snakelike robot, the bionic scale shell structure is adopted outside the snake body trunk, the bionic scale shell structure is provided with a protruding arc shaped structure and a bionic biological snake scale structure principle, driving force is.',\n",
       "  'Stay wire control double spherical shell type snake shaped robot. The invention relates to a snakelike robot, in particular to a stay wire control double spherical shell type snakelike robot, and aims to solve the problems that a single joint of a current snakelike robot is small in freedom degree and poor in flexibility, a steering engine is adopted to drive a gear transmission part to drive the joints to move, the structure is complex, and the robot is difficult to move and operate in order to achieve complex obstacle crossing and avoiding actions of the robot. In order to solve the technical problems that a plurality of double spherical shell type spherical pair joints are sequentially and fixedly connected end to end in the linear direction, a control bus on a controller penetrates through the inner axes of the double spherical shell type spherical pair joints and is connected to a snake head through a snake tail, and through cooperative movement of the multiple spherical pair joints, the snake section module between the joints is too long, .'],\n",
       " 17: ['VERFAHREN ZUR FESTLEGUNG VON SCHWEIß PARAMETERN FÜR EINEN SCHWEIß PROZESS AN EINEM WERKSTÜCK UND SCHWEIß VORRICHTUNG ZUR DURCHFÜHRUNG EINES SCHWEIß PROZESSES AN EINEM WERKSTÜCK MIT FESTGELEGTEN SCHWEIß PARAMETERN. Die Erfindung betrifft ein Verfahren zur Festlegung von Schweißparametern für einen Schweißprozess an einem Werkstück, bei dem ein an einem Roboter befestigter Schweißbrenner entlang einer vorgegebenen Schweißbahn über das Werkstück geführt und in Abhängigkeit der Position entlang der Schweißbahn vorgegebene Schweißparameter zur Bearbeitung des Werkstücks eingestellt werden, sowie eine Schweißvorrichtung zur Durchführung eines Schweißprozesses. Zur genaueren Festlegung der Schweißparameter ist vorgesehen, dass vor Durchführung des Schweißprozesses zumindest ein die Abkühlung repräsentierender Parameter in Abhängigkeit der Position entlang der Schweißbahn aufgenommen wird, und der zumindest eine die Abkühlung repräsentierende Parameter entlang der Schweißbahn bei der Festlegung optimierter Schweißparameter in Abhängigkeit der Position x der Schweißbahn für den Schweißprozess.',\n",
       "  'VERFAHREN ZUR DETEKTION VON STELLEN EINER FÜGELINIE ZWISCHEN BAUTEILEN SOWIE FÜR EIN NACHFOLGENDES SCHWEISSVERFAHREN DAZU. Mit der Erfindung soll ein Verfahren zur Ermittlung von Informationen über einen IST Verlauf einer Fügelinie zur Bestimmung eines von einem Schweißroboter abzufahrenden Schweißwegs der eingangs genannten Art geschaffen werden, mit dem mit vergleichsweise geringem Aufwand eine hohe Genauigkeit erzielt kann. Bei einem Verfahren zum Bestimmen eines von einem Mehrachsenroboter abzufahrenden Schweißwegs für einen nachfolgenden Lichtbogenschweißvorgang mittels einer Lichtbogenschweißanlage, bei dem zwischen zumindest zwei Werkstücken entlang einer Fügelinie zwischen den zumindest zwei Werkstücken eine Schweißnaht erzeugt werden soll, wobei ein zur nachfolgenden Ausführung des Lichtbogenschweißvorgangs vorgesehener und vom Mehrachsenroboter geführter Lichtbogenschweißbrenner in zumindest einem Detektionsverfahrschritt automatisiert über die Oberfläche von zumindest einem der Werkstücke geführt wird, um Informationen über einen Ist Verlauf der Fügelinie zu ermitteln, wird deshalb vorgeschlagen, .',\n",
       "  'VERFAHREN ZUR DETEKTION VON STELLEN EINER FÜGELINIE ZWISCHEN BAUTEILEN SOWIE FÜR EIN NACHFOLGENDES SCHWEISSVERFAHREN DAZU. Mit der Erfindung soll ein Verfahren zum Bestimmen eines von einem Schweißroboter abzufahrenden Schweißwegs geschaffen werden, das mit vergleichsweise geringem Aufwand eine hohe Genauigkeit erzielt. Hierzu wird bei einem Verfahren zum Bestimmen eines von einem Mehrachsenroboter abzufahrenden Schweißwegs für einen nachfolgenden Lichtbogenschweißvorgang mittels einer Lichtbogenschweißeinrichtung, bei dem zwischen zumindest zwei Werkstücken entlang einer Fügelinie zwischen den zumindest zwei Werkstücken eine Schweißnaht erzeugt werden soll, wobei ein zur nachfolgenden Ausführung des Lichtbogenschweißvorgangs vorgesehener und vom Mehrachsenroboter geführter Lichtbogenschweißbrenner in zumindest einem Detektionsverfahrschritt automatisiert über zumindest eines der Werkstücke geführt wird, um Informationen über einen Ist Verlauf der Fügelinie zu ermitteln, vorgeschlagen, daß der Schweißbrenner mit seinem Schweißdraht in zumindest einem Detektionsverfahrschritt von einer Ausgangsstelle.'],\n",
       " 18: ['Method for controlling autonomous vehicle. A method for controlling an autonomous vehicle is disclosed. The vehicle control method, which adjusts a seat installed in a vehicle, a first display positioned in front of the seat and facing the seat, and a second display positioned in front of the first display and facing the seat, includes: detecting the face of a passenger sitting in the seat by a camera installed in the vehicle, estimating the face height from the floor surface of the vehicle, if the estimated face height is lower than a predetermined level, setting a display region on the first display, and, if the estimated face height is higher than the predetermined level, setting the display region on at least part of the second display, and displaying images in the set display region. One or more among an autonomous vehicle, user terminal, and server according to the present invention may be associated with an artificial intelligence module, a robot, an augmented reality device, a virtual reality device, etc.',\n",
       "  'Autonomous vehicle control method. A vehicle control method is disclosed which is a method for adjusting a seat inside a vehicle. The vehicle control method includes: monitoring the surroundings of a passenger sitting in the seat through a camera installed inside the vehicle, sensing an object around the passenger through the monitoring, sending information on the sensed object to a server, receiving a preset seat setting value corresponding to the object information from the server, and adjusting the position of the seat according to the seat setting value. One or more of an autonomous vehicle according to the present invention, a user terminal, and a server may be associated with artificial intelligence, a robot, augmented reality, virtual reality, etc.',\n",
       "  'Method for controlling vehicle and intelligent computing device for controlling vehicle. A vehicle control method and an intelligent computing device for controlling a vehicle are disclosed. An intelligent computing device for controlling a vehicle according to an embodiment of the present disclosure acquires a direction of a line of sight of a passenger of a vehicle through at least one sensor included in the vehicle and displays driving information of the vehicle through at least one of a plurality of displays included in the vehicle on the basis of the direction of the line of sight of the passenger, to thereby provide convenience to the passenger. One or more of the autonomous vehicle, the intelligent computing device and the server of the present disclosure can be associated with artificial intelligence modules, unmanned aerial vehicle robots, augmented reality devices, virtual reality devices, G service related devices, etc.']}"
      ]
     },
     "execution_count": 18,
     "metadata": {},
     "output_type": "execute_result"
    }
   ],
   "source": [
    "topic_model.get_representative_docs()"
   ]
  },
  {
   "cell_type": "code",
   "execution_count": 15,
   "metadata": {},
   "outputs": [
    {
     "name": "stderr",
     "output_type": "stream",
     "text": [
      "100%|██████████| 18/18 [00:24<00:00,  1.38s/it]\n"
     ]
    },
    {
     "ename": "ValueError",
     "evalue": "Length of values (46673) does not match length of index (123667)",
     "output_type": "error",
     "traceback": [
      "\u001b[1;31m---------------------------------------------------------------------------\u001b[0m",
      "\u001b[1;31mValueError\u001b[0m                                Traceback (most recent call last)",
      "Cell \u001b[1;32mIn[15], line 1\u001b[0m\n\u001b[1;32m----> 1\u001b[0m df[\u001b[38;5;124m'\u001b[39m\u001b[38;5;124mtopic\u001b[39m\u001b[38;5;124m'\u001b[39m] \u001b[38;5;241m=\u001b[39m topic_model\u001b[38;5;241m.\u001b[39mreduce_outliers(df[\u001b[38;5;124m'\u001b[39m\u001b[38;5;124mtext_preproc1\u001b[39m\u001b[38;5;124m'\u001b[39m], topics)\n",
      "File \u001b[1;32mc:\\Users\\paul-\\anaconda3\\envs\\ml_angew_programm\\lib\\site-packages\\pandas\\core\\frame.py:3980\u001b[0m, in \u001b[0;36mDataFrame.__setitem__\u001b[1;34m(self, key, value)\u001b[0m\n\u001b[0;32m   3977\u001b[0m     \u001b[38;5;28mself\u001b[39m\u001b[38;5;241m.\u001b[39m_setitem_array([key], value)\n\u001b[0;32m   3978\u001b[0m \u001b[38;5;28;01melse\u001b[39;00m:\n\u001b[0;32m   3979\u001b[0m     \u001b[38;5;66;03m# set column\u001b[39;00m\n\u001b[1;32m-> 3980\u001b[0m     \u001b[38;5;28;43mself\u001b[39;49m\u001b[38;5;241;43m.\u001b[39;49m\u001b[43m_set_item\u001b[49m\u001b[43m(\u001b[49m\u001b[43mkey\u001b[49m\u001b[43m,\u001b[49m\u001b[43m \u001b[49m\u001b[43mvalue\u001b[49m\u001b[43m)\u001b[49m\n",
      "File \u001b[1;32mc:\\Users\\paul-\\anaconda3\\envs\\ml_angew_programm\\lib\\site-packages\\pandas\\core\\frame.py:4174\u001b[0m, in \u001b[0;36mDataFrame._set_item\u001b[1;34m(self, key, value)\u001b[0m\n\u001b[0;32m   4164\u001b[0m \u001b[38;5;28;01mdef\u001b[39;00m \u001b[38;5;21m_set_item\u001b[39m(\u001b[38;5;28mself\u001b[39m, key, value) \u001b[38;5;241m-\u001b[39m\u001b[38;5;241m>\u001b[39m \u001b[38;5;28;01mNone\u001b[39;00m:\n\u001b[0;32m   4165\u001b[0m \u001b[38;5;250m    \u001b[39m\u001b[38;5;124;03m\"\"\"\u001b[39;00m\n\u001b[0;32m   4166\u001b[0m \u001b[38;5;124;03m    Add series to DataFrame in specified column.\u001b[39;00m\n\u001b[0;32m   4167\u001b[0m \n\u001b[1;32m   (...)\u001b[0m\n\u001b[0;32m   4172\u001b[0m \u001b[38;5;124;03m    ensure homogeneity.\u001b[39;00m\n\u001b[0;32m   4173\u001b[0m \u001b[38;5;124;03m    \"\"\"\u001b[39;00m\n\u001b[1;32m-> 4174\u001b[0m     value \u001b[38;5;241m=\u001b[39m \u001b[38;5;28;43mself\u001b[39;49m\u001b[38;5;241;43m.\u001b[39;49m\u001b[43m_sanitize_column\u001b[49m\u001b[43m(\u001b[49m\u001b[43mvalue\u001b[49m\u001b[43m)\u001b[49m\n\u001b[0;32m   4176\u001b[0m     \u001b[38;5;28;01mif\u001b[39;00m (\n\u001b[0;32m   4177\u001b[0m         key \u001b[38;5;129;01min\u001b[39;00m \u001b[38;5;28mself\u001b[39m\u001b[38;5;241m.\u001b[39mcolumns\n\u001b[0;32m   4178\u001b[0m         \u001b[38;5;129;01mand\u001b[39;00m value\u001b[38;5;241m.\u001b[39mndim \u001b[38;5;241m==\u001b[39m \u001b[38;5;241m1\u001b[39m\n\u001b[0;32m   4179\u001b[0m         \u001b[38;5;129;01mand\u001b[39;00m \u001b[38;5;129;01mnot\u001b[39;00m is_extension_array_dtype(value)\n\u001b[0;32m   4180\u001b[0m     ):\n\u001b[0;32m   4181\u001b[0m         \u001b[38;5;66;03m# broadcast across multiple columns if necessary\u001b[39;00m\n\u001b[0;32m   4182\u001b[0m         \u001b[38;5;28;01mif\u001b[39;00m \u001b[38;5;129;01mnot\u001b[39;00m \u001b[38;5;28mself\u001b[39m\u001b[38;5;241m.\u001b[39mcolumns\u001b[38;5;241m.\u001b[39mis_unique \u001b[38;5;129;01mor\u001b[39;00m \u001b[38;5;28misinstance\u001b[39m(\u001b[38;5;28mself\u001b[39m\u001b[38;5;241m.\u001b[39mcolumns, MultiIndex):\n",
      "File \u001b[1;32mc:\\Users\\paul-\\anaconda3\\envs\\ml_angew_programm\\lib\\site-packages\\pandas\\core\\frame.py:4915\u001b[0m, in \u001b[0;36mDataFrame._sanitize_column\u001b[1;34m(self, value)\u001b[0m\n\u001b[0;32m   4912\u001b[0m     \u001b[38;5;28;01mreturn\u001b[39;00m _reindex_for_setitem(Series(value), \u001b[38;5;28mself\u001b[39m\u001b[38;5;241m.\u001b[39mindex)\n\u001b[0;32m   4914\u001b[0m \u001b[38;5;28;01mif\u001b[39;00m is_list_like(value):\n\u001b[1;32m-> 4915\u001b[0m     \u001b[43mcom\u001b[49m\u001b[38;5;241;43m.\u001b[39;49m\u001b[43mrequire_length_match\u001b[49m\u001b[43m(\u001b[49m\u001b[43mvalue\u001b[49m\u001b[43m,\u001b[49m\u001b[43m \u001b[49m\u001b[38;5;28;43mself\u001b[39;49m\u001b[38;5;241;43m.\u001b[39;49m\u001b[43mindex\u001b[49m\u001b[43m)\u001b[49m\n\u001b[0;32m   4916\u001b[0m \u001b[38;5;28;01mreturn\u001b[39;00m sanitize_array(value, \u001b[38;5;28mself\u001b[39m\u001b[38;5;241m.\u001b[39mindex, copy\u001b[38;5;241m=\u001b[39m\u001b[38;5;28;01mTrue\u001b[39;00m, allow_2d\u001b[38;5;241m=\u001b[39m\u001b[38;5;28;01mTrue\u001b[39;00m)\n",
      "File \u001b[1;32mc:\\Users\\paul-\\anaconda3\\envs\\ml_angew_programm\\lib\\site-packages\\pandas\\core\\common.py:571\u001b[0m, in \u001b[0;36mrequire_length_match\u001b[1;34m(data, index)\u001b[0m\n\u001b[0;32m    567\u001b[0m \u001b[38;5;250m\u001b[39m\u001b[38;5;124;03m\"\"\"\u001b[39;00m\n\u001b[0;32m    568\u001b[0m \u001b[38;5;124;03mCheck the length of data matches the length of the index.\u001b[39;00m\n\u001b[0;32m    569\u001b[0m \u001b[38;5;124;03m\"\"\"\u001b[39;00m\n\u001b[0;32m    570\u001b[0m \u001b[38;5;28;01mif\u001b[39;00m \u001b[38;5;28mlen\u001b[39m(data) \u001b[38;5;241m!=\u001b[39m \u001b[38;5;28mlen\u001b[39m(index):\n\u001b[1;32m--> 571\u001b[0m     \u001b[38;5;28;01mraise\u001b[39;00m \u001b[38;5;167;01mValueError\u001b[39;00m(\n\u001b[0;32m    572\u001b[0m         \u001b[38;5;124m\"\u001b[39m\u001b[38;5;124mLength of values \u001b[39m\u001b[38;5;124m\"\u001b[39m\n\u001b[0;32m    573\u001b[0m         \u001b[38;5;124mf\u001b[39m\u001b[38;5;124m\"\u001b[39m\u001b[38;5;124m(\u001b[39m\u001b[38;5;132;01m{\u001b[39;00m\u001b[38;5;28mlen\u001b[39m(data)\u001b[38;5;132;01m}\u001b[39;00m\u001b[38;5;124m) \u001b[39m\u001b[38;5;124m\"\u001b[39m\n\u001b[0;32m    574\u001b[0m         \u001b[38;5;124m\"\u001b[39m\u001b[38;5;124mdoes not match length of index \u001b[39m\u001b[38;5;124m\"\u001b[39m\n\u001b[0;32m    575\u001b[0m         \u001b[38;5;124mf\u001b[39m\u001b[38;5;124m\"\u001b[39m\u001b[38;5;124m(\u001b[39m\u001b[38;5;132;01m{\u001b[39;00m\u001b[38;5;28mlen\u001b[39m(index)\u001b[38;5;132;01m}\u001b[39;00m\u001b[38;5;124m)\u001b[39m\u001b[38;5;124m\"\u001b[39m\n\u001b[0;32m    576\u001b[0m     )\n",
      "\u001b[1;31mValueError\u001b[0m: Length of values (46673) does not match length of index (123667)"
     ]
    }
   ],
   "source": [
    "df['topic'] = topic_model.reduce_outliers(df['text_preproc1'], topics)"
   ]
  }
 ],
 "metadata": {
  "kernelspec": {
   "display_name": "ml_angew_programm",
   "language": "python",
   "name": "python3"
  },
  "language_info": {
   "codemirror_mode": {
    "name": "ipython",
    "version": 3
   },
   "file_extension": ".py",
   "mimetype": "text/x-python",
   "name": "python",
   "nbconvert_exporter": "python",
   "pygments_lexer": "ipython3",
   "version": "3.8.19"
  }
 },
 "nbformat": 4,
 "nbformat_minor": 2
}
